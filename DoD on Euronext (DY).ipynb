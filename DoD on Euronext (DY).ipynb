{
 "cells": [
  {
   "cell_type": "code",
   "execution_count": 2,
   "metadata": {},
   "outputs": [
    {
     "name": "stderr",
     "output_type": "stream",
     "text": [
      "C:\\Anacondaz\\lib\\site-packages\\pandas\\core\\computation\\expressions.py:20: UserWarning: Pandas requires version '2.7.3' or newer of 'numexpr' (version '2.7.1' currently installed).\n",
      "  from pandas.core.computation.check import NUMEXPR_INSTALLED\n"
     ]
    }
   ],
   "source": [
    "import yfinance as yf\n",
    "import pandas as pd\n",
    "import numpy as np\n",
    "from datetime import datetime\n",
    "import matplotlib.pyplot as plt\n",
    "import matplotlib.ticker as mtick"
   ]
  },
  {
   "cell_type": "markdown",
   "metadata": {},
   "source": [
    "# Построение высокодивидендного портфеля с применением классической стратегии \"Dogs of the Dow\" на панъевропейской фондовой бирже Euronext"
   ]
  },
  {
   "cell_type": "markdown",
   "metadata": {},
   "source": [
    "## 1. Анализ дивидендной доходности был проведен на основе данных терминала Refinitiv Eikon\n",
    "\n",
    "__Результаты:__"
   ]
  },
  {
   "cell_type": "code",
   "execution_count": 3,
   "metadata": {},
   "outputs": [
    {
     "data": {
      "text/html": [
       "<div>\n",
       "<style scoped>\n",
       "    .dataframe tbody tr th:only-of-type {\n",
       "        vertical-align: middle;\n",
       "    }\n",
       "\n",
       "    .dataframe tbody tr th {\n",
       "        vertical-align: top;\n",
       "    }\n",
       "\n",
       "    .dataframe thead th {\n",
       "        text-align: right;\n",
       "    }\n",
       "</style>\n",
       "<table border=\"1\" class=\"dataframe\">\n",
       "  <thead>\n",
       "    <tr style=\"text-align: right;\">\n",
       "      <th></th>\n",
       "      <th>2000</th>\n",
       "      <th>2001</th>\n",
       "      <th>2002</th>\n",
       "      <th>2003</th>\n",
       "      <th>2004</th>\n",
       "      <th>2005</th>\n",
       "      <th>2006</th>\n",
       "      <th>2007</th>\n",
       "      <th>2008</th>\n",
       "      <th>2009</th>\n",
       "      <th>...</th>\n",
       "      <th>2013</th>\n",
       "      <th>2014</th>\n",
       "      <th>2015</th>\n",
       "      <th>2016</th>\n",
       "      <th>2017</th>\n",
       "      <th>2018</th>\n",
       "      <th>2019</th>\n",
       "      <th>2020</th>\n",
       "      <th>2021</th>\n",
       "      <th>2022</th>\n",
       "    </tr>\n",
       "  </thead>\n",
       "  <tbody>\n",
       "    <tr>\n",
       "      <th>0</th>\n",
       "      <td>EIFFAGE</td>\n",
       "      <td>EIFFAGE</td>\n",
       "      <td>ING GROEP N.V.</td>\n",
       "      <td>AHOLD DEL</td>\n",
       "      <td>GECINA</td>\n",
       "      <td>ING GROEP N.V.</td>\n",
       "      <td>KPN KON</td>\n",
       "      <td>ORANGE</td>\n",
       "      <td>AGEAS</td>\n",
       "      <td>AGEAS</td>\n",
       "      <td>...</td>\n",
       "      <td>ORANGE</td>\n",
       "      <td>ENGIE</td>\n",
       "      <td>ENGIE</td>\n",
       "      <td>VIVENDI SE</td>\n",
       "      <td>ENGIE</td>\n",
       "      <td>EDP</td>\n",
       "      <td>D'IETEREN GROUP</td>\n",
       "      <td>RENAULT</td>\n",
       "      <td>ORANGE</td>\n",
       "      <td>CREDIT AGRICOLE</td>\n",
       "    </tr>\n",
       "    <tr>\n",
       "      <th>1</th>\n",
       "      <td>UNIBAIL-RODAMCO-WE</td>\n",
       "      <td>GECINA</td>\n",
       "      <td>ALSTOM</td>\n",
       "      <td>VIVENDI SE</td>\n",
       "      <td>UNIBAIL-RODAMCO-WE</td>\n",
       "      <td>AGEAS</td>\n",
       "      <td>ING GROEP N.V.</td>\n",
       "      <td>KPN KON</td>\n",
       "      <td>CREDIT AGRICOLE</td>\n",
       "      <td>ING GROEP N.V.</td>\n",
       "      <td>...</td>\n",
       "      <td>ENGIE</td>\n",
       "      <td>EDP</td>\n",
       "      <td>EDP</td>\n",
       "      <td>SHELL PLC</td>\n",
       "      <td>SHELL PLC</td>\n",
       "      <td>ENGIE</td>\n",
       "      <td>SOCIETE GENERALE</td>\n",
       "      <td>UNIBAIL-RODAMCO-WE</td>\n",
       "      <td>TOTALENERGIES</td>\n",
       "      <td>YARA INTERNATIONAL</td>\n",
       "    </tr>\n",
       "    <tr>\n",
       "      <th>2</th>\n",
       "      <td>VINCI</td>\n",
       "      <td>ARCELORMITTAL SA</td>\n",
       "      <td>EDP</td>\n",
       "      <td>AIRBUS</td>\n",
       "      <td>ORANGE</td>\n",
       "      <td>EDP</td>\n",
       "      <td>SOCIETE GENERALE</td>\n",
       "      <td>SOCIETE GENERALE</td>\n",
       "      <td>ING GROEP N.V.</td>\n",
       "      <td>KBC</td>\n",
       "      <td>...</td>\n",
       "      <td>EDP</td>\n",
       "      <td>ORANGE</td>\n",
       "      <td>SHELL PLC</td>\n",
       "      <td>ENGIE</td>\n",
       "      <td>EDP</td>\n",
       "      <td>SHELL PLC</td>\n",
       "      <td>UNIBAIL-RODAMCO-WE</td>\n",
       "      <td>AKER BP</td>\n",
       "      <td>GALP ENERGIA-NOM</td>\n",
       "      <td>TELENOR</td>\n",
       "    </tr>\n",
       "    <tr>\n",
       "      <th>3</th>\n",
       "      <td>DSM KON</td>\n",
       "      <td>DSM KON</td>\n",
       "      <td>AIRBUS</td>\n",
       "      <td>AEGON</td>\n",
       "      <td>REMY COINTREAU</td>\n",
       "      <td>AEGON</td>\n",
       "      <td>GECINA</td>\n",
       "      <td>ING GROEP N.V.</td>\n",
       "      <td>AEGON</td>\n",
       "      <td>CREDIT AGRICOLE</td>\n",
       "      <td>...</td>\n",
       "      <td>BOUYGUES</td>\n",
       "      <td>BOUYGUES</td>\n",
       "      <td>TOTALENERGIES</td>\n",
       "      <td>CREDIT AGRICOLE</td>\n",
       "      <td>CREDIT AGRICOLE</td>\n",
       "      <td>UNIBAIL-RODAMCO-WE</td>\n",
       "      <td>BNP PARIBAS ACT.A</td>\n",
       "      <td>AEGON</td>\n",
       "      <td>CREDIT AGRICOLE</td>\n",
       "      <td>AMUNDI</td>\n",
       "    </tr>\n",
       "    <tr>\n",
       "      <th>4</th>\n",
       "      <td>PERNOD RICARD</td>\n",
       "      <td>EDP</td>\n",
       "      <td>GECINA</td>\n",
       "      <td>ING GROEP N.V.</td>\n",
       "      <td>SHELL PLC</td>\n",
       "      <td>SHELL PLC</td>\n",
       "      <td>SHELL PLC</td>\n",
       "      <td>SHELL PLC</td>\n",
       "      <td>ORANGE</td>\n",
       "      <td>BNP PARIBAS ACT.A</td>\n",
       "      <td>...</td>\n",
       "      <td>VEOLIA ENVIRON.</td>\n",
       "      <td>TOTALENERGIES</td>\n",
       "      <td>VIVENDI SE</td>\n",
       "      <td>EDP</td>\n",
       "      <td>NN GROUP</td>\n",
       "      <td>TOTALENERGIES</td>\n",
       "      <td>RANDSTAD NV</td>\n",
       "      <td>SOCIETE GENERALE</td>\n",
       "      <td>TELENOR</td>\n",
       "      <td>BNP PARIBAS ACT.A</td>\n",
       "    </tr>\n",
       "    <tr>\n",
       "      <th>5</th>\n",
       "      <td>GECINA</td>\n",
       "      <td>SOCIETE GENERALE</td>\n",
       "      <td>REMY COINTREAU</td>\n",
       "      <td>ORANGE</td>\n",
       "      <td>ING GROEP N.V.</td>\n",
       "      <td>WOLTERS KLUWER</td>\n",
       "      <td>AGEAS</td>\n",
       "      <td>BNP PARIBAS ACT.A</td>\n",
       "      <td>BNP PARIBAS ACT.A</td>\n",
       "      <td>GECINA</td>\n",
       "      <td>...</td>\n",
       "      <td>VIVENDI SE</td>\n",
       "      <td>VEOLIA ENVIRON.</td>\n",
       "      <td>BOUYGUES</td>\n",
       "      <td>ING GROEP N.V.</td>\n",
       "      <td>SOCIETE GENERALE</td>\n",
       "      <td>AGEAS</td>\n",
       "      <td>CREDIT AGRICOLE</td>\n",
       "      <td>SHELL PLC</td>\n",
       "      <td>NN GROUP</td>\n",
       "      <td>KBC</td>\n",
       "    </tr>\n",
       "    <tr>\n",
       "      <th>6</th>\n",
       "      <td>SOCIETE GENERALE</td>\n",
       "      <td>RANDSTAD NV</td>\n",
       "      <td>ORANGE</td>\n",
       "      <td>EDP</td>\n",
       "      <td>TOTALENERGIES</td>\n",
       "      <td>BNP PARIBAS ACT.A</td>\n",
       "      <td>BNP PARIBAS ACT.A</td>\n",
       "      <td>TOTALENERGIES</td>\n",
       "      <td>GECINA</td>\n",
       "      <td>RANDSTAD NV</td>\n",
       "      <td>...</td>\n",
       "      <td>TOTALENERGIES</td>\n",
       "      <td>SHELL PLC</td>\n",
       "      <td>VEOLIA ENVIRON.</td>\n",
       "      <td>SOCIETE GENERALE</td>\n",
       "      <td>AEGON</td>\n",
       "      <td>AXA</td>\n",
       "      <td>AEGON</td>\n",
       "      <td>ING GROEP N.V.</td>\n",
       "      <td>RANDSTAD NV</td>\n",
       "      <td>NORSK HYDRO</td>\n",
       "    </tr>\n",
       "    <tr>\n",
       "      <th>7</th>\n",
       "      <td>EDP</td>\n",
       "      <td>REMY COINTREAU</td>\n",
       "      <td>SCHNEIDER ELECTRIC</td>\n",
       "      <td>AXA</td>\n",
       "      <td>AGEAS</td>\n",
       "      <td>UNIBAIL-RODAMCO-WE</td>\n",
       "      <td>EDP</td>\n",
       "      <td>AGEAS</td>\n",
       "      <td>RENAULT</td>\n",
       "      <td>AEGON</td>\n",
       "      <td>...</td>\n",
       "      <td>SHELL PLC</td>\n",
       "      <td>VIVENDI SE</td>\n",
       "      <td>GECINA</td>\n",
       "      <td>TOTALENERGIES</td>\n",
       "      <td>AXA</td>\n",
       "      <td>AEGON</td>\n",
       "      <td>AXA</td>\n",
       "      <td>RANDSTAD NV</td>\n",
       "      <td>AGEAS</td>\n",
       "      <td>ORANGE</td>\n",
       "    </tr>\n",
       "    <tr>\n",
       "      <th>8</th>\n",
       "      <td>SAINT GOBIAN</td>\n",
       "      <td>UNIBAIL-RODAMCO-WE</td>\n",
       "      <td>SOCIETE GENERALE</td>\n",
       "      <td>AGEAS</td>\n",
       "      <td>DSM KON</td>\n",
       "      <td>AKZO NOBEL</td>\n",
       "      <td>AEGON</td>\n",
       "      <td>VIVENDI SE</td>\n",
       "      <td>RANDSTAD NV</td>\n",
       "      <td>AB INBEV</td>\n",
       "      <td>...</td>\n",
       "      <td>AXA</td>\n",
       "      <td>GECINA</td>\n",
       "      <td>AXA</td>\n",
       "      <td>BNP PARIBAS ACT.A</td>\n",
       "      <td>VEOLIA ENVIRON.</td>\n",
       "      <td>SOCIETE GENERALE</td>\n",
       "      <td>ING GROEP N.V.</td>\n",
       "      <td>NN GROUP</td>\n",
       "      <td>DNB BANK</td>\n",
       "      <td>AXA</td>\n",
       "    </tr>\n",
       "    <tr>\n",
       "      <th>9</th>\n",
       "      <td>SHELL PLC</td>\n",
       "      <td>KPN KON</td>\n",
       "      <td>UNIBAIL-RODAMCO-WE</td>\n",
       "      <td>SAINT GOBIAN</td>\n",
       "      <td>SAINT GOBIAN</td>\n",
       "      <td>SOCIETE GENERALE</td>\n",
       "      <td>TOTALENERGIES</td>\n",
       "      <td>SCHNEIDER ELECTRIC</td>\n",
       "      <td>AXA</td>\n",
       "      <td>STMICROELECTRONICS</td>\n",
       "      <td>...</td>\n",
       "      <td>GECINA</td>\n",
       "      <td>UNIBAIL-RODAMCO-WE</td>\n",
       "      <td>UNIBAIL-RODAMCO-WE</td>\n",
       "      <td>AEGON</td>\n",
       "      <td>TOTALENERGIES</td>\n",
       "      <td>BNP PARIBAS ACT.A</td>\n",
       "      <td>SHELL PLC</td>\n",
       "      <td>TOTALENERGIES</td>\n",
       "      <td>BOUYGUES</td>\n",
       "      <td>ENGIE</td>\n",
       "    </tr>\n",
       "  </tbody>\n",
       "</table>\n",
       "<p>10 rows × 23 columns</p>\n",
       "</div>"
      ],
      "text/plain": [
       "                 2000                2001                2002            2003  \\\n",
       "0             EIFFAGE             EIFFAGE      ING GROEP N.V.       AHOLD DEL   \n",
       "1  UNIBAIL-RODAMCO-WE              GECINA              ALSTOM      VIVENDI SE   \n",
       "2               VINCI    ARCELORMITTAL SA                 EDP          AIRBUS   \n",
       "3             DSM KON             DSM KON              AIRBUS           AEGON   \n",
       "4       PERNOD RICARD                 EDP              GECINA  ING GROEP N.V.   \n",
       "5              GECINA    SOCIETE GENERALE      REMY COINTREAU          ORANGE   \n",
       "6    SOCIETE GENERALE         RANDSTAD NV              ORANGE             EDP   \n",
       "7                 EDP      REMY COINTREAU  SCHNEIDER ELECTRIC             AXA   \n",
       "8        SAINT GOBIAN  UNIBAIL-RODAMCO-WE    SOCIETE GENERALE           AGEAS   \n",
       "9           SHELL PLC             KPN KON  UNIBAIL-RODAMCO-WE    SAINT GOBIAN   \n",
       "\n",
       "                 2004                2005               2006  \\\n",
       "0              GECINA      ING GROEP N.V.            KPN KON   \n",
       "1  UNIBAIL-RODAMCO-WE               AGEAS     ING GROEP N.V.   \n",
       "2              ORANGE                 EDP   SOCIETE GENERALE   \n",
       "3      REMY COINTREAU               AEGON             GECINA   \n",
       "4           SHELL PLC           SHELL PLC          SHELL PLC   \n",
       "5      ING GROEP N.V.      WOLTERS KLUWER              AGEAS   \n",
       "6       TOTALENERGIES   BNP PARIBAS ACT.A  BNP PARIBAS ACT.A   \n",
       "7               AGEAS  UNIBAIL-RODAMCO-WE                EDP   \n",
       "8             DSM KON          AKZO NOBEL              AEGON   \n",
       "9        SAINT GOBIAN    SOCIETE GENERALE      TOTALENERGIES   \n",
       "\n",
       "                 2007               2008                2009  ...  \\\n",
       "0              ORANGE              AGEAS               AGEAS  ...   \n",
       "1             KPN KON    CREDIT AGRICOLE      ING GROEP N.V.  ...   \n",
       "2    SOCIETE GENERALE     ING GROEP N.V.                 KBC  ...   \n",
       "3      ING GROEP N.V.              AEGON     CREDIT AGRICOLE  ...   \n",
       "4           SHELL PLC             ORANGE   BNP PARIBAS ACT.A  ...   \n",
       "5   BNP PARIBAS ACT.A  BNP PARIBAS ACT.A              GECINA  ...   \n",
       "6       TOTALENERGIES             GECINA         RANDSTAD NV  ...   \n",
       "7               AGEAS            RENAULT               AEGON  ...   \n",
       "8          VIVENDI SE        RANDSTAD NV            AB INBEV  ...   \n",
       "9  SCHNEIDER ELECTRIC                AXA  STMICROELECTRONICS  ...   \n",
       "\n",
       "              2013                2014                2015               2016  \\\n",
       "0           ORANGE               ENGIE               ENGIE         VIVENDI SE   \n",
       "1            ENGIE                 EDP                 EDP          SHELL PLC   \n",
       "2              EDP              ORANGE           SHELL PLC              ENGIE   \n",
       "3         BOUYGUES            BOUYGUES       TOTALENERGIES    CREDIT AGRICOLE   \n",
       "4  VEOLIA ENVIRON.       TOTALENERGIES          VIVENDI SE                EDP   \n",
       "5       VIVENDI SE     VEOLIA ENVIRON.            BOUYGUES     ING GROEP N.V.   \n",
       "6    TOTALENERGIES           SHELL PLC     VEOLIA ENVIRON.   SOCIETE GENERALE   \n",
       "7        SHELL PLC          VIVENDI SE              GECINA      TOTALENERGIES   \n",
       "8              AXA              GECINA                 AXA  BNP PARIBAS ACT.A   \n",
       "9           GECINA  UNIBAIL-RODAMCO-WE  UNIBAIL-RODAMCO-WE              AEGON   \n",
       "\n",
       "               2017                2018                2019  \\\n",
       "0             ENGIE                 EDP     D'IETEREN GROUP   \n",
       "1         SHELL PLC               ENGIE    SOCIETE GENERALE   \n",
       "2               EDP           SHELL PLC  UNIBAIL-RODAMCO-WE   \n",
       "3   CREDIT AGRICOLE  UNIBAIL-RODAMCO-WE   BNP PARIBAS ACT.A   \n",
       "4          NN GROUP       TOTALENERGIES         RANDSTAD NV   \n",
       "5  SOCIETE GENERALE               AGEAS     CREDIT AGRICOLE   \n",
       "6             AEGON                 AXA               AEGON   \n",
       "7               AXA               AEGON                 AXA   \n",
       "8   VEOLIA ENVIRON.    SOCIETE GENERALE      ING GROEP N.V.   \n",
       "9     TOTALENERGIES   BNP PARIBAS ACT.A           SHELL PLC   \n",
       "\n",
       "                 2020              2021                2022  \n",
       "0             RENAULT            ORANGE     CREDIT AGRICOLE  \n",
       "1  UNIBAIL-RODAMCO-WE     TOTALENERGIES  YARA INTERNATIONAL  \n",
       "2             AKER BP  GALP ENERGIA-NOM             TELENOR  \n",
       "3               AEGON   CREDIT AGRICOLE              AMUNDI  \n",
       "4    SOCIETE GENERALE           TELENOR   BNP PARIBAS ACT.A  \n",
       "5           SHELL PLC          NN GROUP                 KBC  \n",
       "6      ING GROEP N.V.       RANDSTAD NV         NORSK HYDRO  \n",
       "7         RANDSTAD NV             AGEAS              ORANGE  \n",
       "8            NN GROUP          DNB BANK                 AXA  \n",
       "9       TOTALENERGIES          BOUYGUES               ENGIE  \n",
       "\n",
       "[10 rows x 23 columns]"
      ]
     },
     "execution_count": 3,
     "metadata": {},
     "output_type": "execute_result"
    }
   ],
   "source": [
    "df = pd.read_excel('growth(DY).xlsx', sheet_name='Sheet5')\n",
    "df"
   ]
  },
  {
   "cell_type": "markdown",
   "metadata": {},
   "source": [
    "## 2. Сбор данных по доходности портфеля и индекса Euronext-100 по годам"
   ]
  },
  {
   "cell_type": "code",
   "execution_count": 3,
   "metadata": {},
   "outputs": [],
   "source": [
    "p_10 = pd.DataFrame(columns = ['Portfolio', 'Market'])\n",
    "\n",
    "year = []\n",
    "for i in range(18):\n",
    "    year.append(2005 + i)\n",
    "\n",
    "lst_10 = []\n",
    "lst_7 = []\n",
    "lst_5 = []\n",
    "lst_3 = []\n",
    "lst_1 = []\n",
    "market = []"
   ]
  },
  {
   "cell_type": "markdown",
   "metadata": {},
   "source": [
    "### Портфель на 2005 год\n",
    "_По данным за 2004_\n",
    "\n",
    "Акции:\n",
    "- GECINA\n",
    "- UNIBAIL-RODAMCO-WE\n",
    "- ORANGE\n",
    "- REMY COINTREAU\n",
    "- SHELL PLC\n",
    "- ING GROEP N.V.\n",
    "- TOTALENERGIES\n",
    "- AGEAS\n",
    "- DSM KON\n",
    "- SAINT GOBIAN\n"
   ]
  },
  {
   "cell_type": "code",
   "execution_count": 4,
   "metadata": {},
   "outputs": [
    {
     "name": "stdout",
     "output_type": "stream",
     "text": [
      "[*********************100%***********************]  1 of 1 completed\n",
      "[*********************100%***********************]  1 of 1 completed\n",
      "[*********************100%***********************]  1 of 1 completed\n",
      "[*********************100%***********************]  1 of 1 completed\n",
      "[*********************100%***********************]  1 of 1 completed\n",
      "[*********************100%***********************]  1 of 1 completed\n",
      "[*********************100%***********************]  1 of 1 completed\n",
      "[*********************100%***********************]  1 of 1 completed\n",
      "[*********************100%***********************]  1 of 1 completed\n",
      "[*********************100%***********************]  1 of 1 completed\n"
     ]
    },
    {
     "name": "stderr",
     "output_type": "stream",
     "text": [
      "<ipython-input-4-790aa403ff24>:19: FutureWarning: Dropping of nuisance columns in DataFrame reductions (with 'numeric_only=None') is deprecated; in a future version this will raise TypeError.  Select only valid columns before calling the reduction.\n",
      "  data['sum'] = data.sum(axis=1).to_list()\n"
     ]
    },
    {
     "name": "stdout",
     "output_type": "stream",
     "text": [
      "[*********************100%***********************]  1 of 1 completed\n",
      "Growth of Portfolio: 0.5478665229777918\n",
      "Growth of Market Index: 0.19947000899008002\n"
     ]
    },
    {
     "name": "stderr",
     "output_type": "stream",
     "text": [
      "<ipython-input-4-790aa403ff24>:34: SettingWithCopyWarning: \n",
      "A value is trying to be set on a copy of a slice from a DataFrame\n",
      "\n",
      "See the caveats in the documentation: https://pandas.pydata.org/pandas-docs/stable/user_guide/indexing.html#returning-a-view-versus-a-copy\n",
      "  data['DSM.AS'][8:] = data['DSM.AS'][8:] * 2\n"
     ]
    }
   ],
   "source": [
    "# 10 акций\n",
    "tickers_list = ['GFC.PA', \n",
    "                'URW.AS',\n",
    "                'ORA.PA',\n",
    "                'RCO.PA',\n",
    "                'SHELL.AS',\n",
    "                'INGA.AS',\n",
    "                'TTE.PA',\n",
    "                'AGS.BR',\n",
    "                'DSM.AS', # split\n",
    "                'SGO.PA']\n",
    "\n",
    "data = pd.DataFrame(columns=tickers_list)\n",
    "\n",
    "for ticker in tickers_list:\n",
    "    data[ticker] = yf.download(ticker,'2005-01-01','2006-01-01', interval='1mo')['Adj Close']\n",
    "\n",
    "data = data.reset_index()\n",
    "data['sum'] = data.sum(axis=1).to_list()\n",
    "\n",
    "df = pd.DataFrame(columns=tickers_list)\n",
    "for ticker in tickers_list:\n",
    "    div = sum(yf.Ticker(ticker).history(start='2005-01-01',end='2006-01-01').Dividends.to_list())\n",
    "    split = sum(yf.Ticker(ticker).history(start='2005-01-01',end='2006-01-01')['Stock Splits'].to_list())\n",
    "    df[ticker] = [div, split]\n",
    "df['sum'] = df.sum(axis=1).to_list()\n",
    "\n",
    "tickers_list = ['^N100']\n",
    "dt = pd.DataFrame(columns=tickers_list)\n",
    "for ticker in tickers_list:\n",
    "    dt[ticker] = yf.download(ticker,'2005-01-01','2006-01-01', interval='1mo')['Adj Close']\n",
    "    \n",
    "data['N-100'] = dt['^N100'].to_list()\n",
    "data['DSM.AS'][8:] = data['DSM.AS'][8:] * 2\n",
    "\n",
    "portfolio_g = (data['sum'][11] + df['sum'][0] - data['sum'][0]) / data['sum'][0]\n",
    "market_g = (data['N-100'][11] - data['N-100'][0]) / data['N-100'][0]\n",
    "\n",
    "lst_10.append(portfolio_g)\n",
    "market.append(market_g)\n",
    "\n",
    "print('Growth of Portfolio:', portfolio_g)\n",
    "print('Growth of Market Index:', market_g)"
   ]
  },
  {
   "cell_type": "code",
   "execution_count": 5,
   "metadata": {},
   "outputs": [
    {
     "name": "stdout",
     "output_type": "stream",
     "text": [
      "[*********************100%***********************]  1 of 1 completed\n",
      "[*********************100%***********************]  1 of 1 completed\n",
      "[*********************100%***********************]  1 of 1 completed\n",
      "[*********************100%***********************]  1 of 1 completed\n",
      "[*********************100%***********************]  1 of 1 completed\n",
      "[*********************100%***********************]  1 of 1 completed\n",
      "[*********************100%***********************]  1 of 1 completed\n"
     ]
    },
    {
     "name": "stderr",
     "output_type": "stream",
     "text": [
      "<ipython-input-5-a51fa4f6d50f>:16: FutureWarning: Dropping of nuisance columns in DataFrame reductions (with 'numeric_only=None') is deprecated; in a future version this will raise TypeError.  Select only valid columns before calling the reduction.\n",
      "  data['sum'] = data.sum(axis=1).to_list()\n"
     ]
    },
    {
     "name": "stdout",
     "output_type": "stream",
     "text": [
      "[*********************100%***********************]  1 of 1 completed\n",
      "Growth of Portfolio: 0.6164845792391492\n",
      "Growth of Market Index: 0.19947000899008002\n"
     ]
    }
   ],
   "source": [
    "# 7 акций\n",
    "tickers_list = ['GFC.PA', \n",
    "                'URW.AS',\n",
    "                'ORA.PA',\n",
    "                'RCO.PA',\n",
    "                'SHELL.AS',\n",
    "                'INGA.AS',\n",
    "                'TTE.PA']\n",
    "\n",
    "data = pd.DataFrame(columns=tickers_list)\n",
    "\n",
    "for ticker in tickers_list:\n",
    "    data[ticker] = yf.download(ticker,'2005-01-01','2006-01-01', interval='1mo')['Adj Close']\n",
    "\n",
    "data = data.reset_index()\n",
    "data['sum'] = data.sum(axis=1).to_list()\n",
    "\n",
    "df = pd.DataFrame(columns=tickers_list)\n",
    "for ticker in tickers_list:\n",
    "    div = sum(yf.Ticker(ticker).history(start='2005-01-01',end='2006-01-01').Dividends.to_list())\n",
    "    split = sum(yf.Ticker(ticker).history(start='2005-01-01',end='2006-01-01')['Stock Splits'].to_list())\n",
    "    df[ticker] = [div, split]\n",
    "df['sum'] = df.sum(axis=1).to_list()\n",
    "\n",
    "tickers_list = ['^N100']\n",
    "dt = pd.DataFrame(columns=tickers_list)\n",
    "for ticker in tickers_list:\n",
    "    dt[ticker] = yf.download(ticker,'2005-01-01','2006-01-01', interval='1mo')['Adj Close']\n",
    "    \n",
    "data['N-100'] = dt['^N100'].to_list()\n",
    "\n",
    "portfolio_g = (data['sum'][11] + df['sum'][0] - data['sum'][0]) / data['sum'][0]\n",
    "market_g = (data['N-100'][11] - data['N-100'][0]) / data['N-100'][0]\n",
    "\n",
    "lst_7.append(portfolio_g)\n",
    "\n",
    "if df['sum'][1] == 0:\n",
    "    print('Growth of Portfolio:', portfolio_g)\n",
    "    print('Growth of Market Index:', market_g)\n",
    "else:\n",
    "    print('Есть дробление акций')"
   ]
  },
  {
   "cell_type": "code",
   "execution_count": 6,
   "metadata": {},
   "outputs": [
    {
     "name": "stdout",
     "output_type": "stream",
     "text": [
      "[*********************100%***********************]  1 of 1 completed\n",
      "[*********************100%***********************]  1 of 1 completed\n",
      "[*********************100%***********************]  1 of 1 completed\n",
      "[*********************100%***********************]  1 of 1 completed\n",
      "[*********************100%***********************]  1 of 1 completed\n"
     ]
    },
    {
     "name": "stderr",
     "output_type": "stream",
     "text": [
      "<ipython-input-6-c86bce93ece5>:14: FutureWarning: Dropping of nuisance columns in DataFrame reductions (with 'numeric_only=None') is deprecated; in a future version this will raise TypeError.  Select only valid columns before calling the reduction.\n",
      "  data['sum'] = data.sum(axis=1).to_list()\n"
     ]
    },
    {
     "name": "stdout",
     "output_type": "stream",
     "text": [
      "[*********************100%***********************]  1 of 1 completed\n",
      "Growth of Portfolio: 0.6523461909540678\n",
      "Growth of Market Index: 0.19947000899008002\n"
     ]
    }
   ],
   "source": [
    "# 5 акций\n",
    "tickers_list = ['GFC.PA', \n",
    "                'URW.AS',\n",
    "                'ORA.PA',\n",
    "                'RCO.PA',\n",
    "                'SHELL.AS']\n",
    "\n",
    "data = pd.DataFrame(columns=tickers_list)\n",
    "\n",
    "for ticker in tickers_list:\n",
    "    data[ticker] = yf.download(ticker,'2005-01-01','2006-01-01', interval='1mo')['Adj Close']\n",
    "\n",
    "data = data.reset_index()\n",
    "data['sum'] = data.sum(axis=1).to_list()\n",
    "\n",
    "df = pd.DataFrame(columns=tickers_list)\n",
    "for ticker in tickers_list:\n",
    "    div = sum(yf.Ticker(ticker).history(start='2005-01-01',end='2006-01-01').Dividends.to_list())\n",
    "    split = sum(yf.Ticker(ticker).history(start='2005-01-01',end='2006-01-01')['Stock Splits'].to_list())\n",
    "    df[ticker] = [div, split]\n",
    "df['sum'] = df.sum(axis=1).to_list()\n",
    "\n",
    "tickers_list = ['^N100']\n",
    "dt = pd.DataFrame(columns=tickers_list)\n",
    "for ticker in tickers_list:\n",
    "    dt[ticker] = yf.download(ticker,'2005-01-01','2006-01-01', interval='1mo')['Adj Close']\n",
    "    \n",
    "data['N-100'] = dt['^N100'].to_list()\n",
    "\n",
    "portfolio_g = (data['sum'][11] + df['sum'][0] - data['sum'][0]) / data['sum'][0]\n",
    "market_g = (data['N-100'][11] - data['N-100'][0]) / data['N-100'][0]\n",
    "\n",
    "lst_5.append(portfolio_g)\n",
    "\n",
    "if df['sum'][1] == 0:\n",
    "    print('Growth of Portfolio:', portfolio_g)\n",
    "    print('Growth of Market Index:', market_g)\n",
    "else:\n",
    "    print('Есть дробление акций')"
   ]
  },
  {
   "cell_type": "code",
   "execution_count": 7,
   "metadata": {},
   "outputs": [
    {
     "name": "stdout",
     "output_type": "stream",
     "text": [
      "[*********************100%***********************]  1 of 1 completed\n",
      "[*********************100%***********************]  1 of 1 completed\n",
      "[*********************100%***********************]  1 of 1 completed\n"
     ]
    },
    {
     "name": "stderr",
     "output_type": "stream",
     "text": [
      "<ipython-input-7-db7f684c9928>:12: FutureWarning: Dropping of nuisance columns in DataFrame reductions (with 'numeric_only=None') is deprecated; in a future version this will raise TypeError.  Select only valid columns before calling the reduction.\n",
      "  data['sum'] = data.sum(axis=1).to_list()\n"
     ]
    },
    {
     "name": "stdout",
     "output_type": "stream",
     "text": [
      "[*********************100%***********************]  1 of 1 completed\n",
      "Growth of Portfolio: 0.574600321311848\n",
      "Growth of Market Index: 0.19947000899008002\n"
     ]
    }
   ],
   "source": [
    "# 3 акции\n",
    "tickers_list = ['GFC.PA', \n",
    "                'URW.AS',\n",
    "                'ORA.PA']\n",
    "\n",
    "data = pd.DataFrame(columns=tickers_list)\n",
    "\n",
    "for ticker in tickers_list:\n",
    "    data[ticker] = yf.download(ticker,'2005-01-01','2006-01-01', interval='1mo')['Adj Close']\n",
    "\n",
    "data = data.reset_index()\n",
    "data['sum'] = data.sum(axis=1).to_list()\n",
    "\n",
    "df = pd.DataFrame(columns=tickers_list)\n",
    "for ticker in tickers_list:\n",
    "    div = sum(yf.Ticker(ticker).history(start='2005-01-01',end='2006-01-01').Dividends.to_list())\n",
    "    split = sum(yf.Ticker(ticker).history(start='2005-01-01',end='2006-01-01')['Stock Splits'].to_list())\n",
    "    df[ticker] = [div, split]\n",
    "df['sum'] = df.sum(axis=1).to_list()\n",
    "\n",
    "tickers_list = ['^N100']\n",
    "dt = pd.DataFrame(columns=tickers_list)\n",
    "for ticker in tickers_list:\n",
    "    dt[ticker] = yf.download(ticker,'2005-01-01','2006-01-01', interval='1mo')['Adj Close']\n",
    "    \n",
    "data['N-100'] = dt['^N100'].to_list()\n",
    "\n",
    "portfolio_g = (data['sum'][11] + df['sum'][0] - data['sum'][0]) / data['sum'][0]\n",
    "market_g = (data['N-100'][11] - data['N-100'][0]) / data['N-100'][0]\n",
    "\n",
    "lst_3.append(portfolio_g)\n",
    "\n",
    "if df['sum'][1] == 0:\n",
    "    print('Growth of Portfolio:', portfolio_g)\n",
    "    print('Growth of Market Index:', market_g)\n",
    "else:\n",
    "    print('Есть дробление акций')"
   ]
  },
  {
   "cell_type": "code",
   "execution_count": 8,
   "metadata": {},
   "outputs": [
    {
     "name": "stdout",
     "output_type": "stream",
     "text": [
      "[*********************100%***********************]  1 of 1 completed\n"
     ]
    },
    {
     "name": "stderr",
     "output_type": "stream",
     "text": [
      "<ipython-input-8-b990ceac7de4>:10: FutureWarning: Dropping of nuisance columns in DataFrame reductions (with 'numeric_only=None') is deprecated; in a future version this will raise TypeError.  Select only valid columns before calling the reduction.\n",
      "  data['sum'] = data.sum(axis=1).to_list()\n"
     ]
    },
    {
     "name": "stdout",
     "output_type": "stream",
     "text": [
      "[*********************100%***********************]  1 of 1 completed\n",
      "Growth of Portfolio: 0.41567806432378424\n",
      "Growth of Market Index: 0.19947000899008002\n"
     ]
    }
   ],
   "source": [
    "# 1 акция\n",
    "tickers_list = ['GFC.PA']\n",
    "\n",
    "data = pd.DataFrame(columns=tickers_list)\n",
    "\n",
    "for ticker in tickers_list:\n",
    "    data[ticker] = yf.download(ticker,'2005-01-01','2006-01-01', interval='1mo')['Adj Close']\n",
    "\n",
    "data = data.reset_index()\n",
    "data['sum'] = data.sum(axis=1).to_list()\n",
    "\n",
    "df = pd.DataFrame(columns=tickers_list)\n",
    "for ticker in tickers_list:\n",
    "    div = sum(yf.Ticker(ticker).history(start='2005-01-01',end='2006-01-01').Dividends.to_list())\n",
    "    split = sum(yf.Ticker(ticker).history(start='2005-01-01',end='2006-01-01')['Stock Splits'].to_list())\n",
    "    df[ticker] = [div, split]\n",
    "df['sum'] = df.sum(axis=1).to_list()\n",
    "\n",
    "tickers_list = ['^N100']\n",
    "dt = pd.DataFrame(columns=tickers_list)\n",
    "for ticker in tickers_list:\n",
    "    dt[ticker] = yf.download(ticker,'2005-01-01','2006-01-01', interval='1mo')['Adj Close']\n",
    "    \n",
    "data['N-100'] = dt['^N100'].to_list()\n",
    "\n",
    "portfolio_g = (data['sum'][11] + df['sum'][0] - data['sum'][0]) / data['sum'][0]\n",
    "market_g = (data['N-100'][11] - data['N-100'][0]) / data['N-100'][0]\n",
    "\n",
    "lst_1.append(portfolio_g)\n",
    "\n",
    "if df['sum'][1] == 0:\n",
    "    print('Growth of Portfolio:', portfolio_g)\n",
    "    print('Growth of Market Index:', market_g)\n",
    "else:\n",
    "    print('Есть дробление акций')"
   ]
  },
  {
   "cell_type": "markdown",
   "metadata": {},
   "source": [
    "### Портфель на 2006 год\n",
    "_По данным за 2005_\n",
    "\n",
    "Акции:\n",
    "- ING GROEP N.V.\n",
    "- AGEAS\n",
    "- EDP\n",
    "- AEGON\n",
    "- SHELL PLC\n",
    "- WOLTERS KLUWER\n",
    "- BNP PARIBAS ACT.A\n",
    "- UNIBAIL-RODAMCO-WE\n",
    "- AKZO NOBEL\n",
    "- SOCIETE GENERALE"
   ]
  },
  {
   "cell_type": "code",
   "execution_count": 9,
   "metadata": {},
   "outputs": [
    {
     "name": "stdout",
     "output_type": "stream",
     "text": [
      "[*********************100%***********************]  1 of 1 completed\n",
      "[*********************100%***********************]  1 of 1 completed\n",
      "[*********************100%***********************]  1 of 1 completed\n",
      "[*********************100%***********************]  1 of 1 completed\n",
      "[*********************100%***********************]  1 of 1 completed\n",
      "[*********************100%***********************]  1 of 1 completed\n",
      "[*********************100%***********************]  1 of 1 completed\n",
      "[*********************100%***********************]  1 of 1 completed\n",
      "[*********************100%***********************]  1 of 1 completed\n",
      "[*********************100%***********************]  1 of 1 completed\n"
     ]
    },
    {
     "name": "stderr",
     "output_type": "stream",
     "text": [
      "<ipython-input-9-f0fd03b673f8>:19: FutureWarning: Dropping of nuisance columns in DataFrame reductions (with 'numeric_only=None') is deprecated; in a future version this will raise TypeError.  Select only valid columns before calling the reduction.\n",
      "  data['sum'] = data.sum(axis=1).to_list()\n"
     ]
    },
    {
     "name": "stdout",
     "output_type": "stream",
     "text": [
      "[*********************100%***********************]  1 of 1 completed\n",
      "Growth of Portfolio: 0.3564385730803812\n",
      "Growth of Market Index: 0.13663092268356408\n"
     ]
    }
   ],
   "source": [
    "# 10 акций\n",
    "tickers_list = ['INGA.AS', \n",
    "                'AGS.BR',\n",
    "                'EDP.LS',\n",
    "                'AGN.AS',\n",
    "                'SHELL.AS',\n",
    "                'WKL.AS', \n",
    "                'BNP.PA', \n",
    "                'URW.AS', \n",
    "                'AKZA.AS', \n",
    "                'GLE.PA']\n",
    "\n",
    "data = pd.DataFrame(columns=tickers_list)\n",
    "\n",
    "for ticker in tickers_list:\n",
    "    data[ticker] = yf.download(ticker,'2006-01-01','2007-01-01', interval='1mo')['Adj Close']\n",
    "\n",
    "data = data.reset_index()\n",
    "data['sum'] = data.sum(axis=1).to_list()\n",
    "\n",
    "df = pd.DataFrame(columns=tickers_list)\n",
    "for ticker in tickers_list:\n",
    "    div = sum(yf.Ticker(ticker).history(start='2006-01-01',end='2007-01-01').Dividends.to_list())\n",
    "    split = sum(yf.Ticker(ticker).history(start='2006-01-01',end='2007-01-01')['Stock Splits'].to_list())\n",
    "    df[ticker] = [div, split]\n",
    "df['sum'] = df.sum(axis=1).to_list()\n",
    "\n",
    "tickers_list = ['^N100']\n",
    "dt = pd.DataFrame(columns=tickers_list)\n",
    "for ticker in tickers_list:\n",
    "    dt[ticker] = yf.download(ticker,'2006-01-01','2007-01-01', interval='1mo')['Adj Close']\n",
    "    \n",
    "data['N-100'] = dt['^N100'].to_list()\n",
    "\n",
    "portfolio_g = (data['sum'][11] + df['sum'][0] - data['sum'][0]) / data['sum'][0]\n",
    "market_g = (data['N-100'][11] - data['N-100'][0]) / data['N-100'][0]\n",
    "\n",
    "lst_10.append(portfolio_g)\n",
    "market.append(market_g)\n",
    "\n",
    "if df['sum'][1] == 0:\n",
    "    print('Growth of Portfolio:', portfolio_g)\n",
    "    print('Growth of Market Index:', market_g)\n",
    "else:\n",
    "    print('Есть дробление акций')"
   ]
  },
  {
   "cell_type": "code",
   "execution_count": 10,
   "metadata": {},
   "outputs": [
    {
     "name": "stdout",
     "output_type": "stream",
     "text": [
      "[*********************100%***********************]  1 of 1 completed\n",
      "[*********************100%***********************]  1 of 1 completed\n",
      "[*********************100%***********************]  1 of 1 completed\n",
      "[*********************100%***********************]  1 of 1 completed\n",
      "[*********************100%***********************]  1 of 1 completed\n",
      "[*********************100%***********************]  1 of 1 completed\n",
      "[*********************100%***********************]  1 of 1 completed\n"
     ]
    },
    {
     "name": "stderr",
     "output_type": "stream",
     "text": [
      "<ipython-input-10-f884d33681ab>:16: FutureWarning: Dropping of nuisance columns in DataFrame reductions (with 'numeric_only=None') is deprecated; in a future version this will raise TypeError.  Select only valid columns before calling the reduction.\n",
      "  data['sum'] = data.sum(axis=1).to_list()\n"
     ]
    },
    {
     "name": "stdout",
     "output_type": "stream",
     "text": [
      "[*********************100%***********************]  1 of 1 completed\n",
      "Growth of Portfolio: 0.2855862107982351\n",
      "Growth of Market Index: 0.13663092268356408\n"
     ]
    }
   ],
   "source": [
    "# 7 акций\n",
    "tickers_list = ['INGA.AS', \n",
    "                'AGS.BR',\n",
    "                'EDP.LS',\n",
    "                'AGN.AS',\n",
    "                'SHELL.AS',\n",
    "                'WKL.AS', \n",
    "                'BNP.PA']\n",
    "\n",
    "data = pd.DataFrame(columns=tickers_list)\n",
    "\n",
    "for ticker in tickers_list:\n",
    "    data[ticker] = yf.download(ticker,'2006-01-01','2007-01-01', interval='1mo')['Adj Close']\n",
    "\n",
    "data = data.reset_index()\n",
    "data['sum'] = data.sum(axis=1).to_list()\n",
    "\n",
    "df = pd.DataFrame(columns=tickers_list)\n",
    "for ticker in tickers_list:\n",
    "    div = sum(yf.Ticker(ticker).history(start='2006-01-01',end='2007-01-01').Dividends.to_list())\n",
    "    split = sum(yf.Ticker(ticker).history(start='2006-01-01',end='2007-01-01')['Stock Splits'].to_list())\n",
    "    df[ticker] = [div, split]\n",
    "df['sum'] = df.sum(axis=1).to_list()\n",
    "\n",
    "tickers_list = ['^N100']\n",
    "dt = pd.DataFrame(columns=tickers_list)\n",
    "for ticker in tickers_list:\n",
    "    dt[ticker] = yf.download(ticker,'2006-01-01','2007-01-01', interval='1mo')['Adj Close']\n",
    "    \n",
    "data['N-100'] = dt['^N100'].to_list()\n",
    "\n",
    "portfolio_g = (data['sum'][11] + df['sum'][0] - data['sum'][0]) / data['sum'][0]\n",
    "market_g = (data['N-100'][11] - data['N-100'][0]) / data['N-100'][0]\n",
    "\n",
    "lst_7.append(portfolio_g)\n",
    "\n",
    "if df['sum'][1] == 0:\n",
    "    print('Growth of Portfolio:', portfolio_g)\n",
    "    print('Growth of Market Index:', market_g)\n",
    "else:\n",
    "    print('Есть дробление акций')"
   ]
  },
  {
   "cell_type": "code",
   "execution_count": 11,
   "metadata": {},
   "outputs": [
    {
     "name": "stdout",
     "output_type": "stream",
     "text": [
      "[*********************100%***********************]  1 of 1 completed\n",
      "[*********************100%***********************]  1 of 1 completed\n",
      "[*********************100%***********************]  1 of 1 completed\n",
      "[*********************100%***********************]  1 of 1 completed\n",
      "[*********************100%***********************]  1 of 1 completed\n"
     ]
    },
    {
     "name": "stderr",
     "output_type": "stream",
     "text": [
      "<ipython-input-11-dc224337c5ea>:14: FutureWarning: Dropping of nuisance columns in DataFrame reductions (with 'numeric_only=None') is deprecated; in a future version this will raise TypeError.  Select only valid columns before calling the reduction.\n",
      "  data['sum'] = data.sum(axis=1).to_list()\n"
     ]
    },
    {
     "name": "stdout",
     "output_type": "stream",
     "text": [
      "[*********************100%***********************]  1 of 1 completed\n",
      "Growth of Portfolio: 0.259419053415892\n",
      "Growth of Market Index: 0.13663092268356408\n"
     ]
    }
   ],
   "source": [
    "# 5 акций\n",
    "tickers_list = ['INGA.AS', \n",
    "                'AGS.BR',\n",
    "                'EDP.LS',\n",
    "                'AGN.AS',\n",
    "                'SHELL.AS']\n",
    "\n",
    "data = pd.DataFrame(columns=tickers_list)\n",
    "\n",
    "for ticker in tickers_list:\n",
    "    data[ticker] = yf.download(ticker,'2006-01-01','2007-01-01', interval='1mo')['Adj Close']\n",
    "\n",
    "data = data.reset_index()\n",
    "data['sum'] = data.sum(axis=1).to_list()\n",
    "\n",
    "df = pd.DataFrame(columns=tickers_list)\n",
    "for ticker in tickers_list:\n",
    "    div = sum(yf.Ticker(ticker).history(start='2006-01-01',end='2007-01-01').Dividends.to_list())\n",
    "    split = sum(yf.Ticker(ticker).history(start='2006-01-01',end='2007-01-01')['Stock Splits'].to_list())\n",
    "    df[ticker] = [div, split]\n",
    "df['sum'] = df.sum(axis=1).to_list()\n",
    "\n",
    "tickers_list = ['^N100']\n",
    "dt = pd.DataFrame(columns=tickers_list)\n",
    "for ticker in tickers_list:\n",
    "    dt[ticker] = yf.download(ticker,'2006-01-01','2007-01-01', interval='1mo')['Adj Close']\n",
    "\n",
    "data['N-100'] = dt['^N100'].to_list()\n",
    "    \n",
    "portfolio_g = (data['sum'][11] + df['sum'][0] - data['sum'][0]) / data['sum'][0]\n",
    "market_g = (data['N-100'][11] - data['N-100'][0]) / data['N-100'][0]\n",
    "\n",
    "lst_5.append(portfolio_g)\n",
    "\n",
    "if df['sum'][1] == 0:\n",
    "    print('Growth of Portfolio:', portfolio_g)\n",
    "    print('Growth of Market Index:', market_g)\n",
    "else:\n",
    "    print('Есть дробление акций')"
   ]
  },
  {
   "cell_type": "code",
   "execution_count": 12,
   "metadata": {},
   "outputs": [
    {
     "name": "stdout",
     "output_type": "stream",
     "text": [
      "[*********************100%***********************]  1 of 1 completed\n",
      "[*********************100%***********************]  1 of 1 completed\n",
      "[*********************100%***********************]  1 of 1 completed\n"
     ]
    },
    {
     "name": "stderr",
     "output_type": "stream",
     "text": [
      "<ipython-input-12-172b250ab9d8>:12: FutureWarning: Dropping of nuisance columns in DataFrame reductions (with 'numeric_only=None') is deprecated; in a future version this will raise TypeError.  Select only valid columns before calling the reduction.\n",
      "  data['sum'] = data.sum(axis=1).to_list()\n"
     ]
    },
    {
     "name": "stdout",
     "output_type": "stream",
     "text": [
      "[*********************100%***********************]  1 of 1 completed\n",
      "Growth of Portfolio: 0.28718212089168993\n",
      "Growth of Market Index: 0.13663092268356408\n"
     ]
    }
   ],
   "source": [
    "# 3 акции\n",
    "tickers_list = ['INGA.AS', \n",
    "                'AGS.BR',\n",
    "                'EDP.LS']\n",
    "\n",
    "data = pd.DataFrame(columns=tickers_list)\n",
    "\n",
    "for ticker in tickers_list:\n",
    "    data[ticker] = yf.download(ticker,'2006-01-01','2007-01-01', interval='1mo')['Adj Close']\n",
    "\n",
    "data = data.reset_index()\n",
    "data['sum'] = data.sum(axis=1).to_list()\n",
    "\n",
    "df = pd.DataFrame(columns=tickers_list)\n",
    "for ticker in tickers_list:\n",
    "    div = sum(yf.Ticker(ticker).history(start='2006-01-01',end='2007-01-01').Dividends.to_list())\n",
    "    split = sum(yf.Ticker(ticker).history(start='2006-01-01',end='2007-01-01')['Stock Splits'].to_list())\n",
    "    df[ticker] = [div, split]\n",
    "df['sum'] = df.sum(axis=1).to_list()\n",
    "\n",
    "tickers_list = ['^N100']\n",
    "dt = pd.DataFrame(columns=tickers_list)\n",
    "for ticker in tickers_list:\n",
    "    dt[ticker] = yf.download(ticker,'2006-01-01','2007-01-01', interval='1mo')['Adj Close']\n",
    "    \n",
    "data['N-100'] = dt['^N100'].to_list()\n",
    "\n",
    "portfolio_g = (data['sum'][11] + df['sum'][0] - data['sum'][0]) / data['sum'][0]\n",
    "market_g = (data['N-100'][11] - data['N-100'][0]) / data['N-100'][0]\n",
    "\n",
    "lst_3.append(portfolio_g)\n",
    "\n",
    "if df['sum'][1] == 0:\n",
    "    print('Growth of Portfolio:', portfolio_g)\n",
    "    print('Growth of Market Index:', market_g)\n",
    "else:\n",
    "    print('Есть дробление акций')"
   ]
  },
  {
   "cell_type": "code",
   "execution_count": 13,
   "metadata": {},
   "outputs": [
    {
     "name": "stdout",
     "output_type": "stream",
     "text": [
      "[*********************100%***********************]  1 of 1 completed\n"
     ]
    },
    {
     "name": "stderr",
     "output_type": "stream",
     "text": [
      "<ipython-input-13-62f4708202f3>:10: FutureWarning: Dropping of nuisance columns in DataFrame reductions (with 'numeric_only=None') is deprecated; in a future version this will raise TypeError.  Select only valid columns before calling the reduction.\n",
      "  data['sum'] = data.sum(axis=1).to_list()\n"
     ]
    },
    {
     "name": "stdout",
     "output_type": "stream",
     "text": [
      "[*********************100%***********************]  1 of 1 completed\n",
      "Growth of Portfolio: 0.2883728222538932\n",
      "Growth of Market Index: 0.13663092268356408\n"
     ]
    }
   ],
   "source": [
    "# 1 акция\n",
    "tickers_list = ['INGA.AS']\n",
    "\n",
    "data = pd.DataFrame(columns=tickers_list)\n",
    "\n",
    "for ticker in tickers_list:\n",
    "    data[ticker] = yf.download(ticker,'2006-01-01','2007-01-01', interval='1mo')['Adj Close']\n",
    "\n",
    "data = data.reset_index()\n",
    "data['sum'] = data.sum(axis=1).to_list()\n",
    "\n",
    "df = pd.DataFrame(columns=tickers_list)\n",
    "for ticker in tickers_list:\n",
    "    div = sum(yf.Ticker(ticker).history(start='2006-01-01',end='2007-01-01').Dividends.to_list())\n",
    "    split = sum(yf.Ticker(ticker).history(start='2006-01-01',end='2007-01-01')['Stock Splits'].to_list())\n",
    "    df[ticker] = [div, split]\n",
    "df['sum'] = df.sum(axis=1).to_list()\n",
    "\n",
    "tickers_list = ['^N100']\n",
    "dt = pd.DataFrame(columns=tickers_list)\n",
    "for ticker in tickers_list:\n",
    "    dt[ticker] = yf.download(ticker,'2006-01-01','2007-01-01', interval='1mo')['Adj Close']\n",
    "    \n",
    "data['N-100'] = dt['^N100'].to_list()\n",
    "\n",
    "portfolio_g = (data['sum'][11] + df['sum'][0] - data['sum'][0]) / data['sum'][0]\n",
    "market_g = (data['N-100'][11] - data['N-100'][0]) / data['N-100'][0]\n",
    "\n",
    "lst_1.append(portfolio_g)\n",
    "\n",
    "if df['sum'][1] == 0:\n",
    "    print('Growth of Portfolio:', portfolio_g)\n",
    "    print('Growth of Market Index:', market_g)\n",
    "else:\n",
    "    print('Есть дробление акций')"
   ]
  },
  {
   "cell_type": "markdown",
   "metadata": {},
   "source": [
    "### Портфель на 2007 год\n",
    "_По данным за 2006_\n",
    "\n",
    "Акции:\n",
    "- KPN KON\n",
    "- ING GROEP N.V.\n",
    "- SOCIETE GENERALE\n",
    "- GECINA\n",
    "- SHELL PLC\n",
    "- AGEAS\n",
    "- BNP PARIBAS ACT.A\n",
    "- EDP\n",
    "- AEGON\n",
    "- TOTALENERGIES\n"
   ]
  },
  {
   "cell_type": "code",
   "execution_count": 14,
   "metadata": {},
   "outputs": [
    {
     "name": "stdout",
     "output_type": "stream",
     "text": [
      "[*********************100%***********************]  1 of 1 completed\n",
      "[*********************100%***********************]  1 of 1 completed\n",
      "[*********************100%***********************]  1 of 1 completed\n",
      "[*********************100%***********************]  1 of 1 completed\n",
      "[*********************100%***********************]  1 of 1 completed\n",
      "[*********************100%***********************]  1 of 1 completed\n",
      "[*********************100%***********************]  1 of 1 completed\n",
      "[*********************100%***********************]  1 of 1 completed\n",
      "[*********************100%***********************]  1 of 1 completed\n",
      "[*********************100%***********************]  1 of 1 completed\n"
     ]
    },
    {
     "name": "stderr",
     "output_type": "stream",
     "text": [
      "<ipython-input-14-61da1f1f7b44>:19: FutureWarning: Dropping of nuisance columns in DataFrame reductions (with 'numeric_only=None') is deprecated; in a future version this will raise TypeError.  Select only valid columns before calling the reduction.\n",
      "  data['sum'] = data.sum(axis=1).to_list()\n"
     ]
    },
    {
     "name": "stdout",
     "output_type": "stream",
     "text": [
      "[*********************100%***********************]  1 of 1 completed\n",
      "Growth of Portfolio: -0.04322923953989906\n",
      "Growth of Market Index: 0.021471588059834262\n"
     ]
    }
   ],
   "source": [
    "# 10 акций\n",
    "tickers_list = ['KPN.AS',\n",
    "                'INGA.AS',\n",
    "                'GLE.PA',\n",
    "                'GFC.PA', \n",
    "                'SHELL.AS',\n",
    "                'AGS.BR',\n",
    "                'BNP.PA',\n",
    "                'EDP.LS', \n",
    "                'AGN.AS', \n",
    "                'TTE.PA']\n",
    "\n",
    "data = pd.DataFrame(columns=tickers_list)\n",
    "\n",
    "for ticker in tickers_list:\n",
    "    data[ticker] = yf.download(ticker,'2007-01-01','2008-01-01', interval='1mo')['Adj Close']\n",
    "\n",
    "data = data.reset_index()\n",
    "data['sum'] = data.sum(axis=1).to_list()\n",
    "\n",
    "df = pd.DataFrame(columns=tickers_list)\n",
    "for ticker in tickers_list:\n",
    "    div = sum(yf.Ticker(ticker).history(start='2007-01-01',end='2008-01-01').Dividends.to_list())\n",
    "    split = sum(yf.Ticker(ticker).history(start='2007-01-01',end='2008-01-01')['Stock Splits'].to_list())\n",
    "    df[ticker] = [div, split]\n",
    "df['sum'] = df.sum(axis=1).to_list()\n",
    "\n",
    "tickers_list = ['^N100']\n",
    "dt = pd.DataFrame(columns=tickers_list)\n",
    "for ticker in tickers_list:\n",
    "    dt[ticker] = yf.download(ticker,'2007-01-01','2008-01-01', interval='1mo')['Adj Close']\n",
    "    \n",
    "data['N-100'] = dt['^N100'].to_list()\n",
    "\n",
    "portfolio_g = (data['sum'][11] + df['sum'][0] - data['sum'][0]) / data['sum'][0]\n",
    "market_g = (data['N-100'][11] - data['N-100'][0]) / data['N-100'][0]\n",
    "\n",
    "lst_10.append(portfolio_g)\n",
    "market.append(market_g)\n",
    "\n",
    "if df['sum'][1] == 0:\n",
    "    print('Growth of Portfolio:', portfolio_g)\n",
    "    print('Growth of Market Index:', market_g)\n",
    "else:\n",
    "    print('Есть дробление акций')"
   ]
  },
  {
   "cell_type": "code",
   "execution_count": 15,
   "metadata": {},
   "outputs": [
    {
     "name": "stdout",
     "output_type": "stream",
     "text": [
      "[*********************100%***********************]  1 of 1 completed\n",
      "[*********************100%***********************]  1 of 1 completed\n",
      "[*********************100%***********************]  1 of 1 completed\n",
      "[*********************100%***********************]  1 of 1 completed\n",
      "[*********************100%***********************]  1 of 1 completed\n",
      "[*********************100%***********************]  1 of 1 completed\n",
      "[*********************100%***********************]  1 of 1 completed\n"
     ]
    },
    {
     "name": "stderr",
     "output_type": "stream",
     "text": [
      "<ipython-input-15-e06172f8ad12>:16: FutureWarning: Dropping of nuisance columns in DataFrame reductions (with 'numeric_only=None') is deprecated; in a future version this will raise TypeError.  Select only valid columns before calling the reduction.\n",
      "  data['sum'] = data.sum(axis=1).to_list()\n"
     ]
    },
    {
     "name": "stdout",
     "output_type": "stream",
     "text": [
      "[*********************100%***********************]  1 of 1 completed\n",
      "Growth of Portfolio: -0.07349250321455336\n",
      "Growth of Market Index: 0.021471588059834262\n"
     ]
    }
   ],
   "source": [
    "# 7 акций\n",
    "tickers_list = ['KPN.AS',\n",
    "                'INGA.AS',\n",
    "                'GLE.PA',\n",
    "                'GFC.PA', \n",
    "                'SHELL.AS',\n",
    "                'AGS.BR',\n",
    "                'BNP.PA']\n",
    "\n",
    "data = pd.DataFrame(columns=tickers_list)\n",
    "\n",
    "for ticker in tickers_list:\n",
    "    data[ticker] = yf.download(ticker,'2007-01-01','2008-01-01', interval='1mo')['Adj Close']\n",
    "\n",
    "data = data.reset_index()\n",
    "data['sum'] = data.sum(axis=1).to_list()\n",
    "\n",
    "df = pd.DataFrame(columns=tickers_list)\n",
    "for ticker in tickers_list:\n",
    "    div = sum(yf.Ticker(ticker).history(start='2007-01-01',end='2008-01-01').Dividends.to_list())\n",
    "    split = sum(yf.Ticker(ticker).history(start='2007-01-01',end='2008-01-01')['Stock Splits'].to_list())\n",
    "    df[ticker] = [div, split]\n",
    "df['sum'] = df.sum(axis=1).to_list()\n",
    "\n",
    "tickers_list = ['^N100']\n",
    "dt = pd.DataFrame(columns=tickers_list)\n",
    "for ticker in tickers_list:\n",
    "    dt[ticker] = yf.download(ticker,'2007-01-01','2008-01-01', interval='1mo')['Adj Close']\n",
    "    \n",
    "data['N-100'] = dt['^N100'].to_list()\n",
    "\n",
    "portfolio_g = (data['sum'][11] + df['sum'][0] - data['sum'][0]) / data['sum'][0]\n",
    "market_g = (data['N-100'][11] - data['N-100'][0]) / data['N-100'][0]\n",
    "\n",
    "lst_7.append(portfolio_g)\n",
    "\n",
    "if df['sum'][1] == 0:\n",
    "    print('Growth of Portfolio:', portfolio_g)\n",
    "    print('Growth of Market Index:', market_g)\n",
    "else:\n",
    "    print('Есть дробление акций')"
   ]
  },
  {
   "cell_type": "code",
   "execution_count": 16,
   "metadata": {},
   "outputs": [
    {
     "name": "stdout",
     "output_type": "stream",
     "text": [
      "[*********************100%***********************]  1 of 1 completed\n",
      "[*********************100%***********************]  1 of 1 completed\n",
      "[*********************100%***********************]  1 of 1 completed\n",
      "[*********************100%***********************]  1 of 1 completed\n",
      "[*********************100%***********************]  1 of 1 completed\n"
     ]
    },
    {
     "name": "stderr",
     "output_type": "stream",
     "text": [
      "<ipython-input-16-838904d7ebaa>:14: FutureWarning: Dropping of nuisance columns in DataFrame reductions (with 'numeric_only=None') is deprecated; in a future version this will raise TypeError.  Select only valid columns before calling the reduction.\n",
      "  data['sum'] = data.sum(axis=1).to_list()\n"
     ]
    },
    {
     "name": "stdout",
     "output_type": "stream",
     "text": [
      "[*********************100%***********************]  1 of 1 completed\n",
      "Growth of Portfolio: 0.0008070020559885198\n",
      "Growth of Market Index: 0.021471588059834262\n"
     ]
    }
   ],
   "source": [
    "# 5 акций\n",
    "tickers_list = ['KPN.AS',\n",
    "                'INGA.AS',\n",
    "                'GLE.PA',\n",
    "                'GFC.PA', \n",
    "                'SHELL.AS']\n",
    "\n",
    "data = pd.DataFrame(columns=tickers_list)\n",
    "\n",
    "for ticker in tickers_list:\n",
    "    data[ticker] = yf.download(ticker,'2007-01-01','2008-01-01', interval='1mo')['Adj Close']\n",
    "\n",
    "data = data.reset_index()\n",
    "data['sum'] = data.sum(axis=1).to_list()\n",
    "\n",
    "df = pd.DataFrame(columns=tickers_list)\n",
    "for ticker in tickers_list:\n",
    "    div = sum(yf.Ticker(ticker).history(start='2007-01-01',end='2008-01-01').Dividends.to_list())\n",
    "    split = sum(yf.Ticker(ticker).history(start='2007-01-01',end='2008-01-01')['Stock Splits'].to_list())\n",
    "    df[ticker] = [div, split]\n",
    "df['sum'] = df.sum(axis=1).to_list()\n",
    "\n",
    "tickers_list = ['^N100']\n",
    "dt = pd.DataFrame(columns=tickers_list)\n",
    "for ticker in tickers_list:\n",
    "    dt[ticker] = yf.download(ticker,'2007-01-01','2008-01-01', interval='1mo')['Adj Close']\n",
    "    \n",
    "data['N-100'] = dt['^N100'].to_list()\n",
    "\n",
    "portfolio_g = (data['sum'][11] + df['sum'][0] - data['sum'][0]) / data['sum'][0]\n",
    "market_g = (data['N-100'][11] - data['N-100'][0]) / data['N-100'][0]\n",
    "\n",
    "lst_5.append(portfolio_g)\n",
    "\n",
    "if df['sum'][1] == 0:\n",
    "    print('Growth of Portfolio:', portfolio_g)\n",
    "    print('Growth of Market Index:', market_g)\n",
    "else:\n",
    "    print('Есть дробление акций')"
   ]
  },
  {
   "cell_type": "code",
   "execution_count": 17,
   "metadata": {},
   "outputs": [
    {
     "name": "stdout",
     "output_type": "stream",
     "text": [
      "[*********************100%***********************]  1 of 1 completed\n",
      "[*********************100%***********************]  1 of 1 completed\n",
      "[*********************100%***********************]  1 of 1 completed\n"
     ]
    },
    {
     "name": "stderr",
     "output_type": "stream",
     "text": [
      "<ipython-input-17-cf4518823144>:12: FutureWarning: Dropping of nuisance columns in DataFrame reductions (with 'numeric_only=None') is deprecated; in a future version this will raise TypeError.  Select only valid columns before calling the reduction.\n",
      "  data['sum'] = data.sum(axis=1).to_list()\n"
     ]
    },
    {
     "name": "stdout",
     "output_type": "stream",
     "text": [
      "[*********************100%***********************]  1 of 1 completed\n",
      "Growth of Portfolio: -0.00030443877066420354\n",
      "Growth of Market Index: 0.021471588059834262\n"
     ]
    }
   ],
   "source": [
    "# 3 акции\n",
    "tickers_list = ['KPN.AS',\n",
    "                'INGA.AS',\n",
    "                'GLE.PA']\n",
    "\n",
    "data = pd.DataFrame(columns=tickers_list)\n",
    "\n",
    "for ticker in tickers_list:\n",
    "    data[ticker] = yf.download(ticker,'2007-01-01','2008-01-01', interval='1mo')['Adj Close']\n",
    "\n",
    "data = data.reset_index()\n",
    "data['sum'] = data.sum(axis=1).to_list()\n",
    "\n",
    "df = pd.DataFrame(columns=tickers_list)\n",
    "for ticker in tickers_list:\n",
    "    div = sum(yf.Ticker(ticker).history(start='2007-01-01',end='2008-01-01').Dividends.to_list())\n",
    "    split = sum(yf.Ticker(ticker).history(start='2007-01-01',end='2008-01-01')['Stock Splits'].to_list())\n",
    "    df[ticker] = [div, split]\n",
    "df['sum'] = df.sum(axis=1).to_list()\n",
    "\n",
    "tickers_list = ['^N100']\n",
    "dt = pd.DataFrame(columns=tickers_list)\n",
    "for ticker in tickers_list:\n",
    "    dt[ticker] = yf.download(ticker,'2007-01-01','2008-01-01', interval='1mo')['Adj Close']\n",
    "    \n",
    "data['N-100'] = dt['^N100'].to_list()\n",
    "\n",
    "portfolio_g = (data['sum'][11] + df['sum'][0] - data['sum'][0]) / data['sum'][0]\n",
    "market_g = (data['N-100'][11] - data['N-100'][0]) / data['N-100'][0]\n",
    "\n",
    "lst_3.append(portfolio_g)\n",
    "\n",
    "if df['sum'][1] == 0:\n",
    "    print('Growth of Portfolio:', portfolio_g)\n",
    "    print('Growth of Market Index:', market_g)\n",
    "else:\n",
    "    print('Есть дробление акций')"
   ]
  },
  {
   "cell_type": "code",
   "execution_count": 18,
   "metadata": {},
   "outputs": [
    {
     "name": "stdout",
     "output_type": "stream",
     "text": [
      "[*********************100%***********************]  1 of 1 completed\n"
     ]
    },
    {
     "name": "stderr",
     "output_type": "stream",
     "text": [
      "<ipython-input-18-daf21ab82cb4>:10: FutureWarning: Dropping of nuisance columns in DataFrame reductions (with 'numeric_only=None') is deprecated; in a future version this will raise TypeError.  Select only valid columns before calling the reduction.\n",
      "  data['sum'] = data.sum(axis=1).to_list()\n"
     ]
    },
    {
     "name": "stdout",
     "output_type": "stream",
     "text": [
      "[*********************100%***********************]  1 of 1 completed\n",
      "Growth of Portfolio: 0.7382061927733894\n",
      "Growth of Market Index: 0.021471588059834262\n"
     ]
    }
   ],
   "source": [
    "# 1 акция\n",
    "tickers_list = ['KPN.AS']\n",
    "\n",
    "data = pd.DataFrame(columns=tickers_list)\n",
    "\n",
    "for ticker in tickers_list:\n",
    "    data[ticker] = yf.download(ticker,'2007-01-01','2008-01-01', interval='1mo')['Adj Close']\n",
    "\n",
    "data = data.reset_index()\n",
    "data['sum'] = data.sum(axis=1).to_list()\n",
    "\n",
    "df = pd.DataFrame(columns=tickers_list)\n",
    "for ticker in tickers_list:\n",
    "    div = sum(yf.Ticker(ticker).history(start='2007-01-01',end='2008-01-01').Dividends.to_list())\n",
    "    split = sum(yf.Ticker(ticker).history(start='2007-01-01',end='2008-01-01')['Stock Splits'].to_list())\n",
    "    df[ticker] = [div, split]\n",
    "df['sum'] = df.sum(axis=1).to_list()\n",
    "\n",
    "tickers_list = ['^N100']\n",
    "dt = pd.DataFrame(columns=tickers_list)\n",
    "for ticker in tickers_list:\n",
    "    dt[ticker] = yf.download(ticker,'2007-01-01','2008-01-01', interval='1mo')['Adj Close']\n",
    "    \n",
    "data['N-100'] = dt['^N100'].to_list()\n",
    "\n",
    "portfolio_g = (data['sum'][11] + df['sum'][0] - data['sum'][0]) / data['sum'][0]\n",
    "market_g = (data['N-100'][11] - data['N-100'][0]) / data['N-100'][0]\n",
    "\n",
    "lst_1.append(portfolio_g)\n",
    "\n",
    "if df['sum'][1] == 0:\n",
    "    print('Growth of Portfolio:', portfolio_g)\n",
    "    print('Growth of Market Index:', market_g)\n",
    "else:\n",
    "    print('Есть дробление акций')"
   ]
  },
  {
   "cell_type": "markdown",
   "metadata": {},
   "source": [
    "### Портфель на 2008 год\n",
    "_По данным за 2007_\n",
    "\n",
    "Акции:\n",
    "- ORANGE\n",
    "- KPN KON\n",
    "- SOCIETE GENERALE\n",
    "- ING GROEP N.V.\n",
    "- SHELL PLC\n",
    "- BNP PARIBAS ACT.A\n",
    "- TOTALENERGIES\n",
    "- AGEAS\n",
    "- VIVENDI SE\n",
    "- SCHNEIDER ELECTRIC\n"
   ]
  },
  {
   "cell_type": "code",
   "execution_count": 19,
   "metadata": {},
   "outputs": [
    {
     "name": "stdout",
     "output_type": "stream",
     "text": [
      "[*********************100%***********************]  1 of 1 completed\n",
      "[*********************100%***********************]  1 of 1 completed\n",
      "[*********************100%***********************]  1 of 1 completed\n",
      "[*********************100%***********************]  1 of 1 completed\n",
      "[*********************100%***********************]  1 of 1 completed\n",
      "[*********************100%***********************]  1 of 1 completed\n",
      "[*********************100%***********************]  1 of 1 completed\n",
      "[*********************100%***********************]  1 of 1 completed\n",
      "[*********************100%***********************]  1 of 1 completed\n",
      "[*********************100%***********************]  1 of 1 completed\n"
     ]
    },
    {
     "name": "stderr",
     "output_type": "stream",
     "text": [
      "<ipython-input-19-97c120cc1941>:19: FutureWarning: Dropping of nuisance columns in DataFrame reductions (with 'numeric_only=None') is deprecated; in a future version this will raise TypeError.  Select only valid columns before calling the reduction.\n",
      "  data['sum'] = data.sum(axis=1).to_list()\n"
     ]
    },
    {
     "name": "stdout",
     "output_type": "stream",
     "text": [
      "[*********************100%***********************]  1 of 1 completed\n",
      "Growth of Portfolio: -0.42774830084816307\n",
      "Growth of Market Index: -0.3696484535293455\n"
     ]
    }
   ],
   "source": [
    "# 10 акций\n",
    "tickers_list = ['ORA.PA',\n",
    "                'KPN.AS',\n",
    "                'GLE.PA',\n",
    "                'INGA.AS',\n",
    "                'SHELL.AS',\n",
    "                'BNP.PA',\n",
    "                'TTE.PA',\n",
    "                'AGS.BR',\n",
    "                'VIV.PA',\n",
    "                'SU.PA']\n",
    "\n",
    "data = pd.DataFrame(columns=tickers_list)\n",
    "\n",
    "for ticker in tickers_list:\n",
    "    data[ticker] = yf.download(ticker,'2008-01-01','2009-01-01', interval='1mo')['Adj Close']\n",
    "\n",
    "data = data.reset_index()\n",
    "data['sum'] = data.sum(axis=1).to_list()\n",
    "\n",
    "df = pd.DataFrame(columns=tickers_list)\n",
    "for ticker in tickers_list:\n",
    "    div = sum(yf.Ticker(ticker).history(start='2008-01-01',end='2009-01-01').Dividends.to_list())\n",
    "    split = sum(yf.Ticker(ticker).history(start='2008-01-01',end='2009-01-01')['Stock Splits'].to_list())\n",
    "    df[ticker] = [div, split]\n",
    "df['sum'] = df.sum(axis=1).to_list()\n",
    "\n",
    "tickers_list = ['^N100']\n",
    "dt = pd.DataFrame(columns=tickers_list)\n",
    "for ticker in tickers_list:\n",
    "    dt[ticker] = yf.download(ticker,'2008-01-01','2009-01-01', interval='1mo')['Adj Close']\n",
    "    \n",
    "data['N-100'] = dt['^N100'].to_list()\n",
    "\n",
    "portfolio_g = (data['sum'][11] + df['sum'][0] - data['sum'][0]) / data['sum'][0]\n",
    "market_g = (data['N-100'][11] - data['N-100'][0]) / data['N-100'][0]\n",
    "\n",
    "lst_10.append(portfolio_g)\n",
    "market.append(market_g)\n",
    "\n",
    "if df['sum'][1] == 0:\n",
    "    print('Growth of Portfolio:', portfolio_g)\n",
    "    print('Growth of Market Index:', market_g)\n",
    "else:\n",
    "    print('Есть дробление акций')"
   ]
  },
  {
   "cell_type": "code",
   "execution_count": 20,
   "metadata": {},
   "outputs": [
    {
     "name": "stdout",
     "output_type": "stream",
     "text": [
      "[*********************100%***********************]  1 of 1 completed\n",
      "[*********************100%***********************]  1 of 1 completed\n",
      "[*********************100%***********************]  1 of 1 completed\n",
      "[*********************100%***********************]  1 of 1 completed\n",
      "[*********************100%***********************]  1 of 1 completed\n",
      "[*********************100%***********************]  1 of 1 completed\n",
      "[*********************100%***********************]  1 of 1 completed\n"
     ]
    },
    {
     "name": "stderr",
     "output_type": "stream",
     "text": [
      "<ipython-input-20-a4a0a6119888>:16: FutureWarning: Dropping of nuisance columns in DataFrame reductions (with 'numeric_only=None') is deprecated; in a future version this will raise TypeError.  Select only valid columns before calling the reduction.\n",
      "  data['sum'] = data.sum(axis=1).to_list()\n"
     ]
    },
    {
     "name": "stdout",
     "output_type": "stream",
     "text": [
      "[*********************100%***********************]  1 of 1 completed\n",
      "Growth of Portfolio: -0.29062817166730665\n",
      "Growth of Market Index: -0.3696484535293455\n"
     ]
    }
   ],
   "source": [
    "# 7 акций\n",
    "tickers_list = ['ORA.PA',\n",
    "                'KPN.AS',\n",
    "                'GLE.PA',\n",
    "                'INGA.AS',\n",
    "                'SHELL.AS',\n",
    "                'BNP.PA',\n",
    "                'TTE.PA']\n",
    "\n",
    "data = pd.DataFrame(columns=tickers_list)\n",
    "\n",
    "for ticker in tickers_list:\n",
    "    data[ticker] = yf.download(ticker,'2008-01-01','2009-01-01', interval='1mo')['Adj Close']\n",
    "\n",
    "data = data.reset_index()\n",
    "data['sum'] = data.sum(axis=1).to_list()\n",
    "\n",
    "df = pd.DataFrame(columns=tickers_list)\n",
    "for ticker in tickers_list:\n",
    "    div = sum(yf.Ticker(ticker).history(start='2008-01-01',end='2009-01-01').Dividends.to_list())\n",
    "    split = sum(yf.Ticker(ticker).history(start='2008-01-01',end='2009-01-01')['Stock Splits'].to_list())\n",
    "    df[ticker] = [div, split]\n",
    "df['sum'] = df.sum(axis=1).to_list()\n",
    "\n",
    "tickers_list = ['^N100']\n",
    "dt = pd.DataFrame(columns=tickers_list)\n",
    "for ticker in tickers_list:\n",
    "    dt[ticker] = yf.download(ticker,'2008-01-01','2009-01-01', interval='1mo')['Adj Close']\n",
    "    \n",
    "data['N-100'] = dt['^N100'].to_list()\n",
    "\n",
    "portfolio_g = (data['sum'][11] + df['sum'][0] - data['sum'][0]) / data['sum'][0]\n",
    "market_g = (data['N-100'][11] - data['N-100'][0]) / data['N-100'][0]\n",
    "\n",
    "lst_7.append(portfolio_g)\n",
    "\n",
    "if df['sum'][1] == 0:\n",
    "    print('Growth of Portfolio:', portfolio_g)\n",
    "    print('Growth of Market Index:', market_g)\n",
    "else:\n",
    "    print('Есть дробление акций')"
   ]
  },
  {
   "cell_type": "code",
   "execution_count": 21,
   "metadata": {},
   "outputs": [
    {
     "name": "stdout",
     "output_type": "stream",
     "text": [
      "[*********************100%***********************]  1 of 1 completed\n",
      "[*********************100%***********************]  1 of 1 completed\n",
      "[*********************100%***********************]  1 of 1 completed\n",
      "[*********************100%***********************]  1 of 1 completed\n",
      "[*********************100%***********************]  1 of 1 completed\n"
     ]
    },
    {
     "name": "stderr",
     "output_type": "stream",
     "text": [
      "<ipython-input-21-ed0ae0200e1c>:14: FutureWarning: Dropping of nuisance columns in DataFrame reductions (with 'numeric_only=None') is deprecated; in a future version this will raise TypeError.  Select only valid columns before calling the reduction.\n",
      "  data['sum'] = data.sum(axis=1).to_list()\n"
     ]
    },
    {
     "name": "stdout",
     "output_type": "stream",
     "text": [
      "[*********************100%***********************]  1 of 1 completed\n",
      "Growth of Portfolio: -0.3121841210024178\n",
      "Growth of Market Index: -0.3696484535293455\n"
     ]
    }
   ],
   "source": [
    "# 5 акций\n",
    "tickers_list = ['ORA.PA',\n",
    "                'KPN.AS',\n",
    "                'GLE.PA',\n",
    "                'INGA.AS',\n",
    "                'SHELL.AS']\n",
    "\n",
    "data = pd.DataFrame(columns=tickers_list)\n",
    "\n",
    "for ticker in tickers_list:\n",
    "    data[ticker] = yf.download(ticker,'2008-01-01','2009-01-01', interval='1mo')['Adj Close']\n",
    "\n",
    "data = data.reset_index()\n",
    "data['sum'] = data.sum(axis=1).to_list()\n",
    "\n",
    "df = pd.DataFrame(columns=tickers_list)\n",
    "for ticker in tickers_list:\n",
    "    div = sum(yf.Ticker(ticker).history(start='2008-01-01',end='2009-01-01').Dividends.to_list())\n",
    "    split = sum(yf.Ticker(ticker).history(start='2008-01-01',end='2009-01-01')['Stock Splits'].to_list())\n",
    "    df[ticker] = [div, split]\n",
    "df['sum'] = df.sum(axis=1).to_list()\n",
    "\n",
    "tickers_list = ['^N100']\n",
    "dt = pd.DataFrame(columns=tickers_list)\n",
    "for ticker in tickers_list:\n",
    "    dt[ticker] = yf.download(ticker,'2008-01-01','2009-01-01', interval='1mo')['Adj Close']\n",
    "    \n",
    "data['N-100'] = dt['^N100'].to_list()\n",
    "\n",
    "portfolio_g = (data['sum'][11] + df['sum'][0] - data['sum'][0]) / data['sum'][0]\n",
    "market_g = (data['N-100'][11] - data['N-100'][0]) / data['N-100'][0]\n",
    "\n",
    "lst_5.append(portfolio_g)\n",
    "\n",
    "if df['sum'][1] == 0:\n",
    "    print('Growth of Portfolio:', portfolio_g)\n",
    "    print('Growth of Market Index:', market_g)\n",
    "else:\n",
    "    print('Есть дробление акций')"
   ]
  },
  {
   "cell_type": "code",
   "execution_count": 22,
   "metadata": {},
   "outputs": [
    {
     "name": "stdout",
     "output_type": "stream",
     "text": [
      "[*********************100%***********************]  1 of 1 completed\n",
      "[*********************100%***********************]  1 of 1 completed\n",
      "[*********************100%***********************]  1 of 1 completed\n"
     ]
    },
    {
     "name": "stderr",
     "output_type": "stream",
     "text": [
      "<ipython-input-22-d0beee7afa51>:12: FutureWarning: Dropping of nuisance columns in DataFrame reductions (with 'numeric_only=None') is deprecated; in a future version this will raise TypeError.  Select only valid columns before calling the reduction.\n",
      "  data['sum'] = data.sum(axis=1).to_list()\n"
     ]
    },
    {
     "name": "stdout",
     "output_type": "stream",
     "text": [
      "[*********************100%***********************]  1 of 1 completed\n",
      "Growth of Portfolio: -0.31765763445204087\n",
      "Growth of Market Index: -0.3696484535293455\n"
     ]
    }
   ],
   "source": [
    "# 3 акции\n",
    "tickers_list = ['ORA.PA',\n",
    "                'KPN.AS',\n",
    "                'GLE.PA']\n",
    "\n",
    "data = pd.DataFrame(columns=tickers_list)\n",
    "\n",
    "for ticker in tickers_list:\n",
    "    data[ticker] = yf.download(ticker,'2008-01-01','2009-01-01', interval='1mo')['Adj Close']\n",
    "\n",
    "data = data.reset_index()\n",
    "data['sum'] = data.sum(axis=1).to_list()\n",
    "\n",
    "df = pd.DataFrame(columns=tickers_list)\n",
    "for ticker in tickers_list:\n",
    "    div = sum(yf.Ticker(ticker).history(start='2008-01-01',end='2009-01-01').Dividends.to_list())\n",
    "    split = sum(yf.Ticker(ticker).history(start='2008-01-01',end='2009-01-01')['Stock Splits'].to_list())\n",
    "    df[ticker] = [div, split]\n",
    "df['sum'] = df.sum(axis=1).to_list()\n",
    "\n",
    "tickers_list = ['^N100']\n",
    "dt = pd.DataFrame(columns=tickers_list)\n",
    "for ticker in tickers_list:\n",
    "    dt[ticker] = yf.download(ticker,'2008-01-01','2009-01-01', interval='1mo')['Adj Close']\n",
    "    \n",
    "data['N-100'] = dt['^N100'].to_list()\n",
    "\n",
    "portfolio_g = (data['sum'][11] + df['sum'][0] - data['sum'][0]) / data['sum'][0]\n",
    "market_g = (data['N-100'][11] - data['N-100'][0]) / data['N-100'][0]\n",
    "\n",
    "lst_3.append(portfolio_g)\n",
    "\n",
    "if df['sum'][1] == 0:\n",
    "    print('Growth of Portfolio:', portfolio_g)\n",
    "    print('Growth of Market Index:', market_g)\n",
    "else:\n",
    "    print('Есть дробление акций')"
   ]
  },
  {
   "cell_type": "code",
   "execution_count": 23,
   "metadata": {},
   "outputs": [
    {
     "name": "stdout",
     "output_type": "stream",
     "text": [
      "[*********************100%***********************]  1 of 1 completed\n"
     ]
    },
    {
     "name": "stderr",
     "output_type": "stream",
     "text": [
      "<ipython-input-23-40418d68ba84>:10: FutureWarning: Dropping of nuisance columns in DataFrame reductions (with 'numeric_only=None') is deprecated; in a future version this will raise TypeError.  Select only valid columns before calling the reduction.\n",
      "  data['sum'] = data.sum(axis=1).to_list()\n"
     ]
    },
    {
     "name": "stdout",
     "output_type": "stream",
     "text": [
      "[*********************100%***********************]  1 of 1 completed\n",
      "Growth of Portfolio: 0.1656242206703872\n",
      "Growth of Market Index: -0.3696484535293455\n"
     ]
    }
   ],
   "source": [
    "# 1 акция\n",
    "tickers_list = ['ORA.PA']\n",
    "\n",
    "data = pd.DataFrame(columns=tickers_list)\n",
    "\n",
    "for ticker in tickers_list:\n",
    "    data[ticker] = yf.download(ticker,'2008-01-01','2009-01-01', interval='1mo')['Adj Close']\n",
    "\n",
    "data = data.reset_index()\n",
    "data['sum'] = data.sum(axis=1).to_list()\n",
    "\n",
    "df = pd.DataFrame(columns=tickers_list)\n",
    "for ticker in tickers_list:\n",
    "    div = sum(yf.Ticker(ticker).history(start='2008-01-01',end='2009-01-01').Dividends.to_list())\n",
    "    split = sum(yf.Ticker(ticker).history(start='2008-01-01',end='2009-01-01')['Stock Splits'].to_list())\n",
    "    df[ticker] = [div, split]\n",
    "df['sum'] = df.sum(axis=1).to_list()\n",
    "\n",
    "tickers_list = ['^N100']\n",
    "dt = pd.DataFrame(columns=tickers_list)\n",
    "for ticker in tickers_list:\n",
    "    dt[ticker] = yf.download(ticker,'2008-01-01','2009-01-01', interval='1mo')['Adj Close']\n",
    "    \n",
    "data['N-100'] = dt['^N100'].to_list()\n",
    "\n",
    "portfolio_g = (data['sum'][11] + df['sum'][0] - data['sum'][0]) / data['sum'][0]\n",
    "market_g = (data['N-100'][11] - data['N-100'][0]) / data['N-100'][0]\n",
    "\n",
    "lst_1.append(portfolio_g)\n",
    "\n",
    "if df['sum'][1] == 0:\n",
    "    print('Growth of Portfolio:', portfolio_g)\n",
    "    print('Growth of Market Index:', market_g)\n",
    "else:\n",
    "    print('Есть дробление акций')"
   ]
  },
  {
   "cell_type": "markdown",
   "metadata": {},
   "source": [
    "### Портфель на 2009 год\n",
    "_По данным за 2008_\n",
    "\n",
    "- AGEAS\n",
    "- CREDIT AGRICOLE\n",
    "- ING GROEP N.V.\n",
    "- AEGON\n",
    "- ORANGE\n",
    "- BNP PARIBAS ACT.A\n",
    "- GECINA\n",
    "- RENAULT\n",
    "- RANDSTAD NV\n",
    "- AXA\n"
   ]
  },
  {
   "cell_type": "code",
   "execution_count": 24,
   "metadata": {},
   "outputs": [
    {
     "name": "stdout",
     "output_type": "stream",
     "text": [
      "[*********************100%***********************]  1 of 1 completed\n",
      "[*********************100%***********************]  1 of 1 completed\n",
      "[*********************100%***********************]  1 of 1 completed\n",
      "[*********************100%***********************]  1 of 1 completed\n",
      "[*********************100%***********************]  1 of 1 completed\n",
      "[*********************100%***********************]  1 of 1 completed\n",
      "[*********************100%***********************]  1 of 1 completed\n",
      "[*********************100%***********************]  1 of 1 completed\n",
      "[*********************100%***********************]  1 of 1 completed\n",
      "[*********************100%***********************]  1 of 1 completed\n"
     ]
    },
    {
     "name": "stderr",
     "output_type": "stream",
     "text": [
      "<ipython-input-24-e8780536ddaf>:19: FutureWarning: Dropping of nuisance columns in DataFrame reductions (with 'numeric_only=None') is deprecated; in a future version this will raise TypeError.  Select only valid columns before calling the reduction.\n",
      "  data['sum'] = data.sum(axis=1).to_list()\n"
     ]
    },
    {
     "name": "stdout",
     "output_type": "stream",
     "text": [
      "[*********************100%***********************]  1 of 1 completed\n",
      "Growth of Portfolio: 0.8662484847309566\n",
      "Growth of Market Index: 0.3179900127708061\n"
     ]
    }
   ],
   "source": [
    "# 10 акций\n",
    "tickers_list = ['AGS.BR',\n",
    "                'ACA.PA',\n",
    "                'INGA.AS',\n",
    "                'AGN.AS',\n",
    "                'ORA.PA',\n",
    "                'BNP.PA',\n",
    "                'GFC.PA',\n",
    "                'RNO.PA', \n",
    "                'RAND.AS',\n",
    "                'CS.PA']\n",
    "\n",
    "data = pd.DataFrame(columns=tickers_list)\n",
    "\n",
    "for ticker in tickers_list:\n",
    "    data[ticker] = yf.download(ticker,'2009-01-01','2010-01-01', interval='1mo')['Adj Close']\n",
    "\n",
    "data = data.reset_index()\n",
    "data['sum'] = data.sum(axis=1).to_list()\n",
    "\n",
    "df = pd.DataFrame(columns=tickers_list)\n",
    "for ticker in tickers_list:\n",
    "    div = sum(yf.Ticker(ticker).history(start='2009-01-01',end='2010-01-01').Dividends.to_list())\n",
    "    split = sum(yf.Ticker(ticker).history(start='2009-01-01',end='2010-01-01')['Stock Splits'].to_list())\n",
    "    df[ticker] = [div, split]\n",
    "df['sum'] = df.sum(axis=1).to_list()\n",
    "\n",
    "tickers_list = ['^N100']\n",
    "dt = pd.DataFrame(columns=tickers_list)\n",
    "for ticker in tickers_list:\n",
    "    dt[ticker] = yf.download(ticker,'2009-01-01','2010-01-01', interval='1mo')['Adj Close']\n",
    "    \n",
    "data['N-100'] = dt['^N100'].to_list()\n",
    "\n",
    "portfolio_g = (data['sum'][11] + df['sum'][0] - data['sum'][0]) / data['sum'][0]\n",
    "market_g = (data['N-100'][11] - data['N-100'][0]) / data['N-100'][0]\n",
    "\n",
    "lst_10.append(portfolio_g)\n",
    "market.append(market_g)\n",
    "\n",
    "if df['sum'][1] == 0:\n",
    "    print('Growth of Portfolio:', portfolio_g)\n",
    "    print('Growth of Market Index:', market_g)\n",
    "else:\n",
    "    print('Есть дробление акций')"
   ]
  },
  {
   "cell_type": "code",
   "execution_count": 25,
   "metadata": {},
   "outputs": [
    {
     "name": "stdout",
     "output_type": "stream",
     "text": [
      "[*********************100%***********************]  1 of 1 completed\n",
      "[*********************100%***********************]  1 of 1 completed\n",
      "[*********************100%***********************]  1 of 1 completed\n",
      "[*********************100%***********************]  1 of 1 completed\n",
      "[*********************100%***********************]  1 of 1 completed\n",
      "[*********************100%***********************]  1 of 1 completed\n",
      "[*********************100%***********************]  1 of 1 completed\n"
     ]
    },
    {
     "name": "stderr",
     "output_type": "stream",
     "text": [
      "<ipython-input-25-16f62c223093>:16: FutureWarning: Dropping of nuisance columns in DataFrame reductions (with 'numeric_only=None') is deprecated; in a future version this will raise TypeError.  Select only valid columns before calling the reduction.\n",
      "  data['sum'] = data.sum(axis=1).to_list()\n"
     ]
    },
    {
     "name": "stdout",
     "output_type": "stream",
     "text": [
      "[*********************100%***********************]  1 of 1 completed\n",
      "Growth of Portfolio: 0.7560422027287373\n",
      "Growth of Market Index: 0.3179900127708061\n"
     ]
    }
   ],
   "source": [
    "# 7 акций\n",
    "tickers_list = ['AGS.BR',\n",
    "                'ACA.PA',\n",
    "                'INGA.AS',\n",
    "                'AGN.AS',\n",
    "                'ORA.PA',\n",
    "                'BNP.PA',\n",
    "                'GFC.PA']\n",
    "\n",
    "data = pd.DataFrame(columns=tickers_list)\n",
    "\n",
    "for ticker in tickers_list:\n",
    "    data[ticker] = yf.download(ticker,'2009-01-01','2010-01-01', interval='1mo')['Adj Close']\n",
    "\n",
    "data = data.reset_index()\n",
    "data['sum'] = data.sum(axis=1).to_list()\n",
    "\n",
    "df = pd.DataFrame(columns=tickers_list)\n",
    "for ticker in tickers_list:\n",
    "    div = sum(yf.Ticker(ticker).history(start='2009-01-01',end='2010-01-01').Dividends.to_list())\n",
    "    split = sum(yf.Ticker(ticker).history(start='2009-01-01',end='2010-01-01')['Stock Splits'].to_list())\n",
    "    df[ticker] = [div, split]\n",
    "df['sum'] = df.sum(axis=1).to_list()\n",
    "\n",
    "tickers_list = ['^N100']\n",
    "dt = pd.DataFrame(columns=tickers_list)\n",
    "for ticker in tickers_list:\n",
    "    dt[ticker] = yf.download(ticker,'2009-01-01','2010-01-01', interval='1mo')['Adj Close']\n",
    "    \n",
    "data['N-100'] = dt['^N100'].to_list()\n",
    "\n",
    "portfolio_g = (data['sum'][11] + df['sum'][0] - data['sum'][0]) / data['sum'][0]\n",
    "market_g = (data['N-100'][11] - data['N-100'][0]) / data['N-100'][0]\n",
    "\n",
    "lst_7.append(portfolio_g)\n",
    "\n",
    "if df['sum'][1] == 0:\n",
    "    print('Growth of Portfolio:', portfolio_g)\n",
    "    print('Growth of Market Index:', market_g)\n",
    "else:\n",
    "    print('Есть дробление акций')"
   ]
  },
  {
   "cell_type": "code",
   "execution_count": 26,
   "metadata": {},
   "outputs": [
    {
     "name": "stdout",
     "output_type": "stream",
     "text": [
      "[*********************100%***********************]  1 of 1 completed\n",
      "[*********************100%***********************]  1 of 1 completed\n",
      "[*********************100%***********************]  1 of 1 completed\n",
      "[*********************100%***********************]  1 of 1 completed\n",
      "[*********************100%***********************]  1 of 1 completed\n"
     ]
    },
    {
     "name": "stderr",
     "output_type": "stream",
     "text": [
      "<ipython-input-26-5945d94666db>:14: FutureWarning: Dropping of nuisance columns in DataFrame reductions (with 'numeric_only=None') is deprecated; in a future version this will raise TypeError.  Select only valid columns before calling the reduction.\n",
      "  data['sum'] = data.sum(axis=1).to_list()\n"
     ]
    },
    {
     "name": "stdout",
     "output_type": "stream",
     "text": [
      "[*********************100%***********************]  1 of 1 completed\n",
      "Growth of Portfolio: 0.4359353026480982\n",
      "Growth of Market Index: 0.3179900127708061\n"
     ]
    }
   ],
   "source": [
    "# 5 акций\n",
    "tickers_list = ['AGS.BR',\n",
    "                'ACA.PA',\n",
    "                'INGA.AS',\n",
    "                'AGN.AS',\n",
    "                'ORA.PA']\n",
    "\n",
    "data = pd.DataFrame(columns=tickers_list)\n",
    "\n",
    "for ticker in tickers_list:\n",
    "    data[ticker] = yf.download(ticker,'2009-01-01','2010-01-01', interval='1mo')['Adj Close']\n",
    "\n",
    "data = data.reset_index()\n",
    "data['sum'] = data.sum(axis=1).to_list()\n",
    "\n",
    "df = pd.DataFrame(columns=tickers_list)\n",
    "for ticker in tickers_list:\n",
    "    div = sum(yf.Ticker(ticker).history(start='2009-01-01',end='2010-01-01').Dividends.to_list())\n",
    "    split = sum(yf.Ticker(ticker).history(start='2009-01-01',end='2010-01-01')['Stock Splits'].to_list())\n",
    "    df[ticker] = [div, split]\n",
    "df['sum'] = df.sum(axis=1).to_list()\n",
    "\n",
    "tickers_list = ['^N100']\n",
    "dt = pd.DataFrame(columns=tickers_list)\n",
    "for ticker in tickers_list:\n",
    "    dt[ticker] = yf.download(ticker,'2009-01-01','2010-01-01', interval='1mo')['Adj Close']\n",
    "    \n",
    "data['N-100'] = dt['^N100'].to_list()\n",
    "\n",
    "portfolio_g = (data['sum'][11] + df['sum'][0] - data['sum'][0]) / data['sum'][0]\n",
    "market_g = (data['N-100'][11] - data['N-100'][0]) / data['N-100'][0]\n",
    "\n",
    "lst_5.append(portfolio_g)\n",
    "\n",
    "if df['sum'][1] == 0:\n",
    "    print('Growth of Portfolio:', portfolio_g)\n",
    "    print('Growth of Market Index:', market_g)\n",
    "else:\n",
    "    print('Есть дробление акций')"
   ]
  },
  {
   "cell_type": "code",
   "execution_count": 27,
   "metadata": {},
   "outputs": [
    {
     "name": "stdout",
     "output_type": "stream",
     "text": [
      "[*********************100%***********************]  1 of 1 completed\n",
      "[*********************100%***********************]  1 of 1 completed\n",
      "[*********************100%***********************]  1 of 1 completed\n"
     ]
    },
    {
     "name": "stderr",
     "output_type": "stream",
     "text": [
      "<ipython-input-27-ac5c9eae17a8>:12: FutureWarning: Dropping of nuisance columns in DataFrame reductions (with 'numeric_only=None') is deprecated; in a future version this will raise TypeError.  Select only valid columns before calling the reduction.\n",
      "  data['sum'] = data.sum(axis=1).to_list()\n"
     ]
    },
    {
     "name": "stdout",
     "output_type": "stream",
     "text": [
      "[*********************100%***********************]  1 of 1 completed\n",
      "Growth of Portfolio: 0.5570336588049767\n",
      "Growth of Market Index: 0.3179900127708061\n"
     ]
    }
   ],
   "source": [
    "# 3 акции\n",
    "tickers_list = ['AGS.BR',\n",
    "                'ACA.PA',\n",
    "                'INGA.AS']\n",
    "\n",
    "data = pd.DataFrame(columns=tickers_list)\n",
    "\n",
    "for ticker in tickers_list:\n",
    "    data[ticker] = yf.download(ticker,'2009-01-01','2010-01-01', interval='1mo')['Adj Close']\n",
    "\n",
    "data = data.reset_index()\n",
    "data['sum'] = data.sum(axis=1).to_list()\n",
    "\n",
    "df = pd.DataFrame(columns=tickers_list)\n",
    "for ticker in tickers_list:\n",
    "    div = sum(yf.Ticker(ticker).history(start='2009-01-01',end='2010-01-01').Dividends.to_list())\n",
    "    split = sum(yf.Ticker(ticker).history(start='2009-01-01',end='2010-01-01')['Stock Splits'].to_list())\n",
    "    df[ticker] = [div, split]\n",
    "df['sum'] = df.sum(axis=1).to_list()\n",
    "\n",
    "tickers_list = ['^N100']\n",
    "dt = pd.DataFrame(columns=tickers_list)\n",
    "for ticker in tickers_list:\n",
    "    dt[ticker] = yf.download(ticker,'2009-01-01','2010-01-01', interval='1mo')['Adj Close']\n",
    "    \n",
    "data['N-100'] = dt['^N100'].to_list()\n",
    "\n",
    "portfolio_g = (data['sum'][11] + df['sum'][0] - data['sum'][0]) / data['sum'][0]\n",
    "market_g = (data['N-100'][11] - data['N-100'][0]) / data['N-100'][0]\n",
    "\n",
    "lst_3.append(portfolio_g)\n",
    "\n",
    "if df['sum'][1] == 0:\n",
    "    print('Growth of Portfolio:', portfolio_g)\n",
    "    print('Growth of Market Index:', market_g)\n",
    "else:\n",
    "    print('Есть дробление акций')"
   ]
  },
  {
   "cell_type": "code",
   "execution_count": 28,
   "metadata": {},
   "outputs": [
    {
     "name": "stdout",
     "output_type": "stream",
     "text": [
      "[*********************100%***********************]  1 of 1 completed\n"
     ]
    },
    {
     "name": "stderr",
     "output_type": "stream",
     "text": [
      "<ipython-input-28-99c6f6e182a0>:10: FutureWarning: Dropping of nuisance columns in DataFrame reductions (with 'numeric_only=None') is deprecated; in a future version this will raise TypeError.  Select only valid columns before calling the reduction.\n",
      "  data['sum'] = data.sum(axis=1).to_list()\n"
     ]
    },
    {
     "name": "stdout",
     "output_type": "stream",
     "text": [
      "[*********************100%***********************]  1 of 1 completed\n",
      "Growth of Portfolio: 0.6922578178284793\n",
      "Growth of Market Index: 0.3179900127708061\n"
     ]
    }
   ],
   "source": [
    "# 1 акция\n",
    "tickers_list = ['AGS.BR']\n",
    "\n",
    "data = pd.DataFrame(columns=tickers_list)\n",
    "\n",
    "for ticker in tickers_list:\n",
    "    data[ticker] = yf.download(ticker,'2009-01-01','2010-01-01', interval='1mo')['Adj Close']\n",
    "\n",
    "data = data.reset_index()\n",
    "data['sum'] = data.sum(axis=1).to_list()\n",
    "\n",
    "df = pd.DataFrame(columns=tickers_list)\n",
    "for ticker in tickers_list:\n",
    "    div = sum(yf.Ticker(ticker).history(start='2009-01-01',end='2010-01-01').Dividends.to_list())\n",
    "    split = sum(yf.Ticker(ticker).history(start='2009-01-01',end='2010-01-01')['Stock Splits'].to_list())\n",
    "    df[ticker] = [div, split]\n",
    "df['sum'] = df.sum(axis=1).to_list()\n",
    "\n",
    "tickers_list = ['^N100']\n",
    "dt = pd.DataFrame(columns=tickers_list)\n",
    "for ticker in tickers_list:\n",
    "    dt[ticker] = yf.download(ticker,'2009-01-01','2010-01-01', interval='1mo')['Adj Close']\n",
    "    \n",
    "data['N-100'] = dt['^N100'].to_list()\n",
    "\n",
    "portfolio_g = (data['sum'][11] + df['sum'][0] - data['sum'][0]) / data['sum'][0]\n",
    "market_g = (data['N-100'][11] - data['N-100'][0]) / data['N-100'][0]\n",
    "\n",
    "lst_1.append(portfolio_g)\n",
    "\n",
    "if df['sum'][1] == 0:\n",
    "    print('Growth of Portfolio:', portfolio_g)\n",
    "    print('Growth of Market Index:', market_g)\n",
    "else:\n",
    "    print('Есть дробление акций')"
   ]
  },
  {
   "cell_type": "markdown",
   "metadata": {},
   "source": [
    "## Портфель на 2010 год\n",
    "_По данным за 2009_\n",
    "\n",
    "- AGEAS\n",
    "- ING GROEP N.V.\n",
    "- KBC\n",
    "- CREDIT AGRICOLE\n",
    "- BNP PARIBAS ACT.A\n",
    "- GECINA\n",
    "- RANDSTAD NV\n",
    "- AEGON\n",
    "- AB INBEV\n",
    "- STMICROELECTRONICS\n"
   ]
  },
  {
   "cell_type": "code",
   "execution_count": 29,
   "metadata": {},
   "outputs": [
    {
     "name": "stdout",
     "output_type": "stream",
     "text": [
      "[*********************100%***********************]  1 of 1 completed\n",
      "[*********************100%***********************]  1 of 1 completed\n",
      "[*********************100%***********************]  1 of 1 completed\n",
      "[*********************100%***********************]  1 of 1 completed\n",
      "[*********************100%***********************]  1 of 1 completed\n",
      "[*********************100%***********************]  1 of 1 completed\n",
      "[*********************100%***********************]  1 of 1 completed\n",
      "[*********************100%***********************]  1 of 1 completed\n",
      "[*********************100%***********************]  1 of 1 completed\n",
      "[*********************100%***********************]  1 of 1 completed\n"
     ]
    },
    {
     "name": "stderr",
     "output_type": "stream",
     "text": [
      "<ipython-input-29-94e5faff94ec>:19: FutureWarning: Dropping of nuisance columns in DataFrame reductions (with 'numeric_only=None') is deprecated; in a future version this will raise TypeError.  Select only valid columns before calling the reduction.\n",
      "  data['sum'] = data.sum(axis=1).to_list()\n"
     ]
    },
    {
     "name": "stdout",
     "output_type": "stream",
     "text": [
      "[*********************100%***********************]  1 of 1 completed\n",
      "Growth of Portfolio: 0.09896760727688178\n",
      "Growth of Market Index: 0.048445821202046484\n"
     ]
    }
   ],
   "source": [
    "# 10 акций\n",
    "tickers_list = ['AGS.BR',\n",
    "                'INGA.AS',\n",
    "                'KBC.BR',\n",
    "                'ACA.PA',\n",
    "                'BNP.PA',\n",
    "                'GFC.PA',\n",
    "                'RAND.AS', \n",
    "                'AGN.AS',\n",
    "                'ABI.BR',\n",
    "                'STMPA.PA']\n",
    "\n",
    "data = pd.DataFrame(columns=tickers_list)\n",
    "\n",
    "for ticker in tickers_list:\n",
    "    data[ticker] = yf.download(ticker,'2010-01-01','2011-01-01', interval='1mo')['Adj Close']\n",
    "\n",
    "data = data.reset_index()\n",
    "data['sum'] = data.sum(axis=1).to_list()\n",
    "\n",
    "df = pd.DataFrame(columns=tickers_list)\n",
    "for ticker in tickers_list:\n",
    "    div = sum(yf.Ticker(ticker).history(start='2010-01-01',end='2011-01-01').Dividends.to_list())\n",
    "    split = sum(yf.Ticker(ticker).history(start='2010-01-01',end='2011-01-01')['Stock Splits'].to_list())\n",
    "    df[ticker] = [div, split]\n",
    "df['sum'] = df.sum(axis=1).to_list()\n",
    "\n",
    "tickers_list = ['^N100']\n",
    "dt = pd.DataFrame(columns=tickers_list)\n",
    "for ticker in tickers_list:\n",
    "    dt[ticker] = yf.download(ticker,'2010-01-01','2011-01-01', interval='1mo')['Adj Close']\n",
    "    \n",
    "data['N-100'] = dt['^N100'].to_list()\n",
    "\n",
    "portfolio_g = (data['sum'][11] + df['sum'][0] - data['sum'][0]) / data['sum'][0]\n",
    "market_g = (data['N-100'][11] - data['N-100'][0]) / data['N-100'][0]\n",
    "\n",
    "lst_10.append(portfolio_g)\n",
    "market.append(market_g)\n",
    "\n",
    "if df['sum'][1] == 0:\n",
    "    print('Growth of Portfolio:', portfolio_g)\n",
    "    print('Growth of Market Index:', market_g)\n",
    "else:\n",
    "    print('Есть дробление акций')"
   ]
  },
  {
   "cell_type": "code",
   "execution_count": 30,
   "metadata": {},
   "outputs": [
    {
     "name": "stdout",
     "output_type": "stream",
     "text": [
      "[*********************100%***********************]  1 of 1 completed\n",
      "[*********************100%***********************]  1 of 1 completed\n",
      "[*********************100%***********************]  1 of 1 completed\n",
      "[*********************100%***********************]  1 of 1 completed\n",
      "[*********************100%***********************]  1 of 1 completed\n",
      "[*********************100%***********************]  1 of 1 completed\n",
      "[*********************100%***********************]  1 of 1 completed\n"
     ]
    },
    {
     "name": "stderr",
     "output_type": "stream",
     "text": [
      "<ipython-input-30-416374839836>:16: FutureWarning: Dropping of nuisance columns in DataFrame reductions (with 'numeric_only=None') is deprecated; in a future version this will raise TypeError.  Select only valid columns before calling the reduction.\n",
      "  data['sum'] = data.sum(axis=1).to_list()\n"
     ]
    },
    {
     "name": "stdout",
     "output_type": "stream",
     "text": [
      "[*********************100%***********************]  1 of 1 completed\n",
      "Growth of Portfolio: 0.06754269774485651\n",
      "Growth of Market Index: 0.048445821202046484\n"
     ]
    }
   ],
   "source": [
    "# 7 акций\n",
    "tickers_list = ['AGS.BR',\n",
    "                'INGA.AS',\n",
    "                'KBC.BR',\n",
    "                'ACA.PA',\n",
    "                'BNP.PA',\n",
    "                'GFC.PA',\n",
    "                'RAND.AS']\n",
    "\n",
    "data = pd.DataFrame(columns=tickers_list)\n",
    "\n",
    "for ticker in tickers_list:\n",
    "    data[ticker] = yf.download(ticker,'2010-01-01','2011-01-01', interval='1mo')['Adj Close']\n",
    "\n",
    "data = data.reset_index()\n",
    "data['sum'] = data.sum(axis=1).to_list()\n",
    "\n",
    "df = pd.DataFrame(columns=tickers_list)\n",
    "for ticker in tickers_list:\n",
    "    div = sum(yf.Ticker(ticker).history(start='2010-01-01',end='2011-01-01').Dividends.to_list())\n",
    "    split = sum(yf.Ticker(ticker).history(start='2010-01-01',end='2011-01-01')['Stock Splits'].to_list())\n",
    "    df[ticker] = [div, split]\n",
    "df['sum'] = df.sum(axis=1).to_list()\n",
    "\n",
    "tickers_list = ['^N100']\n",
    "dt = pd.DataFrame(columns=tickers_list)\n",
    "for ticker in tickers_list:\n",
    "    dt[ticker] = yf.download(ticker,'2010-01-01','2011-01-01', interval='1mo')['Adj Close']\n",
    "    \n",
    "data['N-100'] = dt['^N100'].to_list()\n",
    "\n",
    "portfolio_g = (data['sum'][11] + df['sum'][0] - data['sum'][0]) / data['sum'][0]\n",
    "market_g = (data['N-100'][11] - data['N-100'][0]) / data['N-100'][0]\n",
    "\n",
    "lst_7.append(portfolio_g)\n",
    "\n",
    "if df['sum'][1] == 0:\n",
    "    print('Growth of Portfolio:', portfolio_g)\n",
    "    print('Growth of Market Index:', market_g)\n",
    "else:\n",
    "    print('Есть дробление акций')"
   ]
  },
  {
   "cell_type": "code",
   "execution_count": 31,
   "metadata": {},
   "outputs": [
    {
     "name": "stdout",
     "output_type": "stream",
     "text": [
      "[*********************100%***********************]  1 of 1 completed\n",
      "[*********************100%***********************]  1 of 1 completed\n",
      "[*********************100%***********************]  1 of 1 completed\n",
      "[*********************100%***********************]  1 of 1 completed\n",
      "[*********************100%***********************]  1 of 1 completed\n"
     ]
    },
    {
     "name": "stderr",
     "output_type": "stream",
     "text": [
      "<ipython-input-31-6b2f1374cf33>:14: FutureWarning: Dropping of nuisance columns in DataFrame reductions (with 'numeric_only=None') is deprecated; in a future version this will raise TypeError.  Select only valid columns before calling the reduction.\n",
      "  data['sum'] = data.sum(axis=1).to_list()\n"
     ]
    },
    {
     "name": "stdout",
     "output_type": "stream",
     "text": [
      "[*********************100%***********************]  1 of 1 completed\n",
      "Growth of Portfolio: -0.0985463591889813\n",
      "Growth of Market Index: 0.048445821202046484\n"
     ]
    }
   ],
   "source": [
    "# 5 акций\n",
    "tickers_list = ['AGS.BR',\n",
    "                'INGA.AS',\n",
    "                'KBC.BR',\n",
    "                'ACA.PA',\n",
    "                'BNP.PA']\n",
    "\n",
    "data = pd.DataFrame(columns=tickers_list)\n",
    "\n",
    "for ticker in tickers_list:\n",
    "    data[ticker] = yf.download(ticker,'2010-01-01','2011-01-01', interval='1mo')['Adj Close']\n",
    "\n",
    "data = data.reset_index()\n",
    "data['sum'] = data.sum(axis=1).to_list()\n",
    "\n",
    "df = pd.DataFrame(columns=tickers_list)\n",
    "for ticker in tickers_list:\n",
    "    div = sum(yf.Ticker(ticker).history(start='2010-01-01',end='2011-01-01').Dividends.to_list())\n",
    "    split = sum(yf.Ticker(ticker).history(start='2010-01-01',end='2011-01-01')['Stock Splits'].to_list())\n",
    "    df[ticker] = [div, split]\n",
    "df['sum'] = df.sum(axis=1).to_list()\n",
    "\n",
    "tickers_list = ['^N100']\n",
    "dt = pd.DataFrame(columns=tickers_list)\n",
    "for ticker in tickers_list:\n",
    "    dt[ticker] = yf.download(ticker,'2010-01-01','2011-01-01', interval='1mo')['Adj Close']\n",
    "    \n",
    "data['N-100'] = dt['^N100'].to_list()\n",
    "\n",
    "portfolio_g = (data['sum'][11] + df['sum'][0] - data['sum'][0]) / data['sum'][0]\n",
    "market_g = (data['N-100'][11] - data['N-100'][0]) / data['N-100'][0]\n",
    "\n",
    "lst_5.append(portfolio_g)\n",
    "\n",
    "if df['sum'][1] == 0:\n",
    "    print('Growth of Portfolio:', portfolio_g)\n",
    "    print('Growth of Market Index:', market_g)\n",
    "else:\n",
    "    print('Есть дробление акций')"
   ]
  },
  {
   "cell_type": "code",
   "execution_count": 32,
   "metadata": {},
   "outputs": [
    {
     "name": "stdout",
     "output_type": "stream",
     "text": [
      "[*********************100%***********************]  1 of 1 completed\n",
      "[*********************100%***********************]  1 of 1 completed\n",
      "[*********************100%***********************]  1 of 1 completed\n"
     ]
    },
    {
     "name": "stderr",
     "output_type": "stream",
     "text": [
      "<ipython-input-32-ea7bb16f6276>:12: FutureWarning: Dropping of nuisance columns in DataFrame reductions (with 'numeric_only=None') is deprecated; in a future version this will raise TypeError.  Select only valid columns before calling the reduction.\n",
      "  data['sum'] = data.sum(axis=1).to_list()\n"
     ]
    },
    {
     "name": "stdout",
     "output_type": "stream",
     "text": [
      "[*********************100%***********************]  1 of 1 completed\n",
      "Growth of Portfolio: -0.17807795331801654\n",
      "Growth of Market Index: 0.048445821202046484\n"
     ]
    }
   ],
   "source": [
    "# 3 акции\n",
    "tickers_list = ['AGS.BR',\n",
    "                'INGA.AS',\n",
    "                'KBC.BR']\n",
    "\n",
    "data = pd.DataFrame(columns=tickers_list)\n",
    "\n",
    "for ticker in tickers_list:\n",
    "    data[ticker] = yf.download(ticker,'2010-01-01','2011-01-01', interval='1mo')['Adj Close']\n",
    "\n",
    "data = data.reset_index()\n",
    "data['sum'] = data.sum(axis=1).to_list()\n",
    "\n",
    "df = pd.DataFrame(columns=tickers_list)\n",
    "for ticker in tickers_list:\n",
    "    div = sum(yf.Ticker(ticker).history(start='2010-01-01',end='2011-01-01').Dividends.to_list())\n",
    "    split = sum(yf.Ticker(ticker).history(start='2010-01-01',end='2011-01-01')['Stock Splits'].to_list())\n",
    "    df[ticker] = [div, split]\n",
    "df['sum'] = df.sum(axis=1).to_list()\n",
    "\n",
    "tickers_list = ['^N100']\n",
    "dt = pd.DataFrame(columns=tickers_list)\n",
    "for ticker in tickers_list:\n",
    "    dt[ticker] = yf.download(ticker,'2010-01-01','2011-01-01', interval='1mo')['Adj Close']\n",
    "    \n",
    "data['N-100'] = dt['^N100'].to_list()\n",
    "\n",
    "portfolio_g = (data['sum'][11] + df['sum'][0] - data['sum'][0]) / data['sum'][0]\n",
    "market_g = (data['N-100'][11] - data['N-100'][0]) / data['N-100'][0]\n",
    "\n",
    "lst_3.append(portfolio_g)\n",
    "\n",
    "if df['sum'][1] == 0:\n",
    "    print('Growth of Portfolio:', portfolio_g)\n",
    "    print('Growth of Market Index:', market_g)\n",
    "else:\n",
    "    print('Есть дробление акций')"
   ]
  },
  {
   "cell_type": "code",
   "execution_count": 33,
   "metadata": {},
   "outputs": [
    {
     "name": "stdout",
     "output_type": "stream",
     "text": [
      "[*********************100%***********************]  1 of 1 completed\n"
     ]
    },
    {
     "name": "stderr",
     "output_type": "stream",
     "text": [
      "<ipython-input-33-f41e90ba608b>:10: FutureWarning: Dropping of nuisance columns in DataFrame reductions (with 'numeric_only=None') is deprecated; in a future version this will raise TypeError.  Select only valid columns before calling the reduction.\n",
      "  data['sum'] = data.sum(axis=1).to_list()\n"
     ]
    },
    {
     "name": "stdout",
     "output_type": "stream",
     "text": [
      "[*********************100%***********************]  1 of 1 completed\n",
      "Growth of Portfolio: -0.2382294418845178\n",
      "Growth of Market Index: 0.048445821202046484\n"
     ]
    }
   ],
   "source": [
    "# 1 акция\n",
    "tickers_list = ['AGS.BR']\n",
    "\n",
    "data = pd.DataFrame(columns=tickers_list)\n",
    "\n",
    "for ticker in tickers_list:\n",
    "    data[ticker] = yf.download(ticker,'2010-01-01','2011-01-01', interval='1mo')['Adj Close']\n",
    "\n",
    "data = data.reset_index()\n",
    "data['sum'] = data.sum(axis=1).to_list()\n",
    "\n",
    "df = pd.DataFrame(columns=tickers_list)\n",
    "for ticker in tickers_list:\n",
    "    div = sum(yf.Ticker(ticker).history(start='2010-01-01',end='2011-01-01').Dividends.to_list())\n",
    "    split = sum(yf.Ticker(ticker).history(start='2010-01-01',end='2011-01-01')['Stock Splits'].to_list())\n",
    "    df[ticker] = [div, split]\n",
    "df['sum'] = df.sum(axis=1).to_list()\n",
    "\n",
    "tickers_list = ['^N100']\n",
    "dt = pd.DataFrame(columns=tickers_list)\n",
    "for ticker in tickers_list:\n",
    "    dt[ticker] = yf.download(ticker,'2010-01-01','2011-01-01', interval='1mo')['Adj Close']\n",
    "    \n",
    "data['N-100'] = dt['^N100'].to_list()\n",
    "\n",
    "portfolio_g = (data['sum'][11] + df['sum'][0] - data['sum'][0]) / data['sum'][0]\n",
    "market_g = (data['N-100'][11] - data['N-100'][0]) / data['N-100'][0]\n",
    "\n",
    "lst_1.append(portfolio_g)\n",
    "\n",
    "if df['sum'][1] == 0:\n",
    "    print('Growth of Portfolio:', portfolio_g)\n",
    "    print('Growth of Market Index:', market_g)\n",
    "else:\n",
    "    print('Есть дробление акций')"
   ]
  },
  {
   "cell_type": "markdown",
   "metadata": {},
   "source": [
    "## Портфель на 2011 год\n",
    "_По данным за 2010_\n",
    "\n",
    "- ING GROEP N.V.\n",
    "- ORANGE\n",
    "- VIVENDI SE\n",
    "- SHELL PLC\n",
    "- KPN KON\n",
    "- TOTALENERGIES\n",
    "- UNIBAIL-RODAMCO-WE\n",
    "- ENGIE\n",
    "- EDP\n",
    "- VEOLIA ENVIRON.\n"
   ]
  },
  {
   "cell_type": "code",
   "execution_count": 34,
   "metadata": {},
   "outputs": [
    {
     "name": "stdout",
     "output_type": "stream",
     "text": [
      "[*********************100%***********************]  1 of 1 completed\n",
      "[*********************100%***********************]  1 of 1 completed\n",
      "[*********************100%***********************]  1 of 1 completed\n",
      "[*********************100%***********************]  1 of 1 completed\n",
      "[*********************100%***********************]  1 of 1 completed\n",
      "[*********************100%***********************]  1 of 1 completed\n",
      "[*********************100%***********************]  1 of 1 completed\n",
      "[*********************100%***********************]  1 of 1 completed\n",
      "[*********************100%***********************]  1 of 1 completed\n",
      "[*********************100%***********************]  1 of 1 completed\n"
     ]
    },
    {
     "name": "stderr",
     "output_type": "stream",
     "text": [
      "<ipython-input-34-f60872cdf4b3>:19: FutureWarning: Dropping of nuisance columns in DataFrame reductions (with 'numeric_only=None') is deprecated; in a future version this will raise TypeError.  Select only valid columns before calling the reduction.\n",
      "  data['sum'] = data.sum(axis=1).to_list()\n"
     ]
    },
    {
     "name": "stdout",
     "output_type": "stream",
     "text": [
      "[*********************100%***********************]  1 of 1 completed\n",
      "Growth of Portfolio: -0.006023197350669416\n",
      "Growth of Market Index: -0.17258661078599236\n"
     ]
    }
   ],
   "source": [
    "# 10 акций\n",
    "tickers_list = ['INGA.AS',\n",
    "                'ORA.PA',\n",
    "                'VIV.PA',\n",
    "                'SHELL.AS',\n",
    "                'KPN.AS',\n",
    "                'TTE.PA',\n",
    "                'URW.AS', \n",
    "                'ENGI.PA',\n",
    "                'EDP.LS',\n",
    "                'VIE.PA']\n",
    "\n",
    "data = pd.DataFrame(columns=tickers_list)\n",
    "\n",
    "for ticker in tickers_list:\n",
    "    data[ticker] = yf.download(ticker,'2011-01-01','2012-01-01', interval='1mo')['Adj Close']\n",
    "\n",
    "data = data.reset_index()\n",
    "data['sum'] = data.sum(axis=1).to_list()\n",
    "\n",
    "df = pd.DataFrame(columns=tickers_list)\n",
    "for ticker in tickers_list:\n",
    "    div = sum(yf.Ticker(ticker).history(start='2011-01-01',end='2012-01-01').Dividends.to_list())\n",
    "    split = sum(yf.Ticker(ticker).history(start='2011-01-01',end='2012-01-01')['Stock Splits'].to_list())\n",
    "    df[ticker] = [div, split]\n",
    "df['sum'] = df.sum(axis=1).to_list()\n",
    "\n",
    "tickers_list = ['^N100']\n",
    "dt = pd.DataFrame(columns=tickers_list)\n",
    "for ticker in tickers_list:\n",
    "    dt[ticker] = yf.download(ticker,'2011-01-01','2012-01-01', interval='1mo')['Adj Close']\n",
    "    \n",
    "data['N-100'] = dt['^N100'].to_list()\n",
    "\n",
    "portfolio_g = (data['sum'][11] + df['sum'][0] - data['sum'][0]) / data['sum'][0]\n",
    "market_g = (data['N-100'][11] - data['N-100'][0]) / data['N-100'][0]\n",
    "\n",
    "lst_10.append(portfolio_g)\n",
    "market.append(market_g)\n",
    "\n",
    "if df['sum'][1] == 0:\n",
    "    print('Growth of Portfolio:', portfolio_g)\n",
    "    print('Growth of Market Index:', market_g)\n",
    "else:\n",
    "    print('Есть дробление акций')"
   ]
  },
  {
   "cell_type": "code",
   "execution_count": 35,
   "metadata": {},
   "outputs": [
    {
     "name": "stdout",
     "output_type": "stream",
     "text": [
      "[*********************100%***********************]  1 of 1 completed\n",
      "[*********************100%***********************]  1 of 1 completed\n",
      "[*********************100%***********************]  1 of 1 completed\n",
      "[*********************100%***********************]  1 of 1 completed\n",
      "[*********************100%***********************]  1 of 1 completed\n",
      "[*********************100%***********************]  1 of 1 completed\n",
      "[*********************100%***********************]  1 of 1 completed\n"
     ]
    },
    {
     "name": "stderr",
     "output_type": "stream",
     "text": [
      "<ipython-input-35-462e1c4a5948>:16: FutureWarning: Dropping of nuisance columns in DataFrame reductions (with 'numeric_only=None') is deprecated; in a future version this will raise TypeError.  Select only valid columns before calling the reduction.\n",
      "  data['sum'] = data.sum(axis=1).to_list()\n"
     ]
    },
    {
     "name": "stdout",
     "output_type": "stream",
     "text": [
      "[*********************100%***********************]  1 of 1 completed\n",
      "Growth of Portfolio: 0.04940856214326251\n",
      "Growth of Market Index: -0.17258661078599236\n"
     ]
    }
   ],
   "source": [
    "# 7 акций\n",
    "tickers_list = ['INGA.AS',\n",
    "                'ORA.PA',\n",
    "                'VIV.PA',\n",
    "                'SHELL.AS',\n",
    "                'KPN.AS',\n",
    "                'TTE.PA',\n",
    "                'URW.AS']\n",
    "\n",
    "data = pd.DataFrame(columns=tickers_list)\n",
    "\n",
    "for ticker in tickers_list:\n",
    "    data[ticker] = yf.download(ticker,'2011-01-01','2012-01-01', interval='1mo')['Adj Close']\n",
    "\n",
    "data = data.reset_index()\n",
    "data['sum'] = data.sum(axis=1).to_list()\n",
    "\n",
    "df = pd.DataFrame(columns=tickers_list)\n",
    "for ticker in tickers_list:\n",
    "    div = sum(yf.Ticker(ticker).history(start='2011-01-01',end='2012-01-01').Dividends.to_list())\n",
    "    split = sum(yf.Ticker(ticker).history(start='2011-01-01',end='2012-01-01')['Stock Splits'].to_list())\n",
    "    df[ticker] = [div, split]\n",
    "df['sum'] = df.sum(axis=1).to_list()\n",
    "\n",
    "tickers_list = ['^N100']\n",
    "dt = pd.DataFrame(columns=tickers_list)\n",
    "for ticker in tickers_list:\n",
    "    dt[ticker] = yf.download(ticker,'2011-01-01','2012-01-01', interval='1mo')['Adj Close']\n",
    "    \n",
    "data['N-100'] = dt['^N100'].to_list()\n",
    "\n",
    "portfolio_g = (data['sum'][11] + df['sum'][0] - data['sum'][0]) / data['sum'][0]\n",
    "market_g = (data['N-100'][11] - data['N-100'][0]) / data['N-100'][0]\n",
    "\n",
    "lst_7.append(portfolio_g)\n",
    "\n",
    "if df['sum'][1] == 0:\n",
    "    print('Growth of Portfolio:', portfolio_g)\n",
    "    print('Growth of Market Index:', market_g)\n",
    "else:\n",
    "    print('Есть дробление акций')"
   ]
  },
  {
   "cell_type": "code",
   "execution_count": 36,
   "metadata": {},
   "outputs": [
    {
     "name": "stdout",
     "output_type": "stream",
     "text": [
      "[*********************100%***********************]  1 of 1 completed\n",
      "[*********************100%***********************]  1 of 1 completed\n",
      "[*********************100%***********************]  1 of 1 completed\n",
      "[*********************100%***********************]  1 of 1 completed\n",
      "[*********************100%***********************]  1 of 1 completed\n"
     ]
    },
    {
     "name": "stderr",
     "output_type": "stream",
     "text": [
      "<ipython-input-36-52423065b3d6>:14: FutureWarning: Dropping of nuisance columns in DataFrame reductions (with 'numeric_only=None') is deprecated; in a future version this will raise TypeError.  Select only valid columns before calling the reduction.\n",
      "  data['sum'] = data.sum(axis=1).to_list()\n"
     ]
    },
    {
     "name": "stdout",
     "output_type": "stream",
     "text": [
      "[*********************100%***********************]  1 of 1 completed\n",
      "Growth of Portfolio: 0.03273084025891091\n",
      "Growth of Market Index: -0.17258661078599236\n"
     ]
    }
   ],
   "source": [
    "# 5 акций\n",
    "tickers_list = ['INGA.AS',\n",
    "                'ORA.PA',\n",
    "                'VIV.PA',\n",
    "                'SHELL.AS',\n",
    "                'KPN.AS']\n",
    "\n",
    "data = pd.DataFrame(columns=tickers_list)\n",
    "\n",
    "for ticker in tickers_list:\n",
    "    data[ticker] = yf.download(ticker,'2011-01-01','2012-01-01', interval='1mo')['Adj Close']\n",
    "\n",
    "data = data.reset_index()\n",
    "data['sum'] = data.sum(axis=1).to_list()\n",
    "\n",
    "df = pd.DataFrame(columns=tickers_list)\n",
    "for ticker in tickers_list:\n",
    "    div = sum(yf.Ticker(ticker).history(start='2011-01-01',end='2012-01-01').Dividends.to_list())\n",
    "    split = sum(yf.Ticker(ticker).history(start='2011-01-01',end='2012-01-01')['Stock Splits'].to_list())\n",
    "    df[ticker] = [div, split]\n",
    "df['sum'] = df.sum(axis=1).to_list()\n",
    "\n",
    "tickers_list = ['^N100']\n",
    "dt = pd.DataFrame(columns=tickers_list)\n",
    "for ticker in tickers_list:\n",
    "    dt[ticker] = yf.download(ticker,'2011-01-01','2012-01-01', interval='1mo')['Adj Close']\n",
    "    \n",
    "data['N-100'] = dt['^N100'].to_list()\n",
    "\n",
    "portfolio_g = (data['sum'][11] + df['sum'][0] - data['sum'][0]) / data['sum'][0]\n",
    "market_g = (data['N-100'][11] - data['N-100'][0]) / data['N-100'][0]\n",
    "\n",
    "lst_5.append(portfolio_g)\n",
    "\n",
    "if df['sum'][1] == 0:\n",
    "    print('Growth of Portfolio:', portfolio_g)\n",
    "    print('Growth of Market Index:', market_g)\n",
    "else:\n",
    "    print('Есть дробление акций')"
   ]
  },
  {
   "cell_type": "code",
   "execution_count": 37,
   "metadata": {},
   "outputs": [
    {
     "name": "stdout",
     "output_type": "stream",
     "text": [
      "[*********************100%***********************]  1 of 1 completed\n",
      "[*********************100%***********************]  1 of 1 completed\n",
      "[*********************100%***********************]  1 of 1 completed\n"
     ]
    },
    {
     "name": "stderr",
     "output_type": "stream",
     "text": [
      "<ipython-input-37-fad9ac2e4e82>:12: FutureWarning: Dropping of nuisance columns in DataFrame reductions (with 'numeric_only=None') is deprecated; in a future version this will raise TypeError.  Select only valid columns before calling the reduction.\n",
      "  data['sum'] = data.sum(axis=1).to_list()\n"
     ]
    },
    {
     "name": "stdout",
     "output_type": "stream",
     "text": [
      "[*********************100%***********************]  1 of 1 completed\n",
      "Growth of Portfolio: -0.06530053642277761\n",
      "Growth of Market Index: -0.17258661078599236\n"
     ]
    }
   ],
   "source": [
    "# 3 акции\n",
    "tickers_list = ['INGA.AS',\n",
    "                'ORA.PA',\n",
    "                'VIV.PA']\n",
    "\n",
    "data = pd.DataFrame(columns=tickers_list)\n",
    "\n",
    "for ticker in tickers_list:\n",
    "    data[ticker] = yf.download(ticker,'2011-01-01','2012-01-01', interval='1mo')['Adj Close']\n",
    "\n",
    "data = data.reset_index()\n",
    "data['sum'] = data.sum(axis=1).to_list()\n",
    "\n",
    "df = pd.DataFrame(columns=tickers_list)\n",
    "for ticker in tickers_list:\n",
    "    div = sum(yf.Ticker(ticker).history(start='2011-01-01',end='2012-01-01').Dividends.to_list())\n",
    "    split = sum(yf.Ticker(ticker).history(start='2011-01-01',end='2012-01-01')['Stock Splits'].to_list())\n",
    "    df[ticker] = [div, split]\n",
    "df['sum'] = df.sum(axis=1).to_list()\n",
    "\n",
    "tickers_list = ['^N100']\n",
    "dt = pd.DataFrame(columns=tickers_list)\n",
    "for ticker in tickers_list:\n",
    "    dt[ticker] = yf.download(ticker,'2011-01-01','2012-01-01', interval='1mo')['Adj Close']\n",
    "    \n",
    "data['N-100'] = dt['^N100'].to_list()\n",
    "\n",
    "portfolio_g = (data['sum'][11] + df['sum'][0] - data['sum'][0]) / data['sum'][0]\n",
    "market_g = (data['N-100'][11] - data['N-100'][0]) / data['N-100'][0]\n",
    "\n",
    "lst_3.append(portfolio_g)\n",
    "\n",
    "if df['sum'][1] == 0:\n",
    "    print('Growth of Portfolio:', portfolio_g)\n",
    "    print('Growth of Market Index:', market_g)\n",
    "else:\n",
    "    print('Есть дробление акций')"
   ]
  },
  {
   "cell_type": "code",
   "execution_count": 38,
   "metadata": {},
   "outputs": [
    {
     "name": "stdout",
     "output_type": "stream",
     "text": [
      "[*********************100%***********************]  1 of 1 completed\n"
     ]
    },
    {
     "name": "stderr",
     "output_type": "stream",
     "text": [
      "<ipython-input-38-0e51cd75d925>:10: FutureWarning: Dropping of nuisance columns in DataFrame reductions (with 'numeric_only=None') is deprecated; in a future version this will raise TypeError.  Select only valid columns before calling the reduction.\n",
      "  data['sum'] = data.sum(axis=1).to_list()\n"
     ]
    },
    {
     "name": "stdout",
     "output_type": "stream",
     "text": [
      "[*********************100%***********************]  1 of 1 completed\n",
      "Growth of Portfolio: -0.33205194052462744\n",
      "Growth of Market Index: -0.17258661078599236\n"
     ]
    }
   ],
   "source": [
    "# 1 акция\n",
    "tickers_list = ['INGA.AS']\n",
    "\n",
    "data = pd.DataFrame(columns=tickers_list)\n",
    "\n",
    "for ticker in tickers_list:\n",
    "    data[ticker] = yf.download(ticker,'2011-01-01','2012-01-01', interval='1mo')['Adj Close']\n",
    "\n",
    "data = data.reset_index()\n",
    "data['sum'] = data.sum(axis=1).to_list()\n",
    "\n",
    "df = pd.DataFrame(columns=tickers_list)\n",
    "for ticker in tickers_list:\n",
    "    div = sum(yf.Ticker(ticker).history(start='2011-01-01',end='2012-01-01').Dividends.to_list())\n",
    "    split = sum(yf.Ticker(ticker).history(start='2011-01-01',end='2012-01-01')['Stock Splits'].to_list())\n",
    "    df[ticker] = [div, split]\n",
    "df['sum'] = df.sum(axis=1).to_list()\n",
    "\n",
    "tickers_list = ['^N100']\n",
    "dt = pd.DataFrame(columns=tickers_list)\n",
    "for ticker in tickers_list:\n",
    "    dt[ticker] = yf.download(ticker,'2011-01-01','2012-01-01', interval='1mo')['Adj Close']\n",
    "    \n",
    "data['N-100'] = dt['^N100'].to_list()\n",
    "\n",
    "portfolio_g = (data['sum'][11] + df['sum'][0] - data['sum'][0]) / data['sum'][0]\n",
    "market_g = (data['N-100'][11] - data['N-100'][0]) / data['N-100'][0]\n",
    "\n",
    "lst_1.append(portfolio_g)\n",
    "\n",
    "if df['sum'][1] == 0:\n",
    "    print('Growth of Portfolio:', portfolio_g)\n",
    "    print('Growth of Market Index:', market_g)\n",
    "else:\n",
    "    print('Есть дробление акций')"
   ]
  },
  {
   "cell_type": "markdown",
   "metadata": {},
   "source": [
    "### Портфель на 2012 год\n",
    "_По данным за 2011_\n",
    "\n",
    "- ORANGE\n",
    "- KPN KON\n",
    "- VIVENDI SE\n",
    "- EDP\n",
    "- UNIBAIL-RODAMCO-WE\n",
    "- ENGIE\n",
    "- TOTALENERGIES\n",
    "- VEOLIA ENVIRON.\n",
    "- SANOFI\n",
    "- BOUYGUES\n"
   ]
  },
  {
   "cell_type": "code",
   "execution_count": 39,
   "metadata": {},
   "outputs": [
    {
     "name": "stdout",
     "output_type": "stream",
     "text": [
      "[*********************100%***********************]  1 of 1 completed\n",
      "[*********************100%***********************]  1 of 1 completed\n",
      "[*********************100%***********************]  1 of 1 completed\n",
      "[*********************100%***********************]  1 of 1 completed\n",
      "[*********************100%***********************]  1 of 1 completed\n",
      "[*********************100%***********************]  1 of 1 completed\n",
      "[*********************100%***********************]  1 of 1 completed\n",
      "[*********************100%***********************]  1 of 1 completed\n",
      "[*********************100%***********************]  1 of 1 completed\n",
      "[*********************100%***********************]  1 of 1 completed\n"
     ]
    },
    {
     "name": "stderr",
     "output_type": "stream",
     "text": [
      "<ipython-input-39-e8d2d3a1b2ee>:19: FutureWarning: Dropping of nuisance columns in DataFrame reductions (with 'numeric_only=None') is deprecated; in a future version this will raise TypeError.  Select only valid columns before calling the reduction.\n",
      "  data['sum'] = data.sum(axis=1).to_list()\n"
     ]
    },
    {
     "name": "stdout",
     "output_type": "stream",
     "text": [
      "[*********************100%***********************]  1 of 1 completed\n",
      "Growth of Portfolio: 0.30467101346587033\n",
      "Growth of Market Index: 0.10936048084266803\n"
     ]
    },
    {
     "name": "stderr",
     "output_type": "stream",
     "text": [
      "<ipython-input-39-e8d2d3a1b2ee>:34: SettingWithCopyWarning: \n",
      "A value is trying to be set on a copy of a slice from a DataFrame\n",
      "\n",
      "See the caveats in the documentation: https://pandas.pydata.org/pandas-docs/stable/user_guide/indexing.html#returning-a-view-versus-a-copy\n",
      "  data['VIV.PA'][5:] = data['VIV.PA'][5:] / 30 * 31\n"
     ]
    }
   ],
   "source": [
    "# 10 акций\n",
    "tickers_list = ['ORA.PA',\n",
    "                'KPN.AS',\n",
    "                'VIV.PA', # split\n",
    "                'EDP.LS',\n",
    "                'URW.AS',\n",
    "                'ENGI.PA',\n",
    "                'TTE.PA',\n",
    "                'VIE.PA',\n",
    "                'SAN.PA',\n",
    "                'EN.PA']\n",
    "\n",
    "data = pd.DataFrame(columns=tickers_list)\n",
    "\n",
    "for ticker in tickers_list:\n",
    "    data[ticker] = yf.download(ticker,'2012-01-01','2013-01-01', interval='1mo')['Adj Close']\n",
    "\n",
    "data = data.reset_index()\n",
    "data['sum'] = data.sum(axis=1).to_list()\n",
    "\n",
    "df = pd.DataFrame(columns=tickers_list)\n",
    "for ticker in tickers_list:\n",
    "    div = sum(yf.Ticker(ticker).history(start='2012-01-01',end='2013-01-01').Dividends.to_list())\n",
    "    split = sum(yf.Ticker(ticker).history(start='2012-01-01',end='2013-01-01')['Stock Splits'].to_list())\n",
    "    df[ticker] = [div, split]\n",
    "df['sum'] = df.sum(axis=1).to_list()\n",
    "\n",
    "tickers_list = ['^N100']\n",
    "dt = pd.DataFrame(columns=tickers_list)\n",
    "for ticker in tickers_list:\n",
    "    dt[ticker] = yf.download(ticker,'2012-01-01','2013-01-01', interval='1mo')['Adj Close']\n",
    "    \n",
    "data['N-100'] = dt['^N100'].to_list()\n",
    "data['VIV.PA'][5:] = data['VIV.PA'][5:] / 30 * 31\n",
    "\n",
    "portfolio_g = (data['sum'][11] + df['sum'][0] - data['sum'][0]) / data['sum'][0]\n",
    "market_g = (data['N-100'][11] - data['N-100'][0]) / data['N-100'][0]\n",
    "\n",
    "lst_10.append(portfolio_g)\n",
    "market.append(market_g)\n",
    "\n",
    "print('Growth of Portfolio:', portfolio_g)\n",
    "print('Growth of Market Index:', market_g)"
   ]
  },
  {
   "cell_type": "code",
   "execution_count": 40,
   "metadata": {},
   "outputs": [
    {
     "name": "stdout",
     "output_type": "stream",
     "text": [
      "[*********************100%***********************]  1 of 1 completed\n",
      "[*********************100%***********************]  1 of 1 completed\n",
      "[*********************100%***********************]  1 of 1 completed\n",
      "[*********************100%***********************]  1 of 1 completed\n",
      "[*********************100%***********************]  1 of 1 completed\n",
      "[*********************100%***********************]  1 of 1 completed\n",
      "[*********************100%***********************]  1 of 1 completed\n"
     ]
    },
    {
     "name": "stderr",
     "output_type": "stream",
     "text": [
      "<ipython-input-40-555d18b09545>:16: FutureWarning: Dropping of nuisance columns in DataFrame reductions (with 'numeric_only=None') is deprecated; in a future version this will raise TypeError.  Select only valid columns before calling the reduction.\n",
      "  data['sum'] = data.sum(axis=1).to_list()\n"
     ]
    },
    {
     "name": "stdout",
     "output_type": "stream",
     "text": [
      "[*********************100%***********************]  1 of 1 completed\n",
      "Growth of Portfolio: 0.29491280093643035\n",
      "Growth of Market Index: 0.10936048084266803\n"
     ]
    },
    {
     "name": "stderr",
     "output_type": "stream",
     "text": [
      "<ipython-input-40-555d18b09545>:31: SettingWithCopyWarning: \n",
      "A value is trying to be set on a copy of a slice from a DataFrame\n",
      "\n",
      "See the caveats in the documentation: https://pandas.pydata.org/pandas-docs/stable/user_guide/indexing.html#returning-a-view-versus-a-copy\n",
      "  data['VIV.PA'][5:] = data['VIV.PA'][5:] / 30 * 31\n"
     ]
    }
   ],
   "source": [
    "# 7 акций\n",
    "tickers_list = ['ORA.PA',\n",
    "                'KPN.AS',\n",
    "                'VIV.PA', # split\n",
    "                'EDP.LS',\n",
    "                'URW.AS',\n",
    "                'ENGI.PA',\n",
    "                'TTE.PA']\n",
    "\n",
    "data = pd.DataFrame(columns=tickers_list)\n",
    "\n",
    "for ticker in tickers_list:\n",
    "    data[ticker] = yf.download(ticker,'2012-01-01','2013-01-01', interval='1mo')['Adj Close']\n",
    "\n",
    "data = data.reset_index()\n",
    "data['sum'] = data.sum(axis=1).to_list()\n",
    "\n",
    "df = pd.DataFrame(columns=tickers_list)\n",
    "for ticker in tickers_list:\n",
    "    div = sum(yf.Ticker(ticker).history(start='2012-01-01',end='2013-01-01').Dividends.to_list())\n",
    "    split = sum(yf.Ticker(ticker).history(start='2012-01-01',end='2013-01-01')['Stock Splits'].to_list())\n",
    "    df[ticker] = [div, split]\n",
    "df['sum'] = df.sum(axis=1).to_list()\n",
    "\n",
    "tickers_list = ['^N100']\n",
    "dt = pd.DataFrame(columns=tickers_list)\n",
    "for ticker in tickers_list:\n",
    "    dt[ticker] = yf.download(ticker,'2012-01-01','2013-01-01', interval='1mo')['Adj Close']\n",
    "    \n",
    "data['N-100'] = dt['^N100'].to_list()\n",
    "data['VIV.PA'][5:] = data['VIV.PA'][5:] / 30 * 31\n",
    "\n",
    "portfolio_g = (data['sum'][11] + df['sum'][0] - data['sum'][0]) / data['sum'][0]\n",
    "market_g = (data['N-100'][11] - data['N-100'][0]) / data['N-100'][0]\n",
    "\n",
    "lst_7.append(portfolio_g)\n",
    "\n",
    "print('Growth of Portfolio:', portfolio_g)\n",
    "print('Growth of Market Index:', market_g)"
   ]
  },
  {
   "cell_type": "code",
   "execution_count": 41,
   "metadata": {},
   "outputs": [
    {
     "name": "stdout",
     "output_type": "stream",
     "text": [
      "[*********************100%***********************]  1 of 1 completed\n",
      "[*********************100%***********************]  1 of 1 completed\n",
      "[*********************100%***********************]  1 of 1 completed\n",
      "[*********************100%***********************]  1 of 1 completed\n",
      "[*********************100%***********************]  1 of 1 completed\n"
     ]
    },
    {
     "name": "stderr",
     "output_type": "stream",
     "text": [
      "<ipython-input-41-6db74997975b>:14: FutureWarning: Dropping of nuisance columns in DataFrame reductions (with 'numeric_only=None') is deprecated; in a future version this will raise TypeError.  Select only valid columns before calling the reduction.\n",
      "  data['sum'] = data.sum(axis=1).to_list()\n"
     ]
    },
    {
     "name": "stdout",
     "output_type": "stream",
     "text": [
      "[*********************100%***********************]  1 of 1 completed\n",
      "Growth of Portfolio: 0.35821361986580563\n",
      "Growth of Market Index: 0.10936048084266803\n"
     ]
    },
    {
     "name": "stderr",
     "output_type": "stream",
     "text": [
      "<ipython-input-41-6db74997975b>:29: SettingWithCopyWarning: \n",
      "A value is trying to be set on a copy of a slice from a DataFrame\n",
      "\n",
      "See the caveats in the documentation: https://pandas.pydata.org/pandas-docs/stable/user_guide/indexing.html#returning-a-view-versus-a-copy\n",
      "  data['VIV.PA'][5:] = data['VIV.PA'][5:] / 30 * 31\n"
     ]
    }
   ],
   "source": [
    "# 5 акций\n",
    "tickers_list = ['ORA.PA',\n",
    "                'KPN.AS',\n",
    "                'VIV.PA', # split\n",
    "                'EDP.LS',\n",
    "                'URW.AS']\n",
    "\n",
    "data = pd.DataFrame(columns=tickers_list)\n",
    "\n",
    "for ticker in tickers_list:\n",
    "    data[ticker] = yf.download(ticker,'2012-01-01','2013-01-01', interval='1mo')['Adj Close']\n",
    "\n",
    "data = data.reset_index()\n",
    "data['sum'] = data.sum(axis=1).to_list()\n",
    "\n",
    "df = pd.DataFrame(columns=tickers_list)\n",
    "for ticker in tickers_list:\n",
    "    div = sum(yf.Ticker(ticker).history(start='2012-01-01',end='2013-01-01').Dividends.to_list())\n",
    "    split = sum(yf.Ticker(ticker).history(start='2012-01-01',end='2013-01-01')['Stock Splits'].to_list())\n",
    "    df[ticker] = [div, split]\n",
    "df['sum'] = df.sum(axis=1).to_list()\n",
    "\n",
    "tickers_list = ['^N100']\n",
    "dt = pd.DataFrame(columns=tickers_list)\n",
    "for ticker in tickers_list:\n",
    "    dt[ticker] = yf.download(ticker,'2012-01-01','2013-01-01', interval='1mo')['Adj Close']\n",
    "    \n",
    "data['N-100'] = dt['^N100'].to_list()\n",
    "data['VIV.PA'][5:] = data['VIV.PA'][5:] / 30 * 31\n",
    "\n",
    "portfolio_g = (data['sum'][11] + df['sum'][0] - data['sum'][0]) / data['sum'][0]\n",
    "market_g = (data['N-100'][11] - data['N-100'][0]) / data['N-100'][0]\n",
    "\n",
    "lst_5.append(portfolio_g)\n",
    "\n",
    "print('Growth of Portfolio:', portfolio_g)\n",
    "print('Growth of Market Index:', market_g)"
   ]
  },
  {
   "cell_type": "code",
   "execution_count": 42,
   "metadata": {},
   "outputs": [
    {
     "name": "stdout",
     "output_type": "stream",
     "text": [
      "[*********************100%***********************]  1 of 1 completed\n",
      "[*********************100%***********************]  1 of 1 completed\n",
      "[*********************100%***********************]  1 of 1 completed\n"
     ]
    },
    {
     "name": "stderr",
     "output_type": "stream",
     "text": [
      "<ipython-input-42-3270bbc8392e>:12: FutureWarning: Dropping of nuisance columns in DataFrame reductions (with 'numeric_only=None') is deprecated; in a future version this will raise TypeError.  Select only valid columns before calling the reduction.\n",
      "  data['sum'] = data.sum(axis=1).to_list()\n"
     ]
    },
    {
     "name": "stdout",
     "output_type": "stream",
     "text": [
      "[*********************100%***********************]  1 of 1 completed\n",
      "Growth of Portfolio: 0.11061239938292473\n",
      "Growth of Market Index: 0.10936048084266803\n"
     ]
    },
    {
     "name": "stderr",
     "output_type": "stream",
     "text": [
      "<ipython-input-42-3270bbc8392e>:27: SettingWithCopyWarning: \n",
      "A value is trying to be set on a copy of a slice from a DataFrame\n",
      "\n",
      "See the caveats in the documentation: https://pandas.pydata.org/pandas-docs/stable/user_guide/indexing.html#returning-a-view-versus-a-copy\n",
      "  data['VIV.PA'][5:] = data['VIV.PA'][5:] / 30 * 31\n"
     ]
    }
   ],
   "source": [
    "# 3 акции\n",
    "tickers_list = ['ORA.PA',\n",
    "                'KPN.AS',\n",
    "                'VIV.PA'] #split\n",
    "\n",
    "data = pd.DataFrame(columns=tickers_list)\n",
    "\n",
    "for ticker in tickers_list:\n",
    "    data[ticker] = yf.download(ticker,'2012-01-01','2013-01-01', interval='1mo')['Adj Close']\n",
    "\n",
    "data = data.reset_index()\n",
    "data['sum'] = data.sum(axis=1).to_list()\n",
    "\n",
    "df = pd.DataFrame(columns=tickers_list)\n",
    "for ticker in tickers_list:\n",
    "    div = sum(yf.Ticker(ticker).history(start='2012-01-01',end='2013-01-01').Dividends.to_list())\n",
    "    split = sum(yf.Ticker(ticker).history(start='2012-01-01',end='2013-01-01')['Stock Splits'].to_list())\n",
    "    df[ticker] = [div, split]\n",
    "df['sum'] = df.sum(axis=1).to_list()\n",
    "\n",
    "tickers_list = ['^N100']\n",
    "dt = pd.DataFrame(columns=tickers_list)\n",
    "for ticker in tickers_list:\n",
    "    dt[ticker] = yf.download(ticker,'2012-01-01','2013-01-01', interval='1mo')['Adj Close']\n",
    "    \n",
    "data['N-100'] = dt['^N100'].to_list()\n",
    "data['VIV.PA'][5:] = data['VIV.PA'][5:] / 30 * 31\n",
    "\n",
    "portfolio_g = (data['sum'][11] + df['sum'][0] - data['sum'][0]) / data['sum'][0]\n",
    "market_g = (data['N-100'][11] - data['N-100'][0]) / data['N-100'][0]\n",
    "\n",
    "lst_3.append(portfolio_g)\n",
    "\n",
    "print('Growth of Portfolio:', portfolio_g)\n",
    "print('Growth of Market Index:', market_g)"
   ]
  },
  {
   "cell_type": "code",
   "execution_count": 43,
   "metadata": {},
   "outputs": [
    {
     "name": "stdout",
     "output_type": "stream",
     "text": [
      "[*********************100%***********************]  1 of 1 completed\n"
     ]
    },
    {
     "name": "stderr",
     "output_type": "stream",
     "text": [
      "<ipython-input-43-78c897d41825>:10: FutureWarning: Dropping of nuisance columns in DataFrame reductions (with 'numeric_only=None') is deprecated; in a future version this will raise TypeError.  Select only valid columns before calling the reduction.\n",
      "  data['sum'] = data.sum(axis=1).to_list()\n"
     ]
    },
    {
     "name": "stdout",
     "output_type": "stream",
     "text": [
      "[*********************100%***********************]  1 of 1 completed\n",
      "Growth of Portfolio: 0.07123631666354224\n",
      "Growth of Market Index: 0.10936048084266803\n"
     ]
    }
   ],
   "source": [
    "# 1 акция\n",
    "tickers_list = ['ORA.PA']\n",
    "\n",
    "data = pd.DataFrame(columns=tickers_list)\n",
    "\n",
    "for ticker in tickers_list:\n",
    "    data[ticker] = yf.download(ticker,'2012-01-01','2013-01-01', interval='1mo')['Adj Close']\n",
    "\n",
    "data = data.reset_index()\n",
    "data['sum'] = data.sum(axis=1).to_list()\n",
    "\n",
    "df = pd.DataFrame(columns=tickers_list)\n",
    "for ticker in tickers_list:\n",
    "    div = sum(yf.Ticker(ticker).history(start='2012-01-01',end='2013-01-01').Dividends.to_list())\n",
    "    split = sum(yf.Ticker(ticker).history(start='2012-01-01',end='2013-01-01')['Stock Splits'].to_list())\n",
    "    df[ticker] = [div, split]\n",
    "df['sum'] = df.sum(axis=1).to_list()\n",
    "\n",
    "tickers_list = ['^N100']\n",
    "dt = pd.DataFrame(columns=tickers_list)\n",
    "for ticker in tickers_list:\n",
    "    dt[ticker] = yf.download(ticker,'2012-01-01','2013-01-01', interval='1mo')['Adj Close']\n",
    "    \n",
    "data['N-100'] = dt['^N100'].to_list()\n",
    "\n",
    "portfolio_g = (data['sum'][11] + df['sum'][0] - data['sum'][0]) / data['sum'][0]\n",
    "market_g = (data['N-100'][11] - data['N-100'][0]) / data['N-100'][0]\n",
    "\n",
    "lst_1.append(portfolio_g)\n",
    "\n",
    "if df['sum'][1] == 0:\n",
    "    print('Growth of Portfolio:', portfolio_g)\n",
    "    print('Growth of Market Index:', market_g)\n",
    "else:\n",
    "    print('Есть дробление акций')"
   ]
  },
  {
   "cell_type": "markdown",
   "metadata": {},
   "source": [
    "### Портфель на 2013 год\n",
    "_По данным за 2012_\n",
    "\n",
    "- ORANGE\n",
    "- KPN KON\n",
    "- EDP\n",
    "- VEOLIA ENVIRON.\n",
    "- ENGIE\n",
    "- BOUYGUES\n",
    "- VIVENDI SE\n",
    "- GECINA\n",
    "- CARREFOUR\n",
    "- AXA\n"
   ]
  },
  {
   "cell_type": "code",
   "execution_count": 44,
   "metadata": {},
   "outputs": [
    {
     "name": "stdout",
     "output_type": "stream",
     "text": [
      "[*********************100%***********************]  1 of 1 completed\n",
      "[*********************100%***********************]  1 of 1 completed\n",
      "[*********************100%***********************]  1 of 1 completed\n",
      "[*********************100%***********************]  1 of 1 completed\n",
      "[*********************100%***********************]  1 of 1 completed\n",
      "[*********************100%***********************]  1 of 1 completed\n",
      "[*********************100%***********************]  1 of 1 completed\n",
      "[*********************100%***********************]  1 of 1 completed\n",
      "[*********************100%***********************]  1 of 1 completed\n",
      "[*********************100%***********************]  1 of 1 completed\n"
     ]
    },
    {
     "name": "stderr",
     "output_type": "stream",
     "text": [
      "<ipython-input-44-e5f7c34c0351>:19: FutureWarning: Dropping of nuisance columns in DataFrame reductions (with 'numeric_only=None') is deprecated; in a future version this will raise TypeError.  Select only valid columns before calling the reduction.\n",
      "  data['sum'] = data.sum(axis=1).to_list()\n"
     ]
    },
    {
     "name": "stdout",
     "output_type": "stream",
     "text": [
      "[*********************100%***********************]  1 of 1 completed\n",
      "Growth of Portfolio: 0.3899242749400699\n",
      "Growth of Market Index: 0.15915794648500597\n"
     ]
    }
   ],
   "source": [
    "# 10 акций\n",
    "tickers_list = ['ORA.PA',\n",
    "                'KPN.AS',\n",
    "                'EDP.LS',\n",
    "                'VIE.PA',\n",
    "                'ENGI.PA',\n",
    "                'EN.PA',\n",
    "                'VIV.PA',\n",
    "                'GFC.PA',\n",
    "                'CA.PA',\n",
    "                'CS.PA']\n",
    "\n",
    "data = pd.DataFrame(columns=tickers_list)\n",
    "\n",
    "for ticker in tickers_list:\n",
    "    data[ticker] = yf.download(ticker,'2013-01-01','2014-01-01', interval='1mo')['Adj Close']\n",
    "\n",
    "data = data.reset_index()\n",
    "data['sum'] = data.sum(axis=1).to_list()\n",
    "\n",
    "df = pd.DataFrame(columns=tickers_list)\n",
    "for ticker in tickers_list:\n",
    "    div = sum(yf.Ticker(ticker).history(start='2013-01-01',end='2014-01-01').Dividends.to_list())\n",
    "    split = sum(yf.Ticker(ticker).history(start='2013-01-01',end='2014-01-01')['Stock Splits'].to_list())\n",
    "    df[ticker] = [div, split]\n",
    "df['sum'] = df.sum(axis=1).to_list()\n",
    "\n",
    "tickers_list = ['^N100']\n",
    "dt = pd.DataFrame(columns=tickers_list)\n",
    "for ticker in tickers_list:\n",
    "    dt[ticker] = yf.download(ticker,'2013-01-01','2014-01-01', interval='1mo')['Adj Close']\n",
    "    \n",
    "data['N-100'] = dt['^N100'].to_list()\n",
    "\n",
    "portfolio_g = (data['sum'][11] + df['sum'][0] - data['sum'][0]) / data['sum'][0]\n",
    "market_g = (data['N-100'][11] - data['N-100'][0]) / data['N-100'][0]\n",
    "\n",
    "lst_10.append(portfolio_g)\n",
    "market.append(market_g)\n",
    "\n",
    "if df['sum'][1] == 0:\n",
    "    print('Growth of Portfolio:', portfolio_g)\n",
    "    print('Growth of Market Index:', market_g)\n",
    "else:\n",
    "    print('Есть дробление акций')"
   ]
  },
  {
   "cell_type": "code",
   "execution_count": 45,
   "metadata": {},
   "outputs": [
    {
     "name": "stdout",
     "output_type": "stream",
     "text": [
      "[*********************100%***********************]  1 of 1 completed\n",
      "[*********************100%***********************]  1 of 1 completed\n",
      "[*********************100%***********************]  1 of 1 completed\n",
      "[*********************100%***********************]  1 of 1 completed\n",
      "[*********************100%***********************]  1 of 1 completed\n",
      "[*********************100%***********************]  1 of 1 completed\n",
      "[*********************100%***********************]  1 of 1 completed\n"
     ]
    },
    {
     "name": "stderr",
     "output_type": "stream",
     "text": [
      "<ipython-input-45-6f71c265c833>:16: FutureWarning: Dropping of nuisance columns in DataFrame reductions (with 'numeric_only=None') is deprecated; in a future version this will raise TypeError.  Select only valid columns before calling the reduction.\n",
      "  data['sum'] = data.sum(axis=1).to_list()\n"
     ]
    },
    {
     "name": "stdout",
     "output_type": "stream",
     "text": [
      "[*********************100%***********************]  1 of 1 completed\n",
      "Growth of Portfolio: 0.4141007870261016\n",
      "Growth of Market Index: 0.15915794648500597\n"
     ]
    }
   ],
   "source": [
    "# 7 акций\n",
    "tickers_list = ['ORA.PA',\n",
    "                'KPN.AS',\n",
    "                'EDP.LS',\n",
    "                'VIE.PA',\n",
    "                'ENGI.PA',\n",
    "                'EN.PA',\n",
    "                'VIV.PA']\n",
    "\n",
    "data = pd.DataFrame(columns=tickers_list)\n",
    "\n",
    "for ticker in tickers_list:\n",
    "    data[ticker] = yf.download(ticker,'2013-01-01','2014-01-01', interval='1mo')['Adj Close']\n",
    "\n",
    "data = data.reset_index()\n",
    "data['sum'] = data.sum(axis=1).to_list()\n",
    "\n",
    "df = pd.DataFrame(columns=tickers_list)\n",
    "for ticker in tickers_list:\n",
    "    div = sum(yf.Ticker(ticker).history(start='2013-01-01',end='2014-01-01').Dividends.to_list())\n",
    "    split = sum(yf.Ticker(ticker).history(start='2013-01-01',end='2014-01-01')['Stock Splits'].to_list())\n",
    "    df[ticker] = [div, split]\n",
    "df['sum'] = df.sum(axis=1).to_list()\n",
    "\n",
    "tickers_list = ['^N100']\n",
    "dt = pd.DataFrame(columns=tickers_list)\n",
    "for ticker in tickers_list:\n",
    "    dt[ticker] = yf.download(ticker,'2013-01-01','2014-01-01', interval='1mo')['Adj Close']\n",
    "    \n",
    "data['N-100'] = dt['^N100'].to_list()\n",
    "\n",
    "portfolio_g = (data['sum'][11] + df['sum'][0] - data['sum'][0]) / data['sum'][0]\n",
    "market_g = (data['N-100'][11] - data['N-100'][0]) / data['N-100'][0]\n",
    "\n",
    "lst_7.append(portfolio_g)\n",
    "\n",
    "if df['sum'][1] == 0:\n",
    "    print('Growth of Portfolio:', portfolio_g)\n",
    "    print('Growth of Market Index:', market_g)\n",
    "else:\n",
    "    print('Есть дробление акций')"
   ]
  },
  {
   "cell_type": "code",
   "execution_count": 46,
   "metadata": {},
   "outputs": [
    {
     "name": "stdout",
     "output_type": "stream",
     "text": [
      "[*********************100%***********************]  1 of 1 completed\n",
      "[*********************100%***********************]  1 of 1 completed\n",
      "[*********************100%***********************]  1 of 1 completed\n",
      "[*********************100%***********************]  1 of 1 completed\n",
      "[*********************100%***********************]  1 of 1 completed\n"
     ]
    },
    {
     "name": "stderr",
     "output_type": "stream",
     "text": [
      "<ipython-input-46-ec3e5a358e26>:14: FutureWarning: Dropping of nuisance columns in DataFrame reductions (with 'numeric_only=None') is deprecated; in a future version this will raise TypeError.  Select only valid columns before calling the reduction.\n",
      "  data['sum'] = data.sum(axis=1).to_list()\n"
     ]
    },
    {
     "name": "stdout",
     "output_type": "stream",
     "text": [
      "[*********************100%***********************]  1 of 1 completed\n",
      "Growth of Portfolio: 0.347976242433922\n",
      "Growth of Market Index: 0.15915794648500597\n"
     ]
    }
   ],
   "source": [
    "# 5 акций\n",
    "tickers_list = ['ORA.PA',\n",
    "                'KPN.AS',\n",
    "                'EDP.LS',\n",
    "                'VIE.PA',\n",
    "                'ENGI.PA']\n",
    "\n",
    "data = pd.DataFrame(columns=tickers_list)\n",
    "\n",
    "for ticker in tickers_list:\n",
    "    data[ticker] = yf.download(ticker,'2013-01-01','2014-01-01', interval='1mo')['Adj Close']\n",
    "\n",
    "data = data.reset_index()\n",
    "data['sum'] = data.sum(axis=1).to_list()\n",
    "\n",
    "df = pd.DataFrame(columns=tickers_list)\n",
    "for ticker in tickers_list:\n",
    "    div = sum(yf.Ticker(ticker).history(start='2013-01-01',end='2014-01-01').Dividends.to_list())\n",
    "    split = sum(yf.Ticker(ticker).history(start='2013-01-01',end='2014-01-01')['Stock Splits'].to_list())\n",
    "    df[ticker] = [div, split]\n",
    "df['sum'] = df.sum(axis=1).to_list()\n",
    "\n",
    "tickers_list = ['^N100']\n",
    "dt = pd.DataFrame(columns=tickers_list)\n",
    "for ticker in tickers_list:\n",
    "    dt[ticker] = yf.download(ticker,'2013-01-01','2014-01-01', interval='1mo')['Adj Close']\n",
    "    \n",
    "data['N-100'] = dt['^N100'].to_list()\n",
    "\n",
    "portfolio_g = (data['sum'][11] + df['sum'][0] - data['sum'][0]) / data['sum'][0]\n",
    "market_g = (data['N-100'][11] - data['N-100'][0]) / data['N-100'][0]\n",
    "\n",
    "lst_5.append(portfolio_g)\n",
    "\n",
    "if df['sum'][1] == 0:\n",
    "    print('Growth of Portfolio:', portfolio_g)\n",
    "    print('Growth of Market Index:', market_g)\n",
    "else:\n",
    "    print('Есть дробление акций')"
   ]
  },
  {
   "cell_type": "code",
   "execution_count": 47,
   "metadata": {},
   "outputs": [
    {
     "name": "stdout",
     "output_type": "stream",
     "text": [
      "[*********************100%***********************]  1 of 1 completed\n",
      "[*********************100%***********************]  1 of 1 completed\n",
      "[*********************100%***********************]  1 of 1 completed\n"
     ]
    },
    {
     "name": "stderr",
     "output_type": "stream",
     "text": [
      "<ipython-input-47-e9953837f132>:12: FutureWarning: Dropping of nuisance columns in DataFrame reductions (with 'numeric_only=None') is deprecated; in a future version this will raise TypeError.  Select only valid columns before calling the reduction.\n",
      "  data['sum'] = data.sum(axis=1).to_list()\n"
     ]
    },
    {
     "name": "stdout",
     "output_type": "stream",
     "text": [
      "[*********************100%***********************]  1 of 1 completed\n",
      "Growth of Portfolio: 0.17568450566308272\n",
      "Growth of Market Index: 0.15915794648500597\n"
     ]
    }
   ],
   "source": [
    "# 3 акции\n",
    "tickers_list = ['ORA.PA',\n",
    "                'KPN.AS',\n",
    "                'EDP.LS']\n",
    "\n",
    "data = pd.DataFrame(columns=tickers_list)\n",
    "\n",
    "for ticker in tickers_list:\n",
    "    data[ticker] = yf.download(ticker,'2013-01-01','2014-01-01', interval='1mo')['Adj Close']\n",
    "\n",
    "data = data.reset_index()\n",
    "data['sum'] = data.sum(axis=1).to_list()\n",
    "\n",
    "df = pd.DataFrame(columns=tickers_list)\n",
    "for ticker in tickers_list:\n",
    "    div = sum(yf.Ticker(ticker).history(start='2013-01-01',end='2014-01-01').Dividends.to_list())\n",
    "    split = sum(yf.Ticker(ticker).history(start='2013-01-01',end='2014-01-01')['Stock Splits'].to_list())\n",
    "    df[ticker] = [div, split]\n",
    "df['sum'] = df.sum(axis=1).to_list()\n",
    "\n",
    "tickers_list = ['^N100']\n",
    "dt = pd.DataFrame(columns=tickers_list)\n",
    "for ticker in tickers_list:\n",
    "    dt[ticker] = yf.download(ticker,'2013-01-01','2014-01-01', interval='1mo')['Adj Close']\n",
    "    \n",
    "data['N-100'] = dt['^N100'].to_list()\n",
    "\n",
    "portfolio_g = (data['sum'][11] + df['sum'][0] - data['sum'][0]) / data['sum'][0]\n",
    "market_g = (data['N-100'][11] - data['N-100'][0]) / data['N-100'][0]\n",
    "\n",
    "lst_3.append(portfolio_g)\n",
    "\n",
    "if df['sum'][1] == 0:\n",
    "    print('Growth of Portfolio:', portfolio_g)\n",
    "    print('Growth of Market Index:', market_g)\n",
    "else:\n",
    "    print('Есть дробление акций')"
   ]
  },
  {
   "cell_type": "code",
   "execution_count": 48,
   "metadata": {},
   "outputs": [
    {
     "name": "stdout",
     "output_type": "stream",
     "text": [
      "[*********************100%***********************]  1 of 1 completed\n"
     ]
    },
    {
     "name": "stderr",
     "output_type": "stream",
     "text": [
      "<ipython-input-48-90372c894a4e>:10: FutureWarning: Dropping of nuisance columns in DataFrame reductions (with 'numeric_only=None') is deprecated; in a future version this will raise TypeError.  Select only valid columns before calling the reduction.\n",
      "  data['sum'] = data.sum(axis=1).to_list()\n"
     ]
    },
    {
     "name": "stdout",
     "output_type": "stream",
     "text": [
      "[*********************100%***********************]  1 of 1 completed\n",
      "Growth of Portfolio: 0.209043689393008\n",
      "Growth of Market Index: 0.15915794648500597\n"
     ]
    }
   ],
   "source": [
    "# 1 акция\n",
    "tickers_list = ['ORA.PA']\n",
    "\n",
    "data = pd.DataFrame(columns=tickers_list)\n",
    "\n",
    "for ticker in tickers_list:\n",
    "    data[ticker] = yf.download(ticker,'2013-01-01','2014-01-01', interval='1mo')['Adj Close']\n",
    "\n",
    "data = data.reset_index()\n",
    "data['sum'] = data.sum(axis=1).to_list()\n",
    "\n",
    "df = pd.DataFrame(columns=tickers_list)\n",
    "for ticker in tickers_list:\n",
    "    div = sum(yf.Ticker(ticker).history(start='2013-01-01',end='2014-01-01').Dividends.to_list())\n",
    "    split = sum(yf.Ticker(ticker).history(start='2013-01-01',end='2014-01-01')['Stock Splits'].to_list())\n",
    "    df[ticker] = [div, split]\n",
    "df['sum'] = df.sum(axis=1).to_list()\n",
    "\n",
    "tickers_list = ['^N100']\n",
    "dt = pd.DataFrame(columns=tickers_list)\n",
    "for ticker in tickers_list:\n",
    "    dt[ticker] = yf.download(ticker,'2013-01-01','2014-01-01', interval='1mo')['Adj Close']\n",
    "    \n",
    "data['N-100'] = dt['^N100'].to_list()\n",
    "\n",
    "portfolio_g = (data['sum'][11] + df['sum'][0] - data['sum'][0]) / data['sum'][0]\n",
    "market_g = (data['N-100'][11] - data['N-100'][0]) / data['N-100'][0]\n",
    "\n",
    "lst_1.append(portfolio_g)\n",
    "\n",
    "if df['sum'][1] == 0:\n",
    "    print('Growth of Portfolio:', portfolio_g)\n",
    "    print('Growth of Market Index:', market_g)\n",
    "else:\n",
    "    print('Есть дробление акций')"
   ]
  },
  {
   "cell_type": "markdown",
   "metadata": {},
   "source": [
    "### Портфель на 2014 год\n",
    "_По данным за 2013_\n",
    "\n",
    "- ORANGE\n",
    "- ENGIE\n",
    "- EDP\n",
    "- BOUYGUES\n",
    "- VEOLIA ENVIRON.\n",
    "- VIVENDI SE\n",
    "- TOTALENERGIES\n",
    "- SHELL PLC\n",
    "- AXA\n",
    "- GECINA\n"
   ]
  },
  {
   "cell_type": "code",
   "execution_count": 49,
   "metadata": {},
   "outputs": [
    {
     "name": "stdout",
     "output_type": "stream",
     "text": [
      "[*********************100%***********************]  1 of 1 completed\n",
      "[*********************100%***********************]  1 of 1 completed\n",
      "[*********************100%***********************]  1 of 1 completed\n",
      "[*********************100%***********************]  1 of 1 completed\n",
      "[*********************100%***********************]  1 of 1 completed\n",
      "[*********************100%***********************]  1 of 1 completed\n",
      "[*********************100%***********************]  1 of 1 completed\n",
      "[*********************100%***********************]  1 of 1 completed\n",
      "[*********************100%***********************]  1 of 1 completed\n",
      "[*********************100%***********************]  1 of 1 completed\n"
     ]
    },
    {
     "name": "stderr",
     "output_type": "stream",
     "text": [
      "<ipython-input-49-3165317912f9>:19: FutureWarning: Dropping of nuisance columns in DataFrame reductions (with 'numeric_only=None') is deprecated; in a future version this will raise TypeError.  Select only valid columns before calling the reduction.\n",
      "  data['sum'] = data.sum(axis=1).to_list()\n"
     ]
    },
    {
     "name": "stdout",
     "output_type": "stream",
     "text": [
      "[*********************100%***********************]  1 of 1 completed\n",
      "Growth of Portfolio: 0.2534268514292325\n",
      "Growth of Market Index: 0.06730402666123084\n"
     ]
    }
   ],
   "source": [
    "# 10 акций\n",
    "tickers_list = ['ORA.PA',\n",
    "                'ENGI.PA',\n",
    "                'EDP.LS',\n",
    "                'EN.PA',\n",
    "                'VIE.PA',\n",
    "                'VIV.PA',\n",
    "                'TTE.PA',\n",
    "                'SHELL.AS',\n",
    "                'CS.PA',\n",
    "                'GFC.PA']\n",
    "\n",
    "data = pd.DataFrame(columns=tickers_list)\n",
    "\n",
    "for ticker in tickers_list:\n",
    "    data[ticker] = yf.download(ticker,'2014-01-01','2015-01-01', interval='1mo')['Adj Close']\n",
    "\n",
    "data = data.reset_index()\n",
    "data['sum'] = data.sum(axis=1).to_list()\n",
    "\n",
    "df = pd.DataFrame(columns=tickers_list)\n",
    "for ticker in tickers_list:\n",
    "    div = sum(yf.Ticker(ticker).history(start='2014-01-01',end='2015-01-01').Dividends.to_list())\n",
    "    split = sum(yf.Ticker(ticker).history(start='2014-01-01',end='2015-01-01')['Stock Splits'].to_list())\n",
    "    df[ticker] = [div, split]\n",
    "df['sum'] = df.sum(axis=1).to_list()\n",
    "\n",
    "tickers_list = ['^N100']\n",
    "dt = pd.DataFrame(columns=tickers_list)\n",
    "for ticker in tickers_list:\n",
    "    dt[ticker] = yf.download(ticker,'2014-01-01','2015-01-01', interval='1mo')['Adj Close']\n",
    "    \n",
    "data['N-100'] = dt['^N100'].to_list()\n",
    "\n",
    "portfolio_g = (data['sum'][11] + df['sum'][0] - data['sum'][0]) / data['sum'][0]\n",
    "market_g = (data['N-100'][11] - data['N-100'][0]) / data['N-100'][0]\n",
    "\n",
    "lst_10.append(portfolio_g)\n",
    "market.append(market_g)\n",
    "\n",
    "if df['sum'][1] == 0:\n",
    "    print('Growth of Portfolio:', portfolio_g)\n",
    "    print('Growth of Market Index:', market_g)\n",
    "else:\n",
    "    print('Есть дробление акций')"
   ]
  },
  {
   "cell_type": "code",
   "execution_count": 50,
   "metadata": {},
   "outputs": [
    {
     "name": "stdout",
     "output_type": "stream",
     "text": [
      "[*********************100%***********************]  1 of 1 completed\n",
      "[*********************100%***********************]  1 of 1 completed\n",
      "[*********************100%***********************]  1 of 1 completed\n",
      "[*********************100%***********************]  1 of 1 completed\n",
      "[*********************100%***********************]  1 of 1 completed\n",
      "[*********************100%***********************]  1 of 1 completed\n",
      "[*********************100%***********************]  1 of 1 completed\n"
     ]
    },
    {
     "name": "stderr",
     "output_type": "stream",
     "text": [
      "<ipython-input-50-aba32d90f865>:16: FutureWarning: Dropping of nuisance columns in DataFrame reductions (with 'numeric_only=None') is deprecated; in a future version this will raise TypeError.  Select only valid columns before calling the reduction.\n",
      "  data['sum'] = data.sum(axis=1).to_list()\n"
     ]
    },
    {
     "name": "stdout",
     "output_type": "stream",
     "text": [
      "[*********************100%***********************]  1 of 1 completed\n",
      "Growth of Portfolio: 0.2619842079679073\n",
      "Growth of Market Index: 0.06730402666123084\n"
     ]
    }
   ],
   "source": [
    "# 7 акций\n",
    "tickers_list = ['ORA.PA',\n",
    "                'ENGI.PA',\n",
    "                'EDP.LS',\n",
    "                'EN.PA',\n",
    "                'VIE.PA',\n",
    "                'VIV.PA',\n",
    "                'TTE.PA']\n",
    "\n",
    "data = pd.DataFrame(columns=tickers_list)\n",
    "\n",
    "for ticker in tickers_list:\n",
    "    data[ticker] = yf.download(ticker,'2014-01-01','2015-01-01', interval='1mo')['Adj Close']\n",
    "\n",
    "data = data.reset_index()\n",
    "data['sum'] = data.sum(axis=1).to_list()\n",
    "\n",
    "df = pd.DataFrame(columns=tickers_list)\n",
    "for ticker in tickers_list:\n",
    "    div = sum(yf.Ticker(ticker).history(start='2014-01-01',end='2015-01-01').Dividends.to_list())\n",
    "    split = sum(yf.Ticker(ticker).history(start='2014-01-01',end='2015-01-01')['Stock Splits'].to_list())\n",
    "    df[ticker] = [div, split]\n",
    "df['sum'] = df.sum(axis=1).to_list()\n",
    "\n",
    "tickers_list = ['^N100']\n",
    "dt = pd.DataFrame(columns=tickers_list)\n",
    "for ticker in tickers_list:\n",
    "    dt[ticker] = yf.download(ticker,'2014-01-01','2015-01-01', interval='1mo')['Adj Close']\n",
    "    \n",
    "data['N-100'] = dt['^N100'].to_list()\n",
    "\n",
    "portfolio_g = (data['sum'][11] + df['sum'][0] - data['sum'][0]) / data['sum'][0]\n",
    "market_g = (data['N-100'][11] - data['N-100'][0]) / data['N-100'][0]\n",
    "\n",
    "lst_7.append(portfolio_g)\n",
    "\n",
    "if df['sum'][1] == 0:\n",
    "    print('Growth of Portfolio:', portfolio_g)\n",
    "    print('Growth of Market Index:', market_g)\n",
    "else:\n",
    "    print('Есть дробление акций')"
   ]
  },
  {
   "cell_type": "code",
   "execution_count": 51,
   "metadata": {},
   "outputs": [
    {
     "name": "stdout",
     "output_type": "stream",
     "text": [
      "[*********************100%***********************]  1 of 1 completed\n",
      "[*********************100%***********************]  1 of 1 completed\n",
      "[*********************100%***********************]  1 of 1 completed\n",
      "[*********************100%***********************]  1 of 1 completed\n",
      "[*********************100%***********************]  1 of 1 completed\n"
     ]
    },
    {
     "name": "stderr",
     "output_type": "stream",
     "text": [
      "<ipython-input-51-d15d47f59716>:14: FutureWarning: Dropping of nuisance columns in DataFrame reductions (with 'numeric_only=None') is deprecated; in a future version this will raise TypeError.  Select only valid columns before calling the reduction.\n",
      "  data['sum'] = data.sum(axis=1).to_list()\n"
     ]
    },
    {
     "name": "stdout",
     "output_type": "stream",
     "text": [
      "[*********************100%***********************]  1 of 1 completed\n",
      "Growth of Portfolio: 0.36655862249288307\n",
      "Growth of Market Index: 0.06730402666123084\n"
     ]
    }
   ],
   "source": [
    "# 5 акций\n",
    "tickers_list = ['ORA.PA',\n",
    "                'ENGI.PA',\n",
    "                'EDP.LS',\n",
    "                'EN.PA',\n",
    "                'VIE.PA']\n",
    "\n",
    "data = pd.DataFrame(columns=tickers_list)\n",
    "\n",
    "for ticker in tickers_list:\n",
    "    data[ticker] = yf.download(ticker,'2014-01-01','2015-01-01', interval='1mo')['Adj Close']\n",
    "\n",
    "data = data.reset_index()\n",
    "data['sum'] = data.sum(axis=1).to_list()\n",
    "\n",
    "df = pd.DataFrame(columns=tickers_list)\n",
    "for ticker in tickers_list:\n",
    "    div = sum(yf.Ticker(ticker).history(start='2014-01-01',end='2015-01-01').Dividends.to_list())\n",
    "    split = sum(yf.Ticker(ticker).history(start='2014-01-01',end='2015-01-01')['Stock Splits'].to_list())\n",
    "    df[ticker] = [div, split]\n",
    "df['sum'] = df.sum(axis=1).to_list()\n",
    "\n",
    "tickers_list = ['^N100']\n",
    "dt = pd.DataFrame(columns=tickers_list)\n",
    "for ticker in tickers_list:\n",
    "    dt[ticker] = yf.download(ticker,'2014-01-01','2015-01-01', interval='1mo')['Adj Close']\n",
    "    \n",
    "data['N-100'] = dt['^N100'].to_list()\n",
    "\n",
    "portfolio_g = (data['sum'][11] + df['sum'][0] - data['sum'][0]) / data['sum'][0]\n",
    "market_g = (data['N-100'][11] - data['N-100'][0]) / data['N-100'][0]\n",
    "\n",
    "lst_5.append(portfolio_g)\n",
    "\n",
    "if df['sum'][1] == 0:\n",
    "    print('Growth of Portfolio:', portfolio_g)\n",
    "    print('Growth of Market Index:', market_g)\n",
    "else:\n",
    "    print('Есть дробление акций')"
   ]
  },
  {
   "cell_type": "code",
   "execution_count": 52,
   "metadata": {},
   "outputs": [
    {
     "name": "stdout",
     "output_type": "stream",
     "text": [
      "[*********************100%***********************]  1 of 1 completed\n",
      "[*********************100%***********************]  1 of 1 completed\n",
      "[*********************100%***********************]  1 of 1 completed\n"
     ]
    },
    {
     "name": "stderr",
     "output_type": "stream",
     "text": [
      "<ipython-input-52-2af618f315c9>:12: FutureWarning: Dropping of nuisance columns in DataFrame reductions (with 'numeric_only=None') is deprecated; in a future version this will raise TypeError.  Select only valid columns before calling the reduction.\n",
      "  data['sum'] = data.sum(axis=1).to_list()\n"
     ]
    },
    {
     "name": "stdout",
     "output_type": "stream",
     "text": [
      "[*********************100%***********************]  1 of 1 completed\n",
      "Growth of Portfolio: 0.5218766154389451\n",
      "Growth of Market Index: 0.06730402666123084\n"
     ]
    }
   ],
   "source": [
    "# 3 акции\n",
    "tickers_list = ['ORA.PA',\n",
    "                'ENGI.PA',\n",
    "                'EDP.LS']\n",
    "\n",
    "data = pd.DataFrame(columns=tickers_list)\n",
    "\n",
    "for ticker in tickers_list:\n",
    "    data[ticker] = yf.download(ticker,'2014-01-01','2015-01-01', interval='1mo')['Adj Close']\n",
    "\n",
    "data = data.reset_index()\n",
    "data['sum'] = data.sum(axis=1).to_list()\n",
    "\n",
    "df = pd.DataFrame(columns=tickers_list)\n",
    "for ticker in tickers_list:\n",
    "    div = sum(yf.Ticker(ticker).history(start='2014-01-01',end='2015-01-01').Dividends.to_list())\n",
    "    split = sum(yf.Ticker(ticker).history(start='2014-01-01',end='2015-01-01')['Stock Splits'].to_list())\n",
    "    df[ticker] = [div, split]\n",
    "df['sum'] = df.sum(axis=1).to_list()\n",
    "\n",
    "tickers_list = ['^N100']\n",
    "dt = pd.DataFrame(columns=tickers_list)\n",
    "for ticker in tickers_list:\n",
    "    dt[ticker] = yf.download(ticker,'2014-01-01','2015-01-01', interval='1mo')['Adj Close']\n",
    "    \n",
    "data['N-100'] = dt['^N100'].to_list()\n",
    "\n",
    "portfolio_g = (data['sum'][11] + df['sum'][0] - data['sum'][0]) / data['sum'][0]\n",
    "market_g = (data['N-100'][11] - data['N-100'][0]) / data['N-100'][0]\n",
    "\n",
    "lst_3.append(portfolio_g)\n",
    "\n",
    "if df['sum'][1] == 0:\n",
    "    print('Growth of Portfolio:', portfolio_g)\n",
    "    print('Growth of Market Index:', market_g)\n",
    "else:\n",
    "    print('Есть дробление акций')"
   ]
  },
  {
   "cell_type": "code",
   "execution_count": 53,
   "metadata": {},
   "outputs": [
    {
     "name": "stdout",
     "output_type": "stream",
     "text": [
      "[*********************100%***********************]  1 of 1 completed\n"
     ]
    },
    {
     "name": "stderr",
     "output_type": "stream",
     "text": [
      "<ipython-input-53-c1f490033d8d>:10: FutureWarning: Dropping of nuisance columns in DataFrame reductions (with 'numeric_only=None') is deprecated; in a future version this will raise TypeError.  Select only valid columns before calling the reduction.\n",
      "  data['sum'] = data.sum(axis=1).to_list()\n"
     ]
    },
    {
     "name": "stdout",
     "output_type": "stream",
     "text": [
      "[*********************100%***********************]  1 of 1 completed\n",
      "Growth of Portfolio: 0.7325256238588983\n",
      "Growth of Market Index: 0.06730402666123084\n"
     ]
    }
   ],
   "source": [
    "# 1 акция\n",
    "tickers_list = ['ORA.PA']\n",
    "\n",
    "data = pd.DataFrame(columns=tickers_list)\n",
    "\n",
    "for ticker in tickers_list:\n",
    "    data[ticker] = yf.download(ticker,'2014-01-01','2015-01-01', interval='1mo')['Adj Close']\n",
    "\n",
    "data = data.reset_index()\n",
    "data['sum'] = data.sum(axis=1).to_list()\n",
    "\n",
    "df = pd.DataFrame(columns=tickers_list)\n",
    "for ticker in tickers_list:\n",
    "    div = sum(yf.Ticker(ticker).history(start='2014-01-01',end='2015-01-01').Dividends.to_list())\n",
    "    split = sum(yf.Ticker(ticker).history(start='2014-01-01',end='2015-01-01')['Stock Splits'].to_list())\n",
    "    df[ticker] = [div, split]\n",
    "df['sum'] = df.sum(axis=1).to_list()\n",
    "\n",
    "tickers_list = ['^N100']\n",
    "dt = pd.DataFrame(columns=tickers_list)\n",
    "for ticker in tickers_list:\n",
    "    dt[ticker] = yf.download(ticker,'2014-01-01','2015-01-01', interval='1mo')['Adj Close']\n",
    "    \n",
    "data['N-100'] = dt['^N100'].to_list()\n",
    "\n",
    "portfolio_g = (data['sum'][11] + df['sum'][0] - data['sum'][0]) / data['sum'][0]\n",
    "market_g = (data['N-100'][11] - data['N-100'][0]) / data['N-100'][0]\n",
    "\n",
    "lst_1.append(portfolio_g)\n",
    "\n",
    "if df['sum'][1] == 0:\n",
    "    print('Growth of Portfolio:', portfolio_g)\n",
    "    print('Growth of Market Index:', market_g)\n",
    "else:\n",
    "    print('Есть дробление акций')"
   ]
  },
  {
   "cell_type": "markdown",
   "metadata": {},
   "source": [
    "### Портфель на 2015 год\n",
    "_По данным за 2014_\n",
    "\n",
    "- ENGIE\n",
    "- EDP\n",
    "- ORANGE\n",
    "- BOUYGUES\n",
    "- TOTALENERGIES\n",
    "- VEOLIA ENVIRON.\n",
    "- SHELL PLC\n",
    "- VIVENDI SE\n",
    "- GECINA\n",
    "- UNIBAIL-RODAMCO-WE\n"
   ]
  },
  {
   "cell_type": "code",
   "execution_count": 54,
   "metadata": {},
   "outputs": [
    {
     "name": "stdout",
     "output_type": "stream",
     "text": [
      "[*********************100%***********************]  1 of 1 completed\n",
      "[*********************100%***********************]  1 of 1 completed\n",
      "[*********************100%***********************]  1 of 1 completed\n",
      "[*********************100%***********************]  1 of 1 completed\n",
      "[*********************100%***********************]  1 of 1 completed\n",
      "[*********************100%***********************]  1 of 1 completed\n",
      "[*********************100%***********************]  1 of 1 completed\n",
      "[*********************100%***********************]  1 of 1 completed\n",
      "[*********************100%***********************]  1 of 1 completed\n",
      "[*********************100%***********************]  1 of 1 completed\n"
     ]
    },
    {
     "name": "stderr",
     "output_type": "stream",
     "text": [
      "<ipython-input-54-8490716731e9>:19: FutureWarning: Dropping of nuisance columns in DataFrame reductions (with 'numeric_only=None') is deprecated; in a future version this will raise TypeError.  Select only valid columns before calling the reduction.\n",
      "  data['sum'] = data.sum(axis=1).to_list()\n"
     ]
    },
    {
     "name": "stdout",
     "output_type": "stream",
     "text": [
      "[*********************100%***********************]  1 of 1 completed\n",
      "Growth of Portfolio: 0.06919070514008488\n",
      "Growth of Market Index: 5.51571162916746e-05\n"
     ]
    }
   ],
   "source": [
    "# 10 акций\n",
    "tickers_list = ['ENGI.PA',\n",
    "                'EDP.LS',\n",
    "                'ORA.PA',\n",
    "                'EN.PA',\n",
    "                'TTE.PA',\n",
    "                'VIE.PA',\n",
    "                'SHELL.AS',\n",
    "                'VIV.PA',\n",
    "                'GFC.PA',\n",
    "                'URW.AS']\n",
    "\n",
    "data = pd.DataFrame(columns=tickers_list)\n",
    "\n",
    "for ticker in tickers_list:\n",
    "    data[ticker] = yf.download(ticker,'2015-01-01','2016-01-01', interval='1mo')['Adj Close']\n",
    "\n",
    "data = data.reset_index()\n",
    "data['sum'] = data.sum(axis=1).to_list()\n",
    "\n",
    "df = pd.DataFrame(columns=tickers_list)\n",
    "for ticker in tickers_list:\n",
    "    div = sum(yf.Ticker(ticker).history(start='2015-01-01',end='2016-01-01').Dividends.to_list())\n",
    "    split = sum(yf.Ticker(ticker).history(start='2015-01-01',end='2016-01-01')['Stock Splits'].to_list())\n",
    "    df[ticker] = [div, split]\n",
    "df['sum'] = df.sum(axis=1).to_list()\n",
    "\n",
    "tickers_list = ['^N100']\n",
    "dt = pd.DataFrame(columns=tickers_list)\n",
    "for ticker in tickers_list:\n",
    "    dt[ticker] = yf.download(ticker,'2015-01-01','2016-01-01', interval='1mo')['Adj Close']\n",
    "    \n",
    "data['N-100'] = dt['^N100'].to_list()\n",
    "\n",
    "portfolio_g = (data['sum'][11] + df['sum'][0] - data['sum'][0]) / data['sum'][0]\n",
    "market_g = (data['N-100'][11] - data['N-100'][0]) / data['N-100'][0]\n",
    "\n",
    "lst_10.append(portfolio_g)\n",
    "market.append(market_g)\n",
    "\n",
    "if df['sum'][1] == 0:\n",
    "    print('Growth of Portfolio:', portfolio_g)\n",
    "    print('Growth of Market Index:', market_g)\n",
    "else:\n",
    "    print('Есть дробление акций')"
   ]
  },
  {
   "cell_type": "code",
   "execution_count": 55,
   "metadata": {},
   "outputs": [
    {
     "name": "stdout",
     "output_type": "stream",
     "text": [
      "[*********************100%***********************]  1 of 1 completed\n",
      "[*********************100%***********************]  1 of 1 completed\n",
      "[*********************100%***********************]  1 of 1 completed\n",
      "[*********************100%***********************]  1 of 1 completed\n",
      "[*********************100%***********************]  1 of 1 completed\n",
      "[*********************100%***********************]  1 of 1 completed\n",
      "[*********************100%***********************]  1 of 1 completed\n"
     ]
    },
    {
     "name": "stderr",
     "output_type": "stream",
     "text": [
      "<ipython-input-55-cbd876a5e247>:16: FutureWarning: Dropping of nuisance columns in DataFrame reductions (with 'numeric_only=None') is deprecated; in a future version this will raise TypeError.  Select only valid columns before calling the reduction.\n",
      "  data['sum'] = data.sum(axis=1).to_list()\n"
     ]
    },
    {
     "name": "stdout",
     "output_type": "stream",
     "text": [
      "[*********************100%***********************]  1 of 1 completed\n",
      "Growth of Portfolio: 0.1158559379749003\n",
      "Growth of Market Index: 5.51571162916746e-05\n"
     ]
    }
   ],
   "source": [
    "# 7 акций\n",
    "tickers_list = ['ENGI.PA',\n",
    "                'EDP.LS',\n",
    "                'ORA.PA',\n",
    "                'EN.PA',\n",
    "                'TTE.PA',\n",
    "                'VIE.PA',\n",
    "                'SHELL.AS']\n",
    "\n",
    "data = pd.DataFrame(columns=tickers_list)\n",
    "\n",
    "for ticker in tickers_list:\n",
    "    data[ticker] = yf.download(ticker,'2015-01-01','2016-01-01', interval='1mo')['Adj Close']\n",
    "\n",
    "data = data.reset_index()\n",
    "data['sum'] = data.sum(axis=1).to_list()\n",
    "\n",
    "df = pd.DataFrame(columns=tickers_list)\n",
    "for ticker in tickers_list:\n",
    "    div = sum(yf.Ticker(ticker).history(start='2015-01-01',end='2016-01-01').Dividends.to_list())\n",
    "    split = sum(yf.Ticker(ticker).history(start='2015-01-01',end='2016-01-01')['Stock Splits'].to_list())\n",
    "    df[ticker] = [div, split]\n",
    "df['sum'] = df.sum(axis=1).to_list()\n",
    "\n",
    "tickers_list = ['^N100']\n",
    "dt = pd.DataFrame(columns=tickers_list)\n",
    "for ticker in tickers_list:\n",
    "    dt[ticker] = yf.download(ticker,'2015-01-01','2016-01-01', interval='1mo')['Adj Close']\n",
    "    \n",
    "data['N-100'] = dt['^N100'].to_list()\n",
    "\n",
    "portfolio_g = (data['sum'][11] + df['sum'][0] - data['sum'][0]) / data['sum'][0]\n",
    "market_g = (data['N-100'][11] - data['N-100'][0]) / data['N-100'][0]\n",
    "\n",
    "lst_7.append(portfolio_g)\n",
    "\n",
    "if df['sum'][1] == 0:\n",
    "    print('Growth of Portfolio:', portfolio_g)\n",
    "    print('Growth of Market Index:', market_g)\n",
    "else:\n",
    "    print('Есть дробление акций')"
   ]
  },
  {
   "cell_type": "code",
   "execution_count": 56,
   "metadata": {},
   "outputs": [
    {
     "name": "stdout",
     "output_type": "stream",
     "text": [
      "[*********************100%***********************]  1 of 1 completed\n",
      "[*********************100%***********************]  1 of 1 completed\n",
      "[*********************100%***********************]  1 of 1 completed\n",
      "[*********************100%***********************]  1 of 1 completed\n",
      "[*********************100%***********************]  1 of 1 completed\n"
     ]
    },
    {
     "name": "stderr",
     "output_type": "stream",
     "text": [
      "<ipython-input-56-f52096444f06>:14: FutureWarning: Dropping of nuisance columns in DataFrame reductions (with 'numeric_only=None') is deprecated; in a future version this will raise TypeError.  Select only valid columns before calling the reduction.\n",
      "  data['sum'] = data.sum(axis=1).to_list()\n"
     ]
    },
    {
     "name": "stdout",
     "output_type": "stream",
     "text": [
      "[*********************100%***********************]  1 of 1 completed\n",
      "Growth of Portfolio: 0.10538157143805328\n",
      "Growth of Market Index: 5.51571162916746e-05\n"
     ]
    }
   ],
   "source": [
    "# 5 акций\n",
    "tickers_list = ['ENGI.PA',\n",
    "                'EDP.LS',\n",
    "                'ORA.PA',\n",
    "                'EN.PA',\n",
    "                'TTE.PA']\n",
    "\n",
    "data = pd.DataFrame(columns=tickers_list)\n",
    "\n",
    "for ticker in tickers_list:\n",
    "    data[ticker] = yf.download(ticker,'2015-01-01','2016-01-01', interval='1mo')['Adj Close']\n",
    "\n",
    "data = data.reset_index()\n",
    "data['sum'] = data.sum(axis=1).to_list()\n",
    "\n",
    "df = pd.DataFrame(columns=tickers_list)\n",
    "for ticker in tickers_list:\n",
    "    div = sum(yf.Ticker(ticker).history(start='2015-01-01',end='2016-01-01').Dividends.to_list())\n",
    "    split = sum(yf.Ticker(ticker).history(start='2015-01-01',end='2016-01-01')['Stock Splits'].to_list())\n",
    "    df[ticker] = [div, split]\n",
    "df['sum'] = df.sum(axis=1).to_list()\n",
    "\n",
    "tickers_list = ['^N100']\n",
    "dt = pd.DataFrame(columns=tickers_list)\n",
    "for ticker in tickers_list:\n",
    "    dt[ticker] = yf.download(ticker,'2015-01-01','2016-01-01', interval='1mo')['Adj Close']\n",
    "    \n",
    "data['N-100'] = dt['^N100'].to_list()\n",
    "\n",
    "portfolio_g = (data['sum'][11] + df['sum'][0] - data['sum'][0]) / data['sum'][0]\n",
    "market_g = (data['N-100'][11] - data['N-100'][0]) / data['N-100'][0]\n",
    "\n",
    "lst_5.append(portfolio_g)\n",
    "\n",
    "if df['sum'][1] == 0:\n",
    "    print('Growth of Portfolio:', portfolio_g)\n",
    "    print('Growth of Market Index:', market_g)\n",
    "else:\n",
    "    print('Есть дробление акций')"
   ]
  },
  {
   "cell_type": "code",
   "execution_count": 57,
   "metadata": {},
   "outputs": [
    {
     "name": "stdout",
     "output_type": "stream",
     "text": [
      "[*********************100%***********************]  1 of 1 completed\n",
      "[*********************100%***********************]  1 of 1 completed\n",
      "[*********************100%***********************]  1 of 1 completed\n"
     ]
    },
    {
     "name": "stderr",
     "output_type": "stream",
     "text": [
      "<ipython-input-57-bf4c8a3f4212>:12: FutureWarning: Dropping of nuisance columns in DataFrame reductions (with 'numeric_only=None') is deprecated; in a future version this will raise TypeError.  Select only valid columns before calling the reduction.\n",
      "  data['sum'] = data.sum(axis=1).to_list()\n"
     ]
    },
    {
     "name": "stdout",
     "output_type": "stream",
     "text": [
      "[*********************100%***********************]  1 of 1 completed\n",
      "Growth of Portfolio: 0.03565785982728072\n",
      "Growth of Market Index: 5.51571162916746e-05\n"
     ]
    }
   ],
   "source": [
    "# 3 акции\n",
    "tickers_list = ['ENGI.PA',\n",
    "                'EDP.LS',\n",
    "                'ORA.PA']\n",
    "\n",
    "data = pd.DataFrame(columns=tickers_list)\n",
    "\n",
    "for ticker in tickers_list:\n",
    "    data[ticker] = yf.download(ticker,'2015-01-01','2016-01-01', interval='1mo')['Adj Close']\n",
    "\n",
    "data = data.reset_index()\n",
    "data['sum'] = data.sum(axis=1).to_list()\n",
    "\n",
    "df = pd.DataFrame(columns=tickers_list)\n",
    "for ticker in tickers_list:\n",
    "    div = sum(yf.Ticker(ticker).history(start='2015-01-01',end='2016-01-01').Dividends.to_list())\n",
    "    split = sum(yf.Ticker(ticker).history(start='2015-01-01',end='2016-01-01')['Stock Splits'].to_list())\n",
    "    df[ticker] = [div, split]\n",
    "df['sum'] = df.sum(axis=1).to_list()\n",
    "\n",
    "tickers_list = ['^N100']\n",
    "dt = pd.DataFrame(columns=tickers_list)\n",
    "for ticker in tickers_list:\n",
    "    dt[ticker] = yf.download(ticker,'2015-01-01','2016-01-01', interval='1mo')['Adj Close']\n",
    "    \n",
    "data['N-100'] = dt['^N100'].to_list()\n",
    "\n",
    "portfolio_g = (data['sum'][11] + df['sum'][0] - data['sum'][0]) / data['sum'][0]\n",
    "market_g = (data['N-100'][11] - data['N-100'][0]) / data['N-100'][0]\n",
    "\n",
    "lst_3.append(portfolio_g)\n",
    "\n",
    "if df['sum'][1] == 0:\n",
    "    print('Growth of Portfolio:', portfolio_g)\n",
    "    print('Growth of Market Index:', market_g)\n",
    "else:\n",
    "    print('Есть дробление акций')"
   ]
  },
  {
   "cell_type": "code",
   "execution_count": 58,
   "metadata": {},
   "outputs": [
    {
     "name": "stdout",
     "output_type": "stream",
     "text": [
      "[*********************100%***********************]  1 of 1 completed\n"
     ]
    },
    {
     "name": "stderr",
     "output_type": "stream",
     "text": [
      "<ipython-input-58-aa38aec0e35b>:10: FutureWarning: Dropping of nuisance columns in DataFrame reductions (with 'numeric_only=None') is deprecated; in a future version this will raise TypeError.  Select only valid columns before calling the reduction.\n",
      "  data['sum'] = data.sum(axis=1).to_list()\n"
     ]
    },
    {
     "name": "stdout",
     "output_type": "stream",
     "text": [
      "[*********************100%***********************]  1 of 1 completed\n",
      "Growth of Portfolio: -0.02335094031156281\n",
      "Growth of Market Index: 5.51571162916746e-05\n"
     ]
    }
   ],
   "source": [
    "# 1 акция\n",
    "tickers_list = ['ENGI.PA']\n",
    "\n",
    "data = pd.DataFrame(columns=tickers_list)\n",
    "\n",
    "for ticker in tickers_list:\n",
    "    data[ticker] = yf.download(ticker,'2015-01-01','2016-01-01', interval='1mo')['Adj Close']\n",
    "\n",
    "data = data.reset_index()\n",
    "data['sum'] = data.sum(axis=1).to_list()\n",
    "\n",
    "df = pd.DataFrame(columns=tickers_list)\n",
    "for ticker in tickers_list:\n",
    "    div = sum(yf.Ticker(ticker).history(start='2015-01-01',end='2016-01-01').Dividends.to_list())\n",
    "    split = sum(yf.Ticker(ticker).history(start='2015-01-01',end='2016-01-01')['Stock Splits'].to_list())\n",
    "    df[ticker] = [div, split]\n",
    "df['sum'] = df.sum(axis=1).to_list()\n",
    "\n",
    "tickers_list = ['^N100']\n",
    "dt = pd.DataFrame(columns=tickers_list)\n",
    "for ticker in tickers_list:\n",
    "    dt[ticker] = yf.download(ticker,'2015-01-01','2016-01-01', interval='1mo')['Adj Close']\n",
    "    \n",
    "data['N-100'] = dt['^N100'].to_list()\n",
    "\n",
    "portfolio_g = (data['sum'][11] + df['sum'][0] - data['sum'][0]) / data['sum'][0]\n",
    "market_g = (data['N-100'][11] - data['N-100'][0]) / data['N-100'][0]\n",
    "\n",
    "lst_1.append(portfolio_g)\n",
    "\n",
    "if df['sum'][1] == 0:\n",
    "    print('Growth of Portfolio:', portfolio_g)\n",
    "    print('Growth of Market Index:', market_g)\n",
    "else:\n",
    "    print('Есть дробление акций')"
   ]
  },
  {
   "cell_type": "markdown",
   "metadata": {},
   "source": [
    "### Портфель на 2016 год\n",
    "_По данным за 2015_\n",
    "\n",
    "- ENGIE\n",
    "- EDP\n",
    "- SHELL PLC\n",
    "- TOTALENERGIES\n",
    "- VIVENDI SE\n",
    "- BOUYGUES\n",
    "- VEOLIA ENVIRON.\n",
    "- GECINA\n",
    "- AXA\n",
    "- UNIBAIL-RODAMCO-WE\n"
   ]
  },
  {
   "cell_type": "code",
   "execution_count": 59,
   "metadata": {},
   "outputs": [
    {
     "name": "stdout",
     "output_type": "stream",
     "text": [
      "[*********************100%***********************]  1 of 1 completed\n",
      "[*********************100%***********************]  1 of 1 completed\n",
      "[*********************100%***********************]  1 of 1 completed\n",
      "[*********************100%***********************]  1 of 1 completed\n",
      "[*********************100%***********************]  1 of 1 completed\n",
      "[*********************100%***********************]  1 of 1 completed\n",
      "[*********************100%***********************]  1 of 1 completed\n",
      "[*********************100%***********************]  1 of 1 completed\n",
      "[*********************100%***********************]  1 of 1 completed\n",
      "[*********************100%***********************]  1 of 1 completed\n"
     ]
    },
    {
     "name": "stderr",
     "output_type": "stream",
     "text": [
      "<ipython-input-59-6f63b81b3a4c>:19: FutureWarning: Dropping of nuisance columns in DataFrame reductions (with 'numeric_only=None') is deprecated; in a future version this will raise TypeError.  Select only valid columns before calling the reduction.\n",
      "  data['sum'] = data.sum(axis=1).to_list()\n"
     ]
    },
    {
     "name": "stdout",
     "output_type": "stream",
     "text": [
      "[*********************100%***********************]  1 of 1 completed\n",
      "Growth of Portfolio: 0.13932827027975533\n",
      "Growth of Market Index: 0.06815741471745218\n"
     ]
    }
   ],
   "source": [
    "# 10 акций\n",
    "tickers_list = ['ENGI.PA',\n",
    "                'EDP.LS',\n",
    "                'SHELL.AS',\n",
    "                'TTE.PA',\n",
    "                'VIV.PA',\n",
    "                'EN.PA',\n",
    "                'VIE.PA',\n",
    "                'GFC.PA',\n",
    "                'CS.PA',\n",
    "                'URW.AS']\n",
    "\n",
    "data = pd.DataFrame(columns=tickers_list)\n",
    "\n",
    "for ticker in tickers_list:\n",
    "    data[ticker] = yf.download(ticker,'2016-01-01','2017-01-01', interval='1mo')['Adj Close']\n",
    "\n",
    "data = data.reset_index()\n",
    "data['sum'] = data.sum(axis=1).to_list()\n",
    "\n",
    "df = pd.DataFrame(columns=tickers_list)\n",
    "for ticker in tickers_list:\n",
    "    div = sum(yf.Ticker(ticker).history(start='2016-01-01',end='2017-01-01').Dividends.to_list())\n",
    "    split = sum(yf.Ticker(ticker).history(start='2016-01-01',end='2017-01-01')['Stock Splits'].to_list())\n",
    "    df[ticker] = [div, split]\n",
    "df['sum'] = df.sum(axis=1).to_list()\n",
    "\n",
    "tickers_list = ['^N100']\n",
    "dt = pd.DataFrame(columns=tickers_list)\n",
    "for ticker in tickers_list:\n",
    "    dt[ticker] = yf.download(ticker,'2016-01-01','2017-01-01', interval='1mo')['Adj Close']\n",
    "    \n",
    "data['N-100'] = dt['^N100'].to_list()\n",
    "\n",
    "portfolio_g = (data['sum'][11] + df['sum'][0] - data['sum'][0]) / data['sum'][0]\n",
    "market_g = (data['N-100'][11] - data['N-100'][0]) / data['N-100'][0]\n",
    "\n",
    "lst_10.append(portfolio_g)\n",
    "market.append(market_g)\n",
    "\n",
    "if df['sum'][1] == 0:\n",
    "    print('Growth of Portfolio:', portfolio_g)\n",
    "    print('Growth of Market Index:', market_g)\n",
    "else:\n",
    "    print('Есть дробление акций')"
   ]
  },
  {
   "cell_type": "code",
   "execution_count": 60,
   "metadata": {},
   "outputs": [
    {
     "name": "stdout",
     "output_type": "stream",
     "text": [
      "[*********************100%***********************]  1 of 1 completed\n",
      "[*********************100%***********************]  1 of 1 completed\n",
      "[*********************100%***********************]  1 of 1 completed\n",
      "[*********************100%***********************]  1 of 1 completed\n",
      "[*********************100%***********************]  1 of 1 completed\n",
      "[*********************100%***********************]  1 of 1 completed\n",
      "[*********************100%***********************]  1 of 1 completed\n"
     ]
    },
    {
     "name": "stderr",
     "output_type": "stream",
     "text": [
      "<ipython-input-60-eae8b855ae8d>:16: FutureWarning: Dropping of nuisance columns in DataFrame reductions (with 'numeric_only=None') is deprecated; in a future version this will raise TypeError.  Select only valid columns before calling the reduction.\n",
      "  data['sum'] = data.sum(axis=1).to_list()\n"
     ]
    },
    {
     "name": "stdout",
     "output_type": "stream",
     "text": [
      "[*********************100%***********************]  1 of 1 completed\n",
      "Growth of Portfolio: 0.15432893094833083\n",
      "Growth of Market Index: 0.06815741471745218\n"
     ]
    }
   ],
   "source": [
    "# 7 акций\n",
    "tickers_list = ['ENGI.PA',\n",
    "                'EDP.LS',\n",
    "                'SHELL.AS',\n",
    "                'TTE.PA',\n",
    "                'VIV.PA',\n",
    "                'EN.PA',\n",
    "                'VIE.PA']\n",
    "\n",
    "data = pd.DataFrame(columns=tickers_list)\n",
    "\n",
    "for ticker in tickers_list:\n",
    "    data[ticker] = yf.download(ticker,'2016-01-01','2017-01-01', interval='1mo')['Adj Close']\n",
    "\n",
    "data = data.reset_index()\n",
    "data['sum'] = data.sum(axis=1).to_list()\n",
    "\n",
    "df = pd.DataFrame(columns=tickers_list)\n",
    "for ticker in tickers_list:\n",
    "    div = sum(yf.Ticker(ticker).history(start='2016-01-01',end='2017-01-01').Dividends.to_list())\n",
    "    split = sum(yf.Ticker(ticker).history(start='2016-01-01',end='2017-01-01')['Stock Splits'].to_list())\n",
    "    df[ticker] = [div, split]\n",
    "df['sum'] = df.sum(axis=1).to_list()\n",
    "\n",
    "tickers_list = ['^N100']\n",
    "dt = pd.DataFrame(columns=tickers_list)\n",
    "for ticker in tickers_list:\n",
    "    dt[ticker] = yf.download(ticker,'2016-01-01','2017-01-01', interval='1mo')['Adj Close']\n",
    "    \n",
    "data['N-100'] = dt['^N100'].to_list()\n",
    "\n",
    "portfolio_g = (data['sum'][11] + df['sum'][0] - data['sum'][0]) / data['sum'][0]\n",
    "market_g = (data['N-100'][11] - data['N-100'][0]) / data['N-100'][0]\n",
    "\n",
    "lst_7.append(portfolio_g)\n",
    "\n",
    "if df['sum'][1] == 0:\n",
    "    print('Growth of Portfolio:', portfolio_g)\n",
    "    print('Growth of Market Index:', market_g)\n",
    "else:\n",
    "    print('Есть дробление акций')"
   ]
  },
  {
   "cell_type": "code",
   "execution_count": 61,
   "metadata": {},
   "outputs": [
    {
     "name": "stdout",
     "output_type": "stream",
     "text": [
      "[*********************100%***********************]  1 of 1 completed\n",
      "[*********************100%***********************]  1 of 1 completed\n",
      "[*********************100%***********************]  1 of 1 completed\n",
      "[*********************100%***********************]  1 of 1 completed\n",
      "[*********************100%***********************]  1 of 1 completed\n"
     ]
    },
    {
     "name": "stderr",
     "output_type": "stream",
     "text": [
      "<ipython-input-61-abbcd05c6f8c>:14: FutureWarning: Dropping of nuisance columns in DataFrame reductions (with 'numeric_only=None') is deprecated; in a future version this will raise TypeError.  Select only valid columns before calling the reduction.\n",
      "  data['sum'] = data.sum(axis=1).to_list()\n"
     ]
    },
    {
     "name": "stdout",
     "output_type": "stream",
     "text": [
      "[*********************100%***********************]  1 of 1 completed\n",
      "Growth of Portfolio: 0.2781007045573201\n",
      "Growth of Market Index: 0.06815741471745218\n"
     ]
    }
   ],
   "source": [
    "# 5 акций\n",
    "tickers_list = ['ENGI.PA',\n",
    "                'EDP.LS',\n",
    "                'SHELL.AS',\n",
    "                'TTE.PA',\n",
    "                'VIV.PA']\n",
    "\n",
    "data = pd.DataFrame(columns=tickers_list)\n",
    "\n",
    "for ticker in tickers_list:\n",
    "    data[ticker] = yf.download(ticker,'2016-01-01','2017-01-01', interval='1mo')['Adj Close']\n",
    "\n",
    "data = data.reset_index()\n",
    "data['sum'] = data.sum(axis=1).to_list()\n",
    "\n",
    "df = pd.DataFrame(columns=tickers_list)\n",
    "for ticker in tickers_list:\n",
    "    div = sum(yf.Ticker(ticker).history(start='2016-01-01',end='2017-01-01').Dividends.to_list())\n",
    "    split = sum(yf.Ticker(ticker).history(start='2016-01-01',end='2017-01-01')['Stock Splits'].to_list())\n",
    "    df[ticker] = [div, split]\n",
    "df['sum'] = df.sum(axis=1).to_list()\n",
    "\n",
    "tickers_list = ['^N100']\n",
    "dt = pd.DataFrame(columns=tickers_list)\n",
    "for ticker in tickers_list:\n",
    "    dt[ticker] = yf.download(ticker,'2016-01-01','2017-01-01', interval='1mo')['Adj Close']\n",
    "    \n",
    "data['N-100'] = dt['^N100'].to_list()\n",
    "\n",
    "portfolio_g = (data['sum'][11] + df['sum'][0] - data['sum'][0]) / data['sum'][0]\n",
    "market_g = (data['N-100'][11] - data['N-100'][0]) / data['N-100'][0]\n",
    "\n",
    "lst_5.append(portfolio_g)\n",
    "\n",
    "if df['sum'][1] == 0:\n",
    "    print('Growth of Portfolio:', portfolio_g)\n",
    "    print('Growth of Market Index:', market_g)\n",
    "else:\n",
    "    print('Есть дробление акций')"
   ]
  },
  {
   "cell_type": "code",
   "execution_count": 62,
   "metadata": {},
   "outputs": [
    {
     "name": "stdout",
     "output_type": "stream",
     "text": [
      "[*********************100%***********************]  1 of 1 completed\n",
      "[*********************100%***********************]  1 of 1 completed\n",
      "[*********************100%***********************]  1 of 1 completed\n"
     ]
    },
    {
     "name": "stderr",
     "output_type": "stream",
     "text": [
      "<ipython-input-62-c1f7045d6954>:12: FutureWarning: Dropping of nuisance columns in DataFrame reductions (with 'numeric_only=None') is deprecated; in a future version this will raise TypeError.  Select only valid columns before calling the reduction.\n",
      "  data['sum'] = data.sum(axis=1).to_list()\n"
     ]
    },
    {
     "name": "stdout",
     "output_type": "stream",
     "text": [
      "[*********************100%***********************]  1 of 1 completed\n",
      "Growth of Portfolio: 0.3076441688687714\n",
      "Growth of Market Index: 0.06815741471745218\n"
     ]
    }
   ],
   "source": [
    "# 3 акций\n",
    "tickers_list = ['ENGI.PA',\n",
    "                'EDP.LS',\n",
    "                'SHELL.AS']\n",
    "\n",
    "data = pd.DataFrame(columns=tickers_list)\n",
    "\n",
    "for ticker in tickers_list:\n",
    "    data[ticker] = yf.download(ticker,'2016-01-01','2017-01-01', interval='1mo')['Adj Close']\n",
    "\n",
    "data = data.reset_index()\n",
    "data['sum'] = data.sum(axis=1).to_list()\n",
    "\n",
    "df = pd.DataFrame(columns=tickers_list)\n",
    "for ticker in tickers_list:\n",
    "    div = sum(yf.Ticker(ticker).history(start='2016-01-01',end='2017-01-01').Dividends.to_list())\n",
    "    split = sum(yf.Ticker(ticker).history(start='2016-01-01',end='2017-01-01')['Stock Splits'].to_list())\n",
    "    df[ticker] = [div, split]\n",
    "df['sum'] = df.sum(axis=1).to_list()\n",
    "\n",
    "tickers_list = ['^N100']\n",
    "dt = pd.DataFrame(columns=tickers_list)\n",
    "for ticker in tickers_list:\n",
    "    dt[ticker] = yf.download(ticker,'2016-01-01','2017-01-01', interval='1mo')['Adj Close']\n",
    "    \n",
    "data['N-100'] = dt['^N100'].to_list()\n",
    "\n",
    "portfolio_g = (data['sum'][11] + df['sum'][0] - data['sum'][0]) / data['sum'][0]\n",
    "market_g = (data['N-100'][11] - data['N-100'][0]) / data['N-100'][0]\n",
    "\n",
    "lst_3.append(portfolio_g)\n",
    "\n",
    "if df['sum'][1] == 0:\n",
    "    print('Growth of Portfolio:', portfolio_g)\n",
    "    print('Growth of Market Index:', market_g)\n",
    "else:\n",
    "    print('Есть дробление акций')"
   ]
  },
  {
   "cell_type": "code",
   "execution_count": 63,
   "metadata": {},
   "outputs": [
    {
     "name": "stdout",
     "output_type": "stream",
     "text": [
      "[*********************100%***********************]  1 of 1 completed\n"
     ]
    },
    {
     "name": "stderr",
     "output_type": "stream",
     "text": [
      "<ipython-input-63-0e00d9cf23ea>:10: FutureWarning: Dropping of nuisance columns in DataFrame reductions (with 'numeric_only=None') is deprecated; in a future version this will raise TypeError.  Select only valid columns before calling the reduction.\n",
      "  data['sum'] = data.sum(axis=1).to_list()\n"
     ]
    },
    {
     "name": "stdout",
     "output_type": "stream",
     "text": [
      "[*********************100%***********************]  1 of 1 completed\n",
      "Growth of Portfolio: 0.012491546945410303\n",
      "Growth of Market Index: 0.06815741471745218\n"
     ]
    }
   ],
   "source": [
    "# 1 акций\n",
    "tickers_list = ['ENGI.PA']\n",
    "\n",
    "data = pd.DataFrame(columns=tickers_list)\n",
    "\n",
    "for ticker in tickers_list:\n",
    "    data[ticker] = yf.download(ticker,'2016-01-01','2017-01-01', interval='1mo')['Adj Close']\n",
    "\n",
    "data = data.reset_index()\n",
    "data['sum'] = data.sum(axis=1).to_list()\n",
    "\n",
    "df = pd.DataFrame(columns=tickers_list)\n",
    "for ticker in tickers_list:\n",
    "    div = sum(yf.Ticker(ticker).history(start='2016-01-01',end='2017-01-01').Dividends.to_list())\n",
    "    split = sum(yf.Ticker(ticker).history(start='2016-01-01',end='2017-01-01')['Stock Splits'].to_list())\n",
    "    df[ticker] = [div, split]\n",
    "df['sum'] = df.sum(axis=1).to_list()\n",
    "\n",
    "tickers_list = ['^N100']\n",
    "dt = pd.DataFrame(columns=tickers_list)\n",
    "for ticker in tickers_list:\n",
    "    dt[ticker] = yf.download(ticker,'2016-01-01','2017-01-01', interval='1mo')['Adj Close']\n",
    "    \n",
    "data['N-100'] = dt['^N100'].to_list()\n",
    "\n",
    "portfolio_g = (data['sum'][11] + df['sum'][0] - data['sum'][0]) / data['sum'][0]\n",
    "market_g = (data['N-100'][11] - data['N-100'][0]) / data['N-100'][0]\n",
    "\n",
    "lst_1.append(portfolio_g)\n",
    "\n",
    "if df['sum'][1] == 0:\n",
    "    print('Growth of Portfolio:', portfolio_g)\n",
    "    print('Growth of Market Index:', market_g)\n",
    "else:\n",
    "    print('Есть дробление акций')"
   ]
  },
  {
   "cell_type": "markdown",
   "metadata": {},
   "source": [
    "### Портфель на 2017 год\n",
    "_По данным за 2016_\n",
    "\n",
    "- VIVENDI SE\n",
    "- SHELL PLC\n",
    "- ENGIE\n",
    "- CREDIT AGRICOLE\n",
    "- EDP\n",
    "- ING GROEP N.V.\n",
    "- SOCIETE GENERALE\n",
    "- TOTALENERGIES\n",
    "- BNP PARIBAS ACT.A\n",
    "- AEGON\n"
   ]
  },
  {
   "cell_type": "code",
   "execution_count": 64,
   "metadata": {},
   "outputs": [
    {
     "name": "stdout",
     "output_type": "stream",
     "text": [
      "[*********************100%***********************]  1 of 1 completed\n",
      "[*********************100%***********************]  1 of 1 completed\n",
      "[*********************100%***********************]  1 of 1 completed\n",
      "[*********************100%***********************]  1 of 1 completed\n",
      "[*********************100%***********************]  1 of 1 completed\n",
      "[*********************100%***********************]  1 of 1 completed\n",
      "[*********************100%***********************]  1 of 1 completed\n",
      "[*********************100%***********************]  1 of 1 completed\n",
      "[*********************100%***********************]  1 of 1 completed\n",
      "[*********************100%***********************]  1 of 1 completed\n"
     ]
    },
    {
     "name": "stderr",
     "output_type": "stream",
     "text": [
      "<ipython-input-64-2aa32af36213>:19: FutureWarning: Dropping of nuisance columns in DataFrame reductions (with 'numeric_only=None') is deprecated; in a future version this will raise TypeError.  Select only valid columns before calling the reduction.\n",
      "  data['sum'] = data.sum(axis=1).to_list()\n"
     ]
    },
    {
     "name": "stdout",
     "output_type": "stream",
     "text": [
      "[*********************100%***********************]  1 of 1 completed\n",
      "Growth of Portfolio: 0.20178652875139885\n",
      "Growth of Market Index: 0.1265844621818733\n"
     ]
    }
   ],
   "source": [
    "# 10 акций\n",
    "tickers_list = ['VIV.PA',\n",
    "                'SHELL.AS',\n",
    "                'ENGI.PA',\n",
    "                'ACA.PA',\n",
    "                'EDP.LS',\n",
    "                'INGA.AS',\n",
    "                'GLE.PA',\n",
    "                'TTE.PA',\n",
    "                'BNP.PA',\n",
    "                'AGN.AS']\n",
    "\n",
    "data = pd.DataFrame(columns=tickers_list)\n",
    "\n",
    "for ticker in tickers_list:\n",
    "    data[ticker] = yf.download(ticker,'2017-01-01','2018-01-01', interval='1mo')['Adj Close']\n",
    "\n",
    "data = data.reset_index()\n",
    "data['sum'] = data.sum(axis=1).to_list()\n",
    "\n",
    "df = pd.DataFrame(columns=tickers_list)\n",
    "for ticker in tickers_list:\n",
    "    div = sum(yf.Ticker(ticker).history(start='2017-01-01',end='2018-01-01').Dividends.to_list())\n",
    "    split = sum(yf.Ticker(ticker).history(start='2017-01-01',end='2018-01-01')['Stock Splits'].to_list())\n",
    "    df[ticker] = [div, split]\n",
    "df['sum'] = df.sum(axis=1).to_list()\n",
    "\n",
    "tickers_list = ['^N100']\n",
    "dt = pd.DataFrame(columns=tickers_list)\n",
    "for ticker in tickers_list:\n",
    "    dt[ticker] = yf.download(ticker,'2017-01-01','2018-01-01', interval='1mo')['Adj Close']\n",
    "    \n",
    "data['N-100'] = dt['^N100'].to_list()\n",
    "\n",
    "portfolio_g = (data['sum'][11] + df['sum'][0] - data['sum'][0]) / data['sum'][0]\n",
    "market_g = (data['N-100'][11] - data['N-100'][0]) / data['N-100'][0]\n",
    "\n",
    "lst_10.append(portfolio_g)\n",
    "market.append(market_g)\n",
    "\n",
    "if df['sum'][1] == 0:\n",
    "    print('Growth of Portfolio:', portfolio_g)\n",
    "    print('Growth of Market Index:', market_g)\n",
    "else:\n",
    "    print('Есть дробление акций')"
   ]
  },
  {
   "cell_type": "code",
   "execution_count": 65,
   "metadata": {},
   "outputs": [
    {
     "name": "stdout",
     "output_type": "stream",
     "text": [
      "[*********************100%***********************]  1 of 1 completed\n",
      "[*********************100%***********************]  1 of 1 completed\n",
      "[*********************100%***********************]  1 of 1 completed\n",
      "[*********************100%***********************]  1 of 1 completed\n",
      "[*********************100%***********************]  1 of 1 completed\n",
      "[*********************100%***********************]  1 of 1 completed\n",
      "[*********************100%***********************]  1 of 1 completed\n"
     ]
    },
    {
     "name": "stderr",
     "output_type": "stream",
     "text": [
      "<ipython-input-65-20010c86c11b>:16: FutureWarning: Dropping of nuisance columns in DataFrame reductions (with 'numeric_only=None') is deprecated; in a future version this will raise TypeError.  Select only valid columns before calling the reduction.\n",
      "  data['sum'] = data.sum(axis=1).to_list()\n"
     ]
    },
    {
     "name": "stdout",
     "output_type": "stream",
     "text": [
      "[*********************100%***********************]  1 of 1 completed\n",
      "Growth of Portfolio: 0.25349737873321976\n",
      "Growth of Market Index: 0.1265844621818733\n"
     ]
    }
   ],
   "source": [
    "# 7 акций\n",
    "tickers_list = ['VIV.PA',\n",
    "                'SHELL.AS',\n",
    "                'ENGI.PA',\n",
    "                'ACA.PA',\n",
    "                'EDP.LS',\n",
    "                'INGA.AS',\n",
    "                'GLE.PA']\n",
    "\n",
    "data = pd.DataFrame(columns=tickers_list)\n",
    "\n",
    "for ticker in tickers_list:\n",
    "    data[ticker] = yf.download(ticker,'2017-01-01','2018-01-01', interval='1mo')['Adj Close']\n",
    "\n",
    "data = data.reset_index()\n",
    "data['sum'] = data.sum(axis=1).to_list()\n",
    "\n",
    "df = pd.DataFrame(columns=tickers_list)\n",
    "for ticker in tickers_list:\n",
    "    div = sum(yf.Ticker(ticker).history(start='2017-01-01',end='2018-01-01').Dividends.to_list())\n",
    "    split = sum(yf.Ticker(ticker).history(start='2017-01-01',end='2018-01-01')['Stock Splits'].to_list())\n",
    "    df[ticker] = [div, split]\n",
    "df['sum'] = df.sum(axis=1).to_list()\n",
    "\n",
    "tickers_list = ['^N100']\n",
    "dt = pd.DataFrame(columns=tickers_list)\n",
    "for ticker in tickers_list:\n",
    "    dt[ticker] = yf.download(ticker,'2017-01-01','2018-01-01', interval='1mo')['Adj Close']\n",
    "    \n",
    "data['N-100'] = dt['^N100'].to_list()\n",
    "\n",
    "portfolio_g = (data['sum'][11] + df['sum'][0] - data['sum'][0]) / data['sum'][0]\n",
    "market_g = (data['N-100'][11] - data['N-100'][0]) / data['N-100'][0]\n",
    "\n",
    "lst_7.append(portfolio_g)\n",
    "\n",
    "print('Growth of Portfolio:', portfolio_g)\n",
    "print('Growth of Market Index:', market_g)"
   ]
  },
  {
   "cell_type": "code",
   "execution_count": 66,
   "metadata": {},
   "outputs": [
    {
     "name": "stdout",
     "output_type": "stream",
     "text": [
      "[*********************100%***********************]  1 of 1 completed\n",
      "[*********************100%***********************]  1 of 1 completed\n",
      "[*********************100%***********************]  1 of 1 completed\n",
      "[*********************100%***********************]  1 of 1 completed\n",
      "[*********************100%***********************]  1 of 1 completed\n"
     ]
    },
    {
     "name": "stderr",
     "output_type": "stream",
     "text": [
      "<ipython-input-66-bc76714e5f76>:14: FutureWarning: Dropping of nuisance columns in DataFrame reductions (with 'numeric_only=None') is deprecated; in a future version this will raise TypeError.  Select only valid columns before calling the reduction.\n",
      "  data['sum'] = data.sum(axis=1).to_list()\n"
     ]
    },
    {
     "name": "stdout",
     "output_type": "stream",
     "text": [
      "[*********************100%***********************]  1 of 1 completed\n",
      "Growth of Portfolio: 0.3417415207629973\n",
      "Growth of Market Index: 0.1265844621818733\n"
     ]
    }
   ],
   "source": [
    "# 5 акций\n",
    "tickers_list = ['VIV.PA',\n",
    "                'SHELL.AS',\n",
    "                'ENGI.PA',\n",
    "                'ACA.PA',\n",
    "                'EDP.LS']\n",
    "\n",
    "data = pd.DataFrame(columns=tickers_list)\n",
    "\n",
    "for ticker in tickers_list:\n",
    "    data[ticker] = yf.download(ticker,'2017-01-01','2018-01-01', interval='1mo')['Adj Close']\n",
    "\n",
    "data = data.reset_index()\n",
    "data['sum'] = data.sum(axis=1).to_list()\n",
    "\n",
    "df = pd.DataFrame(columns=tickers_list)\n",
    "for ticker in tickers_list:\n",
    "    div = sum(yf.Ticker(ticker).history(start='2017-01-01',end='2018-01-01').Dividends.to_list())\n",
    "    split = sum(yf.Ticker(ticker).history(start='2017-01-01',end='2018-01-01')['Stock Splits'].to_list())\n",
    "    df[ticker] = [div, split]\n",
    "df['sum'] = df.sum(axis=1).to_list()\n",
    "\n",
    "tickers_list = ['^N100']\n",
    "dt = pd.DataFrame(columns=tickers_list)\n",
    "for ticker in tickers_list:\n",
    "    dt[ticker] = yf.download(ticker,'2017-01-01','2018-01-01', interval='1mo')['Adj Close']\n",
    "    \n",
    "data['N-100'] = dt['^N100'].to_list()\n",
    "#data['OR.PA'][8:] = data['OR.PA'][8:] * 2\n",
    "\n",
    "portfolio_g = (data['sum'][11] + df['sum'][0] - data['sum'][0]) / data['sum'][0]\n",
    "market_g = (data['N-100'][11] - data['N-100'][0]) / data['N-100'][0]\n",
    "\n",
    "lst_5.append(portfolio_g)\n",
    "\n",
    "print('Growth of Portfolio:', portfolio_g)\n",
    "print('Growth of Market Index:', market_g)"
   ]
  },
  {
   "cell_type": "code",
   "execution_count": 67,
   "metadata": {},
   "outputs": [
    {
     "name": "stdout",
     "output_type": "stream",
     "text": [
      "[*********************100%***********************]  1 of 1 completed\n",
      "[*********************100%***********************]  1 of 1 completed\n",
      "[*********************100%***********************]  1 of 1 completed\n"
     ]
    },
    {
     "name": "stderr",
     "output_type": "stream",
     "text": [
      "<ipython-input-67-3a1200d0f821>:12: FutureWarning: Dropping of nuisance columns in DataFrame reductions (with 'numeric_only=None') is deprecated; in a future version this will raise TypeError.  Select only valid columns before calling the reduction.\n",
      "  data['sum'] = data.sum(axis=1).to_list()\n"
     ]
    },
    {
     "name": "stdout",
     "output_type": "stream",
     "text": [
      "[*********************100%***********************]  1 of 1 completed\n",
      "Growth of Portfolio: 0.36566658592006496\n",
      "Growth of Market Index: 0.1265844621818733\n"
     ]
    }
   ],
   "source": [
    "# 3 акции\n",
    "tickers_list = ['VIV.PA',\n",
    "                'SHELL.AS',\n",
    "                'ENGI.PA']\n",
    "\n",
    "data = pd.DataFrame(columns=tickers_list)\n",
    "\n",
    "for ticker in tickers_list:\n",
    "    data[ticker] = yf.download(ticker,'2017-01-01','2018-01-01', interval='1mo')['Adj Close']\n",
    "\n",
    "data = data.reset_index()\n",
    "data['sum'] = data.sum(axis=1).to_list()\n",
    "\n",
    "df = pd.DataFrame(columns=tickers_list)\n",
    "for ticker in tickers_list:\n",
    "    div = sum(yf.Ticker(ticker).history(start='2017-01-01',end='2018-01-01').Dividends.to_list())\n",
    "    split = sum(yf.Ticker(ticker).history(start='2017-01-01',end='2018-01-01')['Stock Splits'].to_list())\n",
    "    df[ticker] = [div, split]\n",
    "df['sum'] = df.sum(axis=1).to_list()\n",
    "\n",
    "tickers_list = ['^N100']\n",
    "dt = pd.DataFrame(columns=tickers_list)\n",
    "for ticker in tickers_list:\n",
    "    dt[ticker] = yf.download(ticker,'2017-01-01','2018-01-01', interval='1mo')['Adj Close']\n",
    "    \n",
    "data['N-100'] = dt['^N100'].to_list()\n",
    "#data['OR.PA'][8:] = data['OR.PA'][8:] * 2\n",
    "\n",
    "portfolio_g = (data['sum'][11] + df['sum'][0] - data['sum'][0]) / data['sum'][0]\n",
    "market_g = (data['N-100'][11] - data['N-100'][0]) / data['N-100'][0]\n",
    "\n",
    "lst_3.append(portfolio_g)\n",
    "\n",
    "print('Growth of Portfolio:', portfolio_g)\n",
    "print('Growth of Market Index:', market_g)"
   ]
  },
  {
   "cell_type": "code",
   "execution_count": 68,
   "metadata": {},
   "outputs": [
    {
     "name": "stdout",
     "output_type": "stream",
     "text": [
      "[*********************100%***********************]  1 of 1 completed\n"
     ]
    },
    {
     "name": "stderr",
     "output_type": "stream",
     "text": [
      "<ipython-input-68-105c095f0f1a>:10: FutureWarning: Dropping of nuisance columns in DataFrame reductions (with 'numeric_only=None') is deprecated; in a future version this will raise TypeError.  Select only valid columns before calling the reduction.\n",
      "  data['sum'] = data.sum(axis=1).to_list()\n"
     ]
    },
    {
     "name": "stdout",
     "output_type": "stream",
     "text": [
      "[*********************100%***********************]  1 of 1 completed\n",
      "Growth of Portfolio: 0.3809043811377574\n",
      "Growth of Market Index: 0.1265844621818733\n"
     ]
    }
   ],
   "source": [
    "# 1 акция\n",
    "tickers_list = ['VIV.PA']\n",
    "\n",
    "data = pd.DataFrame(columns=tickers_list)\n",
    "\n",
    "for ticker in tickers_list:\n",
    "    data[ticker] = yf.download(ticker,'2017-01-01','2018-01-01', interval='1mo')['Adj Close']\n",
    "\n",
    "data = data.reset_index()\n",
    "data['sum'] = data.sum(axis=1).to_list()\n",
    "\n",
    "df = pd.DataFrame(columns=tickers_list)\n",
    "for ticker in tickers_list:\n",
    "    div = sum(yf.Ticker(ticker).history(start='2017-01-01',end='2018-01-01').Dividends.to_list())\n",
    "    split = sum(yf.Ticker(ticker).history(start='2017-01-01',end='2018-01-01')['Stock Splits'].to_list())\n",
    "    df[ticker] = [div, split]\n",
    "df['sum'] = df.sum(axis=1).to_list()\n",
    "\n",
    "tickers_list = ['^N100']\n",
    "dt = pd.DataFrame(columns=tickers_list)\n",
    "for ticker in tickers_list:\n",
    "    dt[ticker] = yf.download(ticker,'2017-01-01','2018-01-01', interval='1mo')['Adj Close']\n",
    "    \n",
    "data['N-100'] = dt['^N100'].to_list()\n",
    "#data['OR.PA'][8:] = data['OR.PA'][8:] * 2\n",
    "\n",
    "portfolio_g = (data['sum'][11] + df['sum'][0] - data['sum'][0]) / data['sum'][0]\n",
    "market_g = (data['N-100'][11] - data['N-100'][0]) / data['N-100'][0]\n",
    "\n",
    "lst_1.append(portfolio_g)\n",
    "\n",
    "print('Growth of Portfolio:', portfolio_g)\n",
    "print('Growth of Market Index:', market_g)"
   ]
  },
  {
   "cell_type": "markdown",
   "metadata": {},
   "source": [
    "### Портфель на 2018 год\n",
    "_По данным за 2017_\n",
    "\n",
    "- ENGIE\n",
    "- SHELL PLC\n",
    "- EDP\n",
    "- CREDIT AGRICOLE\n",
    "- NN GROUP\n",
    "- SOCIETE GENERALE\n",
    "- AEGON\n",
    "- AXA\n",
    "- VEOLIA ENVIRON.\n",
    "- TOTALENERGIES\n"
   ]
  },
  {
   "cell_type": "code",
   "execution_count": 69,
   "metadata": {},
   "outputs": [
    {
     "name": "stdout",
     "output_type": "stream",
     "text": [
      "[*********************100%***********************]  1 of 1 completed\n",
      "[*********************100%***********************]  1 of 1 completed\n",
      "[*********************100%***********************]  1 of 1 completed\n",
      "[*********************100%***********************]  1 of 1 completed\n",
      "[*********************100%***********************]  1 of 1 completed\n",
      "[*********************100%***********************]  1 of 1 completed\n",
      "[*********************100%***********************]  1 of 1 completed\n",
      "[*********************100%***********************]  1 of 1 completed\n",
      "[*********************100%***********************]  1 of 1 completed\n",
      "[*********************100%***********************]  1 of 1 completed\n"
     ]
    },
    {
     "name": "stderr",
     "output_type": "stream",
     "text": [
      "<ipython-input-69-928a29085e1b>:19: FutureWarning: Dropping of nuisance columns in DataFrame reductions (with 'numeric_only=None') is deprecated; in a future version this will raise TypeError.  Select only valid columns before calling the reduction.\n",
      "  data['sum'] = data.sum(axis=1).to_list()\n"
     ]
    },
    {
     "name": "stdout",
     "output_type": "stream",
     "text": [
      "[*********************100%***********************]  1 of 1 completed\n",
      "Growth of Portfolio: -0.05323865023460263\n",
      "Growth of Market Index: -0.13769519766433444\n"
     ]
    },
    {
     "name": "stderr",
     "output_type": "stream",
     "text": [
      "<ipython-input-69-928a29085e1b>:34: SettingWithCopyWarning: \n",
      "A value is trying to be set on a copy of a slice from a DataFrame\n",
      "\n",
      "See the caveats in the documentation: https://pandas.pydata.org/pandas-docs/stable/user_guide/indexing.html#returning-a-view-versus-a-copy\n",
      "  data['ACA.PA'][5:] = data['ACA.PA'][5:] / 26 * 27\n"
     ]
    }
   ],
   "source": [
    "# 10 акций\n",
    "tickers_list = ['ENGI.PA',\n",
    "                'SHELL.AS',\n",
    "                'EDP.LS',\n",
    "                'ACA.PA', # split\n",
    "                'NN.AS',\n",
    "                'GLE.PA',\n",
    "                'AGN.AS',\n",
    "                'CS.PA',\n",
    "                'VIE.PA',\n",
    "                'TTE.PA']\n",
    "\n",
    "data = pd.DataFrame(columns=tickers_list)\n",
    "\n",
    "for ticker in tickers_list:\n",
    "    data[ticker] = yf.download(ticker,'2018-01-01','2019-01-01', interval='1mo')['Adj Close']\n",
    "\n",
    "data = data.reset_index()\n",
    "data['sum'] = data.sum(axis=1).to_list()\n",
    "\n",
    "df = pd.DataFrame(columns=tickers_list)\n",
    "for ticker in tickers_list:\n",
    "    div = sum(yf.Ticker(ticker).history(start='2018-01-01',end='2019-01-01').Dividends.to_list())\n",
    "    split = sum(yf.Ticker(ticker).history(start='2018-01-01',end='2019-01-01')['Stock Splits'].to_list())\n",
    "    df[ticker] = [div, split]\n",
    "df['sum'] = df.sum(axis=1).to_list()\n",
    "\n",
    "tickers_list = ['^N100']\n",
    "dt = pd.DataFrame(columns=tickers_list)\n",
    "for ticker in tickers_list:\n",
    "    dt[ticker] = yf.download(ticker,'2018-01-01','2019-01-01', interval='1mo')['Adj Close']\n",
    "    \n",
    "data['N-100'] = dt['^N100'].to_list()\n",
    "data['ACA.PA'][5:] = data['ACA.PA'][5:] / 26 * 27\n",
    "\n",
    "portfolio_g = (data['sum'][11] + df['sum'][0] - data['sum'][0]) / data['sum'][0]\n",
    "market_g = (data['N-100'][11] - data['N-100'][0]) / data['N-100'][0]\n",
    "\n",
    "lst_10.append(portfolio_g)\n",
    "market.append(market_g)\n",
    "\n",
    "print('Growth of Portfolio:', portfolio_g)\n",
    "print('Growth of Market Index:', market_g)"
   ]
  },
  {
   "cell_type": "code",
   "execution_count": 70,
   "metadata": {},
   "outputs": [
    {
     "name": "stdout",
     "output_type": "stream",
     "text": [
      "[*********************100%***********************]  1 of 1 completed\n",
      "[*********************100%***********************]  1 of 1 completed\n",
      "[*********************100%***********************]  1 of 1 completed\n",
      "[*********************100%***********************]  1 of 1 completed\n",
      "[*********************100%***********************]  1 of 1 completed\n",
      "[*********************100%***********************]  1 of 1 completed\n",
      "[*********************100%***********************]  1 of 1 completed\n"
     ]
    },
    {
     "name": "stderr",
     "output_type": "stream",
     "text": [
      "<ipython-input-70-e2007d838fa2>:16: FutureWarning: Dropping of nuisance columns in DataFrame reductions (with 'numeric_only=None') is deprecated; in a future version this will raise TypeError.  Select only valid columns before calling the reduction.\n",
      "  data['sum'] = data.sum(axis=1).to_list()\n"
     ]
    },
    {
     "name": "stdout",
     "output_type": "stream",
     "text": [
      "[*********************100%***********************]  1 of 1 completed\n",
      "Growth of Portfolio: -0.08704046810175255\n",
      "Growth of Market Index: -0.13769519766433444\n"
     ]
    },
    {
     "name": "stderr",
     "output_type": "stream",
     "text": [
      "<ipython-input-70-e2007d838fa2>:31: SettingWithCopyWarning: \n",
      "A value is trying to be set on a copy of a slice from a DataFrame\n",
      "\n",
      "See the caveats in the documentation: https://pandas.pydata.org/pandas-docs/stable/user_guide/indexing.html#returning-a-view-versus-a-copy\n",
      "  data['ACA.PA'][5:] = data['ACA.PA'][5:] / 26 * 27\n"
     ]
    }
   ],
   "source": [
    "# 7 акций\n",
    "tickers_list = ['ENGI.PA',\n",
    "                'SHELL.AS',\n",
    "                'EDP.LS',\n",
    "                'ACA.PA', # split\n",
    "                'NN.AS',\n",
    "                'GLE.PA',\n",
    "                'AGN.AS']\n",
    "\n",
    "data = pd.DataFrame(columns=tickers_list)\n",
    "\n",
    "for ticker in tickers_list:\n",
    "    data[ticker] = yf.download(ticker,'2018-01-01','2019-01-01', interval='1mo')['Adj Close']\n",
    "\n",
    "data = data.reset_index()\n",
    "data['sum'] = data.sum(axis=1).to_list()\n",
    "\n",
    "df = pd.DataFrame(columns=tickers_list)\n",
    "for ticker in tickers_list:\n",
    "    div = sum(yf.Ticker(ticker).history(start='2018-01-01',end='2019-01-01').Dividends.to_list())\n",
    "    split = sum(yf.Ticker(ticker).history(start='2018-01-01',end='2019-01-01')['Stock Splits'].to_list())\n",
    "    df[ticker] = [div, split]\n",
    "df['sum'] = df.sum(axis=1).to_list()\n",
    "\n",
    "tickers_list = ['^N100']\n",
    "dt = pd.DataFrame(columns=tickers_list)\n",
    "for ticker in tickers_list:\n",
    "    dt[ticker] = yf.download(ticker,'2018-01-01','2019-01-01', interval='1mo')['Adj Close']\n",
    "    \n",
    "data['N-100'] = dt['^N100'].to_list()\n",
    "data['ACA.PA'][5:] = data['ACA.PA'][5:] / 26 * 27\n",
    "\n",
    "portfolio_g = (data['sum'][11] + df['sum'][0] - data['sum'][0]) / data['sum'][0]\n",
    "market_g = (data['N-100'][11] - data['N-100'][0]) / data['N-100'][0]\n",
    "\n",
    "lst_7.append(portfolio_g)\n",
    "\n",
    "\n",
    "print('Growth of Portfolio:', portfolio_g)\n",
    "print('Growth of Market Index:', market_g)"
   ]
  },
  {
   "cell_type": "code",
   "execution_count": 71,
   "metadata": {},
   "outputs": [
    {
     "name": "stdout",
     "output_type": "stream",
     "text": [
      "[*********************100%***********************]  1 of 1 completed\n",
      "[*********************100%***********************]  1 of 1 completed\n",
      "[*********************100%***********************]  1 of 1 completed\n",
      "[*********************100%***********************]  1 of 1 completed\n",
      "[*********************100%***********************]  1 of 1 completed\n"
     ]
    },
    {
     "name": "stderr",
     "output_type": "stream",
     "text": [
      "<ipython-input-71-a2543375c475>:15: FutureWarning: Dropping of nuisance columns in DataFrame reductions (with 'numeric_only=None') is deprecated; in a future version this will raise TypeError.  Select only valid columns before calling the reduction.\n",
      "  data['sum'] = data.sum(axis=1).to_list()\n"
     ]
    },
    {
     "name": "stdout",
     "output_type": "stream",
     "text": [
      "[*********************100%***********************]  1 of 1 completed\n",
      "Growth of Portfolio: -0.0013494164248667449\n",
      "Growth of Market Index: -0.13769519766433444\n"
     ]
    },
    {
     "name": "stderr",
     "output_type": "stream",
     "text": [
      "<ipython-input-71-a2543375c475>:30: SettingWithCopyWarning: \n",
      "A value is trying to be set on a copy of a slice from a DataFrame\n",
      "\n",
      "See the caveats in the documentation: https://pandas.pydata.org/pandas-docs/stable/user_guide/indexing.html#returning-a-view-versus-a-copy\n",
      "  data['ACA.PA'][5:] = data['ACA.PA'][5:] / 26 * 27\n"
     ]
    }
   ],
   "source": [
    "# 5 акций\n",
    "tickers_list = ['ENGI.PA',\n",
    "                'SHELL.AS',\n",
    "                'EDP.LS',\n",
    "                'ACA.PA', # split\n",
    "                'NN.AS']\n",
    "\n",
    "\n",
    "data = pd.DataFrame(columns=tickers_list)\n",
    "\n",
    "for ticker in tickers_list:\n",
    "    data[ticker] = yf.download(ticker,'2018-01-01','2019-01-01', interval='1mo')['Adj Close']\n",
    "\n",
    "data = data.reset_index()\n",
    "data['sum'] = data.sum(axis=1).to_list()\n",
    "\n",
    "df = pd.DataFrame(columns=tickers_list)\n",
    "for ticker in tickers_list:\n",
    "    div = sum(yf.Ticker(ticker).history(start='2018-01-01',end='2019-01-01').Dividends.to_list())\n",
    "    split = sum(yf.Ticker(ticker).history(start='2018-01-01',end='2019-01-01')['Stock Splits'].to_list())\n",
    "    df[ticker] = [div, split]\n",
    "df['sum'] = df.sum(axis=1).to_list()\n",
    "\n",
    "tickers_list = ['^N100']\n",
    "dt = pd.DataFrame(columns=tickers_list)\n",
    "for ticker in tickers_list:\n",
    "    dt[ticker] = yf.download(ticker,'2018-01-01','2019-01-01', interval='1mo')['Adj Close']\n",
    "    \n",
    "data['N-100'] = dt['^N100'].to_list()\n",
    "data['ACA.PA'][5:] = data['ACA.PA'][5:] / 26 * 27\n",
    "\n",
    "portfolio_g = (data['sum'][11] + df['sum'][0] - data['sum'][0]) / data['sum'][0]\n",
    "market_g = (data['N-100'][11] - data['N-100'][0]) / data['N-100'][0]\n",
    "\n",
    "lst_5.append(portfolio_g)\n",
    "\n",
    "print('Growth of Portfolio:', portfolio_g)\n",
    "print('Growth of Market Index:', market_g)"
   ]
  },
  {
   "cell_type": "code",
   "execution_count": 72,
   "metadata": {},
   "outputs": [
    {
     "name": "stdout",
     "output_type": "stream",
     "text": [
      "[*********************100%***********************]  1 of 1 completed\n",
      "[*********************100%***********************]  1 of 1 completed\n",
      "[*********************100%***********************]  1 of 1 completed\n"
     ]
    },
    {
     "name": "stderr",
     "output_type": "stream",
     "text": [
      "<ipython-input-72-d459f0f2f899>:12: FutureWarning: Dropping of nuisance columns in DataFrame reductions (with 'numeric_only=None') is deprecated; in a future version this will raise TypeError.  Select only valid columns before calling the reduction.\n",
      "  data['sum'] = data.sum(axis=1).to_list()\n"
     ]
    },
    {
     "name": "stdout",
     "output_type": "stream",
     "text": [
      "[*********************100%***********************]  1 of 1 completed\n",
      "Growth of Portfolio: 0.0626615833608313\n",
      "Growth of Market Index: -0.13769519766433444\n"
     ]
    }
   ],
   "source": [
    "# 3 акции\n",
    "tickers_list = ['ENGI.PA',\n",
    "                'SHELL.AS',\n",
    "                'EDP.LS']\n",
    "\n",
    "data = pd.DataFrame(columns=tickers_list)\n",
    "\n",
    "for ticker in tickers_list:\n",
    "    data[ticker] = yf.download(ticker,'2018-01-01','2019-01-01', interval='1mo')['Adj Close']\n",
    "\n",
    "data = data.reset_index()\n",
    "data['sum'] = data.sum(axis=1).to_list()\n",
    "\n",
    "df = pd.DataFrame(columns=tickers_list)\n",
    "for ticker in tickers_list:\n",
    "    div = sum(yf.Ticker(ticker).history(start='2018-01-01',end='2019-01-01').Dividends.to_list())\n",
    "    split = sum(yf.Ticker(ticker).history(start='2018-01-01',end='2019-01-01')['Stock Splits'].to_list())\n",
    "    df[ticker] = [div, split]\n",
    "df['sum'] = df.sum(axis=1).to_list()\n",
    "\n",
    "tickers_list = ['^N100']\n",
    "dt = pd.DataFrame(columns=tickers_list)\n",
    "for ticker in tickers_list:\n",
    "    dt[ticker] = yf.download(ticker,'2018-01-01','2019-01-01', interval='1mo')['Adj Close']\n",
    "    \n",
    "data['N-100'] = dt['^N100'].to_list()\n",
    "\n",
    "portfolio_g = (data['sum'][11] + df['sum'][0] - data['sum'][0]) / data['sum'][0]\n",
    "market_g = (data['N-100'][11] - data['N-100'][0]) / data['N-100'][0]\n",
    "\n",
    "lst_3.append(portfolio_g)\n",
    "\n",
    "if df['sum'][1] == 0:\n",
    "    print('Growth of Portfolio:', portfolio_g)\n",
    "    print('Growth of Market Index:', market_g)\n",
    "else:\n",
    "    print('Есть дробление акций')"
   ]
  },
  {
   "cell_type": "code",
   "execution_count": 73,
   "metadata": {},
   "outputs": [
    {
     "name": "stdout",
     "output_type": "stream",
     "text": [
      "[*********************100%***********************]  1 of 1 completed\n"
     ]
    },
    {
     "name": "stderr",
     "output_type": "stream",
     "text": [
      "<ipython-input-73-4d357c1fdf77>:10: FutureWarning: Dropping of nuisance columns in DataFrame reductions (with 'numeric_only=None') is deprecated; in a future version this will raise TypeError.  Select only valid columns before calling the reduction.\n",
      "  data['sum'] = data.sum(axis=1).to_list()\n"
     ]
    },
    {
     "name": "stdout",
     "output_type": "stream",
     "text": [
      "[*********************100%***********************]  1 of 1 completed\n",
      "Growth of Portfolio: 0.026567691667905704\n",
      "Growth of Market Index: -0.13769519766433444\n"
     ]
    }
   ],
   "source": [
    "# 1 акция\n",
    "tickers_list = ['ENGI.PA']\n",
    "\n",
    "data = pd.DataFrame(columns=tickers_list)\n",
    "\n",
    "for ticker in tickers_list:\n",
    "    data[ticker] = yf.download(ticker,'2018-01-01','2019-01-01', interval='1mo')['Adj Close']\n",
    "\n",
    "data = data.reset_index()\n",
    "data['sum'] = data.sum(axis=1).to_list()\n",
    "\n",
    "df = pd.DataFrame(columns=tickers_list)\n",
    "for ticker in tickers_list:\n",
    "    div = sum(yf.Ticker(ticker).history(start='2018-01-01',end='2019-01-01').Dividends.to_list())\n",
    "    split = sum(yf.Ticker(ticker).history(start='2018-01-01',end='2019-01-01')['Stock Splits'].to_list())\n",
    "    df[ticker] = [div, split]\n",
    "df['sum'] = df.sum(axis=1).to_list()\n",
    "\n",
    "tickers_list = ['^N100']\n",
    "dt = pd.DataFrame(columns=tickers_list)\n",
    "for ticker in tickers_list:\n",
    "    dt[ticker] = yf.download(ticker,'2018-01-01','2019-01-01', interval='1mo')['Adj Close']\n",
    "    \n",
    "data['N-100'] = dt['^N100'].to_list()\n",
    "\n",
    "portfolio_g = (data['sum'][11] + df['sum'][0] - data['sum'][0]) / data['sum'][0]\n",
    "market_g = (data['N-100'][11] - data['N-100'][0]) / data['N-100'][0]\n",
    "\n",
    "lst_1.append(portfolio_g)\n",
    "\n",
    "if df['sum'][1] == 0:\n",
    "    print('Growth of Portfolio:', portfolio_g)\n",
    "    print('Growth of Market Index:', market_g)\n",
    "else:\n",
    "    print('Есть дробление акций')"
   ]
  },
  {
   "cell_type": "markdown",
   "metadata": {},
   "source": [
    "### Портфель на 2019 год\n",
    "_По данным за 2018_\n",
    "\n",
    "- EDP\n",
    "- ENGIE\n",
    "- SHELL PLC\n",
    "- UNIBAIL-RODAMCO-WE\n",
    "- TOTALENERGIES\n",
    "- AGEAS\n",
    "- AXA\n",
    "- AEGON\n",
    "- SOCIETE GENERALE\n",
    "- BNP PARIBAS ACT.A"
   ]
  },
  {
   "cell_type": "code",
   "execution_count": 74,
   "metadata": {},
   "outputs": [
    {
     "name": "stdout",
     "output_type": "stream",
     "text": [
      "[*********************100%***********************]  1 of 1 completed\n",
      "[*********************100%***********************]  1 of 1 completed\n",
      "[*********************100%***********************]  1 of 1 completed\n",
      "[*********************100%***********************]  1 of 1 completed\n",
      "[*********************100%***********************]  1 of 1 completed\n",
      "[*********************100%***********************]  1 of 1 completed\n",
      "[*********************100%***********************]  1 of 1 completed\n",
      "[*********************100%***********************]  1 of 1 completed\n",
      "[*********************100%***********************]  1 of 1 completed\n",
      "[*********************100%***********************]  1 of 1 completed\n"
     ]
    },
    {
     "name": "stderr",
     "output_type": "stream",
     "text": [
      "<ipython-input-74-a41a4f6e4dff>:19: FutureWarning: Dropping of nuisance columns in DataFrame reductions (with 'numeric_only=None') is deprecated; in a future version this will raise TypeError.  Select only valid columns before calling the reduction.\n",
      "  data['sum'] = data.sum(axis=1).to_list()\n"
     ]
    },
    {
     "name": "stdout",
     "output_type": "stream",
     "text": [
      "[*********************100%***********************]  1 of 1 completed\n",
      "Growth of Portfolio: 0.1967155632009049\n",
      "Growth of Market Index: 0.17602511906277696\n"
     ]
    }
   ],
   "source": [
    "# 10 акций\n",
    "tickers_list = ['EDP.LS',\n",
    "                'ENGI.PA',\n",
    "                'SHELL.AS',\n",
    "                'URW.AS',\n",
    "                'TTE.PA',\n",
    "                'AGS.BR',\n",
    "                'CS.PA',\n",
    "                'AGN.AS',\n",
    "                'GLE.PA',\n",
    "                'BNP.PA']\n",
    "\n",
    "data = pd.DataFrame(columns=tickers_list)\n",
    "\n",
    "for ticker in tickers_list:\n",
    "    data[ticker] = yf.download(ticker,'2019-01-01','2020-01-01', interval='1mo')['Adj Close']\n",
    "\n",
    "data = data.reset_index()\n",
    "data['sum'] = data.sum(axis=1).to_list()\n",
    "\n",
    "df = pd.DataFrame(columns=tickers_list)\n",
    "for ticker in tickers_list:\n",
    "    div = sum(yf.Ticker(ticker).history(start='2019-01-01',end='2020-01-01').Dividends.to_list())\n",
    "    split = sum(yf.Ticker(ticker).history(start='2019-01-01',end='2020-01-01')['Stock Splits'].to_list())\n",
    "    df[ticker] = [div, split]\n",
    "df['sum'] = df.sum(axis=1).to_list()\n",
    "\n",
    "tickers_list = ['^N100']\n",
    "dt = pd.DataFrame(columns=tickers_list)\n",
    "for ticker in tickers_list:\n",
    "    dt[ticker] = yf.download(ticker,'2019-01-01','2020-01-01', interval='1mo')['Adj Close']\n",
    "    \n",
    "data['N-100'] = dt['^N100'].to_list()\n",
    "\n",
    "portfolio_g = (data['sum'][11] + df['sum'][0] - data['sum'][0]) / data['sum'][0]\n",
    "market_g = (data['N-100'][11] - data['N-100'][0]) / data['N-100'][0]\n",
    "\n",
    "lst_10.append(portfolio_g)\n",
    "market.append(market_g)\n",
    "\n",
    "if df['sum'][1] == 0:\n",
    "    print('Growth of Portfolio:', portfolio_g)\n",
    "    print('Growth of Market Index:', market_g)\n",
    "else:\n",
    "    print('Есть дробление акций')"
   ]
  },
  {
   "cell_type": "code",
   "execution_count": 75,
   "metadata": {},
   "outputs": [
    {
     "name": "stdout",
     "output_type": "stream",
     "text": [
      "[*********************100%***********************]  1 of 1 completed\n",
      "[*********************100%***********************]  1 of 1 completed\n",
      "[*********************100%***********************]  1 of 1 completed\n",
      "[*********************100%***********************]  1 of 1 completed\n",
      "[*********************100%***********************]  1 of 1 completed\n",
      "[*********************100%***********************]  1 of 1 completed\n",
      "[*********************100%***********************]  1 of 1 completed\n"
     ]
    },
    {
     "name": "stderr",
     "output_type": "stream",
     "text": [
      "<ipython-input-75-8a5835489161>:16: FutureWarning: Dropping of nuisance columns in DataFrame reductions (with 'numeric_only=None') is deprecated; in a future version this will raise TypeError.  Select only valid columns before calling the reduction.\n",
      "  data['sum'] = data.sum(axis=1).to_list()\n"
     ]
    },
    {
     "name": "stdout",
     "output_type": "stream",
     "text": [
      "[*********************100%***********************]  1 of 1 completed\n",
      "Growth of Portfolio: 0.14891786535146748\n",
      "Growth of Market Index: 0.17602511906277696\n"
     ]
    }
   ],
   "source": [
    "# 7 акций\n",
    "tickers_list = ['EDP.LS',\n",
    "                'ENGI.PA',\n",
    "                'SHELL.AS',\n",
    "                'URW.AS',\n",
    "                'TTE.PA',\n",
    "                'AGS.BR',\n",
    "                'CS.PA']\n",
    "\n",
    "data = pd.DataFrame(columns=tickers_list)\n",
    "\n",
    "for ticker in tickers_list:\n",
    "    data[ticker] = yf.download(ticker,'2019-01-01','2020-01-01', interval='1mo')['Adj Close']\n",
    "\n",
    "data = data.reset_index()\n",
    "data['sum'] = data.sum(axis=1).to_list()\n",
    "\n",
    "df = pd.DataFrame(columns=tickers_list)\n",
    "for ticker in tickers_list:\n",
    "    div = sum(yf.Ticker(ticker).history(start='2019-01-01',end='2020-01-01').Dividends.to_list())\n",
    "    split = sum(yf.Ticker(ticker).history(start='2019-01-01',end='2020-01-01')['Stock Splits'].to_list())\n",
    "    df[ticker] = [div, split]\n",
    "df['sum'] = df.sum(axis=1).to_list()\n",
    "\n",
    "tickers_list = ['^N100']\n",
    "dt = pd.DataFrame(columns=tickers_list)\n",
    "for ticker in tickers_list:\n",
    "    dt[ticker] = yf.download(ticker,'2019-01-01','2020-01-01', interval='1mo')['Adj Close']\n",
    "    \n",
    "data['N-100'] = dt['^N100'].to_list()\n",
    "\n",
    "portfolio_g = (data['sum'][11] + df['sum'][0] - data['sum'][0]) / data['sum'][0]\n",
    "market_g = (data['N-100'][11] - data['N-100'][0]) / data['N-100'][0]\n",
    "\n",
    "lst_7.append(portfolio_g)\n",
    "\n",
    "if df['sum'][1] == 0:\n",
    "    print('Growth of Portfolio:', portfolio_g)\n",
    "    print('Growth of Market Index:', market_g)\n",
    "else:\n",
    "    print('Есть дробление акций')"
   ]
  },
  {
   "cell_type": "code",
   "execution_count": 76,
   "metadata": {},
   "outputs": [
    {
     "name": "stdout",
     "output_type": "stream",
     "text": [
      "[*********************100%***********************]  1 of 1 completed\n",
      "[*********************100%***********************]  1 of 1 completed\n",
      "[*********************100%***********************]  1 of 1 completed\n",
      "[*********************100%***********************]  1 of 1 completed\n",
      "[*********************100%***********************]  1 of 1 completed\n"
     ]
    },
    {
     "name": "stderr",
     "output_type": "stream",
     "text": [
      "<ipython-input-76-c5961629f8ec>:14: FutureWarning: Dropping of nuisance columns in DataFrame reductions (with 'numeric_only=None') is deprecated; in a future version this will raise TypeError.  Select only valid columns before calling the reduction.\n",
      "  data['sum'] = data.sum(axis=1).to_list()\n"
     ]
    },
    {
     "name": "stdout",
     "output_type": "stream",
     "text": [
      "[*********************100%***********************]  1 of 1 completed\n",
      "Growth of Portfolio: 0.08414593819968141\n",
      "Growth of Market Index: 0.17602511906277696\n"
     ]
    }
   ],
   "source": [
    "# 5 акций\n",
    "tickers_list = ['EDP.LS',\n",
    "                'ENGI.PA',\n",
    "                'SHELL.AS',\n",
    "                'URW.AS',\n",
    "                'TTE.PA']\n",
    "\n",
    "data = pd.DataFrame(columns=tickers_list)\n",
    "\n",
    "for ticker in tickers_list:\n",
    "    data[ticker] = yf.download(ticker,'2019-01-01','2020-01-01', interval='1mo')['Adj Close']\n",
    "\n",
    "data = data.reset_index()\n",
    "data['sum'] = data.sum(axis=1).to_list()\n",
    "\n",
    "df = pd.DataFrame(columns=tickers_list)\n",
    "for ticker in tickers_list:\n",
    "    div = sum(yf.Ticker(ticker).history(start='2019-01-01',end='2020-01-01').Dividends.to_list())\n",
    "    split = sum(yf.Ticker(ticker).history(start='2019-01-01',end='2020-01-01')['Stock Splits'].to_list())\n",
    "    df[ticker] = [div, split]\n",
    "df['sum'] = df.sum(axis=1).to_list()\n",
    "\n",
    "tickers_list = ['^N100']\n",
    "dt = pd.DataFrame(columns=tickers_list)\n",
    "for ticker in tickers_list:\n",
    "    dt[ticker] = yf.download(ticker,'2019-01-01','2020-01-01', interval='1mo')['Adj Close']\n",
    "    \n",
    "data['N-100'] = dt['^N100'].to_list()\n",
    "\n",
    "portfolio_g = (data['sum'][11] + df['sum'][0] - data['sum'][0]) / data['sum'][0]\n",
    "market_g = (data['N-100'][11] - data['N-100'][0]) / data['N-100'][0]\n",
    "\n",
    "lst_5.append(portfolio_g)\n",
    "\n",
    "if df['sum'][1] == 0:\n",
    "    print('Growth of Portfolio:', portfolio_g)\n",
    "    print('Growth of Market Index:', market_g)\n",
    "else:\n",
    "    print('Есть дробление акций')"
   ]
  },
  {
   "cell_type": "code",
   "execution_count": 77,
   "metadata": {},
   "outputs": [
    {
     "name": "stdout",
     "output_type": "stream",
     "text": [
      "[*********************100%***********************]  1 of 1 completed\n",
      "[*********************100%***********************]  1 of 1 completed\n",
      "[*********************100%***********************]  1 of 1 completed\n"
     ]
    },
    {
     "name": "stderr",
     "output_type": "stream",
     "text": [
      "<ipython-input-77-a1107ec5d29b>:12: FutureWarning: Dropping of nuisance columns in DataFrame reductions (with 'numeric_only=None') is deprecated; in a future version this will raise TypeError.  Select only valid columns before calling the reduction.\n",
      "  data['sum'] = data.sum(axis=1).to_list()\n"
     ]
    },
    {
     "name": "stdout",
     "output_type": "stream",
     "text": [
      "[*********************100%***********************]  1 of 1 completed\n",
      "Growth of Portfolio: 0.13885058752281462\n",
      "Growth of Market Index: 0.17602511906277696\n"
     ]
    }
   ],
   "source": [
    "# 3 акции\n",
    "tickers_list = ['EDP.LS',\n",
    "                'ENGI.PA',\n",
    "                'SHELL.AS']\n",
    "\n",
    "data = pd.DataFrame(columns=tickers_list)\n",
    "\n",
    "for ticker in tickers_list:\n",
    "    data[ticker] = yf.download(ticker,'2019-01-01','2020-01-01', interval='1mo')['Adj Close']\n",
    "\n",
    "data = data.reset_index()\n",
    "data['sum'] = data.sum(axis=1).to_list()\n",
    "\n",
    "df = pd.DataFrame(columns=tickers_list)\n",
    "for ticker in tickers_list:\n",
    "    div = sum(yf.Ticker(ticker).history(start='2019-01-01',end='2020-01-01').Dividends.to_list())\n",
    "    split = sum(yf.Ticker(ticker).history(start='2019-01-01',end='2020-01-01')['Stock Splits'].to_list())\n",
    "    df[ticker] = [div, split]\n",
    "df['sum'] = df.sum(axis=1).to_list()\n",
    "\n",
    "tickers_list = ['^N100']\n",
    "dt = pd.DataFrame(columns=tickers_list)\n",
    "for ticker in tickers_list:\n",
    "    dt[ticker] = yf.download(ticker,'2019-01-01','2020-01-01', interval='1mo')['Adj Close']\n",
    "    \n",
    "data['N-100'] = dt['^N100'].to_list()\n",
    "\n",
    "portfolio_g = (data['sum'][11] + df['sum'][0] - data['sum'][0]) / data['sum'][0]\n",
    "market_g = (data['N-100'][11] - data['N-100'][0]) / data['N-100'][0]\n",
    "\n",
    "lst_3.append(portfolio_g)\n",
    "\n",
    "if df['sum'][1] == 0:\n",
    "    print('Growth of Portfolio:', portfolio_g)\n",
    "    print('Growth of Market Index:', market_g)\n",
    "else:\n",
    "    print('Есть дробление акций')"
   ]
  },
  {
   "cell_type": "code",
   "execution_count": 78,
   "metadata": {},
   "outputs": [
    {
     "name": "stdout",
     "output_type": "stream",
     "text": [
      "[*********************100%***********************]  1 of 1 completed\n"
     ]
    },
    {
     "name": "stderr",
     "output_type": "stream",
     "text": [
      "<ipython-input-78-a154ebc57bcb>:10: FutureWarning: Dropping of nuisance columns in DataFrame reductions (with 'numeric_only=None') is deprecated; in a future version this will raise TypeError.  Select only valid columns before calling the reduction.\n",
      "  data['sum'] = data.sum(axis=1).to_list()\n"
     ]
    },
    {
     "name": "stdout",
     "output_type": "stream",
     "text": [
      "[*********************100%***********************]  1 of 1 completed\n",
      "Growth of Portfolio: 0.5189476111227121\n",
      "Growth of Market Index: 0.17602511906277696\n"
     ]
    }
   ],
   "source": [
    "# 1 акция\n",
    "tickers_list = ['EDP.LS']\n",
    "\n",
    "data = pd.DataFrame(columns=tickers_list)\n",
    "\n",
    "for ticker in tickers_list:\n",
    "    data[ticker] = yf.download(ticker,'2019-01-01','2020-01-01', interval='1mo')['Adj Close']\n",
    "\n",
    "data = data.reset_index()\n",
    "data['sum'] = data.sum(axis=1).to_list()\n",
    "\n",
    "df = pd.DataFrame(columns=tickers_list)\n",
    "for ticker in tickers_list:\n",
    "    div = sum(yf.Ticker(ticker).history(start='2019-01-01',end='2020-01-01').Dividends.to_list())\n",
    "    split = sum(yf.Ticker(ticker).history(start='2019-01-01',end='2020-01-01')['Stock Splits'].to_list())\n",
    "    df[ticker] = [div, split]\n",
    "df['sum'] = df.sum(axis=1).to_list()\n",
    "\n",
    "tickers_list = ['^N100']\n",
    "dt = pd.DataFrame(columns=tickers_list)\n",
    "for ticker in tickers_list:\n",
    "    dt[ticker] = yf.download(ticker,'2019-01-01','2020-01-01', interval='1mo')['Adj Close']\n",
    "    \n",
    "data['N-100'] = dt['^N100'].to_list()\n",
    "\n",
    "portfolio_g = (data['sum'][11] + df['sum'][0] - data['sum'][0]) / data['sum'][0]\n",
    "market_g = (data['N-100'][11] - data['N-100'][0]) / data['N-100'][0]\n",
    "\n",
    "lst_1.append(portfolio_g)\n",
    "\n",
    "if df['sum'][1] == 0:\n",
    "    print('Growth of Portfolio:', portfolio_g)\n",
    "    print('Growth of Market Index:', market_g)\n",
    "else:\n",
    "    print('Есть дробление акций')"
   ]
  },
  {
   "cell_type": "markdown",
   "metadata": {},
   "source": [
    "### Портфель на 2020 год\n",
    "_По данным за 2019_\n",
    "\n",
    "- D'IETEREN GROUP\n",
    "- SOCIETE GENERALE\n",
    "- UNIBAIL-RODAMCO-WE\n",
    "- BNP PARIBAS ACT.A\n",
    "- RANDSTAD NV\n",
    "- CREDIT AGRICOLE\n",
    "- AEGON\n",
    "- AXA\n",
    "- ING GROEP N.V.\n",
    "- SHELL PLC\n"
   ]
  },
  {
   "cell_type": "code",
   "execution_count": 79,
   "metadata": {},
   "outputs": [
    {
     "name": "stdout",
     "output_type": "stream",
     "text": [
      "[*********************100%***********************]  1 of 1 completed\n",
      "[*********************100%***********************]  1 of 1 completed\n",
      "[*********************100%***********************]  1 of 1 completed\n",
      "[*********************100%***********************]  1 of 1 completed\n",
      "[*********************100%***********************]  1 of 1 completed\n",
      "[*********************100%***********************]  1 of 1 completed\n",
      "[*********************100%***********************]  1 of 1 completed\n",
      "[*********************100%***********************]  1 of 1 completed\n",
      "[*********************100%***********************]  1 of 1 completed\n",
      "[*********************100%***********************]  1 of 1 completed\n"
     ]
    },
    {
     "name": "stderr",
     "output_type": "stream",
     "text": [
      "<ipython-input-79-54170bf81df0>:19: FutureWarning: Dropping of nuisance columns in DataFrame reductions (with 'numeric_only=None') is deprecated; in a future version this will raise TypeError.  Select only valid columns before calling the reduction.\n",
      "  data['sum'] = data.sum(axis=1).to_list()\n"
     ]
    },
    {
     "name": "stdout",
     "output_type": "stream",
     "text": [
      "[*********************100%***********************]  1 of 1 completed\n",
      "Growth of Portfolio: -0.05036920476825959\n",
      "Growth of Market Index: -0.014898674109102353\n"
     ]
    }
   ],
   "source": [
    "# 10 акций\n",
    "tickers_list = ['DIE.BR',\n",
    "                'GLE.PA',\n",
    "                'URW.AS',\n",
    "                'BNP.PA',\n",
    "                'RAND.AS',\n",
    "                'ACA.PA',\n",
    "                'AGN.AS',\n",
    "                'CS.PA',\n",
    "                'INGA.AS',\n",
    "                'SHELL.AS']\n",
    "\n",
    "data = pd.DataFrame(columns=tickers_list)\n",
    "\n",
    "for ticker in tickers_list:\n",
    "    data[ticker] = yf.download(ticker,'2020-01-01','2021-01-01', interval='1mo')['Adj Close']\n",
    "\n",
    "data = data.reset_index()\n",
    "data['sum'] = data.sum(axis=1).to_list()\n",
    "\n",
    "df = pd.DataFrame(columns=tickers_list)\n",
    "for ticker in tickers_list:\n",
    "    div = sum(yf.Ticker(ticker).history(start='2020-01-01',end='2021-01-01').Dividends.to_list())\n",
    "    split = sum(yf.Ticker(ticker).history(start='2020-01-01',end='2021-01-01')['Stock Splits'].to_list())\n",
    "    df[ticker] = [div, split]\n",
    "df['sum'] = df.sum(axis=1).to_list()\n",
    "\n",
    "tickers_list = ['^N100']\n",
    "dt = pd.DataFrame(columns=tickers_list)\n",
    "for ticker in tickers_list:\n",
    "    dt[ticker] = yf.download(ticker,'2020-01-01','2021-01-01', interval='1mo')['Adj Close']\n",
    "    \n",
    "data['N-100'] = dt['^N100'].to_list()\n",
    "\n",
    "portfolio_g = (data['sum'][11] + df['sum'][0] - data['sum'][0]) / data['sum'][0]\n",
    "market_g = (data['N-100'][11] - data['N-100'][0]) / data['N-100'][0]\n",
    "\n",
    "lst_10.append(portfolio_g)\n",
    "market.append(market_g)\n",
    "\n",
    "if df['sum'][1] == 0:\n",
    "    print('Growth of Portfolio:', portfolio_g)\n",
    "    print('Growth of Market Index:', market_g)\n",
    "else:\n",
    "    print('Есть дробление акций')"
   ]
  },
  {
   "cell_type": "code",
   "execution_count": 80,
   "metadata": {},
   "outputs": [
    {
     "name": "stdout",
     "output_type": "stream",
     "text": [
      "[*********************100%***********************]  1 of 1 completed\n",
      "[*********************100%***********************]  1 of 1 completed\n",
      "[*********************100%***********************]  1 of 1 completed\n",
      "[*********************100%***********************]  1 of 1 completed\n",
      "[*********************100%***********************]  1 of 1 completed\n",
      "[*********************100%***********************]  1 of 1 completed\n",
      "[*********************100%***********************]  1 of 1 completed\n"
     ]
    },
    {
     "name": "stderr",
     "output_type": "stream",
     "text": [
      "<ipython-input-80-627a693f1744>:16: FutureWarning: Dropping of nuisance columns in DataFrame reductions (with 'numeric_only=None') is deprecated; in a future version this will raise TypeError.  Select only valid columns before calling the reduction.\n",
      "  data['sum'] = data.sum(axis=1).to_list()\n"
     ]
    },
    {
     "name": "stdout",
     "output_type": "stream",
     "text": [
      "[*********************100%***********************]  1 of 1 completed\n",
      "Growth of Portfolio: -0.03556605325903286\n",
      "Growth of Market Index: -0.014898674109102353\n"
     ]
    }
   ],
   "source": [
    "# 7 акций\n",
    "tickers_list = ['DIE.BR',\n",
    "                'GLE.PA',\n",
    "                'URW.AS',\n",
    "                'BNP.PA',\n",
    "                'RAND.AS',\n",
    "                'ACA.PA',\n",
    "                'AGN.AS']\n",
    "\n",
    "data = pd.DataFrame(columns=tickers_list)\n",
    "\n",
    "for ticker in tickers_list:\n",
    "    data[ticker] = yf.download(ticker,'2020-01-01','2021-01-01', interval='1mo')['Adj Close']\n",
    "\n",
    "data = data.reset_index()\n",
    "data['sum'] = data.sum(axis=1).to_list()\n",
    "\n",
    "df = pd.DataFrame(columns=tickers_list)\n",
    "for ticker in tickers_list:\n",
    "    div = sum(yf.Ticker(ticker).history(start='2020-01-01',end='2021-01-01').Dividends.to_list())\n",
    "    split = sum(yf.Ticker(ticker).history(start='2020-01-01',end='2021-01-01')['Stock Splits'].to_list())\n",
    "    df[ticker] = [div, split]\n",
    "df['sum'] = df.sum(axis=1).to_list()\n",
    "\n",
    "tickers_list = ['^N100']\n",
    "dt = pd.DataFrame(columns=tickers_list)\n",
    "for ticker in tickers_list:\n",
    "    dt[ticker] = yf.download(ticker,'2020-01-01','2021-01-01', interval='1mo')['Adj Close']\n",
    "    \n",
    "data['N-100'] = dt['^N100'].to_list()\n",
    "\n",
    "portfolio_g = (data['sum'][11] + df['sum'][0] - data['sum'][0]) / data['sum'][0]\n",
    "market_g = (data['N-100'][11] - data['N-100'][0]) / data['N-100'][0]\n",
    "\n",
    "lst_7.append(portfolio_g)\n",
    "\n",
    "if df['sum'][1] == 0:\n",
    "    print('Growth of Portfolio:', portfolio_g)\n",
    "    print('Growth of Market Index:', market_g)\n",
    "else:\n",
    "    print('Есть дробление акций')"
   ]
  },
  {
   "cell_type": "code",
   "execution_count": 81,
   "metadata": {},
   "outputs": [
    {
     "name": "stdout",
     "output_type": "stream",
     "text": [
      "[*********************100%***********************]  1 of 1 completed\n",
      "[*********************100%***********************]  1 of 1 completed\n",
      "[*********************100%***********************]  1 of 1 completed\n",
      "[*********************100%***********************]  1 of 1 completed\n",
      "[*********************100%***********************]  1 of 1 completed\n"
     ]
    },
    {
     "name": "stderr",
     "output_type": "stream",
     "text": [
      "<ipython-input-81-ff99050158cc>:14: FutureWarning: Dropping of nuisance columns in DataFrame reductions (with 'numeric_only=None') is deprecated; in a future version this will raise TypeError.  Select only valid columns before calling the reduction.\n",
      "  data['sum'] = data.sum(axis=1).to_list()\n"
     ]
    },
    {
     "name": "stdout",
     "output_type": "stream",
     "text": [
      "[*********************100%***********************]  1 of 1 completed\n",
      "Growth of Portfolio: -0.03199940075218304\n",
      "Growth of Market Index: -0.014898674109102353\n"
     ]
    }
   ],
   "source": [
    "# 5 акций\n",
    "tickers_list = ['DIE.BR',\n",
    "                'GLE.PA',\n",
    "                'URW.AS',\n",
    "                'BNP.PA',\n",
    "                'RAND.AS']\n",
    "\n",
    "data = pd.DataFrame(columns=tickers_list)\n",
    "\n",
    "for ticker in tickers_list:\n",
    "    data[ticker] = yf.download(ticker,'2020-01-01','2021-01-01', interval='1mo')['Adj Close']\n",
    "\n",
    "data = data.reset_index()\n",
    "data['sum'] = data.sum(axis=1).to_list()\n",
    "\n",
    "df = pd.DataFrame(columns=tickers_list)\n",
    "for ticker in tickers_list:\n",
    "    div = sum(yf.Ticker(ticker).history(start='2020-01-01',end='2021-01-01').Dividends.to_list())\n",
    "    split = sum(yf.Ticker(ticker).history(start='2020-01-01',end='2021-01-01')['Stock Splits'].to_list())\n",
    "    df[ticker] = [div, split]\n",
    "df['sum'] = df.sum(axis=1).to_list()\n",
    "\n",
    "tickers_list = ['^N100']\n",
    "dt = pd.DataFrame(columns=tickers_list)\n",
    "for ticker in tickers_list:\n",
    "    dt[ticker] = yf.download(ticker,'2020-01-01','2021-01-01', interval='1mo')['Adj Close']\n",
    "    \n",
    "data['N-100'] = dt['^N100'].to_list()\n",
    "\n",
    "portfolio_g = (data['sum'][11] + df['sum'][0] - data['sum'][0]) / data['sum'][0]\n",
    "market_g = (data['N-100'][11] - data['N-100'][0]) / data['N-100'][0]\n",
    "\n",
    "lst_5.append(portfolio_g)\n",
    "\n",
    "if df['sum'][1] == 0:\n",
    "    print('Growth of Portfolio:', portfolio_g)\n",
    "    print('Growth of Market Index:', market_g)\n",
    "else:\n",
    "    print('Есть дробление акций')"
   ]
  },
  {
   "cell_type": "code",
   "execution_count": 82,
   "metadata": {},
   "outputs": [
    {
     "name": "stdout",
     "output_type": "stream",
     "text": [
      "[*********************100%***********************]  1 of 1 completed\n",
      "[*********************100%***********************]  1 of 1 completed\n",
      "[*********************100%***********************]  1 of 1 completed\n"
     ]
    },
    {
     "name": "stderr",
     "output_type": "stream",
     "text": [
      "<ipython-input-82-f8f91f249eb1>:12: FutureWarning: Dropping of nuisance columns in DataFrame reductions (with 'numeric_only=None') is deprecated; in a future version this will raise TypeError.  Select only valid columns before calling the reduction.\n",
      "  data['sum'] = data.sum(axis=1).to_list()\n"
     ]
    },
    {
     "name": "stdout",
     "output_type": "stream",
     "text": [
      "[*********************100%***********************]  1 of 1 completed\n",
      "Growth of Portfolio: -0.09831365375754726\n",
      "Growth of Market Index: -0.014898674109102353\n"
     ]
    }
   ],
   "source": [
    "# 3 акции\n",
    "tickers_list = ['DIE.BR',\n",
    "                'GLE.PA',\n",
    "                'URW.AS']\n",
    "\n",
    "data = pd.DataFrame(columns=tickers_list)\n",
    "\n",
    "for ticker in tickers_list:\n",
    "    data[ticker] = yf.download(ticker,'2020-01-01','2021-01-01', interval='1mo')['Adj Close']\n",
    "\n",
    "data = data.reset_index()\n",
    "data['sum'] = data.sum(axis=1).to_list()\n",
    "\n",
    "df = pd.DataFrame(columns=tickers_list)\n",
    "for ticker in tickers_list:\n",
    "    div = sum(yf.Ticker(ticker).history(start='2020-01-01',end='2021-01-01').Dividends.to_list())\n",
    "    split = sum(yf.Ticker(ticker).history(start='2020-01-01',end='2021-01-01')['Stock Splits'].to_list())\n",
    "    df[ticker] = [div, split]\n",
    "df['sum'] = df.sum(axis=1).to_list()\n",
    "\n",
    "tickers_list = ['^N100']\n",
    "dt = pd.DataFrame(columns=tickers_list)\n",
    "for ticker in tickers_list:\n",
    "    dt[ticker] = yf.download(ticker,'2020-01-01','2021-01-01', interval='1mo')['Adj Close']\n",
    "    \n",
    "data['N-100'] = dt['^N100'].to_list()\n",
    "\n",
    "portfolio_g = (data['sum'][11] + df['sum'][0] - data['sum'][0]) / data['sum'][0]\n",
    "market_g = (data['N-100'][11] - data['N-100'][0]) / data['N-100'][0]\n",
    "\n",
    "lst_3.append(portfolio_g)\n",
    "\n",
    "if df['sum'][1] == 0:\n",
    "    print('Growth of Portfolio:', portfolio_g)\n",
    "    print('Growth of Market Index:', market_g)\n",
    "else:\n",
    "    print('Есть дробление акций')"
   ]
  },
  {
   "cell_type": "code",
   "execution_count": 83,
   "metadata": {},
   "outputs": [
    {
     "name": "stdout",
     "output_type": "stream",
     "text": [
      "[*********************100%***********************]  1 of 1 completed\n"
     ]
    },
    {
     "name": "stderr",
     "output_type": "stream",
     "text": [
      "<ipython-input-83-3d942c0e2d36>:10: FutureWarning: Dropping of nuisance columns in DataFrame reductions (with 'numeric_only=None') is deprecated; in a future version this will raise TypeError.  Select only valid columns before calling the reduction.\n",
      "  data['sum'] = data.sum(axis=1).to_list()\n"
     ]
    },
    {
     "name": "stdout",
     "output_type": "stream",
     "text": [
      "[*********************100%***********************]  1 of 1 completed\n",
      "Growth of Portfolio: 0.2043111922502069\n",
      "Growth of Market Index: -0.014898674109102353\n"
     ]
    }
   ],
   "source": [
    "# 1 акция\n",
    "tickers_list = ['DIE.BR']\n",
    "\n",
    "data = pd.DataFrame(columns=tickers_list)\n",
    "\n",
    "for ticker in tickers_list:\n",
    "    data[ticker] = yf.download(ticker,'2020-01-01','2021-01-01', interval='1mo')['Adj Close']\n",
    "\n",
    "data = data.reset_index()\n",
    "data['sum'] = data.sum(axis=1).to_list()\n",
    "\n",
    "df = pd.DataFrame(columns=tickers_list)\n",
    "for ticker in tickers_list:\n",
    "    div = sum(yf.Ticker(ticker).history(start='2020-01-01',end='2021-01-01').Dividends.to_list())\n",
    "    split = sum(yf.Ticker(ticker).history(start='2020-01-01',end='2021-01-01')['Stock Splits'].to_list())\n",
    "    df[ticker] = [div, split]\n",
    "df['sum'] = df.sum(axis=1).to_list()\n",
    "\n",
    "tickers_list = ['^N100']\n",
    "dt = pd.DataFrame(columns=tickers_list)\n",
    "for ticker in tickers_list:\n",
    "    dt[ticker] = yf.download(ticker,'2020-01-01','2021-01-01', interval='1mo')['Adj Close']\n",
    "    \n",
    "data['N-100'] = dt['^N100'].to_list()\n",
    "\n",
    "portfolio_g = (data['sum'][11] + df['sum'][0] - data['sum'][0]) / data['sum'][0]\n",
    "market_g = (data['N-100'][11] - data['N-100'][0]) / data['N-100'][0]\n",
    "\n",
    "lst_1.append(portfolio_g)\n",
    "\n",
    "if df['sum'][1] == 0:\n",
    "    print('Growth of Portfolio:', portfolio_g)\n",
    "    print('Growth of Market Index:', market_g)\n",
    "else:\n",
    "    print('Есть дробление акций')"
   ]
  },
  {
   "cell_type": "markdown",
   "metadata": {},
   "source": [
    "## Портфель на 2021 год\n",
    "_По данным за 2020_\n",
    "\n",
    "- RENAULT\n",
    "- UNIBAIL-RODAMCO-WE\n",
    "- AKER BP\n",
    "- AEGON\n",
    "- SOCIETE GENERALE\n",
    "- SHELL PLC\n",
    "- ING GROEP N.V.\n",
    "- RANDSTAD NV\n",
    "- NN GROUP\n",
    "- TOTALENERGIES\n"
   ]
  },
  {
   "cell_type": "code",
   "execution_count": 84,
   "metadata": {},
   "outputs": [
    {
     "name": "stdout",
     "output_type": "stream",
     "text": [
      "[*********************100%***********************]  1 of 1 completed\n",
      "[*********************100%***********************]  1 of 1 completed\n",
      "[*********************100%***********************]  1 of 1 completed\n",
      "[*********************100%***********************]  1 of 1 completed\n",
      "[*********************100%***********************]  1 of 1 completed\n",
      "[*********************100%***********************]  1 of 1 completed\n",
      "[*********************100%***********************]  1 of 1 completed\n",
      "[*********************100%***********************]  1 of 1 completed\n",
      "[*********************100%***********************]  1 of 1 completed\n",
      "[*********************100%***********************]  1 of 1 completed\n"
     ]
    },
    {
     "name": "stderr",
     "output_type": "stream",
     "text": [
      "<ipython-input-84-92ba1bfa9f5d>:22: FutureWarning: Dropping of nuisance columns in DataFrame reductions (with 'numeric_only=None') is deprecated; in a future version this will raise TypeError.  Select only valid columns before calling the reduction.\n",
      "  data['sum'] = data.sum(axis=1).to_list()\n"
     ]
    },
    {
     "name": "stdout",
     "output_type": "stream",
     "text": [
      "[*********************100%***********************]  1 of 1 completed\n",
      "Growth of Portfolio: 0.24174117406580795\n",
      "Growth of Market Index: 0.25457437513165765\n"
     ]
    }
   ],
   "source": [
    "# 10 акций\n",
    "tickers_list = ['RNO.PA',\n",
    "                'URW.AS',\n",
    "                'AKRBP.OL', # кроны\n",
    "                'AGN.AS',\n",
    "                'GLE.PA',\n",
    "                'SHELL.AS',\n",
    "                'INGA.AS',\n",
    "                'RAND.AS',\n",
    "                'NN.AS',\n",
    "                'TTE.PA']\n",
    "\n",
    "data = pd.DataFrame(columns=tickers_list)\n",
    "\n",
    "for ticker in tickers_list:\n",
    "    data[ticker] = yf.download(ticker,'2021-01-01','2022-01-01', interval='1mo')['Adj Close']\n",
    "\n",
    "data = data.reset_index()\n",
    "\n",
    "data['AKRBP.OL'] = data['AKRBP.OL'] * 0.09825\n",
    "\n",
    "data['sum'] = data.sum(axis=1).to_list()\n",
    "\n",
    "df = pd.DataFrame(columns=tickers_list)\n",
    "for ticker in tickers_list:\n",
    "    div = sum(yf.Ticker(ticker).history(start='2021-01-01',end='2022-01-01').Dividends.to_list())\n",
    "    split = sum(yf.Ticker(ticker).history(start='2021-01-01',end='2022-01-01')['Stock Splits'].to_list())\n",
    "    df[ticker] = [div, split]\n",
    "\n",
    "df['AKRBP.OL'] = df['AKRBP.OL'] * 0.09825\n",
    "\n",
    "df['sum'] = df.sum(axis=1).to_list()\n",
    "\n",
    "tickers_list = ['^N100']\n",
    "dt = pd.DataFrame(columns=tickers_list)\n",
    "for ticker in tickers_list:\n",
    "    dt[ticker] = yf.download(ticker,'2021-01-01','2022-01-01', interval='1mo')['Adj Close']\n",
    "    \n",
    "data['N-100'] = dt['^N100'].to_list()\n",
    "\n",
    "portfolio_g = (data['sum'][11] + df['sum'][0] - data['sum'][0]) / data['sum'][0]\n",
    "market_g = (data['N-100'][11] - data['N-100'][0]) / data['N-100'][0]\n",
    "\n",
    "lst_10.append(portfolio_g)\n",
    "market.append(market_g)\n",
    "\n",
    "if df['sum'][1] == 0:\n",
    "    print('Growth of Portfolio:', portfolio_g)\n",
    "    print('Growth of Market Index:', market_g)\n",
    "else:\n",
    "    print('Есть дробление акций')"
   ]
  },
  {
   "cell_type": "code",
   "execution_count": 85,
   "metadata": {},
   "outputs": [
    {
     "name": "stdout",
     "output_type": "stream",
     "text": [
      "[*********************100%***********************]  1 of 1 completed\n",
      "[*********************100%***********************]  1 of 1 completed\n",
      "[*********************100%***********************]  1 of 1 completed\n",
      "[*********************100%***********************]  1 of 1 completed\n",
      "[*********************100%***********************]  1 of 1 completed\n",
      "[*********************100%***********************]  1 of 1 completed\n",
      "[*********************100%***********************]  1 of 1 completed\n"
     ]
    },
    {
     "name": "stderr",
     "output_type": "stream",
     "text": [
      "<ipython-input-85-dafd38fd8f45>:19: FutureWarning: Dropping of nuisance columns in DataFrame reductions (with 'numeric_only=None') is deprecated; in a future version this will raise TypeError.  Select only valid columns before calling the reduction.\n",
      "  data['sum'] = data.sum(axis=1).to_list()\n"
     ]
    },
    {
     "name": "stdout",
     "output_type": "stream",
     "text": [
      "[*********************100%***********************]  1 of 1 completed\n",
      "Growth of Portfolio: 0.12452248202040692\n",
      "Growth of Market Index: 0.25457437513165765\n"
     ]
    }
   ],
   "source": [
    "# 7 акций\n",
    "tickers_list = ['RNO.PA',\n",
    "                'URW.AS',\n",
    "                'AKRBP.OL', # кроны\n",
    "                'AGN.AS',\n",
    "                'GLE.PA',\n",
    "                'SHELL.AS',\n",
    "                'INGA.AS']\n",
    "\n",
    "data = pd.DataFrame(columns=tickers_list)\n",
    "\n",
    "for ticker in tickers_list:\n",
    "    data[ticker] = yf.download(ticker,'2021-01-01','2022-01-01', interval='1mo')['Adj Close']\n",
    "\n",
    "data = data.reset_index()\n",
    "\n",
    "data['AKRBP.OL'] = data['AKRBP.OL'] * 0.09825\n",
    "\n",
    "data['sum'] = data.sum(axis=1).to_list()\n",
    "\n",
    "df = pd.DataFrame(columns=tickers_list)\n",
    "for ticker in tickers_list:\n",
    "    div = sum(yf.Ticker(ticker).history(start='2021-01-01',end='2022-01-01').Dividends.to_list())\n",
    "    split = sum(yf.Ticker(ticker).history(start='2021-01-01',end='2022-01-01')['Stock Splits'].to_list())\n",
    "    df[ticker] = [div, split]\n",
    "\n",
    "df['AKRBP.OL'] = df['AKRBP.OL'] * 0.09825\n",
    "\n",
    "df['sum'] = df.sum(axis=1).to_list()\n",
    "\n",
    "tickers_list = ['^N100']\n",
    "dt = pd.DataFrame(columns=tickers_list)\n",
    "for ticker in tickers_list:\n",
    "    dt[ticker] = yf.download(ticker,'2021-01-01','2022-01-01', interval='1mo')['Adj Close']\n",
    "    \n",
    "data['N-100'] = dt['^N100'].to_list()\n",
    "\n",
    "portfolio_g = (data['sum'][11] + df['sum'][0] - data['sum'][0]) / data['sum'][0]\n",
    "market_g = (data['N-100'][11] - data['N-100'][0]) / data['N-100'][0]\n",
    "\n",
    "lst_7.append(portfolio_g)\n",
    "\n",
    "if df['sum'][1] == 0:\n",
    "    print('Growth of Portfolio:', portfolio_g)\n",
    "    print('Growth of Market Index:', market_g)\n",
    "else:\n",
    "    print('Есть дробление акций')"
   ]
  },
  {
   "cell_type": "code",
   "execution_count": 86,
   "metadata": {},
   "outputs": [
    {
     "name": "stdout",
     "output_type": "stream",
     "text": [
      "[*********************100%***********************]  1 of 1 completed\n",
      "[*********************100%***********************]  1 of 1 completed\n",
      "[*********************100%***********************]  1 of 1 completed\n",
      "[*********************100%***********************]  1 of 1 completed\n",
      "[*********************100%***********************]  1 of 1 completed\n"
     ]
    },
    {
     "name": "stderr",
     "output_type": "stream",
     "text": [
      "<ipython-input-86-d322350c0f1d>:17: FutureWarning: Dropping of nuisance columns in DataFrame reductions (with 'numeric_only=None') is deprecated; in a future version this will raise TypeError.  Select only valid columns before calling the reduction.\n",
      "  data['sum'] = data.sum(axis=1).to_list()\n"
     ]
    },
    {
     "name": "stdout",
     "output_type": "stream",
     "text": [
      "[*********************100%***********************]  1 of 1 completed\n",
      "Growth of Portfolio: 0.06715110511309996\n",
      "Growth of Market Index: 0.25457437513165765\n"
     ]
    }
   ],
   "source": [
    "# 5 акций\n",
    "tickers_list = ['RNO.PA',\n",
    "                'URW.AS',\n",
    "                'AKRBP.OL', # кроны\n",
    "                'AGN.AS',\n",
    "                'GLE.PA']\n",
    "\n",
    "data = pd.DataFrame(columns=tickers_list)\n",
    "\n",
    "for ticker in tickers_list:\n",
    "    data[ticker] = yf.download(ticker,'2021-01-01','2022-01-01', interval='1mo')['Adj Close']\n",
    "\n",
    "data = data.reset_index()\n",
    "\n",
    "data['AKRBP.OL'] = data['AKRBP.OL'] * 0.09825\n",
    "\n",
    "data['sum'] = data.sum(axis=1).to_list()\n",
    "\n",
    "df = pd.DataFrame(columns=tickers_list)\n",
    "for ticker in tickers_list:\n",
    "    div = sum(yf.Ticker(ticker).history(start='2021-01-01',end='2022-01-01').Dividends.to_list())\n",
    "    split = sum(yf.Ticker(ticker).history(start='2021-01-01',end='2022-01-01')['Stock Splits'].to_list())\n",
    "    df[ticker] = [div, split]\n",
    "\n",
    "df['AKRBP.OL'] = df['AKRBP.OL'] * 0.09825\n",
    "\n",
    "df['sum'] = df.sum(axis=1).to_list()\n",
    "\n",
    "tickers_list = ['^N100']\n",
    "dt = pd.DataFrame(columns=tickers_list)\n",
    "for ticker in tickers_list:\n",
    "    dt[ticker] = yf.download(ticker,'2021-01-01','2022-01-01', interval='1mo')['Adj Close']\n",
    "    \n",
    "data['N-100'] = dt['^N100'].to_list()\n",
    "\n",
    "portfolio_g = (data['sum'][11] + df['sum'][0] - data['sum'][0]) / data['sum'][0]\n",
    "market_g = (data['N-100'][11] - data['N-100'][0]) / data['N-100'][0]\n",
    "\n",
    "lst_5.append(portfolio_g)\n",
    "\n",
    "if df['sum'][1] == 0:\n",
    "    print('Growth of Portfolio:', portfolio_g)\n",
    "    print('Growth of Market Index:', market_g)\n",
    "else:\n",
    "    print('Есть дробление акций')"
   ]
  },
  {
   "cell_type": "code",
   "execution_count": 87,
   "metadata": {},
   "outputs": [
    {
     "name": "stdout",
     "output_type": "stream",
     "text": [
      "[*********************100%***********************]  1 of 1 completed\n",
      "[*********************100%***********************]  1 of 1 completed\n",
      "[*********************100%***********************]  1 of 1 completed\n"
     ]
    },
    {
     "name": "stderr",
     "output_type": "stream",
     "text": [
      "<ipython-input-87-039ae5332882>:15: FutureWarning: Dropping of nuisance columns in DataFrame reductions (with 'numeric_only=None') is deprecated; in a future version this will raise TypeError.  Select only valid columns before calling the reduction.\n",
      "  data['sum'] = data.sum(axis=1).to_list()\n"
     ]
    },
    {
     "name": "stdout",
     "output_type": "stream",
     "text": [
      "[*********************100%***********************]  1 of 1 completed\n",
      "Growth of Portfolio: -0.044956806200147414\n",
      "Growth of Market Index: 0.25457437513165765\n"
     ]
    }
   ],
   "source": [
    "# 3 акции\n",
    "tickers_list = ['RNO.PA',\n",
    "                'URW.AS',\n",
    "                'AKRBP.OL'] # кроны\n",
    "\n",
    "data = pd.DataFrame(columns=tickers_list)\n",
    "\n",
    "for ticker in tickers_list:\n",
    "    data[ticker] = yf.download(ticker,'2021-01-01','2022-01-01', interval='1mo')['Adj Close']\n",
    "\n",
    "data = data.reset_index()\n",
    "\n",
    "data['AKRBP.OL'] = data['AKRBP.OL'] * 0.09825\n",
    "\n",
    "data['sum'] = data.sum(axis=1).to_list()\n",
    "\n",
    "df = pd.DataFrame(columns=tickers_list)\n",
    "for ticker in tickers_list:\n",
    "    div = sum(yf.Ticker(ticker).history(start='2021-01-01',end='2022-01-01').Dividends.to_list())\n",
    "    split = sum(yf.Ticker(ticker).history(start='2021-01-01',end='2022-01-01')['Stock Splits'].to_list())\n",
    "    df[ticker] = [div, split]\n",
    "\n",
    "df['AKRBP.OL'] = df['AKRBP.OL'] * 0.09825\n",
    "\n",
    "df['sum'] = df.sum(axis=1).to_list()\n",
    "\n",
    "tickers_list = ['^N100']\n",
    "dt = pd.DataFrame(columns=tickers_list)\n",
    "for ticker in tickers_list:\n",
    "    dt[ticker] = yf.download(ticker,'2021-01-01','2022-01-01', interval='1mo')['Adj Close']\n",
    "    \n",
    "data['N-100'] = dt['^N100'].to_list()\n",
    "\n",
    "portfolio_g = (data['sum'][11] + df['sum'][0] - data['sum'][0]) / data['sum'][0]\n",
    "market_g = (data['N-100'][11] - data['N-100'][0]) / data['N-100'][0]\n",
    "\n",
    "lst_3.append(portfolio_g)\n",
    "\n",
    "if df['sum'][1] == 0:\n",
    "    print('Growth of Portfolio:', portfolio_g)\n",
    "    print('Growth of Market Index:', market_g)\n",
    "else:\n",
    "    print('Есть дробление акций')"
   ]
  },
  {
   "cell_type": "code",
   "execution_count": 88,
   "metadata": {},
   "outputs": [
    {
     "name": "stdout",
     "output_type": "stream",
     "text": [
      "[*********************100%***********************]  1 of 1 completed\n"
     ]
    },
    {
     "name": "stderr",
     "output_type": "stream",
     "text": [
      "<ipython-input-88-477a7f2dddcf>:13: FutureWarning: Dropping of nuisance columns in DataFrame reductions (with 'numeric_only=None') is deprecated; in a future version this will raise TypeError.  Select only valid columns before calling the reduction.\n",
      "  data['sum'] = data.sum(axis=1).to_list()\n"
     ]
    },
    {
     "name": "stdout",
     "output_type": "stream",
     "text": [
      "[*********************100%***********************]  1 of 1 completed\n",
      "Growth of Portfolio: -0.13322928809187048\n",
      "Growth of Market Index: 0.25457437513165765\n"
     ]
    }
   ],
   "source": [
    "# 1 акция\n",
    "tickers_list = ['RNO.PA']\n",
    "\n",
    "data = pd.DataFrame(columns=tickers_list)\n",
    "\n",
    "for ticker in tickers_list:\n",
    "    data[ticker] = yf.download(ticker,'2021-01-01','2022-01-01', interval='1mo')['Adj Close']\n",
    "\n",
    "data = data.reset_index()\n",
    "\n",
    "#data['YAR.OL'] = data['YAR.OL'] * 0.09825\n",
    "\n",
    "data['sum'] = data.sum(axis=1).to_list()\n",
    "\n",
    "df = pd.DataFrame(columns=tickers_list)\n",
    "for ticker in tickers_list:\n",
    "    div = sum(yf.Ticker(ticker).history(start='2021-01-01',end='2022-01-01').Dividends.to_list())\n",
    "    split = sum(yf.Ticker(ticker).history(start='2021-01-01',end='2022-01-01')['Stock Splits'].to_list())\n",
    "    df[ticker] = [div, split]\n",
    "\n",
    "#df['YAR.OL'] = df['YAR.OL'] * 0.09825\n",
    "\n",
    "df['sum'] = df.sum(axis=1).to_list()\n",
    "\n",
    "tickers_list = ['^N100']\n",
    "dt = pd.DataFrame(columns=tickers_list)\n",
    "for ticker in tickers_list:\n",
    "    dt[ticker] = yf.download(ticker,'2021-01-01','2022-01-01', interval='1mo')['Adj Close']\n",
    "    \n",
    "data['N-100'] = dt['^N100'].to_list()\n",
    "\n",
    "portfolio_g = (data['sum'][11] + df['sum'][0] - data['sum'][0]) / data['sum'][0]\n",
    "market_g = (data['N-100'][11] - data['N-100'][0]) / data['N-100'][0]\n",
    "\n",
    "lst_1.append(portfolio_g)\n",
    "\n",
    "if df['sum'][1] == 0:\n",
    "    print('Growth of Portfolio:', portfolio_g)\n",
    "    print('Growth of Market Index:', market_g)\n",
    "else:\n",
    "    print('Есть дробление акций')"
   ]
  },
  {
   "cell_type": "markdown",
   "metadata": {},
   "source": [
    "## Портфель на 2022 год\n",
    "_По данным за 2021_\n",
    "\n",
    "- ORANGE\n",
    "- TOTALENERGIES\n",
    "- GALP ENERGIA-NOM\n",
    "- CREDIT AGRICOLE\n",
    "- TELENOR\n",
    "- NN GROUP\n",
    "- RANDSTAD NV\n",
    "- AGEAS\n",
    "- DNB BANK\n",
    "- BOUYGUES\n"
   ]
  },
  {
   "cell_type": "code",
   "execution_count": 89,
   "metadata": {},
   "outputs": [
    {
     "name": "stdout",
     "output_type": "stream",
     "text": [
      "[*********************100%***********************]  1 of 1 completed\n",
      "[*********************100%***********************]  1 of 1 completed\n",
      "[*********************100%***********************]  1 of 1 completed\n",
      "[*********************100%***********************]  1 of 1 completed\n",
      "[*********************100%***********************]  1 of 1 completed\n",
      "[*********************100%***********************]  1 of 1 completed\n",
      "[*********************100%***********************]  1 of 1 completed\n",
      "[*********************100%***********************]  1 of 1 completed\n",
      "[*********************100%***********************]  1 of 1 completed\n",
      "[*********************100%***********************]  1 of 1 completed\n"
     ]
    },
    {
     "name": "stderr",
     "output_type": "stream",
     "text": [
      "<ipython-input-89-e357e05b88e7>:23: FutureWarning: Dropping of nuisance columns in DataFrame reductions (with 'numeric_only=None') is deprecated; in a future version this will raise TypeError.  Select only valid columns before calling the reduction.\n",
      "  data['sum'] = data.sum(axis=1).to_list()\n"
     ]
    },
    {
     "name": "stdout",
     "output_type": "stream",
     "text": [
      "[*********************100%***********************]  1 of 1 completed\n",
      "Growth of Portfolio: 0.09490781266979346\n",
      "Growth of Market Index: -0.06591533893257011\n"
     ]
    }
   ],
   "source": [
    "# 10 акций\n",
    "tickers_list = ['ORA.PA',\n",
    "                'TTE.PA',\n",
    "                'GALP.LS', # split at the end of the year\n",
    "                'ACA.PA',\n",
    "                'TEL.OL', # кроны\n",
    "                'NN.AS',\n",
    "                'RAND.AS',\n",
    "                'AGS.BR',\n",
    "                'DNB.OL', # кроны\n",
    "                'EN.PA']\n",
    "                \n",
    "data = pd.DataFrame(columns=tickers_list)\n",
    "\n",
    "for ticker in tickers_list:\n",
    "    data[ticker] = yf.download(ticker,'2022-01-01','2023-01-01', interval='1mo')['Adj Close']\n",
    "\n",
    "data = data.reset_index()\n",
    "\n",
    "data['TEL.OL'] = data['TEL.OL'] * 0.09876\n",
    "data['DNB.OL'] = data['DNB.OL'] * 0.09876\n",
    "\n",
    "data['sum'] = data.sum(axis=1).to_list()\n",
    "\n",
    "df = pd.DataFrame(columns=tickers_list)\n",
    "for ticker in tickers_list:\n",
    "    div = sum(yf.Ticker(ticker).history(start='2022-01-01',end='2023-01-01').Dividends.to_list())\n",
    "    split = sum(yf.Ticker(ticker).history(start='2022-01-01',end='2023-01-01')['Stock Splits'].to_list())\n",
    "    df[ticker] = [div, split]\n",
    "    \n",
    "df['TEL.OL'] = df['TEL.OL'] * 0.09876\n",
    "df['DNB.OL'] = df['DNB.OL'] * 0.09876\n",
    "    \n",
    "df['sum'] = df.sum(axis=1).to_list()\n",
    "\n",
    "tickers_list = ['^N100']\n",
    "dt = pd.DataFrame(columns=tickers_list)\n",
    "for ticker in tickers_list:\n",
    "    dt[ticker] = yf.download(ticker,'2022-01-01','2023-01-01', interval='1mo')['Adj Close']\n",
    "    \n",
    "data['N-100'] = dt['^N100'].to_list()\n",
    "\n",
    "portfolio_g = (data['sum'][11] + df['sum'][0] - data['sum'][0]) / data['sum'][0]\n",
    "market_g = (data['N-100'][11] - data['N-100'][0]) / data['N-100'][0]\n",
    "\n",
    "lst_10.append(portfolio_g)\n",
    "market.append(market_g)\n",
    "\n",
    "print('Growth of Portfolio:', portfolio_g)\n",
    "print('Growth of Market Index:', market_g)"
   ]
  },
  {
   "cell_type": "code",
   "execution_count": 90,
   "metadata": {},
   "outputs": [
    {
     "name": "stdout",
     "output_type": "stream",
     "text": [
      "[*********************100%***********************]  1 of 1 completed\n",
      "[*********************100%***********************]  1 of 1 completed\n",
      "[*********************100%***********************]  1 of 1 completed\n",
      "[*********************100%***********************]  1 of 1 completed\n",
      "[*********************100%***********************]  1 of 1 completed\n",
      "[*********************100%***********************]  1 of 1 completed\n",
      "[*********************100%***********************]  1 of 1 completed\n"
     ]
    },
    {
     "name": "stderr",
     "output_type": "stream",
     "text": [
      "<ipython-input-90-5899ec2a11e3>:19: FutureWarning: Dropping of nuisance columns in DataFrame reductions (with 'numeric_only=None') is deprecated; in a future version this will raise TypeError.  Select only valid columns before calling the reduction.\n",
      "  data['sum'] = data.sum(axis=1).to_list()\n"
     ]
    },
    {
     "name": "stdout",
     "output_type": "stream",
     "text": [
      "[*********************100%***********************]  1 of 1 completed\n",
      "Growth of Portfolio: 0.094427737937694\n",
      "Growth of Market Index: -0.06591533893257011\n"
     ]
    }
   ],
   "source": [
    "# 7 акций\n",
    "tickers_list = ['ORA.PA',\n",
    "                'TTE.PA',\n",
    "                'GALP.LS', # split at the end of the year\n",
    "                'ACA.PA',\n",
    "                'TEL.OL', # кроны\n",
    "                'NN.AS',\n",
    "                'RAND.AS']\n",
    "                \n",
    "data = pd.DataFrame(columns=tickers_list)\n",
    "\n",
    "for ticker in tickers_list:\n",
    "    data[ticker] = yf.download(ticker,'2022-01-01','2023-01-01', interval='1mo')['Adj Close']\n",
    "\n",
    "data = data.reset_index()\n",
    "\n",
    "data['TEL.OL'] = data['TEL.OL'] * 0.09876\n",
    "\n",
    "data['sum'] = data.sum(axis=1).to_list()\n",
    "\n",
    "df = pd.DataFrame(columns=tickers_list)\n",
    "for ticker in tickers_list:\n",
    "    div = sum(yf.Ticker(ticker).history(start='2022-01-01',end='2023-01-01').Dividends.to_list())\n",
    "    split = sum(yf.Ticker(ticker).history(start='2022-01-01',end='2023-01-01')['Stock Splits'].to_list())\n",
    "    df[ticker] = [div, split]\n",
    "    \n",
    "df['TEL.OL'] = df['TEL.OL'] * 0.09876\n",
    "    \n",
    "df['sum'] = df.sum(axis=1).to_list()\n",
    "\n",
    "tickers_list = ['^N100']\n",
    "dt = pd.DataFrame(columns=tickers_list)\n",
    "for ticker in tickers_list:\n",
    "    dt[ticker] = yf.download(ticker,'2022-01-01','2023-01-01', interval='1mo')['Adj Close']\n",
    "    \n",
    "data['N-100'] = dt['^N100'].to_list()\n",
    "\n",
    "portfolio_g = (data['sum'][11] + df['sum'][0] - data['sum'][0]) / data['sum'][0]\n",
    "market_g = (data['N-100'][11] - data['N-100'][0]) / data['N-100'][0]\n",
    "\n",
    "lst_7.append(portfolio_g)\n",
    "\n",
    "print('Growth of Portfolio:', portfolio_g)\n",
    "print('Growth of Market Index:', market_g)"
   ]
  },
  {
   "cell_type": "code",
   "execution_count": 91,
   "metadata": {},
   "outputs": [
    {
     "name": "stdout",
     "output_type": "stream",
     "text": [
      "[*********************100%***********************]  1 of 1 completed\n",
      "[*********************100%***********************]  1 of 1 completed\n",
      "[*********************100%***********************]  1 of 1 completed\n",
      "[*********************100%***********************]  1 of 1 completed\n",
      "[*********************100%***********************]  1 of 1 completed\n"
     ]
    },
    {
     "name": "stderr",
     "output_type": "stream",
     "text": [
      "<ipython-input-91-fc394fa64452>:17: FutureWarning: Dropping of nuisance columns in DataFrame reductions (with 'numeric_only=None') is deprecated; in a future version this will raise TypeError.  Select only valid columns before calling the reduction.\n",
      "  data['sum'] = data.sum(axis=1).to_list()\n"
     ]
    },
    {
     "name": "stdout",
     "output_type": "stream",
     "text": [
      "[*********************100%***********************]  1 of 1 completed\n",
      "Growth of Portfolio: 0.15774846502573453\n",
      "Growth of Market Index: -0.06591533893257011\n"
     ]
    }
   ],
   "source": [
    "# 5 акций\n",
    "tickers_list = ['ORA.PA',\n",
    "                'TTE.PA',\n",
    "                'GALP.LS', # split at the end of the year\n",
    "                'ACA.PA',\n",
    "                'TEL.OL'] # кроны\n",
    "                \n",
    "data = pd.DataFrame(columns=tickers_list)\n",
    "\n",
    "for ticker in tickers_list:\n",
    "    data[ticker] = yf.download(ticker,'2022-01-01','2023-01-01', interval='1mo')['Adj Close']\n",
    "\n",
    "data = data.reset_index()\n",
    "\n",
    "data['TEL.OL'] = data['TEL.OL'] * 0.09876\n",
    "\n",
    "data['sum'] = data.sum(axis=1).to_list()\n",
    "\n",
    "df = pd.DataFrame(columns=tickers_list)\n",
    "for ticker in tickers_list:\n",
    "    div = sum(yf.Ticker(ticker).history(start='2022-01-01',end='2023-01-01').Dividends.to_list())\n",
    "    split = sum(yf.Ticker(ticker).history(start='2022-01-01',end='2023-01-01')['Stock Splits'].to_list())\n",
    "    df[ticker] = [div, split]\n",
    "\n",
    "df['TEL.OL'] = df['TEL.OL'] * 0.09876\n",
    "    \n",
    "df['sum'] = df.sum(axis=1).to_list()\n",
    "\n",
    "tickers_list = ['^N100']\n",
    "dt = pd.DataFrame(columns=tickers_list)\n",
    "for ticker in tickers_list:\n",
    "    dt[ticker] = yf.download(ticker,'2022-01-01','2023-01-01', interval='1mo')['Adj Close']\n",
    "    \n",
    "data['N-100'] = dt['^N100'].to_list()\n",
    "\n",
    "portfolio_g = (data['sum'][11] + df['sum'][0] - data['sum'][0]) / data['sum'][0]\n",
    "market_g = (data['N-100'][11] - data['N-100'][0]) / data['N-100'][0]\n",
    "\n",
    "lst_5.append(portfolio_g)\n",
    "\n",
    "print('Growth of Portfolio:', portfolio_g)\n",
    "print('Growth of Market Index:', market_g)"
   ]
  },
  {
   "cell_type": "code",
   "execution_count": 92,
   "metadata": {},
   "outputs": [
    {
     "name": "stdout",
     "output_type": "stream",
     "text": [
      "[*********************100%***********************]  1 of 1 completed\n"
     ]
    },
    {
     "name": "stderr",
     "output_type": "stream",
     "text": [
      "<ipython-input-92-3e14a583161c>:14: FutureWarning: Dropping of nuisance columns in DataFrame reductions (with 'numeric_only=None') is deprecated; in a future version this will raise TypeError.  Select only valid columns before calling the reduction.\n",
      "  data['sum'] = data.sum(axis=1).to_list()\n"
     ]
    },
    {
     "name": "stdout",
     "output_type": "stream",
     "text": [
      "[*********************100%***********************]  1 of 1 completed\n",
      "Growth of Portfolio: 0.38673320593077193\n",
      "Growth of Market Index: -0.06591533893257011\n"
     ]
    }
   ],
   "source": [
    "# 3 акции\n",
    "tickers_list = ['ORA.PA',\n",
    "                'TTE.PA',\n",
    "                'GALP.LS'] # split at the end of the year\n",
    "\n",
    "tickers_list = ['GALP.LS']\n",
    "                \n",
    "data = pd.DataFrame(columns=tickers_list)\n",
    "\n",
    "for ticker in tickers_list:\n",
    "    data[ticker] = yf.download(ticker,'2022-01-01','2023-01-01', interval='1mo')['Adj Close']\n",
    "\n",
    "data = data.reset_index()\n",
    "data['sum'] = data.sum(axis=1).to_list()\n",
    "\n",
    "df = pd.DataFrame(columns=tickers_list)\n",
    "for ticker in tickers_list:\n",
    "    div = sum(yf.Ticker(ticker).history(start='2022-01-01',end='2023-01-01').Dividends.to_list())\n",
    "    split = sum(yf.Ticker(ticker).history(start='2022-01-01',end='2023-01-01')['Stock Splits'].to_list())\n",
    "    df[ticker] = [div, split]\n",
    "df['sum'] = df.sum(axis=1).to_list()\n",
    "\n",
    "tickers_list = ['^N100']\n",
    "dt = pd.DataFrame(columns=tickers_list)\n",
    "for ticker in tickers_list:\n",
    "    dt[ticker] = yf.download(ticker,'2022-01-01','2023-01-01', interval='1mo')['Adj Close']\n",
    "    \n",
    "data['N-100'] = dt['^N100'].to_list()\n",
    "\n",
    "portfolio_g = (data['sum'][11] + df['sum'][0] - data['sum'][0]) / data['sum'][0]\n",
    "market_g = (data['N-100'][11] - data['N-100'][0]) / data['N-100'][0]\n",
    "\n",
    "lst_3.append(portfolio_g)\n",
    "\n",
    "print('Growth of Portfolio:', portfolio_g)\n",
    "print('Growth of Market Index:', market_g)"
   ]
  },
  {
   "cell_type": "code",
   "execution_count": 93,
   "metadata": {},
   "outputs": [
    {
     "name": "stdout",
     "output_type": "stream",
     "text": [
      "[*********************100%***********************]  1 of 1 completed\n"
     ]
    },
    {
     "name": "stderr",
     "output_type": "stream",
     "text": [
      "<ipython-input-93-ad98acc9cc4d>:10: FutureWarning: Dropping of nuisance columns in DataFrame reductions (with 'numeric_only=None') is deprecated; in a future version this will raise TypeError.  Select only valid columns before calling the reduction.\n",
      "  data['sum'] = data.sum(axis=1).to_list()\n"
     ]
    },
    {
     "name": "stdout",
     "output_type": "stream",
     "text": [
      "[*********************100%***********************]  1 of 1 completed\n",
      "Growth of Portfolio: -0.002633670068614133\n",
      "Growth of Market Index: -0.06591533893257011\n"
     ]
    }
   ],
   "source": [
    "# 1 акция\n",
    "tickers_list = ['ORA.PA']\n",
    "                \n",
    "data = pd.DataFrame(columns=tickers_list)\n",
    "\n",
    "for ticker in tickers_list:\n",
    "    data[ticker] = yf.download(ticker,'2022-01-01','2023-01-01', interval='1mo')['Adj Close']\n",
    "\n",
    "data = data.reset_index()\n",
    "data['sum'] = data.sum(axis=1).to_list()\n",
    "\n",
    "df = pd.DataFrame(columns=tickers_list)\n",
    "for ticker in tickers_list:\n",
    "    div = sum(yf.Ticker(ticker).history(start='2022-01-01',end='2023-01-01').Dividends.to_list())\n",
    "    split = sum(yf.Ticker(ticker).history(start='2022-01-01',end='2023-01-01')['Stock Splits'].to_list())\n",
    "    df[ticker] = [div, split]\n",
    "df['sum'] = df.sum(axis=1).to_list()\n",
    "\n",
    "tickers_list = ['^N100']\n",
    "dt = pd.DataFrame(columns=tickers_list)\n",
    "for ticker in tickers_list:\n",
    "    dt[ticker] = yf.download(ticker,'2022-01-01','2023-01-01', interval='1mo')['Adj Close']\n",
    "    \n",
    "data['N-100'] = dt['^N100'].to_list()\n",
    "\n",
    "portfolio_g = (data['sum'][11] + df['sum'][0] - data['sum'][0]) / data['sum'][0]\n",
    "market_g = (data['N-100'][11] - data['N-100'][0]) / data['N-100'][0]\n",
    "\n",
    "lst_1.append(portfolio_g)\n",
    "\n",
    "if df['sum'][1] == 0:\n",
    "    print('Growth of Portfolio:', portfolio_g)\n",
    "    print('Growth of Market Index:', market_g)\n",
    "else:\n",
    "    print('Есть дробление акций')"
   ]
  },
  {
   "cell_type": "markdown",
   "metadata": {},
   "source": [
    "### Сохранение данных"
   ]
  },
  {
   "cell_type": "code",
   "execution_count": 94,
   "metadata": {},
   "outputs": [
    {
     "name": "stdout",
     "output_type": "stream",
     "text": [
      "18\n",
      "18\n",
      "18\n",
      "18\n",
      "18\n",
      "18\n"
     ]
    }
   ],
   "source": [
    "print(len(year))\n",
    "print(len(lst_1))\n",
    "print(len(lst_3))\n",
    "print(len(lst_5))\n",
    "print(len(lst_7))\n",
    "print(len(lst_10))"
   ]
  },
  {
   "cell_type": "code",
   "execution_count": 95,
   "metadata": {},
   "outputs": [],
   "source": [
    "df_end = pd.DataFrame({\n",
    "    'Year' : year,\n",
    "    '1 share' : lst_1, \n",
    "    '3 shares' : lst_3,\n",
    "    '5 shares' : lst_5,\n",
    "    '7 shares' : lst_7,\n",
    "    '10 shares' : lst_10,\n",
    "    'N-100' : market})\n",
    "\n",
    "df_end\n",
    "df_end.to_excel('growth(DY).xlsx', engine='xlsxwriter')"
   ]
  },
  {
   "cell_type": "markdown",
   "metadata": {},
   "source": [
    "### Итоговая таблица:"
   ]
  },
  {
   "cell_type": "code",
   "execution_count": 98,
   "metadata": {},
   "outputs": [
    {
     "data": {
      "text/html": [
       "<div>\n",
       "<style scoped>\n",
       "    .dataframe tbody tr th:only-of-type {\n",
       "        vertical-align: middle;\n",
       "    }\n",
       "\n",
       "    .dataframe tbody tr th {\n",
       "        vertical-align: top;\n",
       "    }\n",
       "\n",
       "    .dataframe thead th {\n",
       "        text-align: right;\n",
       "    }\n",
       "</style>\n",
       "<table border=\"1\" class=\"dataframe\">\n",
       "  <thead>\n",
       "    <tr style=\"text-align: right;\">\n",
       "      <th></th>\n",
       "      <th>1 share</th>\n",
       "      <th>3 shares</th>\n",
       "      <th>5 shares</th>\n",
       "      <th>7 shares</th>\n",
       "      <th>10 shares</th>\n",
       "      <th>N-100</th>\n",
       "    </tr>\n",
       "    <tr>\n",
       "      <th>Year</th>\n",
       "      <th></th>\n",
       "      <th></th>\n",
       "      <th></th>\n",
       "      <th></th>\n",
       "      <th></th>\n",
       "      <th></th>\n",
       "    </tr>\n",
       "  </thead>\n",
       "  <tbody>\n",
       "    <tr>\n",
       "      <th>2005</th>\n",
       "      <td>0.415678</td>\n",
       "      <td>0.574600</td>\n",
       "      <td>0.652346</td>\n",
       "      <td>0.616485</td>\n",
       "      <td>0.547867</td>\n",
       "      <td>0.199470</td>\n",
       "    </tr>\n",
       "    <tr>\n",
       "      <th>2006</th>\n",
       "      <td>0.288373</td>\n",
       "      <td>0.287182</td>\n",
       "      <td>0.259419</td>\n",
       "      <td>0.285586</td>\n",
       "      <td>0.356439</td>\n",
       "      <td>0.136631</td>\n",
       "    </tr>\n",
       "    <tr>\n",
       "      <th>2007</th>\n",
       "      <td>0.738206</td>\n",
       "      <td>-0.000304</td>\n",
       "      <td>0.000807</td>\n",
       "      <td>-0.073493</td>\n",
       "      <td>-0.043229</td>\n",
       "      <td>0.021472</td>\n",
       "    </tr>\n",
       "    <tr>\n",
       "      <th>2008</th>\n",
       "      <td>0.165624</td>\n",
       "      <td>-0.317658</td>\n",
       "      <td>-0.312184</td>\n",
       "      <td>-0.290628</td>\n",
       "      <td>-0.427748</td>\n",
       "      <td>-0.369648</td>\n",
       "    </tr>\n",
       "    <tr>\n",
       "      <th>2009</th>\n",
       "      <td>0.692258</td>\n",
       "      <td>0.557034</td>\n",
       "      <td>0.435935</td>\n",
       "      <td>0.756042</td>\n",
       "      <td>0.866248</td>\n",
       "      <td>0.317990</td>\n",
       "    </tr>\n",
       "    <tr>\n",
       "      <th>2010</th>\n",
       "      <td>-0.238229</td>\n",
       "      <td>-0.178078</td>\n",
       "      <td>-0.098546</td>\n",
       "      <td>0.067543</td>\n",
       "      <td>0.098968</td>\n",
       "      <td>0.048446</td>\n",
       "    </tr>\n",
       "    <tr>\n",
       "      <th>2011</th>\n",
       "      <td>-0.332052</td>\n",
       "      <td>-0.065301</td>\n",
       "      <td>0.032731</td>\n",
       "      <td>0.049409</td>\n",
       "      <td>-0.006023</td>\n",
       "      <td>-0.172587</td>\n",
       "    </tr>\n",
       "    <tr>\n",
       "      <th>2012</th>\n",
       "      <td>0.071236</td>\n",
       "      <td>0.110612</td>\n",
       "      <td>0.358214</td>\n",
       "      <td>0.294913</td>\n",
       "      <td>0.304671</td>\n",
       "      <td>0.109360</td>\n",
       "    </tr>\n",
       "    <tr>\n",
       "      <th>2013</th>\n",
       "      <td>0.209044</td>\n",
       "      <td>0.175685</td>\n",
       "      <td>0.347976</td>\n",
       "      <td>0.414101</td>\n",
       "      <td>0.389924</td>\n",
       "      <td>0.159158</td>\n",
       "    </tr>\n",
       "    <tr>\n",
       "      <th>2014</th>\n",
       "      <td>0.732526</td>\n",
       "      <td>0.521877</td>\n",
       "      <td>0.366559</td>\n",
       "      <td>0.261984</td>\n",
       "      <td>0.253427</td>\n",
       "      <td>0.067304</td>\n",
       "    </tr>\n",
       "    <tr>\n",
       "      <th>2015</th>\n",
       "      <td>-0.023351</td>\n",
       "      <td>0.035658</td>\n",
       "      <td>0.105382</td>\n",
       "      <td>0.115856</td>\n",
       "      <td>0.069191</td>\n",
       "      <td>0.000055</td>\n",
       "    </tr>\n",
       "    <tr>\n",
       "      <th>2016</th>\n",
       "      <td>0.012492</td>\n",
       "      <td>0.307644</td>\n",
       "      <td>0.278101</td>\n",
       "      <td>0.154329</td>\n",
       "      <td>0.139328</td>\n",
       "      <td>0.068157</td>\n",
       "    </tr>\n",
       "    <tr>\n",
       "      <th>2017</th>\n",
       "      <td>0.380904</td>\n",
       "      <td>0.365667</td>\n",
       "      <td>0.341742</td>\n",
       "      <td>0.253497</td>\n",
       "      <td>0.201787</td>\n",
       "      <td>0.126584</td>\n",
       "    </tr>\n",
       "    <tr>\n",
       "      <th>2018</th>\n",
       "      <td>0.026568</td>\n",
       "      <td>0.062662</td>\n",
       "      <td>-0.001349</td>\n",
       "      <td>-0.087040</td>\n",
       "      <td>-0.053239</td>\n",
       "      <td>-0.137695</td>\n",
       "    </tr>\n",
       "    <tr>\n",
       "      <th>2019</th>\n",
       "      <td>0.518948</td>\n",
       "      <td>0.138851</td>\n",
       "      <td>0.084146</td>\n",
       "      <td>0.148918</td>\n",
       "      <td>0.196716</td>\n",
       "      <td>0.176025</td>\n",
       "    </tr>\n",
       "    <tr>\n",
       "      <th>2020</th>\n",
       "      <td>0.204311</td>\n",
       "      <td>-0.098314</td>\n",
       "      <td>-0.031999</td>\n",
       "      <td>-0.035566</td>\n",
       "      <td>-0.050369</td>\n",
       "      <td>-0.014899</td>\n",
       "    </tr>\n",
       "    <tr>\n",
       "      <th>2021</th>\n",
       "      <td>-0.133229</td>\n",
       "      <td>-0.044957</td>\n",
       "      <td>0.067151</td>\n",
       "      <td>0.124522</td>\n",
       "      <td>0.241741</td>\n",
       "      <td>0.254574</td>\n",
       "    </tr>\n",
       "    <tr>\n",
       "      <th>2022</th>\n",
       "      <td>-0.002634</td>\n",
       "      <td>0.386733</td>\n",
       "      <td>0.157748</td>\n",
       "      <td>0.094428</td>\n",
       "      <td>0.094908</td>\n",
       "      <td>-0.065915</td>\n",
       "    </tr>\n",
       "  </tbody>\n",
       "</table>\n",
       "</div>"
      ],
      "text/plain": [
       "       1 share  3 shares  5 shares  7 shares  10 shares     N-100\n",
       "Year                                                             \n",
       "2005  0.415678  0.574600  0.652346  0.616485   0.547867  0.199470\n",
       "2006  0.288373  0.287182  0.259419  0.285586   0.356439  0.136631\n",
       "2007  0.738206 -0.000304  0.000807 -0.073493  -0.043229  0.021472\n",
       "2008  0.165624 -0.317658 -0.312184 -0.290628  -0.427748 -0.369648\n",
       "2009  0.692258  0.557034  0.435935  0.756042   0.866248  0.317990\n",
       "2010 -0.238229 -0.178078 -0.098546  0.067543   0.098968  0.048446\n",
       "2011 -0.332052 -0.065301  0.032731  0.049409  -0.006023 -0.172587\n",
       "2012  0.071236  0.110612  0.358214  0.294913   0.304671  0.109360\n",
       "2013  0.209044  0.175685  0.347976  0.414101   0.389924  0.159158\n",
       "2014  0.732526  0.521877  0.366559  0.261984   0.253427  0.067304\n",
       "2015 -0.023351  0.035658  0.105382  0.115856   0.069191  0.000055\n",
       "2016  0.012492  0.307644  0.278101  0.154329   0.139328  0.068157\n",
       "2017  0.380904  0.365667  0.341742  0.253497   0.201787  0.126584\n",
       "2018  0.026568  0.062662 -0.001349 -0.087040  -0.053239 -0.137695\n",
       "2019  0.518948  0.138851  0.084146  0.148918   0.196716  0.176025\n",
       "2020  0.204311 -0.098314 -0.031999 -0.035566  -0.050369 -0.014899\n",
       "2021 -0.133229 -0.044957  0.067151  0.124522   0.241741  0.254574\n",
       "2022 -0.002634  0.386733  0.157748  0.094428   0.094908 -0.065915"
      ]
     },
     "execution_count": 98,
     "metadata": {},
     "output_type": "execute_result"
    }
   ],
   "source": [
    "df = pd.read_excel('growth(DY).xlsx', sheet_name='Sheet1')\n",
    "df_end = df.set_index('Year')\n",
    "df_end = df_end.drop(columns=['Unnamed: 0'])\n",
    "df_end"
   ]
  },
  {
   "cell_type": "markdown",
   "metadata": {},
   "source": [
    "## 3. Графический анализ"
   ]
  },
  {
   "cell_type": "code",
   "execution_count": 99,
   "metadata": {},
   "outputs": [
    {
     "data": {
      "image/png": "[encoded data removed]",
      "text/plain": [
       "<Figure size 1080x504 with 1 Axes>"
      ]
     },
     "metadata": {
      "needs_background": "light"
     },
     "output_type": "display_data"
    }
   ],
   "source": [
    "years = df_end.index.to_list()\n",
    "p_10 = df_end['1 share'].to_list()\n",
    "market = df_end['N-100'].to_list()\n",
    "\n",
    "X_axis = np.arange(len(years))\n",
    "\n",
    "plt.figure(figsize=(15, 7))\n",
    "\n",
    "p_return = plt.bar(X_axis - 0.2, p_10, 0.4, label='Portfolio of 1 share', color='aquamarine')\n",
    "m_return = plt.bar(X_axis + 0.2, market, 0.4, label='Euronext 100', color='turquoise')\n",
    "\n",
    "plt.ylim([-1, 1])\n",
    "plt.gca().yaxis.set_major_formatter(mtick.PercentFormatter(1.0))\n",
    "plt.gca().tick_params(axis='y', labelsize=12)\n",
    "plt.xticks(X_axis, years, fontsize=12, rotation=30)\n",
    "plt.xlabel(\"Years\", fontsize=20)\n",
    "plt.ylabel(\"Return\", fontsize=20)\n",
    "plt.title(\"Dogs of the Dow: 1 Share Portfolio\", fontsize=25)\n",
    "\n",
    "plt.legend(fontsize=15)\n",
    "\n",
    "plt.show()"
   ]
  },
  {
   "cell_type": "code",
   "execution_count": 100,
   "metadata": {},
   "outputs": [
    {
     "data": {
      "image/png": "[encoded data removed]",
      "text/plain": [
       "<Figure size 1080x504 with 1 Axes>"
      ]
     },
     "metadata": {
      "needs_background": "light"
     },
     "output_type": "display_data"
    }
   ],
   "source": [
    "years = df_end.index.to_list()\n",
    "p_10 = df_end['3 shares'].to_list()\n",
    "market = df_end['N-100'].to_list()\n",
    "\n",
    "X_axis = np.arange(len(years))\n",
    "\n",
    "plt.figure(figsize=(15, 7))\n",
    "\n",
    "p_return = plt.bar(X_axis - 0.2, p_10, 0.4, label='Portfolio of 3 shares', color='aquamarine')\n",
    "m_return = plt.bar(X_axis + 0.2, market, 0.4, label='Euronext 100', color='turquoise')\n",
    "\n",
    "plt.ylim([-1, 1])\n",
    "plt.gca().yaxis.set_major_formatter(mtick.PercentFormatter(1.0))\n",
    "plt.gca().tick_params(axis='y', labelsize=12)\n",
    "plt.xticks(X_axis, years, fontsize=12, rotation=30)\n",
    "plt.xlabel(\"Years\", fontsize=20)\n",
    "plt.ylabel(\"Return\", fontsize=20)\n",
    "plt.title(\"Dogs of the Dow: 3 Shares Portfolio\", fontsize=25)\n",
    "\n",
    "plt.legend(fontsize=15)\n",
    "\n",
    "plt.show()"
   ]
  },
  {
   "cell_type": "code",
   "execution_count": 101,
   "metadata": {},
   "outputs": [
    {
     "data": {
      "image/png": "[encoded data removed]",
      "text/plain": [
       "<Figure size 1080x504 with 1 Axes>"
      ]
     },
     "metadata": {
      "needs_background": "light"
     },
     "output_type": "display_data"
    }
   ],
   "source": [
    "years = df_end.index.to_list()\n",
    "p_10 = df_end['5 shares'].to_list()\n",
    "market = df_end['N-100'].to_list()\n",
    "\n",
    "X_axis = np.arange(len(years))\n",
    "\n",
    "plt.figure(figsize=(15, 7))\n",
    "\n",
    "p_return = plt.bar(X_axis - 0.2, p_10, 0.4, label='Portfolio of 5 shares', color='aquamarine')\n",
    "m_return = plt.bar(X_axis + 0.2, market, 0.4, label='Euronext 100', color='turquoise')\n",
    "\n",
    "plt.ylim([-1, 1])\n",
    "plt.gca().yaxis.set_major_formatter(mtick.PercentFormatter(1.0))\n",
    "plt.gca().tick_params(axis='y', labelsize=12)\n",
    "plt.xticks(X_axis, years, fontsize=12, rotation=30)\n",
    "plt.xlabel(\"Years\", fontsize=20)\n",
    "plt.ylabel(\"Return\", fontsize=20)\n",
    "plt.title(\"Dogs of the Dow: 5 Shares Portfolio\", fontsize=25)\n",
    "\n",
    "plt.legend(fontsize=15)\n",
    "\n",
    "plt.show()"
   ]
  },
  {
   "cell_type": "code",
   "execution_count": 102,
   "metadata": {},
   "outputs": [
    {
     "data": {
      "image/png": "[encoded data removed]",
      "text/plain": [
       "<Figure size 1080x504 with 1 Axes>"
      ]
     },
     "metadata": {
      "needs_background": "light"
     },
     "output_type": "display_data"
    }
   ],
   "source": [
    "years = df_end.index.to_list()\n",
    "p_10 = df_end['7 shares'].to_list()\n",
    "market = df_end['N-100'].to_list()\n",
    "\n",
    "X_axis = np.arange(len(years))\n",
    "\n",
    "plt.figure(figsize=(15, 7))\n",
    "\n",
    "p_return = plt.bar(X_axis - 0.2, p_10, 0.4, label='Portfolio of 7 shares', color='aquamarine')\n",
    "m_return = plt.bar(X_axis + 0.2, market, 0.4, label='Euronext 100', color='turquoise')\n",
    "\n",
    "plt.ylim([-1, 1])\n",
    "plt.gca().yaxis.set_major_formatter(mtick.PercentFormatter(1.0))\n",
    "plt.gca().tick_params(axis='y', labelsize=12)\n",
    "plt.xticks(X_axis, years, fontsize=12, rotation=30)\n",
    "plt.xlabel(\"Years\", fontsize=20)\n",
    "plt.ylabel(\"Return\", fontsize=20)\n",
    "plt.title(\"Dogs of the Dow: 7 Shares Portfolio\", fontsize=25)\n",
    "\n",
    "plt.legend(fontsize=15)\n",
    "\n",
    "plt.show()"
   ]
  },
  {
   "cell_type": "code",
   "execution_count": 103,
   "metadata": {},
   "outputs": [
    {
     "data": {
      "image/png": "[encoded data removed]",
      "text/plain": [
       "<Figure size 1080x504 with 1 Axes>"
      ]
     },
     "metadata": {
      "needs_background": "light"
     },
     "output_type": "display_data"
    }
   ],
   "source": [
    "years = df_end.index.to_list()\n",
    "p_10 = df_end['10 shares'].to_list()\n",
    "market = df_end['N-100'].to_list()\n",
    "\n",
    "X_axis = np.arange(len(years))\n",
    "\n",
    "plt.figure(figsize=(15, 7))\n",
    "\n",
    "p_return = plt.bar(X_axis - 0.2, p_10, 0.4, label='Portfolio of 10 shares', color='aquamarine')\n",
    "m_return = plt.bar(X_axis + 0.2, market, 0.4, label='Euronext 100', color='turquoise')\n",
    "\n",
    "plt.ylim([-1, 1])\n",
    "plt.gca().yaxis.set_major_formatter(mtick.PercentFormatter(1.0))\n",
    "plt.gca().tick_params(axis='y', labelsize=12)\n",
    "plt.xticks(X_axis, years, fontsize=12, rotation=30)\n",
    "plt.xlabel(\"Years\", fontsize=20)\n",
    "plt.ylabel(\"Return\", fontsize=20)\n",
    "plt.title(\"Dogs of the Dow: 10 Shares Portfolio\", fontsize=25)\n",
    "\n",
    "plt.legend(fontsize=15)\n",
    "\n",
    "plt.show()"
   ]
  },
  {
   "cell_type": "code",
   "execution_count": 104,
   "metadata": {
    "scrolled": false
   },
   "outputs": [
    {
     "data": {
      "image/png": "[encoded data removed]",
      "text/plain": [
       "<Figure size 1440x504 with 1 Axes>"
      ]
     },
     "metadata": {
      "needs_background": "light"
     },
     "output_type": "display_data"
    }
   ],
   "source": [
    "df = pd.read_excel('growth(DY).xlsx', sheet_name='Sheet1')\n",
    "df_end = df.set_index('Year')\n",
    "\n",
    "years = df_end.index.to_list()\n",
    "p_10 = df_end['10 shares'].to_list()\n",
    "p_7 = df_end['7 shares'].to_list()\n",
    "p_5 = df_end['5 shares'].to_list()\n",
    "p_3 = df_end['3 shares'].to_list()\n",
    "p_1 = df_end['1 share'].to_list()\n",
    "market = df_end['N-100'].to_list()\n",
    "\n",
    "X_axis = np.arange(len(years))\n",
    "\n",
    "plt.figure(figsize=(20, 7))\n",
    "\n",
    "p__10_return = plt.bar(X_axis - 0.24, p_10, 0.12, label='Portfolio of 10 shares', color='aquamarine')\n",
    "p__7_return = plt.bar(X_axis - 0.12, p_7, 0.12, label='Portfolio of 7 shares', color='turquoise')\n",
    "p__5_return = plt.bar(X_axis, p_5, 0.12, label='Portfolio of 5 shares', color='aqua')\n",
    "p__3_return = plt.bar(X_axis + 0.12, p_3, 0.12, label='Portfolio of 3 shares', color='lawngreen')\n",
    "p__1_return = plt.bar(X_axis + 0.24, p_1, 0.12, label='Portfolio of 1 shares', color='lightseagreen')\n",
    "#m_return = plt.bar(X_axis + 0.36, market, 0.12, label='Euronext 100', color='SlateGrey')\n",
    "\n",
    "\n",
    "plt.ylim([-1, 1])\n",
    "plt.gca().yaxis.set_major_formatter(mtick.PercentFormatter(1.0))\n",
    "plt.gca().tick_params(axis='y', labelsize=12)\n",
    "plt.xticks(X_axis, years, fontsize=12, rotation=30)\n",
    "plt.xlabel(\"Years\", fontsize=20)\n",
    "plt.ylabel(\"Return\", fontsize=20)\n",
    "plt.title(\"Dogs of the Dow: All Portfolios\", fontsize=25)\n",
    "\n",
    "plt.legend(fontsize=15)\n",
    "\n",
    "plt.show()"
   ]
  },
  {
   "cell_type": "code",
   "execution_count": 105,
   "metadata": {},
   "outputs": [
    {
     "data": {
      "image/png": "[encoded data removed]",
      "text/plain": [
       "<Figure size 1440x864 with 1 Axes>"
      ]
     },
     "metadata": {
      "needs_background": "light"
     },
     "output_type": "display_data"
    }
   ],
   "source": [
    "\n",
    "line = []\n",
    "for i in years:\n",
    "    line.append(0)\n",
    "\n",
    "plt.figure(figsize=(20, 12))\n",
    "\n",
    "plt.plot(years, line, linestyle='dotted', color='black')\n",
    "plt.plot(years, p_1, label='Portfolio of 1 share', linewidth = 4, color='YellowGreen')\n",
    "plt.plot(years, p_3, label='Portfolio of 3 shares', linewidth = 4, color='lawngreen')\n",
    "plt.plot(years, p_5, label='Portfolio of 5 shares', linewidth = 4, color='aqua')\n",
    "plt.plot(years, p_7, label='Portfolio of 7 shares', linewidth = 4, color='turquoise')\n",
    "plt.plot(years, p_10, label='Portfolio of 10 shares', linewidth = 4, color='lightseagreen')\n",
    "plt.plot(years, market, label='Euronext-100', linewidth = 2, linestyle='--', color='SlateGrey')\n",
    "\n",
    "\n",
    "plt.ylim([-1, 1])\n",
    "plt.gca().yaxis.set_major_formatter(mtick.PercentFormatter(1.0))\n",
    "plt.gca().tick_params(axis='y', labelsize=12)\n",
    "plt.xticks(years, fontsize=12, rotation=50)\n",
    "plt.xlabel(\"Years\", fontsize=25)\n",
    "plt.ylabel(\"Return\", fontsize=25)\n",
    "plt.title(\"Portfolio Return\", fontsize=40)\n",
    "plt.legend(fontsize=15, shadow=True)\n",
    "\n",
    "plt.show()"
   ]
  },
  {
   "cell_type": "markdown",
   "metadata": {},
   "source": [
    "## пересмотреть"
   ]
  },
  {
   "cell_type": "code",
   "execution_count": 107,
   "metadata": {},
   "outputs": [
    {
     "data": {
      "image/png": "[encoded data removed]",
      "text/plain": [
       "<Figure size 1440x720 with 1 Axes>"
      ]
     },
     "metadata": {
      "needs_background": "light"
     },
     "output_type": "display_data"
    }
   ],
   "source": [
    "df = pd.read_excel('growth(DY).xlsx', sheet_name='Sheet2')\n",
    "df_end = df.set_index('Year')\n",
    "\n",
    "years = df_end.index.to_list()\n",
    "p_10 = df_end['10 shares'].to_list()\n",
    "p_7 = df_end['7 shares'].to_list()\n",
    "p_5 = df_end['5 shares'].to_list()\n",
    "p_3 = df_end['3 shares'].to_list()\n",
    "p_1 = df_end['1 share'].to_list()\n",
    "market = df_end['N-100'].to_list()\n",
    "perc = ['-100%', '0%', '100%', '200%', '300%', '400%', '500%']\n",
    "\n",
    "plt.figure(figsize=(20, 10))\n",
    "\n",
    "plt.plot(years, p_1, label='Portfolio of 1 share', linewidth = 4, color='YellowGreen')\n",
    "plt.plot(years, p_3, label='Portfolio of 3 shares', linewidth = 4, color='lawngreen')\n",
    "plt.plot(years, p_5, label='Portfolio of 5 shares', linewidth = 4, color='aqua')\n",
    "plt.plot(years, p_7, label='Portfolio of 7 shares', linewidth = 4, color='turquoise')\n",
    "plt.plot(years, p_10, label='Portfolio of 10 shares', linewidth = 4, color='lightseagreen')\n",
    "plt.plot(years, market, label='Euronext-100', linewidth = 2, linestyle='--', color='SlateGrey')\n",
    "\n",
    "\n",
    "plt.ylim([-1, 5])\n",
    "plt.gca().yaxis.set_major_formatter(mtick.PercentFormatter(1.0))\n",
    "plt.gca().tick_params(axis='y', labelsize=12)\n",
    "plt.xticks(years, fontsize=12, rotation=50)\n",
    "plt.xlabel(\"Years\", fontsize=25)\n",
    "plt.ylabel(\"Return\", fontsize=25)\n",
    "plt.title(\"Cumulative Portfolio Return\", fontsize=40)\n",
    "plt.legend(fontsize=15, shadow=True)\n",
    "\n",
    "plt.show()"
   ]
  }
 ],
 "metadata": {
  "kernelspec": {
   "display_name": "Python 3",
   "language": "python",
   "name": "python3"
  },
  "language_info": {
   "codemirror_mode": {
    "name": "ipython",
    "version": 3
   },
   "file_extension": ".py",
   "mimetype": "text/x-python",
   "name": "python",
   "nbconvert_exporter": "python",
   "pygments_lexer": "ipython3",
   "version": "3.8.5"
  }
 },
 "nbformat": 4,
 "nbformat_minor": 4
}
