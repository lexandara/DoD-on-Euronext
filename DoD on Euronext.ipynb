{
 "cells": [
  {
   "cell_type": "code",
   "execution_count": 7,
   "metadata": {},
   "outputs": [],
   "source": [
    "import yfinance as yf\n",
    "import pandas as pd\n",
    "import numpy as np\n",
    "from datetime import datetime\n",
    "import matplotlib.pyplot as plt\n",
    "import matplotlib.ticker as mtick"
   ]
  },
  {
   "cell_type": "markdown",
   "metadata": {},
   "source": [
    "# Построение высокодивидендного портфеля с применением классической стратегии \"Dogs of the Dow\" на панъевропейской фондовой бирже Euronext"
   ]
  },
  {
   "cell_type": "markdown",
   "metadata": {},
   "source": [
    "## 1. Анализ дивидендной доходности был проведен на основе данных терминала Refinitiv Eikon\n",
    "\n",
    "__Результаты:__"
   ]
  },
  {
   "cell_type": "code",
   "execution_count": 8,
   "metadata": {},
   "outputs": [
    {
     "data": {
      "text/html": [
       "<div>\n",
       "<style scoped>\n",
       "    .dataframe tbody tr th:only-of-type {\n",
       "        vertical-align: middle;\n",
       "    }\n",
       "\n",
       "    .dataframe tbody tr th {\n",
       "        vertical-align: top;\n",
       "    }\n",
       "\n",
       "    .dataframe thead th {\n",
       "        text-align: right;\n",
       "    }\n",
       "</style>\n",
       "<table border=\"1\" class=\"dataframe\">\n",
       "  <thead>\n",
       "    <tr style=\"text-align: right;\">\n",
       "      <th></th>\n",
       "      <th>2005</th>\n",
       "      <th>2006</th>\n",
       "      <th>2007</th>\n",
       "      <th>2008</th>\n",
       "      <th>2009</th>\n",
       "      <th>2010</th>\n",
       "      <th>2011</th>\n",
       "      <th>2012</th>\n",
       "      <th>2013</th>\n",
       "      <th>2014</th>\n",
       "      <th>2015</th>\n",
       "      <th>2016</th>\n",
       "      <th>2017</th>\n",
       "      <th>2018</th>\n",
       "      <th>2019</th>\n",
       "      <th>2020</th>\n",
       "      <th>2021</th>\n",
       "      <th>2022</th>\n",
       "    </tr>\n",
       "  </thead>\n",
       "  <tbody>\n",
       "    <tr>\n",
       "      <th>0</th>\n",
       "      <td>AGEAS</td>\n",
       "      <td>AGEAS</td>\n",
       "      <td>AGEAS</td>\n",
       "      <td>AGEAS</td>\n",
       "      <td>UNIBAIL-RODAMCO-WE</td>\n",
       "      <td>UNIBAIL-RODAMCO-WE</td>\n",
       "      <td>UNIBAIL-RODAMCO-WE</td>\n",
       "      <td>UNIBAIL-RODAMCO-WE</td>\n",
       "      <td>UNIBAIL-RODAMCO-WE</td>\n",
       "      <td>UNIBAIL-RODAMCO-WE</td>\n",
       "      <td>UNIBAIL-RODAMCO-WE</td>\n",
       "      <td>UNIBAIL-RODAMCO-WE</td>\n",
       "      <td>UNIBAIL-RODAMCO-WE</td>\n",
       "      <td>UNIBAIL-RODAMCO-WE</td>\n",
       "      <td>UNIBAIL-RODAMCO-WE</td>\n",
       "      <td>KERING</td>\n",
       "      <td>KERING</td>\n",
       "      <td>KERING</td>\n",
       "    </tr>\n",
       "    <tr>\n",
       "      <th>1</th>\n",
       "      <td>UNIBAIL-RODAMCO-WE</td>\n",
       "      <td>UNIBAIL-RODAMCO-WE</td>\n",
       "      <td>UNIBAIL-RODAMCO-WE</td>\n",
       "      <td>UNIBAIL-RODAMCO-WE</td>\n",
       "      <td>GECINA</td>\n",
       "      <td>GECINA</td>\n",
       "      <td>GECINA</td>\n",
       "      <td>GECINA</td>\n",
       "      <td>GECINA</td>\n",
       "      <td>GECINA</td>\n",
       "      <td>GECINA</td>\n",
       "      <td>GECINA</td>\n",
       "      <td>GECINA</td>\n",
       "      <td>KERING</td>\n",
       "      <td>KERING</td>\n",
       "      <td>UNIBAIL-RODAMCO-WE</td>\n",
       "      <td>LVMH</td>\n",
       "      <td>LVMH</td>\n",
       "    </tr>\n",
       "    <tr>\n",
       "      <th>2</th>\n",
       "      <td>GECINA</td>\n",
       "      <td>SOCIETE GENERALE</td>\n",
       "      <td>SOCIETE GENERALE</td>\n",
       "      <td>GECINA</td>\n",
       "      <td>KERING</td>\n",
       "      <td>KERING</td>\n",
       "      <td>KERING</td>\n",
       "      <td>KERING</td>\n",
       "      <td>KERING</td>\n",
       "      <td>KERING</td>\n",
       "      <td>KERING</td>\n",
       "      <td>KERING</td>\n",
       "      <td>KERING</td>\n",
       "      <td>GECINA</td>\n",
       "      <td>LVMH</td>\n",
       "      <td>GECINA</td>\n",
       "      <td>GECINA</td>\n",
       "      <td>KBC</td>\n",
       "    </tr>\n",
       "    <tr>\n",
       "      <th>3</th>\n",
       "      <td>SOCIETE GENERALE</td>\n",
       "      <td>GECINA</td>\n",
       "      <td>GECINA</td>\n",
       "      <td>RENAULT</td>\n",
       "      <td>SOLVAY</td>\n",
       "      <td>SOLVAY</td>\n",
       "      <td>SOLVAY</td>\n",
       "      <td>SOLVAY</td>\n",
       "      <td>SOLVAY</td>\n",
       "      <td>LVMH</td>\n",
       "      <td>LVMH</td>\n",
       "      <td>LVMH</td>\n",
       "      <td>LVMH</td>\n",
       "      <td>LVMH</td>\n",
       "      <td>GECINA</td>\n",
       "      <td>LVMH</td>\n",
       "      <td>L'OREAL</td>\n",
       "      <td>ASML HOLDING</td>\n",
       "    </tr>\n",
       "    <tr>\n",
       "      <th>4</th>\n",
       "      <td>KERING</td>\n",
       "      <td>KERING</td>\n",
       "      <td>KBC</td>\n",
       "      <td>KBC</td>\n",
       "      <td>ARCELORMITTAL SA</td>\n",
       "      <td>GBL</td>\n",
       "      <td>GBL</td>\n",
       "      <td>SANOFI</td>\n",
       "      <td>LVMH</td>\n",
       "      <td>SOLVAY</td>\n",
       "      <td>SOLVAY</td>\n",
       "      <td>AB INBEV</td>\n",
       "      <td>AB INBEV</td>\n",
       "      <td>SOLVAY</td>\n",
       "      <td>L'OREAL</td>\n",
       "      <td>L'OREAL</td>\n",
       "      <td>SOLVAY</td>\n",
       "      <td>GECINA</td>\n",
       "    </tr>\n",
       "    <tr>\n",
       "      <th>5</th>\n",
       "      <td>SOLVAY</td>\n",
       "      <td>BNP PARIBAS</td>\n",
       "      <td>RENAULT</td>\n",
       "      <td>KERING</td>\n",
       "      <td>GBL</td>\n",
       "      <td>SANOFI</td>\n",
       "      <td>SANOFI</td>\n",
       "      <td>LVMH</td>\n",
       "      <td>SANOFI</td>\n",
       "      <td>SANOFI</td>\n",
       "      <td>AB INBEV</td>\n",
       "      <td>SOLVAY</td>\n",
       "      <td>L'OREAL</td>\n",
       "      <td>AB INBEV</td>\n",
       "      <td>SOLVAY</td>\n",
       "      <td>SOLVAY</td>\n",
       "      <td>YARA INTERNATIONAL</td>\n",
       "      <td>RANDSTAD NV</td>\n",
       "    </tr>\n",
       "    <tr>\n",
       "      <th>6</th>\n",
       "      <td>BNP PARIBAS</td>\n",
       "      <td>KBC</td>\n",
       "      <td>BNP PARIBAS</td>\n",
       "      <td>BNP PARIBAS</td>\n",
       "      <td>TOTALENERGIES</td>\n",
       "      <td>TOTALENERGIES</td>\n",
       "      <td>TOTALENERGIES</td>\n",
       "      <td>GBL</td>\n",
       "      <td>GBL</td>\n",
       "      <td>GBL</td>\n",
       "      <td>SANOFI</td>\n",
       "      <td>L'OREAL</td>\n",
       "      <td>SOLVAY</td>\n",
       "      <td>L'OREAL</td>\n",
       "      <td>ADP</td>\n",
       "      <td>GBL</td>\n",
       "      <td>RANDSTAD NV</td>\n",
       "      <td>L'OREAL</td>\n",
       "    </tr>\n",
       "    <tr>\n",
       "      <th>7</th>\n",
       "      <td>KBC</td>\n",
       "      <td>SOLVAY</td>\n",
       "      <td>KERING</td>\n",
       "      <td>SOLVAY</td>\n",
       "      <td>SANOFI</td>\n",
       "      <td>BNP PARIBAS</td>\n",
       "      <td>LVMH</td>\n",
       "      <td>REMY COINTREAU</td>\n",
       "      <td>TOTALENERGIES</td>\n",
       "      <td>L'OREAL</td>\n",
       "      <td>GBL</td>\n",
       "      <td>VIVENDI SE</td>\n",
       "      <td>RENAULT</td>\n",
       "      <td>RENAULT</td>\n",
       "      <td>RENAULT</td>\n",
       "      <td>SANOFI</td>\n",
       "      <td>SANOFI</td>\n",
       "      <td>AMUNDI</td>\n",
       "    </tr>\n",
       "    <tr>\n",
       "      <th>8</th>\n",
       "      <td>RENAULT</td>\n",
       "      <td>RENAULT</td>\n",
       "      <td>SOLVAY</td>\n",
       "      <td>ARCELORMITTAL</td>\n",
       "      <td>AKZO NOBEL</td>\n",
       "      <td>LVMH</td>\n",
       "      <td>BNP PARIBAS</td>\n",
       "      <td>TOTALENERGIES</td>\n",
       "      <td>REMY COINTREAU</td>\n",
       "      <td>TOTALENERGIES</td>\n",
       "      <td>L'OREAL</td>\n",
       "      <td>SANOFI</td>\n",
       "      <td>SANOFI</td>\n",
       "      <td>ADP</td>\n",
       "      <td>KBC</td>\n",
       "      <td>PERNOD RICARD</td>\n",
       "      <td>EIFFAGE</td>\n",
       "      <td>SOLVAY</td>\n",
       "    </tr>\n",
       "    <tr>\n",
       "      <th>9</th>\n",
       "      <td>GBL</td>\n",
       "      <td>GBL</td>\n",
       "      <td>GBL</td>\n",
       "      <td>GBL</td>\n",
       "      <td>SCHNEIDER ELECTRIC</td>\n",
       "      <td>VINCI</td>\n",
       "      <td>L'OREAL</td>\n",
       "      <td>L'OREAL</td>\n",
       "      <td>L'OREAL</td>\n",
       "      <td>AB INBEV</td>\n",
       "      <td>TOTALENERGIES</td>\n",
       "      <td>GBL</td>\n",
       "      <td>GBL</td>\n",
       "      <td>SANOFI</td>\n",
       "      <td>RANDSTAD NV</td>\n",
       "      <td>SODEXO</td>\n",
       "      <td>AMUNDI</td>\n",
       "      <td>BNP PARIBAS ACT.A</td>\n",
       "    </tr>\n",
       "  </tbody>\n",
       "</table>\n",
       "</div>"
      ],
      "text/plain": [
       "                 2005                2006                2007  \\\n",
       "0               AGEAS               AGEAS               AGEAS   \n",
       "1  UNIBAIL-RODAMCO-WE  UNIBAIL-RODAMCO-WE  UNIBAIL-RODAMCO-WE   \n",
       "2              GECINA    SOCIETE GENERALE    SOCIETE GENERALE   \n",
       "3    SOCIETE GENERALE              GECINA              GECINA   \n",
       "4              KERING              KERING                 KBC   \n",
       "5              SOLVAY         BNP PARIBAS             RENAULT   \n",
       "6         BNP PARIBAS                 KBC         BNP PARIBAS   \n",
       "7                 KBC              SOLVAY              KERING   \n",
       "8             RENAULT             RENAULT              SOLVAY   \n",
       "9                 GBL                 GBL                 GBL   \n",
       "\n",
       "                 2008                2009                2010  \\\n",
       "0               AGEAS  UNIBAIL-RODAMCO-WE  UNIBAIL-RODAMCO-WE   \n",
       "1  UNIBAIL-RODAMCO-WE              GECINA              GECINA   \n",
       "2              GECINA              KERING              KERING   \n",
       "3             RENAULT              SOLVAY              SOLVAY   \n",
       "4                 KBC    ARCELORMITTAL SA                 GBL   \n",
       "5              KERING                 GBL              SANOFI   \n",
       "6         BNP PARIBAS       TOTALENERGIES       TOTALENERGIES   \n",
       "7              SOLVAY              SANOFI         BNP PARIBAS   \n",
       "8       ARCELORMITTAL          AKZO NOBEL                LVMH   \n",
       "9                 GBL  SCHNEIDER ELECTRIC               VINCI   \n",
       "\n",
       "                 2011                2012                2013  \\\n",
       "0  UNIBAIL-RODAMCO-WE  UNIBAIL-RODAMCO-WE  UNIBAIL-RODAMCO-WE   \n",
       "1              GECINA              GECINA              GECINA   \n",
       "2              KERING              KERING              KERING   \n",
       "3              SOLVAY              SOLVAY              SOLVAY   \n",
       "4                 GBL              SANOFI                LVMH   \n",
       "5              SANOFI                LVMH              SANOFI   \n",
       "6       TOTALENERGIES                 GBL                 GBL   \n",
       "7                LVMH      REMY COINTREAU       TOTALENERGIES   \n",
       "8         BNP PARIBAS       TOTALENERGIES      REMY COINTREAU   \n",
       "9             L'OREAL             L'OREAL             L'OREAL   \n",
       "\n",
       "                 2014                2015                2016  \\\n",
       "0  UNIBAIL-RODAMCO-WE  UNIBAIL-RODAMCO-WE  UNIBAIL-RODAMCO-WE   \n",
       "1              GECINA              GECINA              GECINA   \n",
       "2              KERING              KERING              KERING   \n",
       "3                LVMH                LVMH                LVMH   \n",
       "4              SOLVAY              SOLVAY            AB INBEV   \n",
       "5              SANOFI            AB INBEV              SOLVAY   \n",
       "6                 GBL              SANOFI             L'OREAL   \n",
       "7             L'OREAL                 GBL          VIVENDI SE   \n",
       "8       TOTALENERGIES             L'OREAL              SANOFI   \n",
       "9            AB INBEV       TOTALENERGIES                 GBL   \n",
       "\n",
       "                 2017                2018                2019  \\\n",
       "0  UNIBAIL-RODAMCO-WE  UNIBAIL-RODAMCO-WE  UNIBAIL-RODAMCO-WE   \n",
       "1              GECINA              KERING              KERING   \n",
       "2              KERING              GECINA                LVMH   \n",
       "3                LVMH                LVMH              GECINA   \n",
       "4            AB INBEV              SOLVAY             L'OREAL   \n",
       "5             L'OREAL            AB INBEV              SOLVAY   \n",
       "6              SOLVAY             L'OREAL                 ADP   \n",
       "7             RENAULT             RENAULT             RENAULT   \n",
       "8              SANOFI                 ADP                 KBC   \n",
       "9                 GBL              SANOFI         RANDSTAD NV   \n",
       "\n",
       "                 2020                2021               2022  \n",
       "0              KERING              KERING             KERING  \n",
       "1  UNIBAIL-RODAMCO-WE                LVMH               LVMH  \n",
       "2              GECINA              GECINA                KBC  \n",
       "3                LVMH             L'OREAL       ASML HOLDING  \n",
       "4             L'OREAL              SOLVAY             GECINA  \n",
       "5              SOLVAY  YARA INTERNATIONAL        RANDSTAD NV  \n",
       "6                 GBL         RANDSTAD NV            L'OREAL  \n",
       "7              SANOFI              SANOFI             AMUNDI  \n",
       "8       PERNOD RICARD             EIFFAGE             SOLVAY  \n",
       "9              SODEXO              AMUNDI  BNP PARIBAS ACT.A  "
      ]
     },
     "execution_count": 8,
     "metadata": {},
     "output_type": "execute_result"
    }
   ],
   "source": [
    "df = pd.read_excel('companies.xlsx')\n",
    "df"
   ]
  },
  {
   "cell_type": "markdown",
   "metadata": {},
   "source": [
    "## 2. Сбор данных по доходности портфеля и индекса Euronext-100 по годам"
   ]
  },
  {
   "cell_type": "code",
   "execution_count": 9,
   "metadata": {},
   "outputs": [],
   "source": [
    "p_10 = pd.DataFrame(columns = ['Portfolio', 'Market'])\n",
    "\n",
    "year = []\n",
    "for i in range(18):\n",
    "    year.append(2005 + i)\n",
    "\n",
    "lst_10 = []\n",
    "lst_7 = []\n",
    "lst_5 = []\n",
    "lst_3 = []\n",
    "lst_1 = []\n",
    "market = []"
   ]
  },
  {
   "cell_type": "markdown",
   "metadata": {},
   "source": [
    "### Портфель на 2005 год\n",
    "_По данным за 2004_\n",
    "\n",
    "Акции:\n",
    " - AGEAS\n",
    " - UNIBAIL-RODAMCO-WE\n",
    " - GECINA\n",
    " - SOCIETE GENERALE\n",
    " - KERING\n",
    " - SOLVAY\n",
    " - BNP PARIBAS\n",
    " - KBC\n",
    " - RENAULT\n",
    " - GBL"
   ]
  },
  {
   "cell_type": "code",
   "execution_count": 10,
   "metadata": {
    "collapsed": true
   },
   "outputs": [
    {
     "name": "stdout",
     "output_type": "stream",
     "text": [
      "[*********************100%***********************]  1 of 1 completed\n",
      "[*********************100%***********************]  1 of 1 completed\n",
      "[*********************100%***********************]  1 of 1 completed\n",
      "[*********************100%***********************]  1 of 1 completed\n",
      "[*********************100%***********************]  1 of 1 completed\n",
      "[*********************100%***********************]  1 of 1 completed\n",
      "[*********************100%***********************]  1 of 1 completed\n",
      "[*********************100%***********************]  1 of 1 completed\n",
      "[*********************100%***********************]  1 of 1 completed\n",
      "[*********************100%***********************]  1 of 1 completed\n"
     ]
    },
    {
     "name": "stderr",
     "output_type": "stream",
     "text": [
      "<ipython-input-10-ad8bfbad5661>:19: FutureWarning: Dropping of nuisance columns in DataFrame reductions (with 'numeric_only=None') is deprecated; in a future version this will raise TypeError.  Select only valid columns before calling the reduction.\n",
      "  data['sum'] = data.sum(axis=1).to_list()\n"
     ]
    },
    {
     "name": "stdout",
     "output_type": "stream",
     "text": [
      "[*********************100%***********************]  1 of 1 completed\n",
      "Growth of Portfolio: 0.4424408117213835\n",
      "Growth of Market Index: 0.19947000899008002\n"
     ]
    }
   ],
   "source": [
    "# 10 акций\n",
    "tickers_list = ['AGS.BR', \n",
    "                'URW.AS', \n",
    "                'GFC.PA',\n",
    "                'GLE.PA', \n",
    "                'KER.PA', \n",
    "                'SOLB.BR',\n",
    "                'BNP.PA',\n",
    "                'KBC.BR',  \n",
    "                'RNO.PA', \n",
    "                'GBLB.BR']\n",
    "\n",
    "data = pd.DataFrame(columns=tickers_list)\n",
    "\n",
    "for ticker in tickers_list:\n",
    "    data[ticker] = yf.download(ticker,'2005-01-01','2006-01-01', interval='1mo')['Adj Close']\n",
    "\n",
    "data = data.reset_index()\n",
    "data['sum'] = data.sum(axis=1).to_list()\n",
    "\n",
    "df = pd.DataFrame(columns=tickers_list)\n",
    "for ticker in tickers_list:\n",
    "    div = sum(yf.Ticker(ticker).history(start='2005-01-01',end='2006-01-01').Dividends.to_list())\n",
    "    split = sum(yf.Ticker(ticker).history(start='2005-01-01',end='2006-01-01')['Stock Splits'].to_list())\n",
    "    df[ticker] = [div, split]\n",
    "df['sum'] = df.sum(axis=1).to_list()\n",
    "\n",
    "tickers_list = ['^N100']\n",
    "dt = pd.DataFrame(columns=tickers_list)\n",
    "for ticker in tickers_list:\n",
    "    dt[ticker] = yf.download(ticker,'2005-01-01','2006-01-01', interval='1mo')['Adj Close']\n",
    "    \n",
    "data['N-100'] = dt['^N100'].to_list()\n",
    "\n",
    "portfolio_g = (data['sum'][11] + df['sum'][0] - data['sum'][0]) / data['sum'][0]\n",
    "market_g = (data['N-100'][11] - data['N-100'][0]) / data['N-100'][0]\n",
    "\n",
    "lst_10.append(portfolio_g)\n",
    "market.append(market_g)\n",
    "\n",
    "if df['sum'][1] == 0:\n",
    "    print('Growth of Portfolio:', portfolio_g)\n",
    "    print('Growth of Market Index:', market_g)\n",
    "else:\n",
    "    print('Есть дробление акций')"
   ]
  },
  {
   "cell_type": "code",
   "execution_count": 11,
   "metadata": {
    "collapsed": true
   },
   "outputs": [
    {
     "name": "stdout",
     "output_type": "stream",
     "text": [
      "[*********************100%***********************]  1 of 1 completed\n",
      "[*********************100%***********************]  1 of 1 completed\n",
      "[*********************100%***********************]  1 of 1 completed\n",
      "[*********************100%***********************]  1 of 1 completed\n",
      "[*********************100%***********************]  1 of 1 completed\n",
      "[*********************100%***********************]  1 of 1 completed\n",
      "[*********************100%***********************]  1 of 1 completed\n"
     ]
    },
    {
     "name": "stderr",
     "output_type": "stream",
     "text": [
      "<ipython-input-11-c5c361896fc9>:16: FutureWarning: Dropping of nuisance columns in DataFrame reductions (with 'numeric_only=None') is deprecated; in a future version this will raise TypeError.  Select only valid columns before calling the reduction.\n",
      "  data['sum'] = data.sum(axis=1).to_list()\n"
     ]
    },
    {
     "name": "stdout",
     "output_type": "stream",
     "text": [
      "[*********************100%***********************]  1 of 1 completed\n",
      "Growth of Portfolio: 0.49171226445353333\n",
      "Growth of Market Index: 0.19947000899008002\n"
     ]
    }
   ],
   "source": [
    "# 7 акций\n",
    "tickers_list = ['AGS.BR', \n",
    "                'URW.AS', \n",
    "                'GFC.PA',\n",
    "                'GLE.PA', \n",
    "                'KER.PA', \n",
    "                'SOLB.BR',\n",
    "                'BNP.PA']\n",
    "\n",
    "data = pd.DataFrame(columns=tickers_list)\n",
    "\n",
    "for ticker in tickers_list:\n",
    "    data[ticker] = yf.download(ticker,'2005-01-01','2006-01-01', interval='1mo')['Adj Close']\n",
    "\n",
    "data = data.reset_index()\n",
    "data['sum'] = data.sum(axis=1).to_list()\n",
    "\n",
    "df = pd.DataFrame(columns=tickers_list)\n",
    "for ticker in tickers_list:\n",
    "    div = sum(yf.Ticker(ticker).history(start='2005-01-01',end='2006-01-01').Dividends.to_list())\n",
    "    split = sum(yf.Ticker(ticker).history(start='2005-01-01',end='2006-01-01')['Stock Splits'].to_list())\n",
    "    df[ticker] = [div, split]\n",
    "df['sum'] = df.sum(axis=1).to_list()\n",
    "\n",
    "tickers_list = ['^N100']\n",
    "dt = pd.DataFrame(columns=tickers_list)\n",
    "for ticker in tickers_list:\n",
    "    dt[ticker] = yf.download(ticker,'2005-01-01','2006-01-01', interval='1mo')['Adj Close']\n",
    "    \n",
    "data['N-100'] = dt['^N100'].to_list()\n",
    "\n",
    "portfolio_g = (data['sum'][11] + df['sum'][0] - data['sum'][0]) / data['sum'][0]\n",
    "market_g = (data['N-100'][11] - data['N-100'][0]) / data['N-100'][0]\n",
    "\n",
    "lst_7.append(portfolio_g)\n",
    "\n",
    "if df['sum'][1] == 0:\n",
    "    print('Growth of Portfolio:', portfolio_g)\n",
    "    print('Growth of Market Index:', market_g)\n",
    "else:\n",
    "    print('Есть дробление акций')"
   ]
  },
  {
   "cell_type": "code",
   "execution_count": 12,
   "metadata": {
    "collapsed": true
   },
   "outputs": [
    {
     "name": "stdout",
     "output_type": "stream",
     "text": [
      "[*********************100%***********************]  1 of 1 completed\n",
      "[*********************100%***********************]  1 of 1 completed\n",
      "[*********************100%***********************]  1 of 1 completed\n",
      "[*********************100%***********************]  1 of 1 completed\n",
      "[*********************100%***********************]  1 of 1 completed\n"
     ]
    },
    {
     "name": "stderr",
     "output_type": "stream",
     "text": [
      "<ipython-input-12-fbd1733eb6ee>:14: FutureWarning: Dropping of nuisance columns in DataFrame reductions (with 'numeric_only=None') is deprecated; in a future version this will raise TypeError.  Select only valid columns before calling the reduction.\n",
      "  data['sum'] = data.sum(axis=1).to_list()\n"
     ]
    },
    {
     "name": "stdout",
     "output_type": "stream",
     "text": [
      "[*********************100%***********************]  1 of 1 completed\n",
      "Growth of Portfolio: 0.536841630806315\n",
      "Growth of Market Index: 0.19947000899008002\n"
     ]
    }
   ],
   "source": [
    "# 5 акций\n",
    "tickers_list = ['AGS.BR', \n",
    "                'URW.AS', \n",
    "                'GFC.PA',\n",
    "                'GLE.PA', \n",
    "                'KER.PA']\n",
    "\n",
    "data = pd.DataFrame(columns=tickers_list)\n",
    "\n",
    "for ticker in tickers_list:\n",
    "    data[ticker] = yf.download(ticker,'2005-01-01','2006-01-01', interval='1mo')['Adj Close']\n",
    "\n",
    "data = data.reset_index()\n",
    "data['sum'] = data.sum(axis=1).to_list()\n",
    "\n",
    "df = pd.DataFrame(columns=tickers_list)\n",
    "for ticker in tickers_list:\n",
    "    div = sum(yf.Ticker(ticker).history(start='2005-01-01',end='2006-01-01').Dividends.to_list())\n",
    "    split = sum(yf.Ticker(ticker).history(start='2005-01-01',end='2006-01-01')['Stock Splits'].to_list())\n",
    "    df[ticker] = [div, split]\n",
    "df['sum'] = df.sum(axis=1).to_list()\n",
    "\n",
    "tickers_list = ['^N100']\n",
    "dt = pd.DataFrame(columns=tickers_list)\n",
    "for ticker in tickers_list:\n",
    "    dt[ticker] = yf.download(ticker,'2005-01-01','2006-01-01', interval='1mo')['Adj Close']\n",
    "    \n",
    "data['N-100'] = dt['^N100'].to_list()\n",
    "\n",
    "portfolio_g = (data['sum'][11] + df['sum'][0] - data['sum'][0]) / data['sum'][0]\n",
    "market_g = (data['N-100'][11] - data['N-100'][0]) / data['N-100'][0]\n",
    "\n",
    "lst_5.append(portfolio_g)\n",
    "\n",
    "if df['sum'][1] == 0:\n",
    "    print('Growth of Portfolio:', portfolio_g)\n",
    "    print('Growth of Market Index:', market_g)\n",
    "else:\n",
    "    print('Есть дробление акций')"
   ]
  },
  {
   "cell_type": "code",
   "execution_count": 13,
   "metadata": {
    "collapsed": true
   },
   "outputs": [
    {
     "name": "stdout",
     "output_type": "stream",
     "text": [
      "[*********************100%***********************]  1 of 1 completed\n",
      "[*********************100%***********************]  1 of 1 completed\n",
      "[*********************100%***********************]  1 of 1 completed\n"
     ]
    },
    {
     "name": "stderr",
     "output_type": "stream",
     "text": [
      "<ipython-input-13-eefa95eb58fb>:12: FutureWarning: Dropping of nuisance columns in DataFrame reductions (with 'numeric_only=None') is deprecated; in a future version this will raise TypeError.  Select only valid columns before calling the reduction.\n",
      "  data['sum'] = data.sum(axis=1).to_list()\n"
     ]
    },
    {
     "name": "stdout",
     "output_type": "stream",
     "text": [
      "[*********************100%***********************]  1 of 1 completed\n",
      "Growth of Portfolio: 0.6221409896087421\n",
      "Growth of Market Index: 0.19947000899008002\n"
     ]
    }
   ],
   "source": [
    "# 3 акции\n",
    "tickers_list = ['AGS.BR', \n",
    "                'URW.AS', \n",
    "                'GFC.PA']\n",
    "\n",
    "data = pd.DataFrame(columns=tickers_list)\n",
    "\n",
    "for ticker in tickers_list:\n",
    "    data[ticker] = yf.download(ticker,'2005-01-01','2006-01-01', interval='1mo')['Adj Close']\n",
    "\n",
    "data = data.reset_index()\n",
    "data['sum'] = data.sum(axis=1).to_list()\n",
    "\n",
    "df = pd.DataFrame(columns=tickers_list)\n",
    "for ticker in tickers_list:\n",
    "    div = sum(yf.Ticker(ticker).history(start='2005-01-01',end='2006-01-01').Dividends.to_list())\n",
    "    split = sum(yf.Ticker(ticker).history(start='2005-01-01',end='2006-01-01')['Stock Splits'].to_list())\n",
    "    df[ticker] = [div, split]\n",
    "df['sum'] = df.sum(axis=1).to_list()\n",
    "\n",
    "tickers_list = ['^N100']\n",
    "dt = pd.DataFrame(columns=tickers_list)\n",
    "for ticker in tickers_list:\n",
    "    dt[ticker] = yf.download(ticker,'2005-01-01','2006-01-01', interval='1mo')['Adj Close']\n",
    "    \n",
    "data['N-100'] = dt['^N100'].to_list()\n",
    "\n",
    "portfolio_g = (data['sum'][11] + df['sum'][0] - data['sum'][0]) / data['sum'][0]\n",
    "market_g = (data['N-100'][11] - data['N-100'][0]) / data['N-100'][0]\n",
    "\n",
    "lst_3.append(portfolio_g)\n",
    "\n",
    "if df['sum'][1] == 0:\n",
    "    print('Growth of Portfolio:', portfolio_g)\n",
    "    print('Growth of Market Index:', market_g)\n",
    "else:\n",
    "    print('Есть дробление акций')"
   ]
  },
  {
   "cell_type": "code",
   "execution_count": 14,
   "metadata": {
    "collapsed": true
   },
   "outputs": [
    {
     "name": "stdout",
     "output_type": "stream",
     "text": [
      "[*********************100%***********************]  1 of 1 completed\n"
     ]
    },
    {
     "name": "stderr",
     "output_type": "stream",
     "text": [
      "<ipython-input-14-83ef0ae8f89e>:10: FutureWarning: Dropping of nuisance columns in DataFrame reductions (with 'numeric_only=None') is deprecated; in a future version this will raise TypeError.  Select only valid columns before calling the reduction.\n",
      "  data['sum'] = data.sum(axis=1).to_list()\n"
     ]
    },
    {
     "name": "stdout",
     "output_type": "stream",
     "text": [
      "[*********************100%***********************]  1 of 1 completed\n",
      "Growth of Portfolio: 0.595016929908124\n",
      "Growth of Market Index: 0.19947000899008002\n"
     ]
    }
   ],
   "source": [
    "# 1 акция\n",
    "tickers_list = ['AGS.BR']\n",
    "\n",
    "data = pd.DataFrame(columns=tickers_list)\n",
    "\n",
    "for ticker in tickers_list:\n",
    "    data[ticker] = yf.download(ticker,'2005-01-01','2006-01-01', interval='1mo')['Adj Close']\n",
    "\n",
    "data = data.reset_index()\n",
    "data['sum'] = data.sum(axis=1).to_list()\n",
    "\n",
    "df = pd.DataFrame(columns=tickers_list)\n",
    "for ticker in tickers_list:\n",
    "    div = sum(yf.Ticker(ticker).history(start='2005-01-01',end='2006-01-01').Dividends.to_list())\n",
    "    split = sum(yf.Ticker(ticker).history(start='2005-01-01',end='2006-01-01')['Stock Splits'].to_list())\n",
    "    df[ticker] = [div, split]\n",
    "df['sum'] = df.sum(axis=1).to_list()\n",
    "\n",
    "tickers_list = ['^N100']\n",
    "dt = pd.DataFrame(columns=tickers_list)\n",
    "for ticker in tickers_list:\n",
    "    dt[ticker] = yf.download(ticker,'2005-01-01','2006-01-01', interval='1mo')['Adj Close']\n",
    "    \n",
    "data['N-100'] = dt['^N100'].to_list()\n",
    "\n",
    "portfolio_g = (data['sum'][11] + df['sum'][0] - data['sum'][0]) / data['sum'][0]\n",
    "market_g = (data['N-100'][11] - data['N-100'][0]) / data['N-100'][0]\n",
    "\n",
    "lst_1.append(portfolio_g)\n",
    "\n",
    "if df['sum'][1] == 0:\n",
    "    print('Growth of Portfolio:', portfolio_g)\n",
    "    print('Growth of Market Index:', market_g)\n",
    "else:\n",
    "    print('Есть дробление акций')"
   ]
  },
  {
   "cell_type": "markdown",
   "metadata": {},
   "source": [
    "### Портфель на 2006 год\n",
    "_По данным за 2005_\n",
    "\n",
    "Акции:\n",
    "- AGEAS\n",
    "- UNIBAIL-RODAMCO-WE\n",
    "- SOCIETE GENERALE\n",
    "- GECINA\n",
    "- KERING\n",
    "- BNP PARIBAS\n",
    "- KBC\n",
    "- SOLVAY\n",
    "- RENAULT\n",
    "- GBL"
   ]
  },
  {
   "cell_type": "code",
   "execution_count": 15,
   "metadata": {
    "collapsed": true
   },
   "outputs": [
    {
     "name": "stdout",
     "output_type": "stream",
     "text": [
      "[*********************100%***********************]  1 of 1 completed\n",
      "[*********************100%***********************]  1 of 1 completed\n",
      "[*********************100%***********************]  1 of 1 completed\n",
      "[*********************100%***********************]  1 of 1 completed\n",
      "[*********************100%***********************]  1 of 1 completed\n",
      "[*********************100%***********************]  1 of 1 completed\n",
      "[*********************100%***********************]  1 of 1 completed\n",
      "[*********************100%***********************]  1 of 1 completed\n",
      "[*********************100%***********************]  1 of 1 completed\n",
      "[*********************100%***********************]  1 of 1 completed\n"
     ]
    },
    {
     "name": "stderr",
     "output_type": "stream",
     "text": [
      "<ipython-input-15-4a2b131ff74f>:19: FutureWarning: Dropping of nuisance columns in DataFrame reductions (with 'numeric_only=None') is deprecated; in a future version this will raise TypeError.  Select only valid columns before calling the reduction.\n",
      "  data['sum'] = data.sum(axis=1).to_list()\n"
     ]
    },
    {
     "name": "stdout",
     "output_type": "stream",
     "text": [
      "[*********************100%***********************]  1 of 1 completed\n",
      "Growth of Portfolio: 0.335943499332813\n",
      "Growth of Market Index: 0.13663092268356408\n"
     ]
    }
   ],
   "source": [
    "# 10 акций\n",
    "tickers_list = ['AGS.BR', \n",
    "                'URW.AS', \n",
    "                'GLE.PA',\n",
    "                'GFC.PA', \n",
    "                'KER.PA', \n",
    "                'BNP.PA',\n",
    "                'KBC.BR',\n",
    "                'SOLB.BR',\n",
    "                'RNO.PA', \n",
    "                'GBLB.BR']\n",
    "\n",
    "data = pd.DataFrame(columns=tickers_list)\n",
    "\n",
    "for ticker in tickers_list:\n",
    "    data[ticker] = yf.download(ticker,'2006-01-01','2007-01-01', interval='1mo')['Adj Close']\n",
    "\n",
    "data = data.reset_index()\n",
    "data['sum'] = data.sum(axis=1).to_list()\n",
    "\n",
    "df = pd.DataFrame(columns=tickers_list)\n",
    "for ticker in tickers_list:\n",
    "    div = sum(yf.Ticker(ticker).history(start='2006-01-01',end='2007-01-01').Dividends.to_list())\n",
    "    split = sum(yf.Ticker(ticker).history(start='2006-01-01',end='2007-01-01')['Stock Splits'].to_list())\n",
    "    df[ticker] = [div, split]\n",
    "df['sum'] = df.sum(axis=1).to_list()\n",
    "\n",
    "tickers_list = ['^N100']\n",
    "dt = pd.DataFrame(columns=tickers_list)\n",
    "for ticker in tickers_list:\n",
    "    dt[ticker] = yf.download(ticker,'2006-01-01','2007-01-01', interval='1mo')['Adj Close']\n",
    "    \n",
    "data['N-100'] = dt['^N100'].to_list()\n",
    "\n",
    "portfolio_g = (data['sum'][11] + df['sum'][0] - data['sum'][0]) / data['sum'][0]\n",
    "market_g = (data['N-100'][11] - data['N-100'][0]) / data['N-100'][0]\n",
    "\n",
    "lst_10.append(portfolio_g)\n",
    "market.append(market_g)\n",
    "\n",
    "if df['sum'][1] == 0:\n",
    "    print('Growth of Portfolio:', portfolio_g)\n",
    "    print('Growth of Market Index:', market_g)\n",
    "else:\n",
    "    print('Есть дробление акций')"
   ]
  },
  {
   "cell_type": "code",
   "execution_count": 16,
   "metadata": {
    "collapsed": true
   },
   "outputs": [
    {
     "name": "stdout",
     "output_type": "stream",
     "text": [
      "[*********************100%***********************]  1 of 1 completed\n",
      "[*********************100%***********************]  1 of 1 completed\n",
      "[*********************100%***********************]  1 of 1 completed\n",
      "[*********************100%***********************]  1 of 1 completed\n",
      "[*********************100%***********************]  1 of 1 completed\n",
      "[*********************100%***********************]  1 of 1 completed\n",
      "[*********************100%***********************]  1 of 1 completed\n"
     ]
    },
    {
     "name": "stderr",
     "output_type": "stream",
     "text": [
      "<ipython-input-16-1f0ee56ec427>:16: FutureWarning: Dropping of nuisance columns in DataFrame reductions (with 'numeric_only=None') is deprecated; in a future version this will raise TypeError.  Select only valid columns before calling the reduction.\n",
      "  data['sum'] = data.sum(axis=1).to_list()\n"
     ]
    },
    {
     "name": "stdout",
     "output_type": "stream",
     "text": [
      "[*********************100%***********************]  1 of 1 completed\n",
      "Growth of Portfolio: 0.3840368733236364\n",
      "Growth of Market Index: 0.13663092268356408\n"
     ]
    }
   ],
   "source": [
    "# 7 акций\n",
    "tickers_list = ['AGS.BR', \n",
    "                'URW.AS', \n",
    "                'GLE.PA',\n",
    "                'GFC.PA', \n",
    "                'KER.PA', \n",
    "                'BNP.PA',\n",
    "                'KBC.BR']\n",
    "\n",
    "data = pd.DataFrame(columns=tickers_list)\n",
    "\n",
    "for ticker in tickers_list:\n",
    "    data[ticker] = yf.download(ticker,'2006-01-01','2007-01-01', interval='1mo')['Adj Close']\n",
    "\n",
    "data = data.reset_index()\n",
    "data['sum'] = data.sum(axis=1).to_list()\n",
    "\n",
    "df = pd.DataFrame(columns=tickers_list)\n",
    "for ticker in tickers_list:\n",
    "    div = sum(yf.Ticker(ticker).history(start='2006-01-01',end='2007-01-01').Dividends.to_list())\n",
    "    split = sum(yf.Ticker(ticker).history(start='2006-01-01',end='2007-01-01')['Stock Splits'].to_list())\n",
    "    df[ticker] = [div, split]\n",
    "df['sum'] = df.sum(axis=1).to_list()\n",
    "\n",
    "tickers_list = ['^N100']\n",
    "dt = pd.DataFrame(columns=tickers_list)\n",
    "for ticker in tickers_list:\n",
    "    dt[ticker] = yf.download(ticker,'2006-01-01','2007-01-01', interval='1mo')['Adj Close']\n",
    "    \n",
    "data['N-100'] = dt['^N100'].to_list()\n",
    "\n",
    "portfolio_g = (data['sum'][11] + df['sum'][0] - data['sum'][0]) / data['sum'][0]\n",
    "market_g = (data['N-100'][11] - data['N-100'][0]) / data['N-100'][0]\n",
    "\n",
    "lst_7.append(portfolio_g)\n",
    "\n",
    "if df['sum'][1] == 0:\n",
    "    print('Growth of Portfolio:', portfolio_g)\n",
    "    print('Growth of Market Index:', market_g)\n",
    "else:\n",
    "    print('Есть дробление акций')"
   ]
  },
  {
   "cell_type": "code",
   "execution_count": 17,
   "metadata": {
    "collapsed": true
   },
   "outputs": [
    {
     "name": "stdout",
     "output_type": "stream",
     "text": [
      "[*********************100%***********************]  1 of 1 completed\n",
      "[*********************100%***********************]  1 of 1 completed\n",
      "[*********************100%***********************]  1 of 1 completed\n",
      "[*********************100%***********************]  1 of 1 completed\n",
      "[*********************100%***********************]  1 of 1 completed\n"
     ]
    },
    {
     "name": "stderr",
     "output_type": "stream",
     "text": [
      "<ipython-input-17-e63f9a7bedd4>:14: FutureWarning: Dropping of nuisance columns in DataFrame reductions (with 'numeric_only=None') is deprecated; in a future version this will raise TypeError.  Select only valid columns before calling the reduction.\n",
      "  data['sum'] = data.sum(axis=1).to_list()\n"
     ]
    },
    {
     "name": "stdout",
     "output_type": "stream",
     "text": [
      "[*********************100%***********************]  1 of 1 completed\n",
      "Growth of Portfolio: 0.4097533165007535\n",
      "Growth of Market Index: 0.13663092268356408\n"
     ]
    }
   ],
   "source": [
    "# 5 акций\n",
    "tickers_list = ['AGS.BR', \n",
    "                'URW.AS', \n",
    "                'GLE.PA',\n",
    "                'GFC.PA', \n",
    "                'KER.PA']\n",
    "\n",
    "data = pd.DataFrame(columns=tickers_list)\n",
    "\n",
    "for ticker in tickers_list:\n",
    "    data[ticker] = yf.download(ticker,'2006-01-01','2007-01-01', interval='1mo')['Adj Close']\n",
    "\n",
    "data = data.reset_index()\n",
    "data['sum'] = data.sum(axis=1).to_list()\n",
    "\n",
    "df = pd.DataFrame(columns=tickers_list)\n",
    "for ticker in tickers_list:\n",
    "    div = sum(yf.Ticker(ticker).history(start='2006-01-01',end='2007-01-01').Dividends.to_list())\n",
    "    split = sum(yf.Ticker(ticker).history(start='2006-01-01',end='2007-01-01')['Stock Splits'].to_list())\n",
    "    df[ticker] = [div, split]\n",
    "df['sum'] = df.sum(axis=1).to_list()\n",
    "\n",
    "tickers_list = ['^N100']\n",
    "dt = pd.DataFrame(columns=tickers_list)\n",
    "for ticker in tickers_list:\n",
    "    dt[ticker] = yf.download(ticker,'2006-01-01','2007-01-01', interval='1mo')['Adj Close']\n",
    "\n",
    "data['N-100'] = dt['^N100'].to_list()\n",
    "    \n",
    "portfolio_g = (data['sum'][11] + df['sum'][0] - data['sum'][0]) / data['sum'][0]\n",
    "market_g = (data['N-100'][11] - data['N-100'][0]) / data['N-100'][0]\n",
    "\n",
    "lst_5.append(portfolio_g)\n",
    "\n",
    "if df['sum'][1] == 0:\n",
    "    print('Growth of Portfolio:', portfolio_g)\n",
    "    print('Growth of Market Index:', market_g)\n",
    "else:\n",
    "    print('Есть дробление акций')"
   ]
  },
  {
   "cell_type": "code",
   "execution_count": 18,
   "metadata": {
    "collapsed": true
   },
   "outputs": [
    {
     "name": "stdout",
     "output_type": "stream",
     "text": [
      "[*********************100%***********************]  1 of 1 completed\n",
      "[*********************100%***********************]  1 of 1 completed\n",
      "[*********************100%***********************]  1 of 1 completed\n"
     ]
    },
    {
     "name": "stderr",
     "output_type": "stream",
     "text": [
      "<ipython-input-18-38343677e539>:12: FutureWarning: Dropping of nuisance columns in DataFrame reductions (with 'numeric_only=None') is deprecated; in a future version this will raise TypeError.  Select only valid columns before calling the reduction.\n",
      "  data['sum'] = data.sum(axis=1).to_list()\n"
     ]
    },
    {
     "name": "stdout",
     "output_type": "stream",
     "text": [
      "[*********************100%***********************]  1 of 1 completed\n",
      "Growth of Portfolio: 0.39196966046596543\n",
      "Growth of Market Index: 0.13663092268356408\n"
     ]
    }
   ],
   "source": [
    "# 3 акции\n",
    "tickers_list = ['AGS.BR', \n",
    "                'URW.AS', \n",
    "                'GLE.PA']\n",
    "\n",
    "data = pd.DataFrame(columns=tickers_list)\n",
    "\n",
    "for ticker in tickers_list:\n",
    "    data[ticker] = yf.download(ticker,'2006-01-01','2007-01-01', interval='1mo')['Adj Close']\n",
    "\n",
    "data = data.reset_index()\n",
    "data['sum'] = data.sum(axis=1).to_list()\n",
    "\n",
    "df = pd.DataFrame(columns=tickers_list)\n",
    "for ticker in tickers_list:\n",
    "    div = sum(yf.Ticker(ticker).history(start='2006-01-01',end='2007-01-01').Dividends.to_list())\n",
    "    split = sum(yf.Ticker(ticker).history(start='2006-01-01',end='2007-01-01')['Stock Splits'].to_list())\n",
    "    df[ticker] = [div, split]\n",
    "df['sum'] = df.sum(axis=1).to_list()\n",
    "\n",
    "tickers_list = ['^N100']\n",
    "dt = pd.DataFrame(columns=tickers_list)\n",
    "for ticker in tickers_list:\n",
    "    dt[ticker] = yf.download(ticker,'2006-01-01','2007-01-01', interval='1mo')['Adj Close']\n",
    "    \n",
    "data['N-100'] = dt['^N100'].to_list()\n",
    "\n",
    "portfolio_g = (data['sum'][11] + df['sum'][0] - data['sum'][0]) / data['sum'][0]\n",
    "market_g = (data['N-100'][11] - data['N-100'][0]) / data['N-100'][0]\n",
    "\n",
    "lst_3.append(portfolio_g)\n",
    "\n",
    "if df['sum'][1] == 0:\n",
    "    print('Growth of Portfolio:', portfolio_g)\n",
    "    print('Growth of Market Index:', market_g)\n",
    "else:\n",
    "    print('Есть дробление акций')"
   ]
  },
  {
   "cell_type": "code",
   "execution_count": 19,
   "metadata": {
    "collapsed": true
   },
   "outputs": [
    {
     "name": "stdout",
     "output_type": "stream",
     "text": [
      "[*********************100%***********************]  1 of 1 completed\n"
     ]
    },
    {
     "name": "stderr",
     "output_type": "stream",
     "text": [
      "<ipython-input-19-8c6734051aec>:10: FutureWarning: Dropping of nuisance columns in DataFrame reductions (with 'numeric_only=None') is deprecated; in a future version this will raise TypeError.  Select only valid columns before calling the reduction.\n",
      "  data['sum'] = data.sum(axis=1).to_list()\n"
     ]
    },
    {
     "name": "stdout",
     "output_type": "stream",
     "text": [
      "[*********************100%***********************]  1 of 1 completed\n",
      "Growth of Portfolio: 0.2841703728862829\n",
      "Growth of Market Index: 0.13663092268356408\n"
     ]
    }
   ],
   "source": [
    "# 1 акция\n",
    "tickers_list = ['AGS.BR']\n",
    "\n",
    "data = pd.DataFrame(columns=tickers_list)\n",
    "\n",
    "for ticker in tickers_list:\n",
    "    data[ticker] = yf.download(ticker,'2006-01-01','2007-01-01', interval='1mo')['Adj Close']\n",
    "\n",
    "data = data.reset_index()\n",
    "data['sum'] = data.sum(axis=1).to_list()\n",
    "\n",
    "df = pd.DataFrame(columns=tickers_list)\n",
    "for ticker in tickers_list:\n",
    "    div = sum(yf.Ticker(ticker).history(start='2006-01-01',end='2007-01-01').Dividends.to_list())\n",
    "    split = sum(yf.Ticker(ticker).history(start='2006-01-01',end='2007-01-01')['Stock Splits'].to_list())\n",
    "    df[ticker] = [div, split]\n",
    "df['sum'] = df.sum(axis=1).to_list()\n",
    "\n",
    "tickers_list = ['^N100']\n",
    "dt = pd.DataFrame(columns=tickers_list)\n",
    "for ticker in tickers_list:\n",
    "    dt[ticker] = yf.download(ticker,'2006-01-01','2007-01-01', interval='1mo')['Adj Close']\n",
    "    \n",
    "data['N-100'] = dt['^N100'].to_list()\n",
    "\n",
    "portfolio_g = (data['sum'][11] + df['sum'][0] - data['sum'][0]) / data['sum'][0]\n",
    "market_g = (data['N-100'][11] - data['N-100'][0]) / data['N-100'][0]\n",
    "\n",
    "lst_1.append(portfolio_g)\n",
    "\n",
    "if df['sum'][1] == 0:\n",
    "    print('Growth of Portfolio:', portfolio_g)\n",
    "    print('Growth of Market Index:', market_g)\n",
    "else:\n",
    "    print('Есть дробление акций')"
   ]
  },
  {
   "cell_type": "markdown",
   "metadata": {},
   "source": [
    "### Портфель на 2007 год\n",
    "_По данным за 2006_\n",
    "\n",
    "Акции:\n",
    "- AGEAS\n",
    "- UNIBAIL-RODAMCO-WE\n",
    "- SOCIETE GENERALE\n",
    "- GECINA\n",
    "- KBC\n",
    "- RENAULT\n",
    "- BNP PARIBAS\n",
    "- KERING\n",
    "- SOLVAY\n",
    "- GBL"
   ]
  },
  {
   "cell_type": "code",
   "execution_count": 20,
   "metadata": {
    "collapsed": true
   },
   "outputs": [
    {
     "name": "stdout",
     "output_type": "stream",
     "text": [
      "[*********************100%***********************]  1 of 1 completed\n",
      "[*********************100%***********************]  1 of 1 completed\n",
      "[*********************100%***********************]  1 of 1 completed\n",
      "[*********************100%***********************]  1 of 1 completed\n",
      "[*********************100%***********************]  1 of 1 completed\n",
      "[*********************100%***********************]  1 of 1 completed\n",
      "[*********************100%***********************]  1 of 1 completed\n",
      "[*********************100%***********************]  1 of 1 completed\n",
      "[*********************100%***********************]  1 of 1 completed\n",
      "[*********************100%***********************]  1 of 1 completed\n"
     ]
    },
    {
     "name": "stderr",
     "output_type": "stream",
     "text": [
      "<ipython-input-20-11fd24ecbe85>:19: FutureWarning: Dropping of nuisance columns in DataFrame reductions (with 'numeric_only=None') is deprecated; in a future version this will raise TypeError.  Select only valid columns before calling the reduction.\n",
      "  data['sum'] = data.sum(axis=1).to_list()\n"
     ]
    },
    {
     "name": "stdout",
     "output_type": "stream",
     "text": [
      "[*********************100%***********************]  1 of 1 completed\n",
      "Growth of Portfolio: -0.04650527249240161\n",
      "Growth of Market Index: 0.021471588059834262\n"
     ]
    }
   ],
   "source": [
    "# 10 акций\n",
    "tickers_list = ['AGS.BR', \n",
    "                'URW.AS', \n",
    "                'GLE.PA',\n",
    "                'GFC.PA', \n",
    "                'KBC.BR',\n",
    "                'RNO.PA', \n",
    "                'BNP.PA',\n",
    "                'KER.PA',\n",
    "                'SOLB.BR',\n",
    "                'GBLB.BR']\n",
    "\n",
    "data = pd.DataFrame(columns=tickers_list)\n",
    "\n",
    "for ticker in tickers_list:\n",
    "    data[ticker] = yf.download(ticker,'2007-01-01','2008-01-01', interval='1mo')['Adj Close']\n",
    "\n",
    "data = data.reset_index()\n",
    "data['sum'] = data.sum(axis=1).to_list()\n",
    "\n",
    "df = pd.DataFrame(columns=tickers_list)\n",
    "for ticker in tickers_list:\n",
    "    div = sum(yf.Ticker(ticker).history(start='2007-01-01',end='2008-01-01').Dividends.to_list())\n",
    "    split = sum(yf.Ticker(ticker).history(start='2007-01-01',end='2008-01-01')['Stock Splits'].to_list())\n",
    "    df[ticker] = [div, split]\n",
    "df['sum'] = df.sum(axis=1).to_list()\n",
    "\n",
    "tickers_list = ['^N100']\n",
    "dt = pd.DataFrame(columns=tickers_list)\n",
    "for ticker in tickers_list:\n",
    "    dt[ticker] = yf.download(ticker,'2007-01-01','2008-01-01', interval='1mo')['Adj Close']\n",
    "    \n",
    "data['N-100'] = dt['^N100'].to_list()\n",
    "\n",
    "portfolio_g = (data['sum'][11] + df['sum'][0] - data['sum'][0]) / data['sum'][0]\n",
    "market_g = (data['N-100'][11] - data['N-100'][0]) / data['N-100'][0]\n",
    "\n",
    "lst_10.append(portfolio_g)\n",
    "market.append(market_g)\n",
    "\n",
    "if df['sum'][1] == 0:\n",
    "    print('Growth of Portfolio:', portfolio_g)\n",
    "    print('Growth of Market Index:', market_g)\n",
    "else:\n",
    "    print('Есть дробление акций')"
   ]
  },
  {
   "cell_type": "code",
   "execution_count": 21,
   "metadata": {
    "collapsed": true
   },
   "outputs": [
    {
     "name": "stdout",
     "output_type": "stream",
     "text": [
      "[*********************100%***********************]  1 of 1 completed\n",
      "[*********************100%***********************]  1 of 1 completed\n",
      "[*********************100%***********************]  1 of 1 completed\n",
      "[*********************100%***********************]  1 of 1 completed\n",
      "[*********************100%***********************]  1 of 1 completed\n",
      "[*********************100%***********************]  1 of 1 completed\n",
      "[*********************100%***********************]  1 of 1 completed\n"
     ]
    },
    {
     "name": "stderr",
     "output_type": "stream",
     "text": [
      "<ipython-input-21-2e48493a9634>:16: FutureWarning: Dropping of nuisance columns in DataFrame reductions (with 'numeric_only=None') is deprecated; in a future version this will raise TypeError.  Select only valid columns before calling the reduction.\n",
      "  data['sum'] = data.sum(axis=1).to_list()\n"
     ]
    },
    {
     "name": "stdout",
     "output_type": "stream",
     "text": [
      "[*********************100%***********************]  1 of 1 completed\n",
      "Growth of Portfolio: -0.06423767682383587\n",
      "Growth of Market Index: 0.021471588059834262\n"
     ]
    }
   ],
   "source": [
    "# 7 акций\n",
    "tickers_list = ['AGS.BR', \n",
    "                'URW.AS', \n",
    "                'GLE.PA',\n",
    "                'GFC.PA', \n",
    "                'KBC.BR',\n",
    "                'RNO.PA', \n",
    "                'BNP.PA']\n",
    "\n",
    "data = pd.DataFrame(columns=tickers_list)\n",
    "\n",
    "for ticker in tickers_list:\n",
    "    data[ticker] = yf.download(ticker,'2007-01-01','2008-01-01', interval='1mo')['Adj Close']\n",
    "\n",
    "data = data.reset_index()\n",
    "data['sum'] = data.sum(axis=1).to_list()\n",
    "\n",
    "df = pd.DataFrame(columns=tickers_list)\n",
    "for ticker in tickers_list:\n",
    "    div = sum(yf.Ticker(ticker).history(start='2007-01-01',end='2008-01-01').Dividends.to_list())\n",
    "    split = sum(yf.Ticker(ticker).history(start='2007-01-01',end='2008-01-01')['Stock Splits'].to_list())\n",
    "    df[ticker] = [div, split]\n",
    "df['sum'] = df.sum(axis=1).to_list()\n",
    "\n",
    "tickers_list = ['^N100']\n",
    "dt = pd.DataFrame(columns=tickers_list)\n",
    "for ticker in tickers_list:\n",
    "    dt[ticker] = yf.download(ticker,'2007-01-01','2008-01-01', interval='1mo')['Adj Close']\n",
    "    \n",
    "data['N-100'] = dt['^N100'].to_list()\n",
    "\n",
    "portfolio_g = (data['sum'][11] + df['sum'][0] - data['sum'][0]) / data['sum'][0]\n",
    "market_g = (data['N-100'][11] - data['N-100'][0]) / data['N-100'][0]\n",
    "\n",
    "lst_7.append(portfolio_g)\n",
    "\n",
    "if df['sum'][1] == 0:\n",
    "    print('Growth of Portfolio:', portfolio_g)\n",
    "    print('Growth of Market Index:', market_g)\n",
    "else:\n",
    "    print('Есть дробление акций')"
   ]
  },
  {
   "cell_type": "code",
   "execution_count": 22,
   "metadata": {
    "collapsed": true
   },
   "outputs": [
    {
     "name": "stdout",
     "output_type": "stream",
     "text": [
      "[*********************100%***********************]  1 of 1 completed\n",
      "[*********************100%***********************]  1 of 1 completed\n",
      "[*********************100%***********************]  1 of 1 completed\n",
      "[*********************100%***********************]  1 of 1 completed\n",
      "[*********************100%***********************]  1 of 1 completed\n"
     ]
    },
    {
     "name": "stderr",
     "output_type": "stream",
     "text": [
      "<ipython-input-22-3ba671c1b83c>:14: FutureWarning: Dropping of nuisance columns in DataFrame reductions (with 'numeric_only=None') is deprecated; in a future version this will raise TypeError.  Select only valid columns before calling the reduction.\n",
      "  data['sum'] = data.sum(axis=1).to_list()\n"
     ]
    },
    {
     "name": "stdout",
     "output_type": "stream",
     "text": [
      "[*********************100%***********************]  1 of 1 completed\n",
      "Growth of Portfolio: -0.10389829944625258\n",
      "Growth of Market Index: 0.021471588059834262\n"
     ]
    }
   ],
   "source": [
    "# 5 акций\n",
    "tickers_list = ['AGS.BR', \n",
    "                'URW.AS', \n",
    "                'GLE.PA',\n",
    "                'GFC.PA', \n",
    "                'KBC.BR']\n",
    "\n",
    "data = pd.DataFrame(columns=tickers_list)\n",
    "\n",
    "for ticker in tickers_list:\n",
    "    data[ticker] = yf.download(ticker,'2007-01-01','2008-01-01', interval='1mo')['Adj Close']\n",
    "\n",
    "data = data.reset_index()\n",
    "data['sum'] = data.sum(axis=1).to_list()\n",
    "\n",
    "df = pd.DataFrame(columns=tickers_list)\n",
    "for ticker in tickers_list:\n",
    "    div = sum(yf.Ticker(ticker).history(start='2007-01-01',end='2008-01-01').Dividends.to_list())\n",
    "    split = sum(yf.Ticker(ticker).history(start='2007-01-01',end='2008-01-01')['Stock Splits'].to_list())\n",
    "    df[ticker] = [div, split]\n",
    "df['sum'] = df.sum(axis=1).to_list()\n",
    "\n",
    "tickers_list = ['^N100']\n",
    "dt = pd.DataFrame(columns=tickers_list)\n",
    "for ticker in tickers_list:\n",
    "    dt[ticker] = yf.download(ticker,'2007-01-01','2008-01-01', interval='1mo')['Adj Close']\n",
    "    \n",
    "data['N-100'] = dt['^N100'].to_list()\n",
    "\n",
    "portfolio_g = (data['sum'][11] + df['sum'][0] - data['sum'][0]) / data['sum'][0]\n",
    "market_g = (data['N-100'][11] - data['N-100'][0]) / data['N-100'][0]\n",
    "\n",
    "lst_5.append(portfolio_g)\n",
    "\n",
    "if df['sum'][1] == 0:\n",
    "    print('Growth of Portfolio:', portfolio_g)\n",
    "    print('Growth of Market Index:', market_g)\n",
    "else:\n",
    "    print('Есть дробление акций')"
   ]
  },
  {
   "cell_type": "code",
   "execution_count": 23,
   "metadata": {
    "collapsed": true
   },
   "outputs": [
    {
     "name": "stdout",
     "output_type": "stream",
     "text": [
      "[*********************100%***********************]  1 of 1 completed\n",
      "[*********************100%***********************]  1 of 1 completed\n",
      "[*********************100%***********************]  1 of 1 completed\n"
     ]
    },
    {
     "name": "stderr",
     "output_type": "stream",
     "text": [
      "<ipython-input-23-ac8d3be1f114>:12: FutureWarning: Dropping of nuisance columns in DataFrame reductions (with 'numeric_only=None') is deprecated; in a future version this will raise TypeError.  Select only valid columns before calling the reduction.\n",
      "  data['sum'] = data.sum(axis=1).to_list()\n"
     ]
    },
    {
     "name": "stdout",
     "output_type": "stream",
     "text": [
      "[*********************100%***********************]  1 of 1 completed\n",
      "Growth of Portfolio: -0.15844824048961237\n",
      "Growth of Market Index: 0.021471588059834262\n"
     ]
    }
   ],
   "source": [
    "# 3 акции\n",
    "tickers_list = ['AGS.BR', \n",
    "                'URW.AS', \n",
    "                'GLE.PA']\n",
    "\n",
    "data = pd.DataFrame(columns=tickers_list)\n",
    "\n",
    "for ticker in tickers_list:\n",
    "    data[ticker] = yf.download(ticker,'2007-01-01','2008-01-01', interval='1mo')['Adj Close']\n",
    "\n",
    "data = data.reset_index()\n",
    "data['sum'] = data.sum(axis=1).to_list()\n",
    "\n",
    "df = pd.DataFrame(columns=tickers_list)\n",
    "for ticker in tickers_list:\n",
    "    div = sum(yf.Ticker(ticker).history(start='2007-01-01',end='2008-01-01').Dividends.to_list())\n",
    "    split = sum(yf.Ticker(ticker).history(start='2007-01-01',end='2008-01-01')['Stock Splits'].to_list())\n",
    "    df[ticker] = [div, split]\n",
    "df['sum'] = df.sum(axis=1).to_list()\n",
    "\n",
    "tickers_list = ['^N100']\n",
    "dt = pd.DataFrame(columns=tickers_list)\n",
    "for ticker in tickers_list:\n",
    "    dt[ticker] = yf.download(ticker,'2007-01-01','2008-01-01', interval='1mo')['Adj Close']\n",
    "    \n",
    "data['N-100'] = dt['^N100'].to_list()\n",
    "\n",
    "portfolio_g = (data['sum'][11] + df['sum'][0] - data['sum'][0]) / data['sum'][0]\n",
    "market_g = (data['N-100'][11] - data['N-100'][0]) / data['N-100'][0]\n",
    "\n",
    "lst_3.append(portfolio_g)\n",
    "\n",
    "if df['sum'][1] == 0:\n",
    "    print('Growth of Portfolio:', portfolio_g)\n",
    "    print('Growth of Market Index:', market_g)\n",
    "else:\n",
    "    print('Есть дробление акций')"
   ]
  },
  {
   "cell_type": "code",
   "execution_count": 24,
   "metadata": {
    "collapsed": true
   },
   "outputs": [
    {
     "name": "stdout",
     "output_type": "stream",
     "text": [
      "[*********************100%***********************]  1 of 1 completed\n"
     ]
    },
    {
     "name": "stderr",
     "output_type": "stream",
     "text": [
      "<ipython-input-24-f8cb5af3dd77>:10: FutureWarning: Dropping of nuisance columns in DataFrame reductions (with 'numeric_only=None') is deprecated; in a future version this will raise TypeError.  Select only valid columns before calling the reduction.\n",
      "  data['sum'] = data.sum(axis=1).to_list()\n"
     ]
    },
    {
     "name": "stdout",
     "output_type": "stream",
     "text": [
      "[*********************100%***********************]  1 of 1 completed\n",
      "Growth of Portfolio: -0.18502876649958677\n",
      "Growth of Market Index: 0.021471588059834262\n"
     ]
    }
   ],
   "source": [
    "# 1 акция\n",
    "tickers_list = ['AGS.BR']\n",
    "\n",
    "data = pd.DataFrame(columns=tickers_list)\n",
    "\n",
    "for ticker in tickers_list:\n",
    "    data[ticker] = yf.download(ticker,'2007-01-01','2008-01-01', interval='1mo')['Adj Close']\n",
    "\n",
    "data = data.reset_index()\n",
    "data['sum'] = data.sum(axis=1).to_list()\n",
    "\n",
    "df = pd.DataFrame(columns=tickers_list)\n",
    "for ticker in tickers_list:\n",
    "    div = sum(yf.Ticker(ticker).history(start='2007-01-01',end='2008-01-01').Dividends.to_list())\n",
    "    split = sum(yf.Ticker(ticker).history(start='2007-01-01',end='2008-01-01')['Stock Splits'].to_list())\n",
    "    df[ticker] = [div, split]\n",
    "df['sum'] = df.sum(axis=1).to_list()\n",
    "\n",
    "tickers_list = ['^N100']\n",
    "dt = pd.DataFrame(columns=tickers_list)\n",
    "for ticker in tickers_list:\n",
    "    dt[ticker] = yf.download(ticker,'2007-01-01','2008-01-01', interval='1mo')['Adj Close']\n",
    "    \n",
    "data['N-100'] = dt['^N100'].to_list()\n",
    "\n",
    "portfolio_g = (data['sum'][11] + df['sum'][0] - data['sum'][0]) / data['sum'][0]\n",
    "market_g = (data['N-100'][11] - data['N-100'][0]) / data['N-100'][0]\n",
    "\n",
    "lst_1.append(portfolio_g)\n",
    "\n",
    "if df['sum'][1] == 0:\n",
    "    print('Growth of Portfolio:', portfolio_g)\n",
    "    print('Growth of Market Index:', market_g)\n",
    "else:\n",
    "    print('Есть дробление акций')"
   ]
  },
  {
   "cell_type": "markdown",
   "metadata": {},
   "source": [
    "### Портфель на 2008 год\n",
    "_По данным за 2007_\n",
    "\n",
    "Акции:\n",
    "- AGEAS\n",
    "- UNIBAIL-RODAMCO-WE\n",
    "- GECINA\n",
    "- RENAULT\n",
    "- KBC\n",
    "- KERING\n",
    "- BNP PARIBAS\n",
    "- SOLVAY\n",
    "- ARCELORMITTAL SA\n",
    "- GBL"
   ]
  },
  {
   "cell_type": "code",
   "execution_count": 25,
   "metadata": {
    "collapsed": true
   },
   "outputs": [
    {
     "name": "stdout",
     "output_type": "stream",
     "text": [
      "[*********************100%***********************]  1 of 1 completed\n",
      "[*********************100%***********************]  1 of 1 completed\n",
      "[*********************100%***********************]  1 of 1 completed\n",
      "[*********************100%***********************]  1 of 1 completed\n",
      "[*********************100%***********************]  1 of 1 completed\n",
      "[*********************100%***********************]  1 of 1 completed\n",
      "[*********************100%***********************]  1 of 1 completed\n",
      "[*********************100%***********************]  1 of 1 completed\n",
      "[*********************100%***********************]  1 of 1 completed\n",
      "[*********************100%***********************]  1 of 1 completed\n"
     ]
    },
    {
     "name": "stderr",
     "output_type": "stream",
     "text": [
      "<ipython-input-25-63e10b44b26c>:19: FutureWarning: Dropping of nuisance columns in DataFrame reductions (with 'numeric_only=None') is deprecated; in a future version this will raise TypeError.  Select only valid columns before calling the reduction.\n",
      "  data['sum'] = data.sum(axis=1).to_list()\n"
     ]
    },
    {
     "name": "stdout",
     "output_type": "stream",
     "text": [
      "[*********************100%***********************]  1 of 1 completed\n",
      "Growth of Portfolio: -0.43904481819633523\n",
      "Growth of Market Index: -0.3696484535293455\n"
     ]
    }
   ],
   "source": [
    "# 10 акций\n",
    "tickers_list = ['AGS.BR', \n",
    "                'URW.AS', \n",
    "                'GFC.PA',\n",
    "                'RNO.PA',\n",
    "                'KBC.BR',\n",
    "                'KER.PA',\n",
    "                'BNP.PA',\n",
    "                'SOLB.BR',\n",
    "                'MT.AS',\n",
    "                'GBLB.BR']\n",
    "\n",
    "data = pd.DataFrame(columns=tickers_list)\n",
    "\n",
    "for ticker in tickers_list:\n",
    "    data[ticker] = yf.download(ticker,'2008-01-01','2009-01-01', interval='1mo')['Adj Close']\n",
    "\n",
    "data = data.reset_index()\n",
    "data['sum'] = data.sum(axis=1).to_list()\n",
    "\n",
    "df = pd.DataFrame(columns=tickers_list)\n",
    "for ticker in tickers_list:\n",
    "    div = sum(yf.Ticker(ticker).history(start='2008-01-01',end='2009-01-01').Dividends.to_list())\n",
    "    split = sum(yf.Ticker(ticker).history(start='2008-01-01',end='2009-01-01')['Stock Splits'].to_list())\n",
    "    df[ticker] = [div, split]\n",
    "df['sum'] = df.sum(axis=1).to_list()\n",
    "\n",
    "tickers_list = ['^N100']\n",
    "dt = pd.DataFrame(columns=tickers_list)\n",
    "for ticker in tickers_list:\n",
    "    dt[ticker] = yf.download(ticker,'2008-01-01','2009-01-01', interval='1mo')['Adj Close']\n",
    "    \n",
    "data['N-100'] = dt['^N100'].to_list()\n",
    "\n",
    "portfolio_g = (data['sum'][11] + df['sum'][0] - data['sum'][0]) / data['sum'][0]\n",
    "market_g = (data['N-100'][11] - data['N-100'][0]) / data['N-100'][0]\n",
    "\n",
    "lst_10.append(portfolio_g)\n",
    "market.append(market_g)\n",
    "\n",
    "if df['sum'][1] == 0:\n",
    "    print('Growth of Portfolio:', portfolio_g)\n",
    "    print('Growth of Market Index:', market_g)\n",
    "else:\n",
    "    print('Есть дробление акций')"
   ]
  },
  {
   "cell_type": "code",
   "execution_count": 26,
   "metadata": {
    "collapsed": true
   },
   "outputs": [
    {
     "name": "stdout",
     "output_type": "stream",
     "text": [
      "[*********************100%***********************]  1 of 1 completed\n",
      "[*********************100%***********************]  1 of 1 completed\n",
      "[*********************100%***********************]  1 of 1 completed\n",
      "[*********************100%***********************]  1 of 1 completed\n",
      "[*********************100%***********************]  1 of 1 completed\n",
      "[*********************100%***********************]  1 of 1 completed\n",
      "[*********************100%***********************]  1 of 1 completed\n"
     ]
    },
    {
     "name": "stderr",
     "output_type": "stream",
     "text": [
      "<ipython-input-26-b03475de2f83>:16: FutureWarning: Dropping of nuisance columns in DataFrame reductions (with 'numeric_only=None') is deprecated; in a future version this will raise TypeError.  Select only valid columns before calling the reduction.\n",
      "  data['sum'] = data.sum(axis=1).to_list()\n"
     ]
    },
    {
     "name": "stdout",
     "output_type": "stream",
     "text": [
      "[*********************100%***********************]  1 of 1 completed\n",
      "Growth of Portfolio: -0.465697909755634\n",
      "Growth of Market Index: -0.3696484535293455\n"
     ]
    }
   ],
   "source": [
    "# 7 акций\n",
    "tickers_list = ['AGS.BR', \n",
    "                'URW.AS', \n",
    "                'GFC.PA',\n",
    "                'RNO.PA',\n",
    "                'KBC.BR',\n",
    "                'KER.PA',\n",
    "                'BNP.PA']\n",
    "\n",
    "data = pd.DataFrame(columns=tickers_list)\n",
    "\n",
    "for ticker in tickers_list:\n",
    "    data[ticker] = yf.download(ticker,'2008-01-01','2009-01-01', interval='1mo')['Adj Close']\n",
    "\n",
    "data = data.reset_index()\n",
    "data['sum'] = data.sum(axis=1).to_list()\n",
    "\n",
    "df = pd.DataFrame(columns=tickers_list)\n",
    "for ticker in tickers_list:\n",
    "    div = sum(yf.Ticker(ticker).history(start='2008-01-01',end='2009-01-01').Dividends.to_list())\n",
    "    split = sum(yf.Ticker(ticker).history(start='2008-01-01',end='2009-01-01')['Stock Splits'].to_list())\n",
    "    df[ticker] = [div, split]\n",
    "df['sum'] = df.sum(axis=1).to_list()\n",
    "\n",
    "tickers_list = ['^N100']\n",
    "dt = pd.DataFrame(columns=tickers_list)\n",
    "for ticker in tickers_list:\n",
    "    dt[ticker] = yf.download(ticker,'2008-01-01','2009-01-01', interval='1mo')['Adj Close']\n",
    "    \n",
    "data['N-100'] = dt['^N100'].to_list()\n",
    "\n",
    "portfolio_g = (data['sum'][11] + df['sum'][0] - data['sum'][0]) / data['sum'][0]\n",
    "market_g = (data['N-100'][11] - data['N-100'][0]) / data['N-100'][0]\n",
    "\n",
    "lst_7.append(portfolio_g)\n",
    "\n",
    "if df['sum'][1] == 0:\n",
    "    print('Growth of Portfolio:', portfolio_g)\n",
    "    print('Growth of Market Index:', market_g)\n",
    "else:\n",
    "    print('Есть дробление акций')"
   ]
  },
  {
   "cell_type": "code",
   "execution_count": 27,
   "metadata": {
    "collapsed": true
   },
   "outputs": [
    {
     "name": "stdout",
     "output_type": "stream",
     "text": [
      "[*********************100%***********************]  1 of 1 completed\n",
      "[*********************100%***********************]  1 of 1 completed\n",
      "[*********************100%***********************]  1 of 1 completed\n",
      "[*********************100%***********************]  1 of 1 completed\n",
      "[*********************100%***********************]  1 of 1 completed\n"
     ]
    },
    {
     "name": "stderr",
     "output_type": "stream",
     "text": [
      "<ipython-input-27-e710910bed9d>:14: FutureWarning: Dropping of nuisance columns in DataFrame reductions (with 'numeric_only=None') is deprecated; in a future version this will raise TypeError.  Select only valid columns before calling the reduction.\n",
      "  data['sum'] = data.sum(axis=1).to_list()\n"
     ]
    },
    {
     "name": "stdout",
     "output_type": "stream",
     "text": [
      "[*********************100%***********************]  1 of 1 completed\n",
      "Growth of Portfolio: -0.49289113563117454\n",
      "Growth of Market Index: -0.3696484535293455\n"
     ]
    }
   ],
   "source": [
    "# 5 акций\n",
    "tickers_list = ['AGS.BR', \n",
    "                'URW.AS', \n",
    "                'GFC.PA',\n",
    "                'RNO.PA',\n",
    "                'KBC.BR']\n",
    "\n",
    "data = pd.DataFrame(columns=tickers_list)\n",
    "\n",
    "for ticker in tickers_list:\n",
    "    data[ticker] = yf.download(ticker,'2008-01-01','2009-01-01', interval='1mo')['Adj Close']\n",
    "\n",
    "data = data.reset_index()\n",
    "data['sum'] = data.sum(axis=1).to_list()\n",
    "\n",
    "df = pd.DataFrame(columns=tickers_list)\n",
    "for ticker in tickers_list:\n",
    "    div = sum(yf.Ticker(ticker).history(start='2008-01-01',end='2009-01-01').Dividends.to_list())\n",
    "    split = sum(yf.Ticker(ticker).history(start='2008-01-01',end='2009-01-01')['Stock Splits'].to_list())\n",
    "    df[ticker] = [div, split]\n",
    "df['sum'] = df.sum(axis=1).to_list()\n",
    "\n",
    "tickers_list = ['^N100']\n",
    "dt = pd.DataFrame(columns=tickers_list)\n",
    "for ticker in tickers_list:\n",
    "    dt[ticker] = yf.download(ticker,'2008-01-01','2009-01-01', interval='1mo')['Adj Close']\n",
    "    \n",
    "data['N-100'] = dt['^N100'].to_list()\n",
    "\n",
    "portfolio_g = (data['sum'][11] + df['sum'][0] - data['sum'][0]) / data['sum'][0]\n",
    "market_g = (data['N-100'][11] - data['N-100'][0]) / data['N-100'][0]\n",
    "\n",
    "lst_5.append(portfolio_g)\n",
    "\n",
    "if df['sum'][1] == 0:\n",
    "    print('Growth of Portfolio:', portfolio_g)\n",
    "    print('Growth of Market Index:', market_g)\n",
    "else:\n",
    "    print('Есть дробление акций')"
   ]
  },
  {
   "cell_type": "code",
   "execution_count": 28,
   "metadata": {
    "collapsed": true
   },
   "outputs": [
    {
     "name": "stdout",
     "output_type": "stream",
     "text": [
      "[*********************100%***********************]  1 of 1 completed\n",
      "[*********************100%***********************]  1 of 1 completed\n",
      "[*********************100%***********************]  1 of 1 completed\n"
     ]
    },
    {
     "name": "stderr",
     "output_type": "stream",
     "text": [
      "<ipython-input-28-585cbc2af202>:12: FutureWarning: Dropping of nuisance columns in DataFrame reductions (with 'numeric_only=None') is deprecated; in a future version this will raise TypeError.  Select only valid columns before calling the reduction.\n",
      "  data['sum'] = data.sum(axis=1).to_list()\n"
     ]
    },
    {
     "name": "stdout",
     "output_type": "stream",
     "text": [
      "[*********************100%***********************]  1 of 1 completed\n",
      "Growth of Portfolio: -0.4306644792284587\n",
      "Growth of Market Index: -0.3696484535293455\n"
     ]
    }
   ],
   "source": [
    "# 3 акции\n",
    "tickers_list = ['AGS.BR', \n",
    "                'URW.AS', \n",
    "                'GFC.PA']\n",
    "\n",
    "data = pd.DataFrame(columns=tickers_list)\n",
    "\n",
    "for ticker in tickers_list:\n",
    "    data[ticker] = yf.download(ticker,'2008-01-01','2009-01-01', interval='1mo')['Adj Close']\n",
    "\n",
    "data = data.reset_index()\n",
    "data['sum'] = data.sum(axis=1).to_list()\n",
    "\n",
    "df = pd.DataFrame(columns=tickers_list)\n",
    "for ticker in tickers_list:\n",
    "    div = sum(yf.Ticker(ticker).history(start='2008-01-01',end='2009-01-01').Dividends.to_list())\n",
    "    split = sum(yf.Ticker(ticker).history(start='2008-01-01',end='2009-01-01')['Stock Splits'].to_list())\n",
    "    df[ticker] = [div, split]\n",
    "df['sum'] = df.sum(axis=1).to_list()\n",
    "\n",
    "tickers_list = ['^N100']\n",
    "dt = pd.DataFrame(columns=tickers_list)\n",
    "for ticker in tickers_list:\n",
    "    dt[ticker] = yf.download(ticker,'2008-01-01','2009-01-01', interval='1mo')['Adj Close']\n",
    "    \n",
    "data['N-100'] = dt['^N100'].to_list()\n",
    "\n",
    "portfolio_g = (data['sum'][11] + df['sum'][0] - data['sum'][0]) / data['sum'][0]\n",
    "market_g = (data['N-100'][11] - data['N-100'][0]) / data['N-100'][0]\n",
    "\n",
    "lst_3.append(portfolio_g)\n",
    "\n",
    "if df['sum'][1] == 0:\n",
    "    print('Growth of Portfolio:', portfolio_g)\n",
    "    print('Growth of Market Index:', market_g)\n",
    "else:\n",
    "    print('Есть дробление акций')"
   ]
  },
  {
   "cell_type": "code",
   "execution_count": 29,
   "metadata": {
    "collapsed": true
   },
   "outputs": [
    {
     "name": "stdout",
     "output_type": "stream",
     "text": [
      "[*********************100%***********************]  1 of 1 completed\n"
     ]
    },
    {
     "name": "stderr",
     "output_type": "stream",
     "text": [
      "<ipython-input-29-51229c8f6ccc>:10: FutureWarning: Dropping of nuisance columns in DataFrame reductions (with 'numeric_only=None') is deprecated; in a future version this will raise TypeError.  Select only valid columns before calling the reduction.\n",
      "  data['sum'] = data.sum(axis=1).to_list()\n"
     ]
    },
    {
     "name": "stdout",
     "output_type": "stream",
     "text": [
      "[*********************100%***********************]  1 of 1 completed\n",
      "Growth of Portfolio: -0.8461880053224023\n",
      "Growth of Market Index: -0.3696484535293455\n"
     ]
    }
   ],
   "source": [
    "# 1 акция\n",
    "tickers_list = ['AGS.BR']\n",
    "\n",
    "data = pd.DataFrame(columns=tickers_list)\n",
    "\n",
    "for ticker in tickers_list:\n",
    "    data[ticker] = yf.download(ticker,'2008-01-01','2009-01-01', interval='1mo')['Adj Close']\n",
    "\n",
    "data = data.reset_index()\n",
    "data['sum'] = data.sum(axis=1).to_list()\n",
    "\n",
    "df = pd.DataFrame(columns=tickers_list)\n",
    "for ticker in tickers_list:\n",
    "    div = sum(yf.Ticker(ticker).history(start='2008-01-01',end='2009-01-01').Dividends.to_list())\n",
    "    split = sum(yf.Ticker(ticker).history(start='2008-01-01',end='2009-01-01')['Stock Splits'].to_list())\n",
    "    df[ticker] = [div, split]\n",
    "df['sum'] = df.sum(axis=1).to_list()\n",
    "\n",
    "tickers_list = ['^N100']\n",
    "dt = pd.DataFrame(columns=tickers_list)\n",
    "for ticker in tickers_list:\n",
    "    dt[ticker] = yf.download(ticker,'2008-01-01','2009-01-01', interval='1mo')['Adj Close']\n",
    "    \n",
    "data['N-100'] = dt['^N100'].to_list()\n",
    "\n",
    "portfolio_g = (data['sum'][11] + df['sum'][0] - data['sum'][0]) / data['sum'][0]\n",
    "market_g = (data['N-100'][11] - data['N-100'][0]) / data['N-100'][0]\n",
    "\n",
    "lst_1.append(portfolio_g)\n",
    "\n",
    "if df['sum'][1] == 0:\n",
    "    print('Growth of Portfolio:', portfolio_g)\n",
    "    print('Growth of Market Index:', market_g)\n",
    "else:\n",
    "    print('Есть дробление акций')"
   ]
  },
  {
   "cell_type": "markdown",
   "metadata": {},
   "source": [
    "### Портфель на 2009 год\n",
    "_По данным за 2008_\n",
    "\n",
    "- UNIBAIL-RODAMCO-WE\n",
    "- GECINA\n",
    "- KERING\n",
    "- SOLVAY\n",
    "- ARCELORMITTAL SA\n",
    "- GBL\n",
    "- TOTALENERGIES\n",
    "- SANOFI\n",
    "- AKZO NOBEL\n",
    "- SHNEIDER ELECTRIC"
   ]
  },
  {
   "cell_type": "code",
   "execution_count": 30,
   "metadata": {
    "collapsed": true
   },
   "outputs": [
    {
     "name": "stdout",
     "output_type": "stream",
     "text": [
      "[*********************100%***********************]  1 of 1 completed\n",
      "[*********************100%***********************]  1 of 1 completed\n",
      "[*********************100%***********************]  1 of 1 completed\n",
      "[*********************100%***********************]  1 of 1 completed\n",
      "[*********************100%***********************]  1 of 1 completed\n",
      "[*********************100%***********************]  1 of 1 completed\n",
      "[*********************100%***********************]  1 of 1 completed\n",
      "[*********************100%***********************]  1 of 1 completed\n",
      "[*********************100%***********************]  1 of 1 completed\n",
      "[*********************100%***********************]  1 of 1 completed\n"
     ]
    },
    {
     "name": "stderr",
     "output_type": "stream",
     "text": [
      "<ipython-input-30-de75dd80ea3c>:19: FutureWarning: Dropping of nuisance columns in DataFrame reductions (with 'numeric_only=None') is deprecated; in a future version this will raise TypeError.  Select only valid columns before calling the reduction.\n",
      "  data['sum'] = data.sum(axis=1).to_list()\n"
     ]
    },
    {
     "name": "stdout",
     "output_type": "stream",
     "text": [
      "[*********************100%***********************]  1 of 1 completed\n",
      "Growth of Portfolio: 0.7021870887366554\n",
      "Growth of Market Index: 0.3179900127708061\n"
     ]
    }
   ],
   "source": [
    "# 10 акций\n",
    "tickers_list = ['URW.AS', \n",
    "                'GFC.PA',\n",
    "                'KER.PA',\n",
    "                'SOLB.BR',\n",
    "                'MT.AS',\n",
    "                'GBLB.BR',\n",
    "                'TTE.PA',\n",
    "                'SAN.PA',\n",
    "                'AKZA.AS',\n",
    "                'SU.PA']\n",
    "\n",
    "data = pd.DataFrame(columns=tickers_list)\n",
    "\n",
    "for ticker in tickers_list:\n",
    "    data[ticker] = yf.download(ticker,'2009-01-01','2010-01-01', interval='1mo')['Adj Close']\n",
    "\n",
    "data = data.reset_index()\n",
    "data['sum'] = data.sum(axis=1).to_list()\n",
    "\n",
    "df = pd.DataFrame(columns=tickers_list)\n",
    "for ticker in tickers_list:\n",
    "    div = sum(yf.Ticker(ticker).history(start='2009-01-01',end='2010-01-01').Dividends.to_list())\n",
    "    split = sum(yf.Ticker(ticker).history(start='2009-01-01',end='2010-01-01')['Stock Splits'].to_list())\n",
    "    df[ticker] = [div, split]\n",
    "df['sum'] = df.sum(axis=1).to_list()\n",
    "\n",
    "tickers_list = ['^N100']\n",
    "dt = pd.DataFrame(columns=tickers_list)\n",
    "for ticker in tickers_list:\n",
    "    dt[ticker] = yf.download(ticker,'2009-01-01','2010-01-01', interval='1mo')['Adj Close']\n",
    "    \n",
    "data['N-100'] = dt['^N100'].to_list()\n",
    "\n",
    "portfolio_g = (data['sum'][11] + df['sum'][0] - data['sum'][0]) / data['sum'][0]\n",
    "market_g = (data['N-100'][11] - data['N-100'][0]) / data['N-100'][0]\n",
    "\n",
    "lst_10.append(portfolio_g)\n",
    "market.append(market_g)\n",
    "\n",
    "if df['sum'][1] == 0:\n",
    "    print('Growth of Portfolio:', portfolio_g)\n",
    "    print('Growth of Market Index:', market_g)\n",
    "else:\n",
    "    print('Есть дробление акций')"
   ]
  },
  {
   "cell_type": "code",
   "execution_count": 31,
   "metadata": {
    "collapsed": true
   },
   "outputs": [
    {
     "name": "stdout",
     "output_type": "stream",
     "text": [
      "[*********************100%***********************]  1 of 1 completed\n",
      "[*********************100%***********************]  1 of 1 completed\n",
      "[*********************100%***********************]  1 of 1 completed\n",
      "[*********************100%***********************]  1 of 1 completed\n",
      "[*********************100%***********************]  1 of 1 completed\n",
      "[*********************100%***********************]  1 of 1 completed\n",
      "[*********************100%***********************]  1 of 1 completed\n"
     ]
    },
    {
     "name": "stderr",
     "output_type": "stream",
     "text": [
      "<ipython-input-31-4690973939f6>:16: FutureWarning: Dropping of nuisance columns in DataFrame reductions (with 'numeric_only=None') is deprecated; in a future version this will raise TypeError.  Select only valid columns before calling the reduction.\n",
      "  data['sum'] = data.sum(axis=1).to_list()\n"
     ]
    },
    {
     "name": "stdout",
     "output_type": "stream",
     "text": [
      "[*********************100%***********************]  1 of 1 completed\n",
      "Growth of Portfolio: 0.712847951443201\n",
      "Growth of Market Index: 0.3179900127708061\n"
     ]
    }
   ],
   "source": [
    "# 7 акций\n",
    "tickers_list = ['URW.AS', \n",
    "                'GFC.PA',\n",
    "                'KER.PA',\n",
    "                'SOLB.BR',\n",
    "                'MT.AS',\n",
    "                'GBLB.BR',\n",
    "                'TTE.PA']\n",
    "\n",
    "data = pd.DataFrame(columns=tickers_list)\n",
    "\n",
    "for ticker in tickers_list:\n",
    "    data[ticker] = yf.download(ticker,'2009-01-01','2010-01-01', interval='1mo')['Adj Close']\n",
    "\n",
    "data = data.reset_index()\n",
    "data['sum'] = data.sum(axis=1).to_list()\n",
    "\n",
    "df = pd.DataFrame(columns=tickers_list)\n",
    "for ticker in tickers_list:\n",
    "    div = sum(yf.Ticker(ticker).history(start='2009-01-01',end='2010-01-01').Dividends.to_list())\n",
    "    split = sum(yf.Ticker(ticker).history(start='2009-01-01',end='2010-01-01')['Stock Splits'].to_list())\n",
    "    df[ticker] = [div, split]\n",
    "df['sum'] = df.sum(axis=1).to_list()\n",
    "\n",
    "tickers_list = ['^N100']\n",
    "dt = pd.DataFrame(columns=tickers_list)\n",
    "for ticker in tickers_list:\n",
    "    dt[ticker] = yf.download(ticker,'2009-01-01','2010-01-01', interval='1mo')['Adj Close']\n",
    "    \n",
    "data['N-100'] = dt['^N100'].to_list()\n",
    "\n",
    "portfolio_g = (data['sum'][11] + df['sum'][0] - data['sum'][0]) / data['sum'][0]\n",
    "market_g = (data['N-100'][11] - data['N-100'][0]) / data['N-100'][0]\n",
    "\n",
    "lst_7.append(portfolio_g)\n",
    "\n",
    "if df['sum'][1] == 0:\n",
    "    print('Growth of Portfolio:', portfolio_g)\n",
    "    print('Growth of Market Index:', market_g)\n",
    "else:\n",
    "    print('Есть дробление акций')"
   ]
  },
  {
   "cell_type": "code",
   "execution_count": 32,
   "metadata": {
    "collapsed": true
   },
   "outputs": [
    {
     "name": "stdout",
     "output_type": "stream",
     "text": [
      "[*********************100%***********************]  1 of 1 completed\n",
      "[*********************100%***********************]  1 of 1 completed\n",
      "[*********************100%***********************]  1 of 1 completed\n",
      "[*********************100%***********************]  1 of 1 completed\n",
      "[*********************100%***********************]  1 of 1 completed\n"
     ]
    },
    {
     "name": "stderr",
     "output_type": "stream",
     "text": [
      "<ipython-input-32-8b7324d0ce1a>:14: FutureWarning: Dropping of nuisance columns in DataFrame reductions (with 'numeric_only=None') is deprecated; in a future version this will raise TypeError.  Select only valid columns before calling the reduction.\n",
      "  data['sum'] = data.sum(axis=1).to_list()\n"
     ]
    },
    {
     "name": "stdout",
     "output_type": "stream",
     "text": [
      "[*********************100%***********************]  1 of 1 completed\n",
      "Growth of Portfolio: 0.8514758210091625\n",
      "Growth of Market Index: 0.3179900127708061\n"
     ]
    }
   ],
   "source": [
    "# 5 акций\n",
    "tickers_list = ['URW.AS', \n",
    "                'GFC.PA',\n",
    "                'KER.PA',\n",
    "                'SOLB.BR',\n",
    "                'MT.AS']\n",
    "\n",
    "data = pd.DataFrame(columns=tickers_list)\n",
    "\n",
    "for ticker in tickers_list:\n",
    "    data[ticker] = yf.download(ticker,'2009-01-01','2010-01-01', interval='1mo')['Adj Close']\n",
    "\n",
    "data = data.reset_index()\n",
    "data['sum'] = data.sum(axis=1).to_list()\n",
    "\n",
    "df = pd.DataFrame(columns=tickers_list)\n",
    "for ticker in tickers_list:\n",
    "    div = sum(yf.Ticker(ticker).history(start='2009-01-01',end='2010-01-01').Dividends.to_list())\n",
    "    split = sum(yf.Ticker(ticker).history(start='2009-01-01',end='2010-01-01')['Stock Splits'].to_list())\n",
    "    df[ticker] = [div, split]\n",
    "df['sum'] = df.sum(axis=1).to_list()\n",
    "\n",
    "tickers_list = ['^N100']\n",
    "dt = pd.DataFrame(columns=tickers_list)\n",
    "for ticker in tickers_list:\n",
    "    dt[ticker] = yf.download(ticker,'2009-01-01','2010-01-01', interval='1mo')['Adj Close']\n",
    "    \n",
    "data['N-100'] = dt['^N100'].to_list()\n",
    "\n",
    "portfolio_g = (data['sum'][11] + df['sum'][0] - data['sum'][0]) / data['sum'][0]\n",
    "market_g = (data['N-100'][11] - data['N-100'][0]) / data['N-100'][0]\n",
    "\n",
    "lst_5.append(portfolio_g)\n",
    "\n",
    "if df['sum'][1] == 0:\n",
    "    print('Growth of Portfolio:', portfolio_g)\n",
    "    print('Growth of Market Index:', market_g)\n",
    "else:\n",
    "    print('Есть дробление акций')"
   ]
  },
  {
   "cell_type": "code",
   "execution_count": 33,
   "metadata": {
    "collapsed": true
   },
   "outputs": [
    {
     "name": "stdout",
     "output_type": "stream",
     "text": [
      "[*********************100%***********************]  1 of 1 completed\n",
      "[*********************100%***********************]  1 of 1 completed\n",
      "[*********************100%***********************]  1 of 1 completed\n"
     ]
    },
    {
     "name": "stderr",
     "output_type": "stream",
     "text": [
      "<ipython-input-33-c860e46e2fec>:12: FutureWarning: Dropping of nuisance columns in DataFrame reductions (with 'numeric_only=None') is deprecated; in a future version this will raise TypeError.  Select only valid columns before calling the reduction.\n",
      "  data['sum'] = data.sum(axis=1).to_list()\n"
     ]
    },
    {
     "name": "stdout",
     "output_type": "stream",
     "text": [
      "[*********************100%***********************]  1 of 1 completed\n",
      "Growth of Portfolio: 0.9249076940435201\n",
      "Growth of Market Index: 0.3179900127708061\n"
     ]
    }
   ],
   "source": [
    "# 3 акции\n",
    "tickers_list = ['URW.AS', \n",
    "                'GFC.PA',\n",
    "                'KER.PA']\n",
    "\n",
    "data = pd.DataFrame(columns=tickers_list)\n",
    "\n",
    "for ticker in tickers_list:\n",
    "    data[ticker] = yf.download(ticker,'2009-01-01','2010-01-01', interval='1mo')['Adj Close']\n",
    "\n",
    "data = data.reset_index()\n",
    "data['sum'] = data.sum(axis=1).to_list()\n",
    "\n",
    "df = pd.DataFrame(columns=tickers_list)\n",
    "for ticker in tickers_list:\n",
    "    div = sum(yf.Ticker(ticker).history(start='2009-01-01',end='2010-01-01').Dividends.to_list())\n",
    "    split = sum(yf.Ticker(ticker).history(start='2009-01-01',end='2010-01-01')['Stock Splits'].to_list())\n",
    "    df[ticker] = [div, split]\n",
    "df['sum'] = df.sum(axis=1).to_list()\n",
    "\n",
    "tickers_list = ['^N100']\n",
    "dt = pd.DataFrame(columns=tickers_list)\n",
    "for ticker in tickers_list:\n",
    "    dt[ticker] = yf.download(ticker,'2009-01-01','2010-01-01', interval='1mo')['Adj Close']\n",
    "    \n",
    "data['N-100'] = dt['^N100'].to_list()\n",
    "\n",
    "portfolio_g = (data['sum'][11] + df['sum'][0] - data['sum'][0]) / data['sum'][0]\n",
    "market_g = (data['N-100'][11] - data['N-100'][0]) / data['N-100'][0]\n",
    "\n",
    "lst_3.append(portfolio_g)\n",
    "\n",
    "if df['sum'][1] == 0:\n",
    "    print('Growth of Portfolio:', portfolio_g)\n",
    "    print('Growth of Market Index:', market_g)\n",
    "else:\n",
    "    print('Есть дробление акций')"
   ]
  },
  {
   "cell_type": "code",
   "execution_count": 34,
   "metadata": {
    "collapsed": true
   },
   "outputs": [
    {
     "name": "stdout",
     "output_type": "stream",
     "text": [
      "[*********************100%***********************]  1 of 1 completed\n"
     ]
    },
    {
     "name": "stderr",
     "output_type": "stream",
     "text": [
      "<ipython-input-34-6a9b0ba42810>:10: FutureWarning: Dropping of nuisance columns in DataFrame reductions (with 'numeric_only=None') is deprecated; in a future version this will raise TypeError.  Select only valid columns before calling the reduction.\n",
      "  data['sum'] = data.sum(axis=1).to_list()\n"
     ]
    },
    {
     "name": "stdout",
     "output_type": "stream",
     "text": [
      "[*********************100%***********************]  1 of 1 completed\n",
      "Growth of Portfolio: 0.6598844537434513\n",
      "Growth of Market Index: 0.3179900127708061\n"
     ]
    }
   ],
   "source": [
    "# 1 акция\n",
    "tickers_list = ['URW.AS']\n",
    "\n",
    "data = pd.DataFrame(columns=tickers_list)\n",
    "\n",
    "for ticker in tickers_list:\n",
    "    data[ticker] = yf.download(ticker,'2009-01-01','2010-01-01', interval='1mo')['Adj Close']\n",
    "\n",
    "data = data.reset_index()\n",
    "data['sum'] = data.sum(axis=1).to_list()\n",
    "\n",
    "df = pd.DataFrame(columns=tickers_list)\n",
    "for ticker in tickers_list:\n",
    "    div = sum(yf.Ticker(ticker).history(start='2009-01-01',end='2010-01-01').Dividends.to_list())\n",
    "    split = sum(yf.Ticker(ticker).history(start='2009-01-01',end='2010-01-01')['Stock Splits'].to_list())\n",
    "    df[ticker] = [div, split]\n",
    "df['sum'] = df.sum(axis=1).to_list()\n",
    "\n",
    "tickers_list = ['^N100']\n",
    "dt = pd.DataFrame(columns=tickers_list)\n",
    "for ticker in tickers_list:\n",
    "    dt[ticker] = yf.download(ticker,'2009-01-01','2010-01-01', interval='1mo')['Adj Close']\n",
    "    \n",
    "data['N-100'] = dt['^N100'].to_list()\n",
    "\n",
    "portfolio_g = (data['sum'][11] + df['sum'][0] - data['sum'][0]) / data['sum'][0]\n",
    "market_g = (data['N-100'][11] - data['N-100'][0]) / data['N-100'][0]\n",
    "\n",
    "lst_1.append(portfolio_g)\n",
    "\n",
    "if df['sum'][1] == 0:\n",
    "    print('Growth of Portfolio:', portfolio_g)\n",
    "    print('Growth of Market Index:', market_g)\n",
    "else:\n",
    "    print('Есть дробление акций')"
   ]
  },
  {
   "cell_type": "markdown",
   "metadata": {},
   "source": [
    "## Портфель на 2010 год\n",
    "_По данным за 2009_\n",
    "\n",
    "- UNIBAIL-RODAMCO-WE\n",
    "- GECINA\n",
    "- KERING\n",
    "- SOLVAY\n",
    "- GBL\n",
    "- SANOFI\n",
    "- TOTALENERGIES\n",
    "- BNP PARIBAS\n",
    "- LVMH\n",
    "- VINCI"
   ]
  },
  {
   "cell_type": "code",
   "execution_count": 35,
   "metadata": {
    "collapsed": true
   },
   "outputs": [
    {
     "name": "stdout",
     "output_type": "stream",
     "text": [
      "[*********************100%***********************]  1 of 1 completed\n",
      "[*********************100%***********************]  1 of 1 completed\n",
      "[*********************100%***********************]  1 of 1 completed\n",
      "[*********************100%***********************]  1 of 1 completed\n",
      "[*********************100%***********************]  1 of 1 completed\n",
      "[*********************100%***********************]  1 of 1 completed\n",
      "[*********************100%***********************]  1 of 1 completed\n",
      "[*********************100%***********************]  1 of 1 completed\n",
      "[*********************100%***********************]  1 of 1 completed\n",
      "[*********************100%***********************]  1 of 1 completed\n"
     ]
    },
    {
     "name": "stderr",
     "output_type": "stream",
     "text": [
      "<ipython-input-35-49fe3c8de328>:19: FutureWarning: Dropping of nuisance columns in DataFrame reductions (with 'numeric_only=None') is deprecated; in a future version this will raise TypeError.  Select only valid columns before calling the reduction.\n",
      "  data['sum'] = data.sum(axis=1).to_list()\n"
     ]
    },
    {
     "name": "stdout",
     "output_type": "stream",
     "text": [
      "[*********************100%***********************]  1 of 1 completed\n",
      "Growth of Portfolio: 0.32526256450930013\n",
      "Growth of Market Index: 0.048445821202046484\n"
     ]
    }
   ],
   "source": [
    "# 10 акций\n",
    "tickers_list = ['URW.AS', \n",
    "                'GFC.PA',\n",
    "                'KER.PA',\n",
    "                'SOLB.BR',\n",
    "                'GBLB.BR',\n",
    "                'SAN.PA',\n",
    "                'TTE.PA',\n",
    "                'BNP.PA',\n",
    "                'MC.PA',\n",
    "                'DG.PA']\n",
    "\n",
    "data = pd.DataFrame(columns=tickers_list)\n",
    "\n",
    "for ticker in tickers_list:\n",
    "    data[ticker] = yf.download(ticker,'2010-01-01','2011-01-01', interval='1mo')['Adj Close']\n",
    "\n",
    "data = data.reset_index()\n",
    "data['sum'] = data.sum(axis=1).to_list()\n",
    "\n",
    "df = pd.DataFrame(columns=tickers_list)\n",
    "for ticker in tickers_list:\n",
    "    div = sum(yf.Ticker(ticker).history(start='2010-01-01',end='2011-01-01').Dividends.to_list())\n",
    "    split = sum(yf.Ticker(ticker).history(start='2010-01-01',end='2011-01-01')['Stock Splits'].to_list())\n",
    "    df[ticker] = [div, split]\n",
    "df['sum'] = df.sum(axis=1).to_list()\n",
    "\n",
    "tickers_list = ['^N100']\n",
    "dt = pd.DataFrame(columns=tickers_list)\n",
    "for ticker in tickers_list:\n",
    "    dt[ticker] = yf.download(ticker,'2010-01-01','2011-01-01', interval='1mo')['Adj Close']\n",
    "    \n",
    "data['N-100'] = dt['^N100'].to_list()\n",
    "\n",
    "portfolio_g = (data['sum'][11] + df['sum'][0] - data['sum'][0]) / data['sum'][0]\n",
    "market_g = (data['N-100'][11] - data['N-100'][0]) / data['N-100'][0]\n",
    "\n",
    "lst_10.append(portfolio_g)\n",
    "market.append(market_g)\n",
    "\n",
    "if df['sum'][1] == 0:\n",
    "    print('Growth of Portfolio:', portfolio_g)\n",
    "    print('Growth of Market Index:', market_g)\n",
    "else:\n",
    "    print('Есть дробление акций')"
   ]
  },
  {
   "cell_type": "code",
   "execution_count": 36,
   "metadata": {
    "collapsed": true
   },
   "outputs": [
    {
     "name": "stdout",
     "output_type": "stream",
     "text": [
      "[*********************100%***********************]  1 of 1 completed\n",
      "[*********************100%***********************]  1 of 1 completed\n",
      "[*********************100%***********************]  1 of 1 completed\n",
      "[*********************100%***********************]  1 of 1 completed\n",
      "[*********************100%***********************]  1 of 1 completed\n",
      "[*********************100%***********************]  1 of 1 completed\n",
      "[*********************100%***********************]  1 of 1 completed\n"
     ]
    },
    {
     "name": "stderr",
     "output_type": "stream",
     "text": [
      "<ipython-input-36-f822bdcfc83c>:16: FutureWarning: Dropping of nuisance columns in DataFrame reductions (with 'numeric_only=None') is deprecated; in a future version this will raise TypeError.  Select only valid columns before calling the reduction.\n",
      "  data['sum'] = data.sum(axis=1).to_list()\n"
     ]
    },
    {
     "name": "stdout",
     "output_type": "stream",
     "text": [
      "[*********************100%***********************]  1 of 1 completed\n",
      "Growth of Portfolio: 0.3063605455435249\n",
      "Growth of Market Index: 0.048445821202046484\n"
     ]
    }
   ],
   "source": [
    "# 7 акций\n",
    "tickers_list = ['URW.AS', \n",
    "                'GFC.PA',\n",
    "                'KER.PA',\n",
    "                'SOLB.BR',\n",
    "                'GBLB.BR',\n",
    "                'SAN.PA',\n",
    "                'TTE.PA']\n",
    "\n",
    "data = pd.DataFrame(columns=tickers_list)\n",
    "\n",
    "for ticker in tickers_list:\n",
    "    data[ticker] = yf.download(ticker,'2010-01-01','2011-01-01', interval='1mo')['Adj Close']\n",
    "\n",
    "data = data.reset_index()\n",
    "data['sum'] = data.sum(axis=1).to_list()\n",
    "\n",
    "df = pd.DataFrame(columns=tickers_list)\n",
    "for ticker in tickers_list:\n",
    "    div = sum(yf.Ticker(ticker).history(start='2010-01-01',end='2011-01-01').Dividends.to_list())\n",
    "    split = sum(yf.Ticker(ticker).history(start='2010-01-01',end='2011-01-01')['Stock Splits'].to_list())\n",
    "    df[ticker] = [div, split]\n",
    "df['sum'] = df.sum(axis=1).to_list()\n",
    "\n",
    "tickers_list = ['^N100']\n",
    "dt = pd.DataFrame(columns=tickers_list)\n",
    "for ticker in tickers_list:\n",
    "    dt[ticker] = yf.download(ticker,'2010-01-01','2011-01-01', interval='1mo')['Adj Close']\n",
    "    \n",
    "data['N-100'] = dt['^N100'].to_list()\n",
    "\n",
    "portfolio_g = (data['sum'][11] + df['sum'][0] - data['sum'][0]) / data['sum'][0]\n",
    "market_g = (data['N-100'][11] - data['N-100'][0]) / data['N-100'][0]\n",
    "\n",
    "lst_7.append(portfolio_g)\n",
    "\n",
    "if df['sum'][1] == 0:\n",
    "    print('Growth of Portfolio:', portfolio_g)\n",
    "    print('Growth of Market Index:', market_g)\n",
    "else:\n",
    "    print('Есть дробление акций')"
   ]
  },
  {
   "cell_type": "code",
   "execution_count": 37,
   "metadata": {
    "collapsed": true
   },
   "outputs": [
    {
     "name": "stdout",
     "output_type": "stream",
     "text": [
      "[*********************100%***********************]  1 of 1 completed\n",
      "[*********************100%***********************]  1 of 1 completed\n",
      "[*********************100%***********************]  1 of 1 completed\n",
      "[*********************100%***********************]  1 of 1 completed\n",
      "[*********************100%***********************]  1 of 1 completed\n"
     ]
    },
    {
     "name": "stderr",
     "output_type": "stream",
     "text": [
      "<ipython-input-37-388352bd202c>:14: FutureWarning: Dropping of nuisance columns in DataFrame reductions (with 'numeric_only=None') is deprecated; in a future version this will raise TypeError.  Select only valid columns before calling the reduction.\n",
      "  data['sum'] = data.sum(axis=1).to_list()\n"
     ]
    },
    {
     "name": "stdout",
     "output_type": "stream",
     "text": [
      "[*********************100%***********************]  1 of 1 completed\n",
      "Growth of Portfolio: 0.3583126261259264\n",
      "Growth of Market Index: 0.048445821202046484\n"
     ]
    }
   ],
   "source": [
    "# 5 акций\n",
    "tickers_list = ['URW.AS', \n",
    "                'GFC.PA',\n",
    "                'KER.PA',\n",
    "                'SOLB.BR',\n",
    "                'GBLB.BR']\n",
    "\n",
    "data = pd.DataFrame(columns=tickers_list)\n",
    "\n",
    "for ticker in tickers_list:\n",
    "    data[ticker] = yf.download(ticker,'2010-01-01','2011-01-01', interval='1mo')['Adj Close']\n",
    "\n",
    "data = data.reset_index()\n",
    "data['sum'] = data.sum(axis=1).to_list()\n",
    "\n",
    "df = pd.DataFrame(columns=tickers_list)\n",
    "for ticker in tickers_list:\n",
    "    div = sum(yf.Ticker(ticker).history(start='2010-01-01',end='2011-01-01').Dividends.to_list())\n",
    "    split = sum(yf.Ticker(ticker).history(start='2010-01-01',end='2011-01-01')['Stock Splits'].to_list())\n",
    "    df[ticker] = [div, split]\n",
    "df['sum'] = df.sum(axis=1).to_list()\n",
    "\n",
    "tickers_list = ['^N100']\n",
    "dt = pd.DataFrame(columns=tickers_list)\n",
    "for ticker in tickers_list:\n",
    "    dt[ticker] = yf.download(ticker,'2010-01-01','2011-01-01', interval='1mo')['Adj Close']\n",
    "    \n",
    "data['N-100'] = dt['^N100'].to_list()\n",
    "\n",
    "portfolio_g = (data['sum'][11] + df['sum'][0] - data['sum'][0]) / data['sum'][0]\n",
    "market_g = (data['N-100'][11] - data['N-100'][0]) / data['N-100'][0]\n",
    "\n",
    "lst_5.append(portfolio_g)\n",
    "\n",
    "if df['sum'][1] == 0:\n",
    "    print('Growth of Portfolio:', portfolio_g)\n",
    "    print('Growth of Market Index:', market_g)\n",
    "else:\n",
    "    print('Есть дробление акций')"
   ]
  },
  {
   "cell_type": "code",
   "execution_count": 38,
   "metadata": {
    "collapsed": true
   },
   "outputs": [
    {
     "name": "stdout",
     "output_type": "stream",
     "text": [
      "[*********************100%***********************]  1 of 1 completed\n",
      "[*********************100%***********************]  1 of 1 completed\n",
      "[*********************100%***********************]  1 of 1 completed\n"
     ]
    },
    {
     "name": "stderr",
     "output_type": "stream",
     "text": [
      "<ipython-input-38-2cf32a452a9d>:12: FutureWarning: Dropping of nuisance columns in DataFrame reductions (with 'numeric_only=None') is deprecated; in a future version this will raise TypeError.  Select only valid columns before calling the reduction.\n",
      "  data['sum'] = data.sum(axis=1).to_list()\n"
     ]
    },
    {
     "name": "stdout",
     "output_type": "stream",
     "text": [
      "[*********************100%***********************]  1 of 1 completed\n",
      "Growth of Portfolio: 0.46325781657774906\n",
      "Growth of Market Index: 0.048445821202046484\n"
     ]
    }
   ],
   "source": [
    "# 3 акции\n",
    "tickers_list = ['URW.AS', \n",
    "                'GFC.PA',\n",
    "                'KER.PA']\n",
    "\n",
    "data = pd.DataFrame(columns=tickers_list)\n",
    "\n",
    "for ticker in tickers_list:\n",
    "    data[ticker] = yf.download(ticker,'2010-01-01','2011-01-01', interval='1mo')['Adj Close']\n",
    "\n",
    "data = data.reset_index()\n",
    "data['sum'] = data.sum(axis=1).to_list()\n",
    "\n",
    "df = pd.DataFrame(columns=tickers_list)\n",
    "for ticker in tickers_list:\n",
    "    div = sum(yf.Ticker(ticker).history(start='2010-01-01',end='2011-01-01').Dividends.to_list())\n",
    "    split = sum(yf.Ticker(ticker).history(start='2010-01-01',end='2011-01-01')['Stock Splits'].to_list())\n",
    "    df[ticker] = [div, split]\n",
    "df['sum'] = df.sum(axis=1).to_list()\n",
    "\n",
    "tickers_list = ['^N100']\n",
    "dt = pd.DataFrame(columns=tickers_list)\n",
    "for ticker in tickers_list:\n",
    "    dt[ticker] = yf.download(ticker,'2010-01-01','2011-01-01', interval='1mo')['Adj Close']\n",
    "    \n",
    "data['N-100'] = dt['^N100'].to_list()\n",
    "\n",
    "portfolio_g = (data['sum'][11] + df['sum'][0] - data['sum'][0]) / data['sum'][0]\n",
    "market_g = (data['N-100'][11] - data['N-100'][0]) / data['N-100'][0]\n",
    "\n",
    "lst_3.append(portfolio_g)\n",
    "\n",
    "if df['sum'][1] == 0:\n",
    "    print('Growth of Portfolio:', portfolio_g)\n",
    "    print('Growth of Market Index:', market_g)\n",
    "else:\n",
    "    print('Есть дробление акций')"
   ]
  },
  {
   "cell_type": "code",
   "execution_count": 39,
   "metadata": {
    "collapsed": true
   },
   "outputs": [
    {
     "name": "stdout",
     "output_type": "stream",
     "text": [
      "[*********************100%***********************]  1 of 1 completed\n"
     ]
    },
    {
     "name": "stderr",
     "output_type": "stream",
     "text": [
      "<ipython-input-39-de6fcd6f0405>:10: FutureWarning: Dropping of nuisance columns in DataFrame reductions (with 'numeric_only=None') is deprecated; in a future version this will raise TypeError.  Select only valid columns before calling the reduction.\n",
      "  data['sum'] = data.sum(axis=1).to_list()\n"
     ]
    },
    {
     "name": "stdout",
     "output_type": "stream",
     "text": [
      "[*********************100%***********************]  1 of 1 completed\n",
      "Growth of Portfolio: 0.5411955179311649\n",
      "Growth of Market Index: 0.048445821202046484\n"
     ]
    }
   ],
   "source": [
    "# 1 акция\n",
    "tickers_list = ['URW.AS']\n",
    "\n",
    "data = pd.DataFrame(columns=tickers_list)\n",
    "\n",
    "for ticker in tickers_list:\n",
    "    data[ticker] = yf.download(ticker,'2010-01-01','2011-01-01', interval='1mo')['Adj Close']\n",
    "\n",
    "data = data.reset_index()\n",
    "data['sum'] = data.sum(axis=1).to_list()\n",
    "\n",
    "df = pd.DataFrame(columns=tickers_list)\n",
    "for ticker in tickers_list:\n",
    "    div = sum(yf.Ticker(ticker).history(start='2010-01-01',end='2011-01-01').Dividends.to_list())\n",
    "    split = sum(yf.Ticker(ticker).history(start='2010-01-01',end='2011-01-01')['Stock Splits'].to_list())\n",
    "    df[ticker] = [div, split]\n",
    "df['sum'] = df.sum(axis=1).to_list()\n",
    "\n",
    "tickers_list = ['^N100']\n",
    "dt = pd.DataFrame(columns=tickers_list)\n",
    "for ticker in tickers_list:\n",
    "    dt[ticker] = yf.download(ticker,'2010-01-01','2011-01-01', interval='1mo')['Adj Close']\n",
    "    \n",
    "data['N-100'] = dt['^N100'].to_list()\n",
    "\n",
    "portfolio_g = (data['sum'][11] + df['sum'][0] - data['sum'][0]) / data['sum'][0]\n",
    "market_g = (data['N-100'][11] - data['N-100'][0]) / data['N-100'][0]\n",
    "\n",
    "lst_1.append(portfolio_g)\n",
    "\n",
    "if df['sum'][1] == 0:\n",
    "    print('Growth of Portfolio:', portfolio_g)\n",
    "    print('Growth of Market Index:', market_g)\n",
    "else:\n",
    "    print('Есть дробление акций')"
   ]
  },
  {
   "cell_type": "markdown",
   "metadata": {},
   "source": [
    "## Портфель на 2011 год\n",
    "_По данным за 2010_\n",
    "\n",
    "- UNIBAIL-RODAMCO-WE\n",
    "- GECINA\n",
    "- KERING\n",
    "- SOLVAY\n",
    "- GBL\n",
    "- SANOFI\n",
    "- TOTALENERIES\n",
    "- LVMH\n",
    "- BNP PARIBAS\n",
    "- L'OREAL"
   ]
  },
  {
   "cell_type": "code",
   "execution_count": 40,
   "metadata": {
    "collapsed": true
   },
   "outputs": [
    {
     "name": "stdout",
     "output_type": "stream",
     "text": [
      "[*********************100%***********************]  1 of 1 completed\n",
      "[*********************100%***********************]  1 of 1 completed\n",
      "[*********************100%***********************]  1 of 1 completed\n",
      "[*********************100%***********************]  1 of 1 completed\n",
      "[*********************100%***********************]  1 of 1 completed\n",
      "[*********************100%***********************]  1 of 1 completed\n",
      "[*********************100%***********************]  1 of 1 completed\n",
      "[*********************100%***********************]  1 of 1 completed\n",
      "[*********************100%***********************]  1 of 1 completed\n",
      "[*********************100%***********************]  1 of 1 completed\n"
     ]
    },
    {
     "name": "stderr",
     "output_type": "stream",
     "text": [
      "<ipython-input-40-715d93c3cd71>:19: FutureWarning: Dropping of nuisance columns in DataFrame reductions (with 'numeric_only=None') is deprecated; in a future version this will raise TypeError.  Select only valid columns before calling the reduction.\n",
      "  data['sum'] = data.sum(axis=1).to_list()\n"
     ]
    },
    {
     "name": "stdout",
     "output_type": "stream",
     "text": [
      "[*********************100%***********************]  1 of 1 completed\n",
      "Growth of Portfolio: -0.01598888689930747\n",
      "Growth of Market Index: -0.17258661078599236\n"
     ]
    }
   ],
   "source": [
    "# 10 акций\n",
    "tickers_list = ['URW.AS', \n",
    "                'GFC.PA',\n",
    "                'KER.PA',\n",
    "                'SOLB.BR',\n",
    "                'GBLB.BR',\n",
    "                'SAN.PA',\n",
    "                'TTE.PA',\n",
    "                'MC.PA',\n",
    "                'BNP.PA',\n",
    "                'OR.PA']\n",
    "\n",
    "data = pd.DataFrame(columns=tickers_list)\n",
    "\n",
    "for ticker in tickers_list:\n",
    "    data[ticker] = yf.download(ticker,'2011-01-01','2012-01-01', interval='1mo')['Adj Close']\n",
    "\n",
    "data = data.reset_index()\n",
    "data['sum'] = data.sum(axis=1).to_list()\n",
    "\n",
    "df = pd.DataFrame(columns=tickers_list)\n",
    "for ticker in tickers_list:\n",
    "    div = sum(yf.Ticker(ticker).history(start='2011-01-01',end='2012-01-01').Dividends.to_list())\n",
    "    split = sum(yf.Ticker(ticker).history(start='2011-01-01',end='2012-01-01')['Stock Splits'].to_list())\n",
    "    df[ticker] = [div, split]\n",
    "df['sum'] = df.sum(axis=1).to_list()\n",
    "\n",
    "tickers_list = ['^N100']\n",
    "dt = pd.DataFrame(columns=tickers_list)\n",
    "for ticker in tickers_list:\n",
    "    dt[ticker] = yf.download(ticker,'2011-01-01','2012-01-01', interval='1mo')['Adj Close']\n",
    "    \n",
    "data['N-100'] = dt['^N100'].to_list()\n",
    "\n",
    "portfolio_g = (data['sum'][11] + df['sum'][0] - data['sum'][0]) / data['sum'][0]\n",
    "market_g = (data['N-100'][11] - data['N-100'][0]) / data['N-100'][0]\n",
    "\n",
    "lst_10.append(portfolio_g)\n",
    "market.append(market_g)\n",
    "\n",
    "if df['sum'][1] == 0:\n",
    "    print('Growth of Portfolio:', portfolio_g)\n",
    "    print('Growth of Market Index:', market_g)\n",
    "else:\n",
    "    print('Есть дробление акций')"
   ]
  },
  {
   "cell_type": "code",
   "execution_count": 41,
   "metadata": {
    "collapsed": true
   },
   "outputs": [
    {
     "name": "stdout",
     "output_type": "stream",
     "text": [
      "[*********************100%***********************]  1 of 1 completed\n",
      "[*********************100%***********************]  1 of 1 completed\n",
      "[*********************100%***********************]  1 of 1 completed\n",
      "[*********************100%***********************]  1 of 1 completed\n",
      "[*********************100%***********************]  1 of 1 completed\n",
      "[*********************100%***********************]  1 of 1 completed\n",
      "[*********************100%***********************]  1 of 1 completed\n"
     ]
    },
    {
     "name": "stderr",
     "output_type": "stream",
     "text": [
      "<ipython-input-41-76e8804e1b33>:16: FutureWarning: Dropping of nuisance columns in DataFrame reductions (with 'numeric_only=None') is deprecated; in a future version this will raise TypeError.  Select only valid columns before calling the reduction.\n",
      "  data['sum'] = data.sum(axis=1).to_list()\n"
     ]
    },
    {
     "name": "stdout",
     "output_type": "stream",
     "text": [
      "[*********************100%***********************]  1 of 1 completed\n",
      "Growth of Portfolio: 0.0030405910280396813\n",
      "Growth of Market Index: -0.17258661078599236\n"
     ]
    }
   ],
   "source": [
    "# 7 акций\n",
    "tickers_list = ['URW.AS', \n",
    "                'GFC.PA',\n",
    "                'KER.PA',\n",
    "                'SOLB.BR',\n",
    "                'GBLB.BR',\n",
    "                'SAN.PA',\n",
    "                'TTE.PA']\n",
    "\n",
    "data = pd.DataFrame(columns=tickers_list)\n",
    "\n",
    "for ticker in tickers_list:\n",
    "    data[ticker] = yf.download(ticker,'2011-01-01','2012-01-01', interval='1mo')['Adj Close']\n",
    "\n",
    "data = data.reset_index()\n",
    "data['sum'] = data.sum(axis=1).to_list()\n",
    "\n",
    "df = pd.DataFrame(columns=tickers_list)\n",
    "for ticker in tickers_list:\n",
    "    div = sum(yf.Ticker(ticker).history(start='2011-01-01',end='2012-01-01').Dividends.to_list())\n",
    "    split = sum(yf.Ticker(ticker).history(start='2011-01-01',end='2012-01-01')['Stock Splits'].to_list())\n",
    "    df[ticker] = [div, split]\n",
    "df['sum'] = df.sum(axis=1).to_list()\n",
    "\n",
    "tickers_list = ['^N100']\n",
    "dt = pd.DataFrame(columns=tickers_list)\n",
    "for ticker in tickers_list:\n",
    "    dt[ticker] = yf.download(ticker,'2011-01-01','2012-01-01', interval='1mo')['Adj Close']\n",
    "    \n",
    "data['N-100'] = dt['^N100'].to_list()\n",
    "\n",
    "portfolio_g = (data['sum'][11] + df['sum'][0] - data['sum'][0]) / data['sum'][0]\n",
    "market_g = (data['N-100'][11] - data['N-100'][0]) / data['N-100'][0]\n",
    "\n",
    "lst_7.append(portfolio_g)\n",
    "\n",
    "if df['sum'][1] == 0:\n",
    "    print('Growth of Portfolio:', portfolio_g)\n",
    "    print('Growth of Market Index:', market_g)\n",
    "else:\n",
    "    print('Есть дробление акций')"
   ]
  },
  {
   "cell_type": "code",
   "execution_count": 43,
   "metadata": {
    "collapsed": true
   },
   "outputs": [
    {
     "name": "stdout",
     "output_type": "stream",
     "text": [
      "[*********************100%***********************]  1 of 1 completed\n",
      "[*********************100%***********************]  1 of 1 completed\n",
      "[*********************100%***********************]  1 of 1 completed\n",
      "[*********************100%***********************]  1 of 1 completed\n",
      "[*********************100%***********************]  1 of 1 completed\n"
     ]
    },
    {
     "name": "stderr",
     "output_type": "stream",
     "text": [
      "<ipython-input-43-42c52ddd0e47>:14: FutureWarning: Dropping of nuisance columns in DataFrame reductions (with 'numeric_only=None') is deprecated; in a future version this will raise TypeError.  Select only valid columns before calling the reduction.\n",
      "  data['sum'] = data.sum(axis=1).to_list()\n"
     ]
    },
    {
     "name": "stdout",
     "output_type": "stream",
     "text": [
      "[*********************100%***********************]  1 of 1 completed\n",
      "Growth of Portfolio: -0.031147786245981374\n",
      "Growth of Market Index: -0.17258661078599236\n"
     ]
    }
   ],
   "source": [
    "# 5 акций\n",
    "tickers_list = ['URW.AS', \n",
    "                'GFC.PA',\n",
    "                'KER.PA',\n",
    "                'SOLB.BR',\n",
    "                'GBLB.BR']\n",
    "\n",
    "data = pd.DataFrame(columns=tickers_list)\n",
    "\n",
    "for ticker in tickers_list:\n",
    "    data[ticker] = yf.download(ticker,'2011-01-01','2012-01-01', interval='1mo')['Adj Close']\n",
    "\n",
    "data = data.reset_index()\n",
    "data['sum'] = data.sum(axis=1).to_list()\n",
    "\n",
    "df = pd.DataFrame(columns=tickers_list)\n",
    "for ticker in tickers_list:\n",
    "    div = sum(yf.Ticker(ticker).history(start='2011-01-01',end='2012-01-01').Dividends.to_list())\n",
    "    split = sum(yf.Ticker(ticker).history(start='2011-01-01',end='2012-01-01')['Stock Splits'].to_list())\n",
    "    df[ticker] = [div, split]\n",
    "df['sum'] = df.sum(axis=1).to_list()\n",
    "\n",
    "tickers_list = ['^N100']\n",
    "dt = pd.DataFrame(columns=tickers_list)\n",
    "for ticker in tickers_list:\n",
    "    dt[ticker] = yf.download(ticker,'2011-01-01','2012-01-01', interval='1mo')['Adj Close']\n",
    "    \n",
    "data['N-100'] = dt['^N100'].to_list()\n",
    "\n",
    "portfolio_g = (data['sum'][11] + df['sum'][0] - data['sum'][0]) / data['sum'][0]\n",
    "market_g = (data['N-100'][11] - data['N-100'][0]) / data['N-100'][0]\n",
    "\n",
    "lst_5.append(portfolio_g)\n",
    "\n",
    "if df['sum'][1] == 0:\n",
    "    print('Growth of Portfolio:', portfolio_g)\n",
    "    print('Growth of Market Index:', market_g)\n",
    "else:\n",
    "    print('Есть дробление акций')"
   ]
  },
  {
   "cell_type": "code",
   "execution_count": 44,
   "metadata": {
    "collapsed": true
   },
   "outputs": [
    {
     "name": "stdout",
     "output_type": "stream",
     "text": [
      "[*********************100%***********************]  1 of 1 completed\n",
      "[*********************100%***********************]  1 of 1 completed\n",
      "[*********************100%***********************]  1 of 1 completed\n"
     ]
    },
    {
     "name": "stderr",
     "output_type": "stream",
     "text": [
      "<ipython-input-44-b6c16777d288>:12: FutureWarning: Dropping of nuisance columns in DataFrame reductions (with 'numeric_only=None') is deprecated; in a future version this will raise TypeError.  Select only valid columns before calling the reduction.\n",
      "  data['sum'] = data.sum(axis=1).to_list()\n"
     ]
    },
    {
     "name": "stdout",
     "output_type": "stream",
     "text": [
      "[*********************100%***********************]  1 of 1 completed\n",
      "Growth of Portfolio: -0.004162789518865817\n",
      "Growth of Market Index: -0.17258661078599236\n"
     ]
    }
   ],
   "source": [
    "# 3 акции\n",
    "tickers_list = ['URW.AS', \n",
    "                'GFC.PA',\n",
    "                'KER.PA']\n",
    "\n",
    "data = pd.DataFrame(columns=tickers_list)\n",
    "\n",
    "for ticker in tickers_list:\n",
    "    data[ticker] = yf.download(ticker,'2011-01-01','2012-01-01', interval='1mo')['Adj Close']\n",
    "\n",
    "data = data.reset_index()\n",
    "data['sum'] = data.sum(axis=1).to_list()\n",
    "\n",
    "df = pd.DataFrame(columns=tickers_list)\n",
    "for ticker in tickers_list:\n",
    "    div = sum(yf.Ticker(ticker).history(start='2011-01-01',end='2012-01-01').Dividends.to_list())\n",
    "    split = sum(yf.Ticker(ticker).history(start='2011-01-01',end='2012-01-01')['Stock Splits'].to_list())\n",
    "    df[ticker] = [div, split]\n",
    "df['sum'] = df.sum(axis=1).to_list()\n",
    "\n",
    "tickers_list = ['^N100']\n",
    "dt = pd.DataFrame(columns=tickers_list)\n",
    "for ticker in tickers_list:\n",
    "    dt[ticker] = yf.download(ticker,'2011-01-01','2012-01-01', interval='1mo')['Adj Close']\n",
    "    \n",
    "data['N-100'] = dt['^N100'].to_list()\n",
    "\n",
    "portfolio_g = (data['sum'][11] + df['sum'][0] - data['sum'][0]) / data['sum'][0]\n",
    "market_g = (data['N-100'][11] - data['N-100'][0]) / data['N-100'][0]\n",
    "\n",
    "lst_3.append(portfolio_g)\n",
    "\n",
    "if df['sum'][1] == 0:\n",
    "    print('Growth of Portfolio:', portfolio_g)\n",
    "    print('Growth of Market Index:', market_g)\n",
    "else:\n",
    "    print('Есть дробление акций')"
   ]
  },
  {
   "cell_type": "code",
   "execution_count": 45,
   "metadata": {
    "collapsed": true
   },
   "outputs": [
    {
     "name": "stdout",
     "output_type": "stream",
     "text": [
      "[*********************100%***********************]  1 of 1 completed\n"
     ]
    },
    {
     "name": "stderr",
     "output_type": "stream",
     "text": [
      "<ipython-input-45-ace01a8ae0ce>:10: FutureWarning: Dropping of nuisance columns in DataFrame reductions (with 'numeric_only=None') is deprecated; in a future version this will raise TypeError.  Select only valid columns before calling the reduction.\n",
      "  data['sum'] = data.sum(axis=1).to_list()\n"
     ]
    },
    {
     "name": "stdout",
     "output_type": "stream",
     "text": [
      "[*********************100%***********************]  1 of 1 completed\n",
      "Growth of Portfolio: 0.0502209263016591\n",
      "Growth of Market Index: -0.17258661078599236\n"
     ]
    }
   ],
   "source": [
    "# 1 акция\n",
    "tickers_list = ['URW.AS']\n",
    "\n",
    "data = pd.DataFrame(columns=tickers_list)\n",
    "\n",
    "for ticker in tickers_list:\n",
    "    data[ticker] = yf.download(ticker,'2011-01-01','2012-01-01', interval='1mo')['Adj Close']\n",
    "\n",
    "data = data.reset_index()\n",
    "data['sum'] = data.sum(axis=1).to_list()\n",
    "\n",
    "df = pd.DataFrame(columns=tickers_list)\n",
    "for ticker in tickers_list:\n",
    "    div = sum(yf.Ticker(ticker).history(start='2011-01-01',end='2012-01-01').Dividends.to_list())\n",
    "    split = sum(yf.Ticker(ticker).history(start='2011-01-01',end='2012-01-01')['Stock Splits'].to_list())\n",
    "    df[ticker] = [div, split]\n",
    "df['sum'] = df.sum(axis=1).to_list()\n",
    "\n",
    "tickers_list = ['^N100']\n",
    "dt = pd.DataFrame(columns=tickers_list)\n",
    "for ticker in tickers_list:\n",
    "    dt[ticker] = yf.download(ticker,'2011-01-01','2012-01-01', interval='1mo')['Adj Close']\n",
    "    \n",
    "data['N-100'] = dt['^N100'].to_list()\n",
    "\n",
    "portfolio_g = (data['sum'][11] + df['sum'][0] - data['sum'][0]) / data['sum'][0]\n",
    "market_g = (data['N-100'][11] - data['N-100'][0]) / data['N-100'][0]\n",
    "\n",
    "lst_1.append(portfolio_g)\n",
    "\n",
    "if df['sum'][1] == 0:\n",
    "    print('Growth of Portfolio:', portfolio_g)\n",
    "    print('Growth of Market Index:', market_g)\n",
    "else:\n",
    "    print('Есть дробление акций')"
   ]
  },
  {
   "cell_type": "markdown",
   "metadata": {},
   "source": [
    "### Портфель на 2012 год\n",
    "_По данным за 2011_\n",
    "\n",
    "- UNIBAIL-RODAMCO-WE\n",
    "- GECINA\n",
    "- KERING\n",
    "- SOLVAY\n",
    "- SANOFI\n",
    "- LVMH\n",
    "- GBL\n",
    "- REMY COINTREAU\n",
    "- TOTALENERIES\n",
    "- L'OREAL"
   ]
  },
  {
   "cell_type": "code",
   "execution_count": 47,
   "metadata": {
    "collapsed": true
   },
   "outputs": [
    {
     "name": "stdout",
     "output_type": "stream",
     "text": [
      "[*********************100%***********************]  1 of 1 completed\n",
      "[*********************100%***********************]  1 of 1 completed\n",
      "[*********************100%***********************]  1 of 1 completed\n",
      "[*********************100%***********************]  1 of 1 completed\n",
      "[*********************100%***********************]  1 of 1 completed\n",
      "[*********************100%***********************]  1 of 1 completed\n",
      "[*********************100%***********************]  1 of 1 completed\n",
      "[*********************100%***********************]  1 of 1 completed\n",
      "[*********************100%***********************]  1 of 1 completed\n",
      "[*********************100%***********************]  1 of 1 completed\n"
     ]
    },
    {
     "name": "stderr",
     "output_type": "stream",
     "text": [
      "<ipython-input-47-1c6af0be3a74>:19: FutureWarning: Dropping of nuisance columns in DataFrame reductions (with 'numeric_only=None') is deprecated; in a future version this will raise TypeError.  Select only valid columns before calling the reduction.\n",
      "  data['sum'] = data.sum(axis=1).to_list()\n"
     ]
    },
    {
     "name": "stdout",
     "output_type": "stream",
     "text": [
      "[*********************100%***********************]  1 of 1 completed\n",
      "Growth of Portfolio: 0.3114012114155063\n",
      "Growth of Market Index: 0.10936048084266803\n"
     ]
    }
   ],
   "source": [
    "# 10 акций\n",
    "tickers_list = ['URW.AS', \n",
    "                'GFC.PA',\n",
    "                'KER.PA',\n",
    "                'SOLB.BR',\n",
    "                'SAN.PA',\n",
    "                'MC.PA',\n",
    "                'GBLB.BR',\n",
    "                'RCO.PA',\n",
    "                'TTE.PA',\n",
    "                'OR.PA']\n",
    "\n",
    "data = pd.DataFrame(columns=tickers_list)\n",
    "\n",
    "for ticker in tickers_list:\n",
    "    data[ticker] = yf.download(ticker,'2012-01-01','2013-01-01', interval='1mo')['Adj Close']\n",
    "\n",
    "data = data.reset_index()\n",
    "data['sum'] = data.sum(axis=1).to_list()\n",
    "\n",
    "df = pd.DataFrame(columns=tickers_list)\n",
    "for ticker in tickers_list:\n",
    "    div = sum(yf.Ticker(ticker).history(start='2012-01-01',end='2013-01-01').Dividends.to_list())\n",
    "    split = sum(yf.Ticker(ticker).history(start='2012-01-01',end='2013-01-01')['Stock Splits'].to_list())\n",
    "    df[ticker] = [div, split]\n",
    "df['sum'] = df.sum(axis=1).to_list()\n",
    "\n",
    "tickers_list = ['^N100']\n",
    "dt = pd.DataFrame(columns=tickers_list)\n",
    "for ticker in tickers_list:\n",
    "    dt[ticker] = yf.download(ticker,'2012-01-01','2013-01-01', interval='1mo')['Adj Close']\n",
    "    \n",
    "data['N-100'] = dt['^N100'].to_list()\n",
    "\n",
    "portfolio_g = (data['sum'][11] + df['sum'][0] - data['sum'][0]) / data['sum'][0]\n",
    "market_g = (data['N-100'][11] - data['N-100'][0]) / data['N-100'][0]\n",
    "\n",
    "lst_10.append(portfolio_g)\n",
    "market.append(market_g)\n",
    "\n",
    "if df['sum'][1] == 0:\n",
    "    print('Growth of Portfolio:', portfolio_g)\n",
    "    print('Growth of Market Index:', market_g)\n",
    "else:\n",
    "    print('Есть дробление акций')"
   ]
  },
  {
   "cell_type": "code",
   "execution_count": 48,
   "metadata": {
    "collapsed": true
   },
   "outputs": [
    {
     "name": "stdout",
     "output_type": "stream",
     "text": [
      "[*********************100%***********************]  1 of 1 completed\n",
      "[*********************100%***********************]  1 of 1 completed\n",
      "[*********************100%***********************]  1 of 1 completed\n",
      "[*********************100%***********************]  1 of 1 completed\n",
      "[*********************100%***********************]  1 of 1 completed\n",
      "[*********************100%***********************]  1 of 1 completed\n",
      "[*********************100%***********************]  1 of 1 completed\n"
     ]
    },
    {
     "name": "stderr",
     "output_type": "stream",
     "text": [
      "<ipython-input-48-1ef1bd4a666d>:16: FutureWarning: Dropping of nuisance columns in DataFrame reductions (with 'numeric_only=None') is deprecated; in a future version this will raise TypeError.  Select only valid columns before calling the reduction.\n",
      "  data['sum'] = data.sum(axis=1).to_list()\n"
     ]
    },
    {
     "name": "stdout",
     "output_type": "stream",
     "text": [
      "[*********************100%***********************]  1 of 1 completed\n",
      "Growth of Portfolio: 0.3166169286133646\n",
      "Growth of Market Index: 0.10936048084266803\n"
     ]
    }
   ],
   "source": [
    "# 7 акций\n",
    "tickers_list = ['URW.AS', \n",
    "                'GFC.PA',\n",
    "                'KER.PA',\n",
    "                'SOLB.BR',\n",
    "                'SAN.PA',\n",
    "                'MC.PA',\n",
    "                'GBLB.BR']\n",
    "\n",
    "data = pd.DataFrame(columns=tickers_list)\n",
    "\n",
    "for ticker in tickers_list:\n",
    "    data[ticker] = yf.download(ticker,'2012-01-01','2013-01-01', interval='1mo')['Adj Close']\n",
    "\n",
    "data = data.reset_index()\n",
    "data['sum'] = data.sum(axis=1).to_list()\n",
    "\n",
    "df = pd.DataFrame(columns=tickers_list)\n",
    "for ticker in tickers_list:\n",
    "    div = sum(yf.Ticker(ticker).history(start='2012-01-01',end='2013-01-01').Dividends.to_list())\n",
    "    split = sum(yf.Ticker(ticker).history(start='2012-01-01',end='2013-01-01')['Stock Splits'].to_list())\n",
    "    df[ticker] = [div, split]\n",
    "df['sum'] = df.sum(axis=1).to_list()\n",
    "\n",
    "tickers_list = ['^N100']\n",
    "dt = pd.DataFrame(columns=tickers_list)\n",
    "for ticker in tickers_list:\n",
    "    dt[ticker] = yf.download(ticker,'2012-01-01','2013-01-01', interval='1mo')['Adj Close']\n",
    "    \n",
    "data['N-100'] = dt['^N100'].to_list()\n",
    "\n",
    "portfolio_g = (data['sum'][11] + df['sum'][0] - data['sum'][0]) / data['sum'][0]\n",
    "market_g = (data['N-100'][11] - data['N-100'][0]) / data['N-100'][0]\n",
    "\n",
    "lst_7.append(portfolio_g)\n",
    "\n",
    "if df['sum'][1] == 0:\n",
    "    print('Growth of Portfolio:', portfolio_g)\n",
    "    print('Growth of Market Index:', market_g)\n",
    "else:\n",
    "    print('Есть дробление акций')"
   ]
  },
  {
   "cell_type": "code",
   "execution_count": 49,
   "metadata": {
    "collapsed": true
   },
   "outputs": [
    {
     "name": "stdout",
     "output_type": "stream",
     "text": [
      "[*********************100%***********************]  1 of 1 completed\n",
      "[*********************100%***********************]  1 of 1 completed\n",
      "[*********************100%***********************]  1 of 1 completed\n",
      "[*********************100%***********************]  1 of 1 completed\n",
      "[*********************100%***********************]  1 of 1 completed\n"
     ]
    },
    {
     "name": "stderr",
     "output_type": "stream",
     "text": [
      "<ipython-input-49-764be8eab31d>:14: FutureWarning: Dropping of nuisance columns in DataFrame reductions (with 'numeric_only=None') is deprecated; in a future version this will raise TypeError.  Select only valid columns before calling the reduction.\n",
      "  data['sum'] = data.sum(axis=1).to_list()\n"
     ]
    },
    {
     "name": "stdout",
     "output_type": "stream",
     "text": [
      "[*********************100%***********************]  1 of 1 completed\n",
      "Growth of Portfolio: 0.3766428497027294\n",
      "Growth of Market Index: 0.10936048084266803\n"
     ]
    }
   ],
   "source": [
    "# 5 акций\n",
    "tickers_list = ['URW.AS', \n",
    "                'GFC.PA',\n",
    "                'KER.PA',\n",
    "                'SOLB.BR',\n",
    "                'SAN.PA']\n",
    "\n",
    "data = pd.DataFrame(columns=tickers_list)\n",
    "\n",
    "for ticker in tickers_list:\n",
    "    data[ticker] = yf.download(ticker,'2012-01-01','2013-01-01', interval='1mo')['Adj Close']\n",
    "\n",
    "data = data.reset_index()\n",
    "data['sum'] = data.sum(axis=1).to_list()\n",
    "\n",
    "df = pd.DataFrame(columns=tickers_list)\n",
    "for ticker in tickers_list:\n",
    "    div = sum(yf.Ticker(ticker).history(start='2012-01-01',end='2013-01-01').Dividends.to_list())\n",
    "    split = sum(yf.Ticker(ticker).history(start='2012-01-01',end='2013-01-01')['Stock Splits'].to_list())\n",
    "    df[ticker] = [div, split]\n",
    "df['sum'] = df.sum(axis=1).to_list()\n",
    "\n",
    "tickers_list = ['^N100']\n",
    "dt = pd.DataFrame(columns=tickers_list)\n",
    "for ticker in tickers_list:\n",
    "    dt[ticker] = yf.download(ticker,'2012-01-01','2013-01-01', interval='1mo')['Adj Close']\n",
    "    \n",
    "data['N-100'] = dt['^N100'].to_list()\n",
    "\n",
    "portfolio_g = (data['sum'][11] + df['sum'][0] - data['sum'][0]) / data['sum'][0]\n",
    "market_g = (data['N-100'][11] - data['N-100'][0]) / data['N-100'][0]\n",
    "\n",
    "lst_5.append(portfolio_g)\n",
    "\n",
    "if df['sum'][1] == 0:\n",
    "    print('Growth of Portfolio:', portfolio_g)\n",
    "    print('Growth of Market Index:', market_g)\n",
    "else:\n",
    "    print('Есть дробление акций')"
   ]
  },
  {
   "cell_type": "code",
   "execution_count": 50,
   "metadata": {
    "collapsed": true
   },
   "outputs": [
    {
     "name": "stdout",
     "output_type": "stream",
     "text": [
      "[*********************100%***********************]  1 of 1 completed\n",
      "[*********************100%***********************]  1 of 1 completed\n",
      "[*********************100%***********************]  1 of 1 completed\n"
     ]
    },
    {
     "name": "stderr",
     "output_type": "stream",
     "text": [
      "<ipython-input-50-60eb5569bacc>:12: FutureWarning: Dropping of nuisance columns in DataFrame reductions (with 'numeric_only=None') is deprecated; in a future version this will raise TypeError.  Select only valid columns before calling the reduction.\n",
      "  data['sum'] = data.sum(axis=1).to_list()\n"
     ]
    },
    {
     "name": "stdout",
     "output_type": "stream",
     "text": [
      "[*********************100%***********************]  1 of 1 completed\n",
      "Growth of Portfolio: 0.33118334362682605\n",
      "Growth of Market Index: 0.10936048084266803\n"
     ]
    }
   ],
   "source": [
    "# 3 акции\n",
    "tickers_list = ['URW.AS', \n",
    "                'GFC.PA',\n",
    "                'KER.PA']\n",
    "\n",
    "data = pd.DataFrame(columns=tickers_list)\n",
    "\n",
    "for ticker in tickers_list:\n",
    "    data[ticker] = yf.download(ticker,'2012-01-01','2013-01-01', interval='1mo')['Adj Close']\n",
    "\n",
    "data = data.reset_index()\n",
    "data['sum'] = data.sum(axis=1).to_list()\n",
    "\n",
    "df = pd.DataFrame(columns=tickers_list)\n",
    "for ticker in tickers_list:\n",
    "    div = sum(yf.Ticker(ticker).history(start='2012-01-01',end='2013-01-01').Dividends.to_list())\n",
    "    split = sum(yf.Ticker(ticker).history(start='2012-01-01',end='2013-01-01')['Stock Splits'].to_list())\n",
    "    df[ticker] = [div, split]\n",
    "df['sum'] = df.sum(axis=1).to_list()\n",
    "\n",
    "tickers_list = ['^N100']\n",
    "dt = pd.DataFrame(columns=tickers_list)\n",
    "for ticker in tickers_list:\n",
    "    dt[ticker] = yf.download(ticker,'2012-01-01','2013-01-01', interval='1mo')['Adj Close']\n",
    "    \n",
    "data['N-100'] = dt['^N100'].to_list()\n",
    "\n",
    "portfolio_g = (data['sum'][11] + df['sum'][0] - data['sum'][0]) / data['sum'][0]\n",
    "market_g = (data['N-100'][11] - data['N-100'][0]) / data['N-100'][0]\n",
    "\n",
    "lst_3.append(portfolio_g)\n",
    "\n",
    "if df['sum'][1] == 0:\n",
    "    print('Growth of Portfolio:', portfolio_g)\n",
    "    print('Growth of Market Index:', market_g)\n",
    "else:\n",
    "    print('Есть дробление акций')"
   ]
  },
  {
   "cell_type": "code",
   "execution_count": 51,
   "metadata": {
    "collapsed": true
   },
   "outputs": [
    {
     "name": "stdout",
     "output_type": "stream",
     "text": [
      "[*********************100%***********************]  1 of 1 completed\n"
     ]
    },
    {
     "name": "stderr",
     "output_type": "stream",
     "text": [
      "<ipython-input-51-614078fe69ac>:10: FutureWarning: Dropping of nuisance columns in DataFrame reductions (with 'numeric_only=None') is deprecated; in a future version this will raise TypeError.  Select only valid columns before calling the reduction.\n",
      "  data['sum'] = data.sum(axis=1).to_list()\n"
     ]
    },
    {
     "name": "stdout",
     "output_type": "stream",
     "text": [
      "[*********************100%***********************]  1 of 1 completed\n",
      "Growth of Portfolio: 0.4140425778986074\n",
      "Growth of Market Index: 0.10936048084266803\n"
     ]
    }
   ],
   "source": [
    "# 1 акция\n",
    "tickers_list = ['URW.AS']\n",
    "\n",
    "data = pd.DataFrame(columns=tickers_list)\n",
    "\n",
    "for ticker in tickers_list:\n",
    "    data[ticker] = yf.download(ticker,'2012-01-01','2013-01-01', interval='1mo')['Adj Close']\n",
    "\n",
    "data = data.reset_index()\n",
    "data['sum'] = data.sum(axis=1).to_list()\n",
    "\n",
    "df = pd.DataFrame(columns=tickers_list)\n",
    "for ticker in tickers_list:\n",
    "    div = sum(yf.Ticker(ticker).history(start='2012-01-01',end='2013-01-01').Dividends.to_list())\n",
    "    split = sum(yf.Ticker(ticker).history(start='2012-01-01',end='2013-01-01')['Stock Splits'].to_list())\n",
    "    df[ticker] = [div, split]\n",
    "df['sum'] = df.sum(axis=1).to_list()\n",
    "\n",
    "tickers_list = ['^N100']\n",
    "dt = pd.DataFrame(columns=tickers_list)\n",
    "for ticker in tickers_list:\n",
    "    dt[ticker] = yf.download(ticker,'2012-01-01','2013-01-01', interval='1mo')['Adj Close']\n",
    "    \n",
    "data['N-100'] = dt['^N100'].to_list()\n",
    "\n",
    "portfolio_g = (data['sum'][11] + df['sum'][0] - data['sum'][0]) / data['sum'][0]\n",
    "market_g = (data['N-100'][11] - data['N-100'][0]) / data['N-100'][0]\n",
    "\n",
    "lst_1.append(portfolio_g)\n",
    "\n",
    "if df['sum'][1] == 0:\n",
    "    print('Growth of Portfolio:', portfolio_g)\n",
    "    print('Growth of Market Index:', market_g)\n",
    "else:\n",
    "    print('Есть дробление акций')"
   ]
  },
  {
   "cell_type": "markdown",
   "metadata": {},
   "source": [
    "### Портфель на 2013 год\n",
    "_По данным за 2012_\n",
    "\n",
    "- UNIBAIL-RODAMCO-WE\n",
    "- GECINA\n",
    "- KERING\n",
    "- SOLVAY\n",
    "- LVMH\n",
    "- SANOFI\n",
    "- GBL\n",
    "- TOTALENERIES\n",
    "- REMY COINTREAU\n",
    "- L'OREAL"
   ]
  },
  {
   "cell_type": "code",
   "execution_count": 52,
   "metadata": {
    "collapsed": true
   },
   "outputs": [
    {
     "name": "stdout",
     "output_type": "stream",
     "text": [
      "[*********************100%***********************]  1 of 1 completed\n",
      "[*********************100%***********************]  1 of 1 completed\n",
      "[*********************100%***********************]  1 of 1 completed\n",
      "[*********************100%***********************]  1 of 1 completed\n",
      "[*********************100%***********************]  1 of 1 completed\n",
      "[*********************100%***********************]  1 of 1 completed\n",
      "[*********************100%***********************]  1 of 1 completed\n",
      "[*********************100%***********************]  1 of 1 completed\n",
      "[*********************100%***********************]  1 of 1 completed\n",
      "[*********************100%***********************]  1 of 1 completed\n"
     ]
    },
    {
     "name": "stderr",
     "output_type": "stream",
     "text": [
      "<ipython-input-52-7b0d16b82749>:19: FutureWarning: Dropping of nuisance columns in DataFrame reductions (with 'numeric_only=None') is deprecated; in a future version this will raise TypeError.  Select only valid columns before calling the reduction.\n",
      "  data['sum'] = data.sum(axis=1).to_list()\n"
     ]
    },
    {
     "name": "stdout",
     "output_type": "stream",
     "text": [
      "[*********************100%***********************]  1 of 1 completed\n",
      "Growth of Portfolio: 0.07914924580440617\n",
      "Growth of Market Index: 0.15915794648500597\n"
     ]
    }
   ],
   "source": [
    "# 10 акций\n",
    "tickers_list = ['URW.AS', \n",
    "                'GFC.PA',\n",
    "                'KER.PA',\n",
    "                'SOLB.BR',\n",
    "                'MC.PA',\n",
    "                'SAN.PA',\n",
    "                'GBLB.BR',\n",
    "                'TTE.PA',\n",
    "                'RCO.PA',\n",
    "                'OR.PA']\n",
    "\n",
    "data = pd.DataFrame(columns=tickers_list)\n",
    "\n",
    "for ticker in tickers_list:\n",
    "    data[ticker] = yf.download(ticker,'2013-01-01','2014-01-01', interval='1mo')['Adj Close']\n",
    "\n",
    "data = data.reset_index()\n",
    "data['sum'] = data.sum(axis=1).to_list()\n",
    "\n",
    "df = pd.DataFrame(columns=tickers_list)\n",
    "for ticker in tickers_list:\n",
    "    div = sum(yf.Ticker(ticker).history(start='2013-01-01',end='2014-01-01').Dividends.to_list())\n",
    "    split = sum(yf.Ticker(ticker).history(start='2013-01-01',end='2014-01-01')['Stock Splits'].to_list())\n",
    "    df[ticker] = [div, split]\n",
    "df['sum'] = df.sum(axis=1).to_list()\n",
    "\n",
    "tickers_list = ['^N100']\n",
    "dt = pd.DataFrame(columns=tickers_list)\n",
    "for ticker in tickers_list:\n",
    "    dt[ticker] = yf.download(ticker,'2013-01-01','2014-01-01', interval='1mo')['Adj Close']\n",
    "    \n",
    "data['N-100'] = dt['^N100'].to_list()\n",
    "\n",
    "portfolio_g = (data['sum'][11] + df['sum'][0] - data['sum'][0]) / data['sum'][0]\n",
    "market_g = (data['N-100'][11] - data['N-100'][0]) / data['N-100'][0]\n",
    "\n",
    "lst_10.append(portfolio_g)\n",
    "market.append(market_g)\n",
    "\n",
    "if df['sum'][1] == 0:\n",
    "    print('Growth of Portfolio:', portfolio_g)\n",
    "    print('Growth of Market Index:', market_g)\n",
    "else:\n",
    "    print('Есть дробление акций')"
   ]
  },
  {
   "cell_type": "code",
   "execution_count": 53,
   "metadata": {
    "collapsed": true
   },
   "outputs": [
    {
     "name": "stdout",
     "output_type": "stream",
     "text": [
      "[*********************100%***********************]  1 of 1 completed\n",
      "[*********************100%***********************]  1 of 1 completed\n",
      "[*********************100%***********************]  1 of 1 completed\n",
      "[*********************100%***********************]  1 of 1 completed\n",
      "[*********************100%***********************]  1 of 1 completed\n",
      "[*********************100%***********************]  1 of 1 completed\n",
      "[*********************100%***********************]  1 of 1 completed\n"
     ]
    },
    {
     "name": "stderr",
     "output_type": "stream",
     "text": [
      "<ipython-input-53-c3eec14ae310>:16: FutureWarning: Dropping of nuisance columns in DataFrame reductions (with 'numeric_only=None') is deprecated; in a future version this will raise TypeError.  Select only valid columns before calling the reduction.\n",
      "  data['sum'] = data.sum(axis=1).to_list()\n"
     ]
    },
    {
     "name": "stdout",
     "output_type": "stream",
     "text": [
      "[*********************100%***********************]  1 of 1 completed\n",
      "Growth of Portfolio: 0.11026814851947887\n",
      "Growth of Market Index: 0.15915794648500597\n"
     ]
    }
   ],
   "source": [
    "# 7 акций\n",
    "tickers_list = ['URW.AS', \n",
    "                'GFC.PA',\n",
    "                'KER.PA',\n",
    "                'SOLB.BR',\n",
    "                'MC.PA',\n",
    "                'SAN.PA',\n",
    "                'GBLB.BR']\n",
    "\n",
    "data = pd.DataFrame(columns=tickers_list)\n",
    "\n",
    "for ticker in tickers_list:\n",
    "    data[ticker] = yf.download(ticker,'2013-01-01','2014-01-01', interval='1mo')['Adj Close']\n",
    "\n",
    "data = data.reset_index()\n",
    "data['sum'] = data.sum(axis=1).to_list()\n",
    "\n",
    "df = pd.DataFrame(columns=tickers_list)\n",
    "for ticker in tickers_list:\n",
    "    div = sum(yf.Ticker(ticker).history(start='2013-01-01',end='2014-01-01').Dividends.to_list())\n",
    "    split = sum(yf.Ticker(ticker).history(start='2013-01-01',end='2014-01-01')['Stock Splits'].to_list())\n",
    "    df[ticker] = [div, split]\n",
    "df['sum'] = df.sum(axis=1).to_list()\n",
    "\n",
    "tickers_list = ['^N100']\n",
    "dt = pd.DataFrame(columns=tickers_list)\n",
    "for ticker in tickers_list:\n",
    "    dt[ticker] = yf.download(ticker,'2013-01-01','2014-01-01', interval='1mo')['Adj Close']\n",
    "    \n",
    "data['N-100'] = dt['^N100'].to_list()\n",
    "\n",
    "portfolio_g = (data['sum'][11] + df['sum'][0] - data['sum'][0]) / data['sum'][0]\n",
    "market_g = (data['N-100'][11] - data['N-100'][0]) / data['N-100'][0]\n",
    "\n",
    "lst_7.append(portfolio_g)\n",
    "\n",
    "if df['sum'][1] == 0:\n",
    "    print('Growth of Portfolio:', portfolio_g)\n",
    "    print('Growth of Market Index:', market_g)\n",
    "else:\n",
    "    print('Есть дробление акций')"
   ]
  },
  {
   "cell_type": "code",
   "execution_count": 54,
   "metadata": {
    "collapsed": true
   },
   "outputs": [
    {
     "name": "stdout",
     "output_type": "stream",
     "text": [
      "[*********************100%***********************]  1 of 1 completed\n",
      "[*********************100%***********************]  1 of 1 completed\n",
      "[*********************100%***********************]  1 of 1 completed\n",
      "[*********************100%***********************]  1 of 1 completed\n",
      "[*********************100%***********************]  1 of 1 completed\n"
     ]
    },
    {
     "name": "stderr",
     "output_type": "stream",
     "text": [
      "<ipython-input-54-572d22cb3567>:14: FutureWarning: Dropping of nuisance columns in DataFrame reductions (with 'numeric_only=None') is deprecated; in a future version this will raise TypeError.  Select only valid columns before calling the reduction.\n",
      "  data['sum'] = data.sum(axis=1).to_list()\n"
     ]
    },
    {
     "name": "stdout",
     "output_type": "stream",
     "text": [
      "[*********************100%***********************]  1 of 1 completed\n",
      "Growth of Portfolio: 0.09608744811837228\n",
      "Growth of Market Index: 0.15915794648500597\n"
     ]
    }
   ],
   "source": [
    "# 5 акций\n",
    "tickers_list = ['URW.AS', \n",
    "                'GFC.PA',\n",
    "                'KER.PA',\n",
    "                'SOLB.BR',\n",
    "                'MC.PA']\n",
    "\n",
    "data = pd.DataFrame(columns=tickers_list)\n",
    "\n",
    "for ticker in tickers_list:\n",
    "    data[ticker] = yf.download(ticker,'2013-01-01','2014-01-01', interval='1mo')['Adj Close']\n",
    "\n",
    "data = data.reset_index()\n",
    "data['sum'] = data.sum(axis=1).to_list()\n",
    "\n",
    "df = pd.DataFrame(columns=tickers_list)\n",
    "for ticker in tickers_list:\n",
    "    div = sum(yf.Ticker(ticker).history(start='2013-01-01',end='2014-01-01').Dividends.to_list())\n",
    "    split = sum(yf.Ticker(ticker).history(start='2013-01-01',end='2014-01-01')['Stock Splits'].to_list())\n",
    "    df[ticker] = [div, split]\n",
    "df['sum'] = df.sum(axis=1).to_list()\n",
    "\n",
    "tickers_list = ['^N100']\n",
    "dt = pd.DataFrame(columns=tickers_list)\n",
    "for ticker in tickers_list:\n",
    "    dt[ticker] = yf.download(ticker,'2013-01-01','2014-01-01', interval='1mo')['Adj Close']\n",
    "    \n",
    "data['N-100'] = dt['^N100'].to_list()\n",
    "\n",
    "portfolio_g = (data['sum'][11] + df['sum'][0] - data['sum'][0]) / data['sum'][0]\n",
    "market_g = (data['N-100'][11] - data['N-100'][0]) / data['N-100'][0]\n",
    "\n",
    "lst_5.append(portfolio_g)\n",
    "\n",
    "if df['sum'][1] == 0:\n",
    "    print('Growth of Portfolio:', portfolio_g)\n",
    "    print('Growth of Market Index:', market_g)\n",
    "else:\n",
    "    print('Есть дробление акций')"
   ]
  },
  {
   "cell_type": "code",
   "execution_count": 55,
   "metadata": {
    "collapsed": true
   },
   "outputs": [
    {
     "name": "stdout",
     "output_type": "stream",
     "text": [
      "[*********************100%***********************]  1 of 1 completed\n",
      "[*********************100%***********************]  1 of 1 completed\n",
      "[*********************100%***********************]  1 of 1 completed\n"
     ]
    },
    {
     "name": "stderr",
     "output_type": "stream",
     "text": [
      "<ipython-input-55-0fc4a13334d3>:12: FutureWarning: Dropping of nuisance columns in DataFrame reductions (with 'numeric_only=None') is deprecated; in a future version this will raise TypeError.  Select only valid columns before calling the reduction.\n",
      "  data['sum'] = data.sum(axis=1).to_list()\n"
     ]
    },
    {
     "name": "stdout",
     "output_type": "stream",
     "text": [
      "[*********************100%***********************]  1 of 1 completed\n",
      "Growth of Portfolio: 0.1436819948802019\n",
      "Growth of Market Index: 0.15915794648500597\n"
     ]
    }
   ],
   "source": [
    "# 3 акции\n",
    "tickers_list = ['URW.AS', \n",
    "                'GFC.PA',\n",
    "                'KER.PA']\n",
    "\n",
    "data = pd.DataFrame(columns=tickers_list)\n",
    "\n",
    "for ticker in tickers_list:\n",
    "    data[ticker] = yf.download(ticker,'2013-01-01','2014-01-01', interval='1mo')['Adj Close']\n",
    "\n",
    "data = data.reset_index()\n",
    "data['sum'] = data.sum(axis=1).to_list()\n",
    "\n",
    "df = pd.DataFrame(columns=tickers_list)\n",
    "for ticker in tickers_list:\n",
    "    div = sum(yf.Ticker(ticker).history(start='2013-01-01',end='2014-01-01').Dividends.to_list())\n",
    "    split = sum(yf.Ticker(ticker).history(start='2013-01-01',end='2014-01-01')['Stock Splits'].to_list())\n",
    "    df[ticker] = [div, split]\n",
    "df['sum'] = df.sum(axis=1).to_list()\n",
    "\n",
    "tickers_list = ['^N100']\n",
    "dt = pd.DataFrame(columns=tickers_list)\n",
    "for ticker in tickers_list:\n",
    "    dt[ticker] = yf.download(ticker,'2013-01-01','2014-01-01', interval='1mo')['Adj Close']\n",
    "    \n",
    "data['N-100'] = dt['^N100'].to_list()\n",
    "\n",
    "portfolio_g = (data['sum'][11] + df['sum'][0] - data['sum'][0]) / data['sum'][0]\n",
    "market_g = (data['N-100'][11] - data['N-100'][0]) / data['N-100'][0]\n",
    "\n",
    "lst_3.append(portfolio_g)\n",
    "\n",
    "if df['sum'][1] == 0:\n",
    "    print('Growth of Portfolio:', portfolio_g)\n",
    "    print('Growth of Market Index:', market_g)\n",
    "else:\n",
    "    print('Есть дробление акций')"
   ]
  },
  {
   "cell_type": "code",
   "execution_count": 56,
   "metadata": {
    "collapsed": true
   },
   "outputs": [
    {
     "name": "stdout",
     "output_type": "stream",
     "text": [
      "[*********************100%***********************]  1 of 1 completed\n"
     ]
    },
    {
     "name": "stderr",
     "output_type": "stream",
     "text": [
      "<ipython-input-56-90d5891434c6>:10: FutureWarning: Dropping of nuisance columns in DataFrame reductions (with 'numeric_only=None') is deprecated; in a future version this will raise TypeError.  Select only valid columns before calling the reduction.\n",
      "  data['sum'] = data.sum(axis=1).to_list()\n"
     ]
    },
    {
     "name": "stdout",
     "output_type": "stream",
     "text": [
      "[*********************100%***********************]  1 of 1 completed\n",
      "Growth of Portfolio: 0.20105805615823658\n",
      "Growth of Market Index: 0.15915794648500597\n"
     ]
    }
   ],
   "source": [
    "# 1 акция\n",
    "tickers_list = ['URW.AS']\n",
    "\n",
    "data = pd.DataFrame(columns=tickers_list)\n",
    "\n",
    "for ticker in tickers_list:\n",
    "    data[ticker] = yf.download(ticker,'2013-01-01','2014-01-01', interval='1mo')['Adj Close']\n",
    "\n",
    "data = data.reset_index()\n",
    "data['sum'] = data.sum(axis=1).to_list()\n",
    "\n",
    "df = pd.DataFrame(columns=tickers_list)\n",
    "for ticker in tickers_list:\n",
    "    div = sum(yf.Ticker(ticker).history(start='2013-01-01',end='2014-01-01').Dividends.to_list())\n",
    "    split = sum(yf.Ticker(ticker).history(start='2013-01-01',end='2014-01-01')['Stock Splits'].to_list())\n",
    "    df[ticker] = [div, split]\n",
    "df['sum'] = df.sum(axis=1).to_list()\n",
    "\n",
    "tickers_list = ['^N100']\n",
    "dt = pd.DataFrame(columns=tickers_list)\n",
    "for ticker in tickers_list:\n",
    "    dt[ticker] = yf.download(ticker,'2013-01-01','2014-01-01', interval='1mo')['Adj Close']\n",
    "    \n",
    "data['N-100'] = dt['^N100'].to_list()\n",
    "\n",
    "portfolio_g = (data['sum'][11] + df['sum'][0] - data['sum'][0]) / data['sum'][0]\n",
    "market_g = (data['N-100'][11] - data['N-100'][0]) / data['N-100'][0]\n",
    "\n",
    "lst_1.append(portfolio_g)\n",
    "\n",
    "if df['sum'][1] == 0:\n",
    "    print('Growth of Portfolio:', portfolio_g)\n",
    "    print('Growth of Market Index:', market_g)\n",
    "else:\n",
    "    print('Есть дробление акций')"
   ]
  },
  {
   "cell_type": "markdown",
   "metadata": {},
   "source": [
    "### Портфель на 2014 год\n",
    "_По данным за 2013_\n",
    "\n",
    "- UNIBAIL-RODAMCO-WE\n",
    "- GECINA\n",
    "- KERING\n",
    "- LVMH\n",
    "- SOLVAY\n",
    "- SANOFI\n",
    "- GBL\n",
    "- L'OREAL\n",
    "- TOTALENERIES\n",
    "- AB INBEV"
   ]
  },
  {
   "cell_type": "code",
   "execution_count": 57,
   "metadata": {
    "collapsed": true
   },
   "outputs": [
    {
     "name": "stdout",
     "output_type": "stream",
     "text": [
      "[*********************100%***********************]  1 of 1 completed\n",
      "[*********************100%***********************]  1 of 1 completed\n",
      "[*********************100%***********************]  1 of 1 completed\n",
      "[*********************100%***********************]  1 of 1 completed\n",
      "[*********************100%***********************]  1 of 1 completed\n",
      "[*********************100%***********************]  1 of 1 completed\n",
      "[*********************100%***********************]  1 of 1 completed\n",
      "[*********************100%***********************]  1 of 1 completed\n",
      "[*********************100%***********************]  1 of 1 completed\n",
      "[*********************100%***********************]  1 of 1 completed\n"
     ]
    },
    {
     "name": "stderr",
     "output_type": "stream",
     "text": [
      "<ipython-input-57-5497f1670ce6>:19: FutureWarning: Dropping of nuisance columns in DataFrame reductions (with 'numeric_only=None') is deprecated; in a future version this will raise TypeError.  Select only valid columns before calling the reduction.\n",
      "  data['sum'] = data.sum(axis=1).to_list()\n"
     ]
    },
    {
     "name": "stdout",
     "output_type": "stream",
     "text": [
      "[*********************100%***********************]  1 of 1 completed\n",
      "Growth of Portfolio: 0.19285126505974884\n",
      "Growth of Market Index: 0.06730402666123084\n"
     ]
    }
   ],
   "source": [
    "# 10 акций\n",
    "tickers_list = ['URW.AS', \n",
    "                'GFC.PA',\n",
    "                'KER.PA',\n",
    "                'MC.PA',\n",
    "                'SOLB.BR',\n",
    "                'SAN.PA',\n",
    "                'GBLB.BR',\n",
    "                'OR.PA',\n",
    "                'TTE.PA',\n",
    "                'ABI.BR']\n",
    "\n",
    "data = pd.DataFrame(columns=tickers_list)\n",
    "\n",
    "for ticker in tickers_list:\n",
    "    data[ticker] = yf.download(ticker,'2014-01-01','2015-01-01', interval='1mo')['Adj Close']\n",
    "\n",
    "data = data.reset_index()\n",
    "data['sum'] = data.sum(axis=1).to_list()\n",
    "\n",
    "df = pd.DataFrame(columns=tickers_list)\n",
    "for ticker in tickers_list:\n",
    "    div = sum(yf.Ticker(ticker).history(start='2014-01-01',end='2015-01-01').Dividends.to_list())\n",
    "    split = sum(yf.Ticker(ticker).history(start='2014-01-01',end='2015-01-01')['Stock Splits'].to_list())\n",
    "    df[ticker] = [div, split]\n",
    "df['sum'] = df.sum(axis=1).to_list()\n",
    "\n",
    "tickers_list = ['^N100']\n",
    "dt = pd.DataFrame(columns=tickers_list)\n",
    "for ticker in tickers_list:\n",
    "    dt[ticker] = yf.download(ticker,'2014-01-01','2015-01-01', interval='1mo')['Adj Close']\n",
    "    \n",
    "data['N-100'] = dt['^N100'].to_list()\n",
    "\n",
    "portfolio_g = (data['sum'][11] + df['sum'][0] - data['sum'][0]) / data['sum'][0]\n",
    "market_g = (data['N-100'][11] - data['N-100'][0]) / data['N-100'][0]\n",
    "\n",
    "lst_10.append(portfolio_g)\n",
    "market.append(market_g)\n",
    "\n",
    "if df['sum'][1] == 0:\n",
    "    print('Growth of Portfolio:', portfolio_g)\n",
    "    print('Growth of Market Index:', market_g)\n",
    "else:\n",
    "    print('Есть дробление акций')"
   ]
  },
  {
   "cell_type": "code",
   "execution_count": 58,
   "metadata": {
    "collapsed": true
   },
   "outputs": [
    {
     "name": "stdout",
     "output_type": "stream",
     "text": [
      "[*********************100%***********************]  1 of 1 completed\n",
      "[*********************100%***********************]  1 of 1 completed\n",
      "[*********************100%***********************]  1 of 1 completed\n",
      "[*********************100%***********************]  1 of 1 completed\n",
      "[*********************100%***********************]  1 of 1 completed\n",
      "[*********************100%***********************]  1 of 1 completed\n",
      "[*********************100%***********************]  1 of 1 completed\n"
     ]
    },
    {
     "name": "stderr",
     "output_type": "stream",
     "text": [
      "<ipython-input-58-09cfeb3e7de9>:16: FutureWarning: Dropping of nuisance columns in DataFrame reductions (with 'numeric_only=None') is deprecated; in a future version this will raise TypeError.  Select only valid columns before calling the reduction.\n",
      "  data['sum'] = data.sum(axis=1).to_list()\n"
     ]
    },
    {
     "name": "stdout",
     "output_type": "stream",
     "text": [
      "[*********************100%***********************]  1 of 1 completed\n",
      "Growth of Portfolio: 0.17486897121709002\n",
      "Growth of Market Index: 0.06730402666123084\n"
     ]
    }
   ],
   "source": [
    "# 7 акций\n",
    "tickers_list = ['URW.AS', \n",
    "                'GFC.PA',\n",
    "                'KER.PA',\n",
    "                'MC.PA',\n",
    "                'SOLB.BR',\n",
    "                'SAN.PA',\n",
    "                'GBLB.BR']\n",
    "\n",
    "data = pd.DataFrame(columns=tickers_list)\n",
    "\n",
    "for ticker in tickers_list:\n",
    "    data[ticker] = yf.download(ticker,'2014-01-01','2015-01-01', interval='1mo')['Adj Close']\n",
    "\n",
    "data = data.reset_index()\n",
    "data['sum'] = data.sum(axis=1).to_list()\n",
    "\n",
    "df = pd.DataFrame(columns=tickers_list)\n",
    "for ticker in tickers_list:\n",
    "    div = sum(yf.Ticker(ticker).history(start='2014-01-01',end='2015-01-01').Dividends.to_list())\n",
    "    split = sum(yf.Ticker(ticker).history(start='2014-01-01',end='2015-01-01')['Stock Splits'].to_list())\n",
    "    df[ticker] = [div, split]\n",
    "df['sum'] = df.sum(axis=1).to_list()\n",
    "\n",
    "tickers_list = ['^N100']\n",
    "dt = pd.DataFrame(columns=tickers_list)\n",
    "for ticker in tickers_list:\n",
    "    dt[ticker] = yf.download(ticker,'2014-01-01','2015-01-01', interval='1mo')['Adj Close']\n",
    "    \n",
    "data['N-100'] = dt['^N100'].to_list()\n",
    "\n",
    "portfolio_g = (data['sum'][11] + df['sum'][0] - data['sum'][0]) / data['sum'][0]\n",
    "market_g = (data['N-100'][11] - data['N-100'][0]) / data['N-100'][0]\n",
    "\n",
    "lst_7.append(portfolio_g)\n",
    "\n",
    "if df['sum'][1] == 0:\n",
    "    print('Growth of Portfolio:', portfolio_g)\n",
    "    print('Growth of Market Index:', market_g)\n",
    "else:\n",
    "    print('Есть дробление акций')"
   ]
  },
  {
   "cell_type": "code",
   "execution_count": 59,
   "metadata": {
    "collapsed": true
   },
   "outputs": [
    {
     "name": "stdout",
     "output_type": "stream",
     "text": [
      "[*********************100%***********************]  1 of 1 completed\n",
      "[*********************100%***********************]  1 of 1 completed\n",
      "[*********************100%***********************]  1 of 1 completed\n",
      "[*********************100%***********************]  1 of 1 completed\n",
      "[*********************100%***********************]  1 of 1 completed\n"
     ]
    },
    {
     "name": "stderr",
     "output_type": "stream",
     "text": [
      "<ipython-input-59-33cb723d1885>:14: FutureWarning: Dropping of nuisance columns in DataFrame reductions (with 'numeric_only=None') is deprecated; in a future version this will raise TypeError.  Select only valid columns before calling the reduction.\n",
      "  data['sum'] = data.sum(axis=1).to_list()\n"
     ]
    },
    {
     "name": "stdout",
     "output_type": "stream",
     "text": [
      "[*********************100%***********************]  1 of 1 completed\n",
      "Growth of Portfolio: 0.18169586727836828\n",
      "Growth of Market Index: 0.06730402666123084\n"
     ]
    }
   ],
   "source": [
    "# 5 акций\n",
    "tickers_list = ['URW.AS', \n",
    "                'GFC.PA',\n",
    "                'KER.PA',\n",
    "                'MC.PA',\n",
    "                'SOLB.BR']\n",
    "\n",
    "data = pd.DataFrame(columns=tickers_list)\n",
    "\n",
    "for ticker in tickers_list:\n",
    "    data[ticker] = yf.download(ticker,'2014-01-01','2015-01-01', interval='1mo')['Adj Close']\n",
    "\n",
    "data = data.reset_index()\n",
    "data['sum'] = data.sum(axis=1).to_list()\n",
    "\n",
    "df = pd.DataFrame(columns=tickers_list)\n",
    "for ticker in tickers_list:\n",
    "    div = sum(yf.Ticker(ticker).history(start='2014-01-01',end='2015-01-01').Dividends.to_list())\n",
    "    split = sum(yf.Ticker(ticker).history(start='2014-01-01',end='2015-01-01')['Stock Splits'].to_list())\n",
    "    df[ticker] = [div, split]\n",
    "df['sum'] = df.sum(axis=1).to_list()\n",
    "\n",
    "tickers_list = ['^N100']\n",
    "dt = pd.DataFrame(columns=tickers_list)\n",
    "for ticker in tickers_list:\n",
    "    dt[ticker] = yf.download(ticker,'2014-01-01','2015-01-01', interval='1mo')['Adj Close']\n",
    "    \n",
    "data['N-100'] = dt['^N100'].to_list()\n",
    "\n",
    "portfolio_g = (data['sum'][11] + df['sum'][0] - data['sum'][0]) / data['sum'][0]\n",
    "market_g = (data['N-100'][11] - data['N-100'][0]) / data['N-100'][0]\n",
    "\n",
    "lst_5.append(portfolio_g)\n",
    "\n",
    "if df['sum'][1] == 0:\n",
    "    print('Growth of Portfolio:', portfolio_g)\n",
    "    print('Growth of Market Index:', market_g)\n",
    "else:\n",
    "    print('Есть дробление акций')"
   ]
  },
  {
   "cell_type": "code",
   "execution_count": 60,
   "metadata": {
    "collapsed": true
   },
   "outputs": [
    {
     "name": "stdout",
     "output_type": "stream",
     "text": [
      "[*********************100%***********************]  1 of 1 completed\n",
      "[*********************100%***********************]  1 of 1 completed\n",
      "[*********************100%***********************]  1 of 1 completed\n"
     ]
    },
    {
     "name": "stderr",
     "output_type": "stream",
     "text": [
      "<ipython-input-60-2b0ef9881526>:12: FutureWarning: Dropping of nuisance columns in DataFrame reductions (with 'numeric_only=None') is deprecated; in a future version this will raise TypeError.  Select only valid columns before calling the reduction.\n",
      "  data['sum'] = data.sum(axis=1).to_list()\n"
     ]
    },
    {
     "name": "stdout",
     "output_type": "stream",
     "text": [
      "[*********************100%***********************]  1 of 1 completed\n",
      "Growth of Portfolio: 0.24218400828932293\n",
      "Growth of Market Index: 0.06730402666123084\n"
     ]
    }
   ],
   "source": [
    "# 3 акции\n",
    "tickers_list = ['URW.AS', \n",
    "                'GFC.PA',\n",
    "                'KER.PA']\n",
    "\n",
    "data = pd.DataFrame(columns=tickers_list)\n",
    "\n",
    "for ticker in tickers_list:\n",
    "    data[ticker] = yf.download(ticker,'2014-01-01','2015-01-01', interval='1mo')['Adj Close']\n",
    "\n",
    "data = data.reset_index()\n",
    "data['sum'] = data.sum(axis=1).to_list()\n",
    "\n",
    "df = pd.DataFrame(columns=tickers_list)\n",
    "for ticker in tickers_list:\n",
    "    div = sum(yf.Ticker(ticker).history(start='2014-01-01',end='2015-01-01').Dividends.to_list())\n",
    "    split = sum(yf.Ticker(ticker).history(start='2014-01-01',end='2015-01-01')['Stock Splits'].to_list())\n",
    "    df[ticker] = [div, split]\n",
    "df['sum'] = df.sum(axis=1).to_list()\n",
    "\n",
    "tickers_list = ['^N100']\n",
    "dt = pd.DataFrame(columns=tickers_list)\n",
    "for ticker in tickers_list:\n",
    "    dt[ticker] = yf.download(ticker,'2014-01-01','2015-01-01', interval='1mo')['Adj Close']\n",
    "    \n",
    "data['N-100'] = dt['^N100'].to_list()\n",
    "\n",
    "portfolio_g = (data['sum'][11] + df['sum'][0] - data['sum'][0]) / data['sum'][0]\n",
    "market_g = (data['N-100'][11] - data['N-100'][0]) / data['N-100'][0]\n",
    "\n",
    "lst_3.append(portfolio_g)\n",
    "\n",
    "if df['sum'][1] == 0:\n",
    "    print('Growth of Portfolio:', portfolio_g)\n",
    "    print('Growth of Market Index:', market_g)\n",
    "else:\n",
    "    print('Есть дробление акций')"
   ]
  },
  {
   "cell_type": "code",
   "execution_count": 61,
   "metadata": {
    "collapsed": true
   },
   "outputs": [
    {
     "name": "stdout",
     "output_type": "stream",
     "text": [
      "[*********************100%***********************]  1 of 1 completed\n"
     ]
    },
    {
     "name": "stderr",
     "output_type": "stream",
     "text": [
      "<ipython-input-61-7345672aaa31>:10: FutureWarning: Dropping of nuisance columns in DataFrame reductions (with 'numeric_only=None') is deprecated; in a future version this will raise TypeError.  Select only valid columns before calling the reduction.\n",
      "  data['sum'] = data.sum(axis=1).to_list()\n"
     ]
    },
    {
     "name": "stdout",
     "output_type": "stream",
     "text": [
      "[*********************100%***********************]  1 of 1 completed\n",
      "Growth of Portfolio: 0.32873104347344495\n",
      "Growth of Market Index: 0.06730402666123084\n"
     ]
    }
   ],
   "source": [
    "# 1 акция\n",
    "tickers_list = ['URW.AS']\n",
    "\n",
    "data = pd.DataFrame(columns=tickers_list)\n",
    "\n",
    "for ticker in tickers_list:\n",
    "    data[ticker] = yf.download(ticker,'2014-01-01','2015-01-01', interval='1mo')['Adj Close']\n",
    "\n",
    "data = data.reset_index()\n",
    "data['sum'] = data.sum(axis=1).to_list()\n",
    "\n",
    "df = pd.DataFrame(columns=tickers_list)\n",
    "for ticker in tickers_list:\n",
    "    div = sum(yf.Ticker(ticker).history(start='2014-01-01',end='2015-01-01').Dividends.to_list())\n",
    "    split = sum(yf.Ticker(ticker).history(start='2014-01-01',end='2015-01-01')['Stock Splits'].to_list())\n",
    "    df[ticker] = [div, split]\n",
    "df['sum'] = df.sum(axis=1).to_list()\n",
    "\n",
    "tickers_list = ['^N100']\n",
    "dt = pd.DataFrame(columns=tickers_list)\n",
    "for ticker in tickers_list:\n",
    "    dt[ticker] = yf.download(ticker,'2014-01-01','2015-01-01', interval='1mo')['Adj Close']\n",
    "    \n",
    "data['N-100'] = dt['^N100'].to_list()\n",
    "\n",
    "portfolio_g = (data['sum'][11] + df['sum'][0] - data['sum'][0]) / data['sum'][0]\n",
    "market_g = (data['N-100'][11] - data['N-100'][0]) / data['N-100'][0]\n",
    "\n",
    "lst_1.append(portfolio_g)\n",
    "\n",
    "if df['sum'][1] == 0:\n",
    "    print('Growth of Portfolio:', portfolio_g)\n",
    "    print('Growth of Market Index:', market_g)\n",
    "else:\n",
    "    print('Есть дробление акций')"
   ]
  },
  {
   "cell_type": "markdown",
   "metadata": {},
   "source": [
    "### Портфель на 2015 год\n",
    "_По данным за 2014_\n",
    "\n",
    "- UNIBAIL-RODAMCO-WE\n",
    "- GECINA\n",
    "- KERING\n",
    "- LVMH\n",
    "- SOLVAY\n",
    "- AB INBEV\n",
    "- SANOFI\n",
    "- GBL\n",
    "- L'OREAL\n",
    "- TOTALENERIES"
   ]
  },
  {
   "cell_type": "code",
   "execution_count": 62,
   "metadata": {
    "collapsed": true
   },
   "outputs": [
    {
     "name": "stdout",
     "output_type": "stream",
     "text": [
      "[*********************100%***********************]  1 of 1 completed\n",
      "[*********************100%***********************]  1 of 1 completed\n",
      "[*********************100%***********************]  1 of 1 completed\n",
      "[*********************100%***********************]  1 of 1 completed\n",
      "[*********************100%***********************]  1 of 1 completed\n",
      "[*********************100%***********************]  1 of 1 completed\n",
      "[*********************100%***********************]  1 of 1 completed\n",
      "[*********************100%***********************]  1 of 1 completed\n",
      "[*********************100%***********************]  1 of 1 completed\n",
      "[*********************100%***********************]  1 of 1 completed\n"
     ]
    },
    {
     "name": "stderr",
     "output_type": "stream",
     "text": [
      "<ipython-input-62-91c8a9ffe9d4>:19: FutureWarning: Dropping of nuisance columns in DataFrame reductions (with 'numeric_only=None') is deprecated; in a future version this will raise TypeError.  Select only valid columns before calling the reduction.\n",
      "  data['sum'] = data.sum(axis=1).to_list()\n"
     ]
    },
    {
     "name": "stdout",
     "output_type": "stream",
     "text": [
      "[*********************100%***********************]  1 of 1 completed\n",
      "Growth of Portfolio: 0.028727861014992705\n",
      "Growth of Market Index: 5.51571162916746e-05\n"
     ]
    }
   ],
   "source": [
    "# 10 акций\n",
    "tickers_list = ['URW.AS', \n",
    "                'GFC.PA',\n",
    "                'KER.PA',\n",
    "                'MC.PA',\n",
    "                'SOLB.BR',\n",
    "                'ABI.BR',\n",
    "                'SAN.PA',\n",
    "                'GBLB.BR',\n",
    "                'OR.PA',\n",
    "                'TTE.PA']\n",
    "\n",
    "data = pd.DataFrame(columns=tickers_list)\n",
    "\n",
    "for ticker in tickers_list:\n",
    "    data[ticker] = yf.download(ticker,'2015-01-01','2016-01-01', interval='1mo')['Adj Close']\n",
    "\n",
    "data = data.reset_index()\n",
    "data['sum'] = data.sum(axis=1).to_list()\n",
    "\n",
    "df = pd.DataFrame(columns=tickers_list)\n",
    "for ticker in tickers_list:\n",
    "    div = sum(yf.Ticker(ticker).history(start='2015-01-01',end='2016-01-01').Dividends.to_list())\n",
    "    split = sum(yf.Ticker(ticker).history(start='2015-01-01',end='2016-01-01')['Stock Splits'].to_list())\n",
    "    df[ticker] = [div, split]\n",
    "df['sum'] = df.sum(axis=1).to_list()\n",
    "\n",
    "tickers_list = ['^N100']\n",
    "dt = pd.DataFrame(columns=tickers_list)\n",
    "for ticker in tickers_list:\n",
    "    dt[ticker] = yf.download(ticker,'2015-01-01','2016-01-01', interval='1mo')['Adj Close']\n",
    "    \n",
    "data['N-100'] = dt['^N100'].to_list()\n",
    "\n",
    "portfolio_g = (data['sum'][11] + df['sum'][0] - data['sum'][0]) / data['sum'][0]\n",
    "market_g = (data['N-100'][11] - data['N-100'][0]) / data['N-100'][0]\n",
    "\n",
    "lst_10.append(portfolio_g)\n",
    "market.append(market_g)\n",
    "\n",
    "if df['sum'][1] == 0:\n",
    "    print('Growth of Portfolio:', portfolio_g)\n",
    "    print('Growth of Market Index:', market_g)\n",
    "else:\n",
    "    print('Есть дробление акций')"
   ]
  },
  {
   "cell_type": "code",
   "execution_count": 63,
   "metadata": {
    "collapsed": true
   },
   "outputs": [
    {
     "name": "stdout",
     "output_type": "stream",
     "text": [
      "[*********************100%***********************]  1 of 1 completed\n",
      "[*********************100%***********************]  1 of 1 completed\n",
      "[*********************100%***********************]  1 of 1 completed\n",
      "[*********************100%***********************]  1 of 1 completed\n",
      "[*********************100%***********************]  1 of 1 completed\n",
      "[*********************100%***********************]  1 of 1 completed\n",
      "[*********************100%***********************]  1 of 1 completed\n"
     ]
    },
    {
     "name": "stderr",
     "output_type": "stream",
     "text": [
      "<ipython-input-63-3778dee5634f>:16: FutureWarning: Dropping of nuisance columns in DataFrame reductions (with 'numeric_only=None') is deprecated; in a future version this will raise TypeError.  Select only valid columns before calling the reduction.\n",
      "  data['sum'] = data.sum(axis=1).to_list()\n"
     ]
    },
    {
     "name": "stdout",
     "output_type": "stream",
     "text": [
      "[*********************100%***********************]  1 of 1 completed\n",
      "Growth of Portfolio: 0.02139935590422271\n",
      "Growth of Market Index: 5.51571162916746e-05\n"
     ]
    }
   ],
   "source": [
    "# 7 акций\n",
    "tickers_list = ['URW.AS', \n",
    "                'GFC.PA',\n",
    "                'KER.PA',\n",
    "                'MC.PA',\n",
    "                'SOLB.BR',\n",
    "                'ABI.BR',\n",
    "                'SAN.PA']\n",
    "\n",
    "data = pd.DataFrame(columns=tickers_list)\n",
    "\n",
    "for ticker in tickers_list:\n",
    "    data[ticker] = yf.download(ticker,'2015-01-01','2016-01-01', interval='1mo')['Adj Close']\n",
    "\n",
    "data = data.reset_index()\n",
    "data['sum'] = data.sum(axis=1).to_list()\n",
    "\n",
    "df = pd.DataFrame(columns=tickers_list)\n",
    "for ticker in tickers_list:\n",
    "    div = sum(yf.Ticker(ticker).history(start='2015-01-01',end='2016-01-01').Dividends.to_list())\n",
    "    split = sum(yf.Ticker(ticker).history(start='2015-01-01',end='2016-01-01')['Stock Splits'].to_list())\n",
    "    df[ticker] = [div, split]\n",
    "df['sum'] = df.sum(axis=1).to_list()\n",
    "\n",
    "tickers_list = ['^N100']\n",
    "dt = pd.DataFrame(columns=tickers_list)\n",
    "for ticker in tickers_list:\n",
    "    dt[ticker] = yf.download(ticker,'2015-01-01','2016-01-01', interval='1mo')['Adj Close']\n",
    "    \n",
    "data['N-100'] = dt['^N100'].to_list()\n",
    "\n",
    "portfolio_g = (data['sum'][11] + df['sum'][0] - data['sum'][0]) / data['sum'][0]\n",
    "market_g = (data['N-100'][11] - data['N-100'][0]) / data['N-100'][0]\n",
    "\n",
    "lst_7.append(portfolio_g)\n",
    "\n",
    "if df['sum'][1] == 0:\n",
    "    print('Growth of Portfolio:', portfolio_g)\n",
    "    print('Growth of Market Index:', market_g)\n",
    "else:\n",
    "    print('Есть дробление акций')"
   ]
  },
  {
   "cell_type": "code",
   "execution_count": 64,
   "metadata": {
    "collapsed": true
   },
   "outputs": [
    {
     "name": "stdout",
     "output_type": "stream",
     "text": [
      "[*********************100%***********************]  1 of 1 completed\n",
      "[*********************100%***********************]  1 of 1 completed\n",
      "[*********************100%***********************]  1 of 1 completed\n",
      "[*********************100%***********************]  1 of 1 completed\n",
      "[*********************100%***********************]  1 of 1 completed\n"
     ]
    },
    {
     "name": "stderr",
     "output_type": "stream",
     "text": [
      "<ipython-input-64-a31eb9d278be>:14: FutureWarning: Dropping of nuisance columns in DataFrame reductions (with 'numeric_only=None') is deprecated; in a future version this will raise TypeError.  Select only valid columns before calling the reduction.\n",
      "  data['sum'] = data.sum(axis=1).to_list()\n"
     ]
    },
    {
     "name": "stdout",
     "output_type": "stream",
     "text": [
      "[*********************100%***********************]  1 of 1 completed\n",
      "Growth of Portfolio: 0.002937159625152927\n",
      "Growth of Market Index: 5.51571162916746e-05\n"
     ]
    }
   ],
   "source": [
    "# 5 акций\n",
    "tickers_list = ['URW.AS', \n",
    "                'GFC.PA',\n",
    "                'KER.PA',\n",
    "                'MC.PA',\n",
    "                'SOLB.BR']\n",
    "\n",
    "data = pd.DataFrame(columns=tickers_list)\n",
    "\n",
    "for ticker in tickers_list:\n",
    "    data[ticker] = yf.download(ticker,'2015-01-01','2016-01-01', interval='1mo')['Adj Close']\n",
    "\n",
    "data = data.reset_index()\n",
    "data['sum'] = data.sum(axis=1).to_list()\n",
    "\n",
    "df = pd.DataFrame(columns=tickers_list)\n",
    "for ticker in tickers_list:\n",
    "    div = sum(yf.Ticker(ticker).history(start='2015-01-01',end='2016-01-01').Dividends.to_list())\n",
    "    split = sum(yf.Ticker(ticker).history(start='2015-01-01',end='2016-01-01')['Stock Splits'].to_list())\n",
    "    df[ticker] = [div, split]\n",
    "df['sum'] = df.sum(axis=1).to_list()\n",
    "\n",
    "tickers_list = ['^N100']\n",
    "dt = pd.DataFrame(columns=tickers_list)\n",
    "for ticker in tickers_list:\n",
    "    dt[ticker] = yf.download(ticker,'2015-01-01','2016-01-01', interval='1mo')['Adj Close']\n",
    "    \n",
    "data['N-100'] = dt['^N100'].to_list()\n",
    "\n",
    "portfolio_g = (data['sum'][11] + df['sum'][0] - data['sum'][0]) / data['sum'][0]\n",
    "market_g = (data['N-100'][11] - data['N-100'][0]) / data['N-100'][0]\n",
    "\n",
    "lst_5.append(portfolio_g)\n",
    "\n",
    "if df['sum'][1] == 0:\n",
    "    print('Growth of Portfolio:', portfolio_g)\n",
    "    print('Growth of Market Index:', market_g)\n",
    "else:\n",
    "    print('Есть дробление акций')"
   ]
  },
  {
   "cell_type": "code",
   "execution_count": 65,
   "metadata": {
    "collapsed": true
   },
   "outputs": [
    {
     "name": "stdout",
     "output_type": "stream",
     "text": [
      "[*********************100%***********************]  1 of 1 completed\n",
      "[*********************100%***********************]  1 of 1 completed\n",
      "[*********************100%***********************]  1 of 1 completed\n"
     ]
    },
    {
     "name": "stderr",
     "output_type": "stream",
     "text": [
      "<ipython-input-65-4333e212bf81>:12: FutureWarning: Dropping of nuisance columns in DataFrame reductions (with 'numeric_only=None') is deprecated; in a future version this will raise TypeError.  Select only valid columns before calling the reduction.\n",
      "  data['sum'] = data.sum(axis=1).to_list()\n"
     ]
    },
    {
     "name": "stdout",
     "output_type": "stream",
     "text": [
      "[*********************100%***********************]  1 of 1 completed\n",
      "Growth of Portfolio: 0.002912287167990601\n",
      "Growth of Market Index: 5.51571162916746e-05\n"
     ]
    }
   ],
   "source": [
    "# 3 акции\n",
    "tickers_list = ['URW.AS', \n",
    "                'GFC.PA',\n",
    "                'KER.PA']\n",
    "\n",
    "data = pd.DataFrame(columns=tickers_list)\n",
    "\n",
    "for ticker in tickers_list:\n",
    "    data[ticker] = yf.download(ticker,'2015-01-01','2016-01-01', interval='1mo')['Adj Close']\n",
    "\n",
    "data = data.reset_index()\n",
    "data['sum'] = data.sum(axis=1).to_list()\n",
    "\n",
    "df = pd.DataFrame(columns=tickers_list)\n",
    "for ticker in tickers_list:\n",
    "    div = sum(yf.Ticker(ticker).history(start='2015-01-01',end='2016-01-01').Dividends.to_list())\n",
    "    split = sum(yf.Ticker(ticker).history(start='2015-01-01',end='2016-01-01')['Stock Splits'].to_list())\n",
    "    df[ticker] = [div, split]\n",
    "df['sum'] = df.sum(axis=1).to_list()\n",
    "\n",
    "tickers_list = ['^N100']\n",
    "dt = pd.DataFrame(columns=tickers_list)\n",
    "for ticker in tickers_list:\n",
    "    dt[ticker] = yf.download(ticker,'2015-01-01','2016-01-01', interval='1mo')['Adj Close']\n",
    "    \n",
    "data['N-100'] = dt['^N100'].to_list()\n",
    "\n",
    "portfolio_g = (data['sum'][11] + df['sum'][0] - data['sum'][0]) / data['sum'][0]\n",
    "market_g = (data['N-100'][11] - data['N-100'][0]) / data['N-100'][0]\n",
    "\n",
    "lst_3.append(portfolio_g)\n",
    "\n",
    "if df['sum'][1] == 0:\n",
    "    print('Growth of Portfolio:', portfolio_g)\n",
    "    print('Growth of Market Index:', market_g)\n",
    "else:\n",
    "    print('Есть дробление акций')"
   ]
  },
  {
   "cell_type": "code",
   "execution_count": 66,
   "metadata": {
    "collapsed": true
   },
   "outputs": [
    {
     "name": "stdout",
     "output_type": "stream",
     "text": [
      "[*********************100%***********************]  1 of 1 completed\n"
     ]
    },
    {
     "name": "stderr",
     "output_type": "stream",
     "text": [
      "<ipython-input-66-25981751cc20>:10: FutureWarning: Dropping of nuisance columns in DataFrame reductions (with 'numeric_only=None') is deprecated; in a future version this will raise TypeError.  Select only valid columns before calling the reduction.\n",
      "  data['sum'] = data.sum(axis=1).to_list()\n"
     ]
    },
    {
     "name": "stdout",
     "output_type": "stream",
     "text": [
      "[*********************100%***********************]  1 of 1 completed\n",
      "Growth of Portfolio: 0.03622070021200464\n",
      "Growth of Market Index: 5.51571162916746e-05\n"
     ]
    }
   ],
   "source": [
    "# 1 акция\n",
    "tickers_list = ['URW.AS']\n",
    "\n",
    "data = pd.DataFrame(columns=tickers_list)\n",
    "\n",
    "for ticker in tickers_list:\n",
    "    data[ticker] = yf.download(ticker,'2015-01-01','2016-01-01', interval='1mo')['Adj Close']\n",
    "\n",
    "data = data.reset_index()\n",
    "data['sum'] = data.sum(axis=1).to_list()\n",
    "\n",
    "df = pd.DataFrame(columns=tickers_list)\n",
    "for ticker in tickers_list:\n",
    "    div = sum(yf.Ticker(ticker).history(start='2015-01-01',end='2016-01-01').Dividends.to_list())\n",
    "    split = sum(yf.Ticker(ticker).history(start='2015-01-01',end='2016-01-01')['Stock Splits'].to_list())\n",
    "    df[ticker] = [div, split]\n",
    "df['sum'] = df.sum(axis=1).to_list()\n",
    "\n",
    "tickers_list = ['^N100']\n",
    "dt = pd.DataFrame(columns=tickers_list)\n",
    "for ticker in tickers_list:\n",
    "    dt[ticker] = yf.download(ticker,'2015-01-01','2016-01-01', interval='1mo')['Adj Close']\n",
    "    \n",
    "data['N-100'] = dt['^N100'].to_list()\n",
    "\n",
    "portfolio_g = (data['sum'][11] + df['sum'][0] - data['sum'][0]) / data['sum'][0]\n",
    "market_g = (data['N-100'][11] - data['N-100'][0]) / data['N-100'][0]\n",
    "\n",
    "lst_1.append(portfolio_g)\n",
    "\n",
    "if df['sum'][1] == 0:\n",
    "    print('Growth of Portfolio:', portfolio_g)\n",
    "    print('Growth of Market Index:', market_g)\n",
    "else:\n",
    "    print('Есть дробление акций')"
   ]
  },
  {
   "cell_type": "markdown",
   "metadata": {},
   "source": [
    "### Портфель на 2016 год\n",
    "_По данным за 2015_\n",
    "\n",
    "- UNIBAIL-RODAMCO-WE\n",
    "- GECINA\n",
    "- KERING\n",
    "- LVMH\n",
    "- AB INBEV\n",
    "- SOLVAY\n",
    "- L'OREAL\n",
    "- VIVENDI SE\n",
    "- SANOFI\n",
    "- GBL"
   ]
  },
  {
   "cell_type": "code",
   "execution_count": 67,
   "metadata": {
    "collapsed": true
   },
   "outputs": [
    {
     "name": "stdout",
     "output_type": "stream",
     "text": [
      "[*********************100%***********************]  1 of 1 completed\n",
      "[*********************100%***********************]  1 of 1 completed\n",
      "[*********************100%***********************]  1 of 1 completed\n",
      "[*********************100%***********************]  1 of 1 completed\n",
      "[*********************100%***********************]  1 of 1 completed\n",
      "[*********************100%***********************]  1 of 1 completed\n",
      "[*********************100%***********************]  1 of 1 completed\n",
      "[*********************100%***********************]  1 of 1 completed\n",
      "[*********************100%***********************]  1 of 1 completed\n",
      "[*********************100%***********************]  1 of 1 completed\n"
     ]
    },
    {
     "name": "stderr",
     "output_type": "stream",
     "text": [
      "<ipython-input-67-c1c81ac012b0>:19: FutureWarning: Dropping of nuisance columns in DataFrame reductions (with 'numeric_only=None') is deprecated; in a future version this will raise TypeError.  Select only valid columns before calling the reduction.\n",
      "  data['sum'] = data.sum(axis=1).to_list()\n"
     ]
    },
    {
     "name": "stdout",
     "output_type": "stream",
     "text": [
      "[*********************100%***********************]  1 of 1 completed\n",
      "Growth of Portfolio: 0.20945384682374005\n",
      "Growth of Market Index: 0.06815741471745218\n"
     ]
    }
   ],
   "source": [
    "# 10 акций\n",
    "tickers_list = ['URW.AS', \n",
    "                'GFC.PA',\n",
    "                'KER.PA',\n",
    "                'MC.PA',\n",
    "                'ABI.BR',\n",
    "                'SOLB.BR',\n",
    "                'OR.PA',\n",
    "                'VIV.PA', \n",
    "                'SAN.PA',\n",
    "                'GBLB.BR']\n",
    "\n",
    "data = pd.DataFrame(columns=tickers_list)\n",
    "\n",
    "for ticker in tickers_list:\n",
    "    data[ticker] = yf.download(ticker,'2016-01-01','2017-01-01', interval='1mo')['Adj Close']\n",
    "\n",
    "data = data.reset_index()\n",
    "data['sum'] = data.sum(axis=1).to_list()\n",
    "\n",
    "df = pd.DataFrame(columns=tickers_list)\n",
    "for ticker in tickers_list:\n",
    "    div = sum(yf.Ticker(ticker).history(start='2016-01-01',end='2017-01-01').Dividends.to_list())\n",
    "    split = sum(yf.Ticker(ticker).history(start='2016-01-01',end='2017-01-01')['Stock Splits'].to_list())\n",
    "    df[ticker] = [div, split]\n",
    "df['sum'] = df.sum(axis=1).to_list()\n",
    "\n",
    "tickers_list = ['^N100']\n",
    "dt = pd.DataFrame(columns=tickers_list)\n",
    "for ticker in tickers_list:\n",
    "    dt[ticker] = yf.download(ticker,'2016-01-01','2017-01-01', interval='1mo')['Adj Close']\n",
    "    \n",
    "data['N-100'] = dt['^N100'].to_list()\n",
    "\n",
    "portfolio_g = (data['sum'][11] + df['sum'][0] - data['sum'][0]) / data['sum'][0]\n",
    "market_g = (data['N-100'][11] - data['N-100'][0]) / data['N-100'][0]\n",
    "\n",
    "lst_10.append(portfolio_g)\n",
    "market.append(market_g)\n",
    "\n",
    "if df['sum'][1] == 0:\n",
    "    print('Growth of Portfolio:', portfolio_g)\n",
    "    print('Growth of Market Index:', market_g)\n",
    "else:\n",
    "    print('Есть дробление акций')"
   ]
  },
  {
   "cell_type": "code",
   "execution_count": 68,
   "metadata": {
    "collapsed": true
   },
   "outputs": [
    {
     "name": "stdout",
     "output_type": "stream",
     "text": [
      "[*********************100%***********************]  1 of 1 completed\n",
      "[*********************100%***********************]  1 of 1 completed\n",
      "[*********************100%***********************]  1 of 1 completed\n",
      "[*********************100%***********************]  1 of 1 completed\n",
      "[*********************100%***********************]  1 of 1 completed\n",
      "[*********************100%***********************]  1 of 1 completed\n",
      "[*********************100%***********************]  1 of 1 completed\n"
     ]
    },
    {
     "name": "stderr",
     "output_type": "stream",
     "text": [
      "<ipython-input-68-0c86a73c239d>:16: FutureWarning: Dropping of nuisance columns in DataFrame reductions (with 'numeric_only=None') is deprecated; in a future version this will raise TypeError.  Select only valid columns before calling the reduction.\n",
      "  data['sum'] = data.sum(axis=1).to_list()\n"
     ]
    },
    {
     "name": "stdout",
     "output_type": "stream",
     "text": [
      "[*********************100%***********************]  1 of 1 completed\n",
      "Growth of Portfolio: 0.2170657992548519\n",
      "Growth of Market Index: 0.06815741471745218\n"
     ]
    }
   ],
   "source": [
    "# 7 акций\n",
    "tickers_list = ['URW.AS', \n",
    "                'GFC.PA',\n",
    "                'KER.PA',\n",
    "                'MC.PA',\n",
    "                'ABI.BR',\n",
    "                'SOLB.BR',\n",
    "                'OR.PA']\n",
    "\n",
    "data = pd.DataFrame(columns=tickers_list)\n",
    "\n",
    "for ticker in tickers_list:\n",
    "    data[ticker] = yf.download(ticker,'2016-01-01','2017-01-01', interval='1mo')['Adj Close']\n",
    "\n",
    "data = data.reset_index()\n",
    "data['sum'] = data.sum(axis=1).to_list()\n",
    "\n",
    "df = pd.DataFrame(columns=tickers_list)\n",
    "for ticker in tickers_list:\n",
    "    div = sum(yf.Ticker(ticker).history(start='2016-01-01',end='2017-01-01').Dividends.to_list())\n",
    "    split = sum(yf.Ticker(ticker).history(start='2016-01-01',end='2017-01-01')['Stock Splits'].to_list())\n",
    "    df[ticker] = [div, split]\n",
    "df['sum'] = df.sum(axis=1).to_list()\n",
    "\n",
    "tickers_list = ['^N100']\n",
    "dt = pd.DataFrame(columns=tickers_list)\n",
    "for ticker in tickers_list:\n",
    "    dt[ticker] = yf.download(ticker,'2016-01-01','2017-01-01', interval='1mo')['Adj Close']\n",
    "    \n",
    "data['N-100'] = dt['^N100'].to_list()\n",
    "\n",
    "portfolio_g = (data['sum'][11] + df['sum'][0] - data['sum'][0]) / data['sum'][0]\n",
    "market_g = (data['N-100'][11] - data['N-100'][0]) / data['N-100'][0]\n",
    "\n",
    "lst_7.append(portfolio_g)\n",
    "\n",
    "if df['sum'][1] == 0:\n",
    "    print('Growth of Portfolio:', portfolio_g)\n",
    "    print('Growth of Market Index:', market_g)\n",
    "else:\n",
    "    print('Есть дробление акций')"
   ]
  },
  {
   "cell_type": "code",
   "execution_count": 69,
   "metadata": {
    "collapsed": true
   },
   "outputs": [
    {
     "name": "stdout",
     "output_type": "stream",
     "text": [
      "[*********************100%***********************]  1 of 1 completed\n",
      "[*********************100%***********************]  1 of 1 completed\n",
      "[*********************100%***********************]  1 of 1 completed\n",
      "[*********************100%***********************]  1 of 1 completed\n",
      "[*********************100%***********************]  1 of 1 completed\n"
     ]
    },
    {
     "name": "stderr",
     "output_type": "stream",
     "text": [
      "<ipython-input-69-eb322e5fb1d3>:14: FutureWarning: Dropping of nuisance columns in DataFrame reductions (with 'numeric_only=None') is deprecated; in a future version this will raise TypeError.  Select only valid columns before calling the reduction.\n",
      "  data['sum'] = data.sum(axis=1).to_list()\n"
     ]
    },
    {
     "name": "stdout",
     "output_type": "stream",
     "text": [
      "[*********************100%***********************]  1 of 1 completed\n",
      "Growth of Portfolio: 0.19996592147373385\n",
      "Growth of Market Index: 0.06815741471745218\n"
     ]
    }
   ],
   "source": [
    "# 5 акций\n",
    "tickers_list = ['URW.AS', \n",
    "                'GFC.PA',\n",
    "                'KER.PA',\n",
    "                'MC.PA',\n",
    "                'ABI.BR']\n",
    "\n",
    "data = pd.DataFrame(columns=tickers_list)\n",
    "\n",
    "for ticker in tickers_list:\n",
    "    data[ticker] = yf.download(ticker,'2016-01-01','2017-01-01', interval='1mo')['Adj Close']\n",
    "\n",
    "data = data.reset_index()\n",
    "data['sum'] = data.sum(axis=1).to_list()\n",
    "\n",
    "df = pd.DataFrame(columns=tickers_list)\n",
    "for ticker in tickers_list:\n",
    "    div = sum(yf.Ticker(ticker).history(start='2016-01-01',end='2017-01-01').Dividends.to_list())\n",
    "    split = sum(yf.Ticker(ticker).history(start='2016-01-01',end='2017-01-01')['Stock Splits'].to_list())\n",
    "    df[ticker] = [div, split]\n",
    "df['sum'] = df.sum(axis=1).to_list()\n",
    "\n",
    "tickers_list = ['^N100']\n",
    "dt = pd.DataFrame(columns=tickers_list)\n",
    "for ticker in tickers_list:\n",
    "    dt[ticker] = yf.download(ticker,'2016-01-01','2017-01-01', interval='1mo')['Adj Close']\n",
    "    \n",
    "data['N-100'] = dt['^N100'].to_list()\n",
    "\n",
    "portfolio_g = (data['sum'][11] + df['sum'][0] - data['sum'][0]) / data['sum'][0]\n",
    "market_g = (data['N-100'][11] - data['N-100'][0]) / data['N-100'][0]\n",
    "\n",
    "lst_5.append(portfolio_g)\n",
    "\n",
    "if df['sum'][1] == 0:\n",
    "    print('Growth of Portfolio:', portfolio_g)\n",
    "    print('Growth of Market Index:', market_g)\n",
    "else:\n",
    "    print('Есть дробление акций')"
   ]
  },
  {
   "cell_type": "code",
   "execution_count": 70,
   "metadata": {
    "collapsed": true
   },
   "outputs": [
    {
     "name": "stdout",
     "output_type": "stream",
     "text": [
      "[*********************100%***********************]  1 of 1 completed\n",
      "[*********************100%***********************]  1 of 1 completed\n",
      "[*********************100%***********************]  1 of 1 completed\n"
     ]
    },
    {
     "name": "stderr",
     "output_type": "stream",
     "text": [
      "<ipython-input-70-6faede1fbca5>:12: FutureWarning: Dropping of nuisance columns in DataFrame reductions (with 'numeric_only=None') is deprecated; in a future version this will raise TypeError.  Select only valid columns before calling the reduction.\n",
      "  data['sum'] = data.sum(axis=1).to_list()\n"
     ]
    },
    {
     "name": "stdout",
     "output_type": "stream",
     "text": [
      "[*********************100%***********************]  1 of 1 completed\n",
      "Growth of Portfolio: 0.23863445525917937\n",
      "Growth of Market Index: 0.06815741471745218\n"
     ]
    }
   ],
   "source": [
    "# 3 акций\n",
    "tickers_list = ['URW.AS', \n",
    "                'GFC.PA',\n",
    "                'KER.PA']\n",
    "\n",
    "data = pd.DataFrame(columns=tickers_list)\n",
    "\n",
    "for ticker in tickers_list:\n",
    "    data[ticker] = yf.download(ticker,'2016-01-01','2017-01-01', interval='1mo')['Adj Close']\n",
    "\n",
    "data = data.reset_index()\n",
    "data['sum'] = data.sum(axis=1).to_list()\n",
    "\n",
    "df = pd.DataFrame(columns=tickers_list)\n",
    "for ticker in tickers_list:\n",
    "    div = sum(yf.Ticker(ticker).history(start='2016-01-01',end='2017-01-01').Dividends.to_list())\n",
    "    split = sum(yf.Ticker(ticker).history(start='2016-01-01',end='2017-01-01')['Stock Splits'].to_list())\n",
    "    df[ticker] = [div, split]\n",
    "df['sum'] = df.sum(axis=1).to_list()\n",
    "\n",
    "tickers_list = ['^N100']\n",
    "dt = pd.DataFrame(columns=tickers_list)\n",
    "for ticker in tickers_list:\n",
    "    dt[ticker] = yf.download(ticker,'2016-01-01','2017-01-01', interval='1mo')['Adj Close']\n",
    "    \n",
    "data['N-100'] = dt['^N100'].to_list()\n",
    "\n",
    "portfolio_g = (data['sum'][11] + df['sum'][0] - data['sum'][0]) / data['sum'][0]\n",
    "market_g = (data['N-100'][11] - data['N-100'][0]) / data['N-100'][0]\n",
    "\n",
    "lst_3.append(portfolio_g)\n",
    "\n",
    "if df['sum'][1] == 0:\n",
    "    print('Growth of Portfolio:', portfolio_g)\n",
    "    print('Growth of Market Index:', market_g)\n",
    "else:\n",
    "    print('Есть дробление акций')"
   ]
  },
  {
   "cell_type": "code",
   "execution_count": 71,
   "metadata": {
    "collapsed": true
   },
   "outputs": [
    {
     "name": "stdout",
     "output_type": "stream",
     "text": [
      "[*********************100%***********************]  1 of 1 completed\n"
     ]
    },
    {
     "name": "stderr",
     "output_type": "stream",
     "text": [
      "<ipython-input-71-49bedff58221>:10: FutureWarning: Dropping of nuisance columns in DataFrame reductions (with 'numeric_only=None') is deprecated; in a future version this will raise TypeError.  Select only valid columns before calling the reduction.\n",
      "  data['sum'] = data.sum(axis=1).to_list()\n"
     ]
    },
    {
     "name": "stdout",
     "output_type": "stream",
     "text": [
      "[*********************100%***********************]  1 of 1 completed\n",
      "Growth of Portfolio: 0.08171371268032321\n",
      "Growth of Market Index: 0.06815741471745218\n"
     ]
    }
   ],
   "source": [
    "# 1 акций\n",
    "tickers_list = ['URW.AS']\n",
    "\n",
    "data = pd.DataFrame(columns=tickers_list)\n",
    "\n",
    "for ticker in tickers_list:\n",
    "    data[ticker] = yf.download(ticker,'2016-01-01','2017-01-01', interval='1mo')['Adj Close']\n",
    "\n",
    "data = data.reset_index()\n",
    "data['sum'] = data.sum(axis=1).to_list()\n",
    "\n",
    "df = pd.DataFrame(columns=tickers_list)\n",
    "for ticker in tickers_list:\n",
    "    div = sum(yf.Ticker(ticker).history(start='2016-01-01',end='2017-01-01').Dividends.to_list())\n",
    "    split = sum(yf.Ticker(ticker).history(start='2016-01-01',end='2017-01-01')['Stock Splits'].to_list())\n",
    "    df[ticker] = [div, split]\n",
    "df['sum'] = df.sum(axis=1).to_list()\n",
    "\n",
    "tickers_list = ['^N100']\n",
    "dt = pd.DataFrame(columns=tickers_list)\n",
    "for ticker in tickers_list:\n",
    "    dt[ticker] = yf.download(ticker,'2016-01-01','2017-01-01', interval='1mo')['Adj Close']\n",
    "    \n",
    "data['N-100'] = dt['^N100'].to_list()\n",
    "\n",
    "portfolio_g = (data['sum'][11] + df['sum'][0] - data['sum'][0]) / data['sum'][0]\n",
    "market_g = (data['N-100'][11] - data['N-100'][0]) / data['N-100'][0]\n",
    "\n",
    "lst_1.append(portfolio_g)\n",
    "\n",
    "if df['sum'][1] == 0:\n",
    "    print('Growth of Portfolio:', portfolio_g)\n",
    "    print('Growth of Market Index:', market_g)\n",
    "else:\n",
    "    print('Есть дробление акций')"
   ]
  },
  {
   "cell_type": "markdown",
   "metadata": {},
   "source": [
    "### Портфель на 2017 год\n",
    "_По данным за 2016_\n",
    "\n",
    "19/05/2017 У компании L'Oreal произошел сплит акций: 2:1 \\\n",
    "Надо удвоить дивиденды после этой даты и подсчитать рост после этой даты\n",
    "- Последний дивиденд в году компания выплатила до дробления\n",
    "- Рост будем считать как удвоенный \n",
    "\n",
    "\n",
    "\n",
    "- UNIBAIL-RODAMCO-WE\n",
    "- GECINA\n",
    "- KERING\n",
    "- LVMH\n",
    "- AB INBEV\n",
    "- L'OREAL\n",
    "- SOLVAY\n",
    "- RENAULT\n",
    "- SANOFI\n",
    "- GBL"
   ]
  },
  {
   "cell_type": "code",
   "execution_count": 72,
   "metadata": {
    "collapsed": true
   },
   "outputs": [
    {
     "name": "stdout",
     "output_type": "stream",
     "text": [
      "[*********************100%***********************]  1 of 1 completed\n",
      "[*********************100%***********************]  1 of 1 completed\n",
      "[*********************100%***********************]  1 of 1 completed\n",
      "[*********************100%***********************]  1 of 1 completed\n",
      "[*********************100%***********************]  1 of 1 completed\n",
      "[*********************100%***********************]  1 of 1 completed\n",
      "[*********************100%***********************]  1 of 1 completed\n",
      "[*********************100%***********************]  1 of 1 completed\n",
      "[*********************100%***********************]  1 of 1 completed\n",
      "[*********************100%***********************]  1 of 1 completed\n"
     ]
    },
    {
     "name": "stderr",
     "output_type": "stream",
     "text": [
      "<ipython-input-72-24eeeb0fc319>:19: FutureWarning: Dropping of nuisance columns in DataFrame reductions (with 'numeric_only=None') is deprecated; in a future version this will raise TypeError.  Select only valid columns before calling the reduction.\n",
      "  data['sum'] = data.sum(axis=1).to_list()\n"
     ]
    },
    {
     "name": "stdout",
     "output_type": "stream",
     "text": [
      "[*********************100%***********************]  1 of 1 completed\n",
      "Growth of Portfolio: 0.30081041172172307\n",
      "Growth of Market Index: 0.1265844621818733\n"
     ]
    },
    {
     "name": "stderr",
     "output_type": "stream",
     "text": [
      "<ipython-input-72-24eeeb0fc319>:34: SettingWithCopyWarning: \n",
      "A value is trying to be set on a copy of a slice from a DataFrame\n",
      "\n",
      "See the caveats in the documentation: https://pandas.pydata.org/pandas-docs/stable/user_guide/indexing.html#returning-a-view-versus-a-copy\n",
      "  data['OR.PA'][8:] = data['OR.PA'][8:] * 2\n"
     ]
    }
   ],
   "source": [
    "# 10 акций\n",
    "tickers_list = ['URW.AS', \n",
    "                'GFC.PA',\n",
    "                'KER.PA',\n",
    "                'MC.PA',\n",
    "                'ABI.BR',\n",
    "                'OR.PA',  # Split\n",
    "                'SOLB.BR',\n",
    "                'RNO.PA',\n",
    "                'SAN.PA',\n",
    "                'GBLB.BR']\n",
    "\n",
    "data = pd.DataFrame(columns=tickers_list)\n",
    "\n",
    "for ticker in tickers_list:\n",
    "    data[ticker] = yf.download(ticker,'2017-01-01','2018-01-01', interval='1mo')['Adj Close']\n",
    "\n",
    "data = data.reset_index()\n",
    "data['sum'] = data.sum(axis=1).to_list()\n",
    "\n",
    "df = pd.DataFrame(columns=tickers_list)\n",
    "for ticker in tickers_list:\n",
    "    div = sum(yf.Ticker(ticker).history(start='2017-01-01',end='2018-01-01').Dividends.to_list())\n",
    "    split = sum(yf.Ticker(ticker).history(start='2017-01-01',end='2018-01-01')['Stock Splits'].to_list())\n",
    "    df[ticker] = [div, split]\n",
    "df['sum'] = df.sum(axis=1).to_list()\n",
    "\n",
    "tickers_list = ['^N100']\n",
    "dt = pd.DataFrame(columns=tickers_list)\n",
    "for ticker in tickers_list:\n",
    "    dt[ticker] = yf.download(ticker,'2017-01-01','2018-01-01', interval='1mo')['Adj Close']\n",
    "    \n",
    "data['N-100'] = dt['^N100'].to_list()\n",
    "data['OR.PA'][8:] = data['OR.PA'][8:] * 2\n",
    "\n",
    "portfolio_g = (data['sum'][11] + df['sum'][0] - data['sum'][0]) / data['sum'][0]\n",
    "market_g = (data['N-100'][11] - data['N-100'][0]) / data['N-100'][0]\n",
    "\n",
    "lst_10.append(portfolio_g)\n",
    "market.append(market_g)\n",
    "\n",
    "print('Growth of Portfolio:', portfolio_g)\n",
    "print('Growth of Market Index:', market_g)"
   ]
  },
  {
   "cell_type": "code",
   "execution_count": 73,
   "metadata": {
    "collapsed": true
   },
   "outputs": [
    {
     "name": "stdout",
     "output_type": "stream",
     "text": [
      "[*********************100%***********************]  1 of 1 completed\n",
      "[*********************100%***********************]  1 of 1 completed\n",
      "[*********************100%***********************]  1 of 1 completed\n",
      "[*********************100%***********************]  1 of 1 completed\n",
      "[*********************100%***********************]  1 of 1 completed\n",
      "[*********************100%***********************]  1 of 1 completed\n",
      "[*********************100%***********************]  1 of 1 completed\n"
     ]
    },
    {
     "name": "stderr",
     "output_type": "stream",
     "text": [
      "<ipython-input-73-1c0b9b2d418c>:16: FutureWarning: Dropping of nuisance columns in DataFrame reductions (with 'numeric_only=None') is deprecated; in a future version this will raise TypeError.  Select only valid columns before calling the reduction.\n",
      "  data['sum'] = data.sum(axis=1).to_list()\n"
     ]
    },
    {
     "name": "stdout",
     "output_type": "stream",
     "text": [
      "[*********************100%***********************]  1 of 1 completed\n",
      "Growth of Portfolio: 0.3381935925297153\n",
      "Growth of Market Index: 0.1265844621818733\n"
     ]
    },
    {
     "name": "stderr",
     "output_type": "stream",
     "text": [
      "<ipython-input-73-1c0b9b2d418c>:31: SettingWithCopyWarning: \n",
      "A value is trying to be set on a copy of a slice from a DataFrame\n",
      "\n",
      "See the caveats in the documentation: https://pandas.pydata.org/pandas-docs/stable/user_guide/indexing.html#returning-a-view-versus-a-copy\n",
      "  data['OR.PA'][8:] = data['OR.PA'][8:] * 2\n"
     ]
    }
   ],
   "source": [
    "# 7 акций\n",
    "tickers_list = ['URW.AS', \n",
    "                'GFC.PA',\n",
    "                'KER.PA',\n",
    "                'MC.PA',\n",
    "                'ABI.BR',\n",
    "                'OR.PA',  # Split\n",
    "                'SOLB.BR']\n",
    "\n",
    "data = pd.DataFrame(columns=tickers_list)\n",
    "\n",
    "for ticker in tickers_list:\n",
    "    data[ticker] = yf.download(ticker,'2017-01-01','2018-01-01', interval='1mo')['Adj Close']\n",
    "\n",
    "data = data.reset_index()\n",
    "data['sum'] = data.sum(axis=1).to_list()\n",
    "\n",
    "df = pd.DataFrame(columns=tickers_list)\n",
    "for ticker in tickers_list:\n",
    "    div = sum(yf.Ticker(ticker).history(start='2017-01-01',end='2018-01-01').Dividends.to_list())\n",
    "    split = sum(yf.Ticker(ticker).history(start='2017-01-01',end='2018-01-01')['Stock Splits'].to_list())\n",
    "    df[ticker] = [div, split]\n",
    "df['sum'] = df.sum(axis=1).to_list()\n",
    "\n",
    "tickers_list = ['^N100']\n",
    "dt = pd.DataFrame(columns=tickers_list)\n",
    "for ticker in tickers_list:\n",
    "    dt[ticker] = yf.download(ticker,'2017-01-01','2018-01-01', interval='1mo')['Adj Close']\n",
    "    \n",
    "data['N-100'] = dt['^N100'].to_list()\n",
    "data['OR.PA'][8:] = data['OR.PA'][8:] * 2\n",
    "\n",
    "portfolio_g = (data['sum'][11] + df['sum'][0] - data['sum'][0]) / data['sum'][0]\n",
    "market_g = (data['N-100'][11] - data['N-100'][0]) / data['N-100'][0]\n",
    "\n",
    "lst_7.append(portfolio_g)\n",
    "\n",
    "print('Growth of Portfolio:', portfolio_g)\n",
    "print('Growth of Market Index:', market_g)"
   ]
  },
  {
   "cell_type": "code",
   "execution_count": 74,
   "metadata": {
    "collapsed": true
   },
   "outputs": [
    {
     "name": "stdout",
     "output_type": "stream",
     "text": [
      "[*********************100%***********************]  1 of 1 completed\n",
      "[*********************100%***********************]  1 of 1 completed\n",
      "[*********************100%***********************]  1 of 1 completed\n",
      "[*********************100%***********************]  1 of 1 completed\n",
      "[*********************100%***********************]  1 of 1 completed\n"
     ]
    },
    {
     "name": "stderr",
     "output_type": "stream",
     "text": [
      "<ipython-input-74-e952f7c4ee73>:14: FutureWarning: Dropping of nuisance columns in DataFrame reductions (with 'numeric_only=None') is deprecated; in a future version this will raise TypeError.  Select only valid columns before calling the reduction.\n",
      "  data['sum'] = data.sum(axis=1).to_list()\n"
     ]
    },
    {
     "name": "stdout",
     "output_type": "stream",
     "text": [
      "[*********************100%***********************]  1 of 1 completed\n",
      "Growth of Portfolio: 0.4058662738699896\n",
      "Growth of Market Index: 0.1265844621818733\n"
     ]
    }
   ],
   "source": [
    "# 5 акций\n",
    "tickers_list = ['URW.AS', \n",
    "                'GFC.PA',\n",
    "                'KER.PA',\n",
    "                'MC.PA',\n",
    "                'ABI.BR']\n",
    "\n",
    "data = pd.DataFrame(columns=tickers_list)\n",
    "\n",
    "for ticker in tickers_list:\n",
    "    data[ticker] = yf.download(ticker,'2017-01-01','2018-01-01', interval='1mo')['Adj Close']\n",
    "\n",
    "data = data.reset_index()\n",
    "data['sum'] = data.sum(axis=1).to_list()\n",
    "\n",
    "df = pd.DataFrame(columns=tickers_list)\n",
    "for ticker in tickers_list:\n",
    "    div = sum(yf.Ticker(ticker).history(start='2017-01-01',end='2018-01-01').Dividends.to_list())\n",
    "    split = sum(yf.Ticker(ticker).history(start='2017-01-01',end='2018-01-01')['Stock Splits'].to_list())\n",
    "    df[ticker] = [div, split]\n",
    "df['sum'] = df.sum(axis=1).to_list()\n",
    "\n",
    "tickers_list = ['^N100']\n",
    "dt = pd.DataFrame(columns=tickers_list)\n",
    "for ticker in tickers_list:\n",
    "    dt[ticker] = yf.download(ticker,'2017-01-01','2018-01-01', interval='1mo')['Adj Close']\n",
    "    \n",
    "data['N-100'] = dt['^N100'].to_list()\n",
    "#data['OR.PA'][8:] = data['OR.PA'][8:] * 2\n",
    "\n",
    "portfolio_g = (data['sum'][11] + df['sum'][0] - data['sum'][0]) / data['sum'][0]\n",
    "market_g = (data['N-100'][11] - data['N-100'][0]) / data['N-100'][0]\n",
    "\n",
    "lst_5.append(portfolio_g)\n",
    "\n",
    "print('Growth of Portfolio:', portfolio_g)\n",
    "print('Growth of Market Index:', market_g)"
   ]
  },
  {
   "cell_type": "code",
   "execution_count": 75,
   "metadata": {
    "collapsed": true
   },
   "outputs": [
    {
     "name": "stdout",
     "output_type": "stream",
     "text": [
      "[*********************100%***********************]  1 of 1 completed\n",
      "[*********************100%***********************]  1 of 1 completed\n",
      "[*********************100%***********************]  1 of 1 completed\n"
     ]
    },
    {
     "name": "stderr",
     "output_type": "stream",
     "text": [
      "<ipython-input-75-300aa8ec5f92>:12: FutureWarning: Dropping of nuisance columns in DataFrame reductions (with 'numeric_only=None') is deprecated; in a future version this will raise TypeError.  Select only valid columns before calling the reduction.\n",
      "  data['sum'] = data.sum(axis=1).to_list()\n"
     ]
    },
    {
     "name": "stdout",
     "output_type": "stream",
     "text": [
      "[*********************100%***********************]  1 of 1 completed\n",
      "Growth of Portfolio: 0.4946024799574213\n",
      "Growth of Market Index: 0.1265844621818733\n"
     ]
    }
   ],
   "source": [
    "# 3 акции\n",
    "tickers_list = ['URW.AS', \n",
    "                'GFC.PA',\n",
    "                'KER.PA']\n",
    "\n",
    "data = pd.DataFrame(columns=tickers_list)\n",
    "\n",
    "for ticker in tickers_list:\n",
    "    data[ticker] = yf.download(ticker,'2017-01-01','2018-01-01', interval='1mo')['Adj Close']\n",
    "\n",
    "data = data.reset_index()\n",
    "data['sum'] = data.sum(axis=1).to_list()\n",
    "\n",
    "df = pd.DataFrame(columns=tickers_list)\n",
    "for ticker in tickers_list:\n",
    "    div = sum(yf.Ticker(ticker).history(start='2017-01-01',end='2018-01-01').Dividends.to_list())\n",
    "    split = sum(yf.Ticker(ticker).history(start='2017-01-01',end='2018-01-01')['Stock Splits'].to_list())\n",
    "    df[ticker] = [div, split]\n",
    "df['sum'] = df.sum(axis=1).to_list()\n",
    "\n",
    "tickers_list = ['^N100']\n",
    "dt = pd.DataFrame(columns=tickers_list)\n",
    "for ticker in tickers_list:\n",
    "    dt[ticker] = yf.download(ticker,'2017-01-01','2018-01-01', interval='1mo')['Adj Close']\n",
    "    \n",
    "data['N-100'] = dt['^N100'].to_list()\n",
    "#data['OR.PA'][8:] = data['OR.PA'][8:] * 2\n",
    "\n",
    "portfolio_g = (data['sum'][11] + df['sum'][0] - data['sum'][0]) / data['sum'][0]\n",
    "market_g = (data['N-100'][11] - data['N-100'][0]) / data['N-100'][0]\n",
    "\n",
    "lst_3.append(portfolio_g)\n",
    "\n",
    "print('Growth of Portfolio:', portfolio_g)\n",
    "print('Growth of Market Index:', market_g)"
   ]
  },
  {
   "cell_type": "code",
   "execution_count": 76,
   "metadata": {
    "collapsed": true
   },
   "outputs": [
    {
     "name": "stdout",
     "output_type": "stream",
     "text": [
      "[*********************100%***********************]  1 of 1 completed\n"
     ]
    },
    {
     "name": "stderr",
     "output_type": "stream",
     "text": [
      "<ipython-input-76-7ed1a8523276>:10: FutureWarning: Dropping of nuisance columns in DataFrame reductions (with 'numeric_only=None') is deprecated; in a future version this will raise TypeError.  Select only valid columns before calling the reduction.\n",
      "  data['sum'] = data.sum(axis=1).to_list()\n"
     ]
    },
    {
     "name": "stdout",
     "output_type": "stream",
     "text": [
      "[*********************100%***********************]  1 of 1 completed\n",
      "Growth of Portfolio: 0.10365747286734325\n",
      "Growth of Market Index: 0.1265844621818733\n"
     ]
    }
   ],
   "source": [
    "# 1 акция\n",
    "tickers_list = ['URW.AS']\n",
    "\n",
    "data = pd.DataFrame(columns=tickers_list)\n",
    "\n",
    "for ticker in tickers_list:\n",
    "    data[ticker] = yf.download(ticker,'2017-01-01','2018-01-01', interval='1mo')['Adj Close']\n",
    "\n",
    "data = data.reset_index()\n",
    "data['sum'] = data.sum(axis=1).to_list()\n",
    "\n",
    "df = pd.DataFrame(columns=tickers_list)\n",
    "for ticker in tickers_list:\n",
    "    div = sum(yf.Ticker(ticker).history(start='2017-01-01',end='2018-01-01').Dividends.to_list())\n",
    "    split = sum(yf.Ticker(ticker).history(start='2017-01-01',end='2018-01-01')['Stock Splits'].to_list())\n",
    "    df[ticker] = [div, split]\n",
    "df['sum'] = df.sum(axis=1).to_list()\n",
    "\n",
    "tickers_list = ['^N100']\n",
    "dt = pd.DataFrame(columns=tickers_list)\n",
    "for ticker in tickers_list:\n",
    "    dt[ticker] = yf.download(ticker,'2017-01-01','2018-01-01', interval='1mo')['Adj Close']\n",
    "    \n",
    "data['N-100'] = dt['^N100'].to_list()\n",
    "#data['OR.PA'][8:] = data['OR.PA'][8:] * 2\n",
    "\n",
    "portfolio_g = (data['sum'][11] + df['sum'][0] - data['sum'][0]) / data['sum'][0]\n",
    "market_g = (data['N-100'][11] - data['N-100'][0]) / data['N-100'][0]\n",
    "\n",
    "lst_1.append(portfolio_g)\n",
    "\n",
    "print('Growth of Portfolio:', portfolio_g)\n",
    "print('Growth of Market Index:', market_g)"
   ]
  },
  {
   "cell_type": "markdown",
   "metadata": {},
   "source": [
    "### Портфель на 2018 год\n",
    "_По данным за 2017_\n",
    "\n",
    "- UNIBAIL-RODAMCO-WE\n",
    "- KERING\n",
    "- GECINA\n",
    "- LVMH\n",
    "- SOLVAY\n",
    "- AB INBEV\n",
    "- L'OREAL\n",
    "- RENAULT\n",
    "- ADP\n",
    "- SANOFI"
   ]
  },
  {
   "cell_type": "code",
   "execution_count": 77,
   "metadata": {
    "collapsed": true
   },
   "outputs": [
    {
     "name": "stdout",
     "output_type": "stream",
     "text": [
      "[*********************100%***********************]  1 of 1 completed\n",
      "[*********************100%***********************]  1 of 1 completed\n",
      "[*********************100%***********************]  1 of 1 completed\n",
      "[*********************100%***********************]  1 of 1 completed\n",
      "[*********************100%***********************]  1 of 1 completed\n",
      "[*********************100%***********************]  1 of 1 completed\n",
      "[*********************100%***********************]  1 of 1 completed\n",
      "[*********************100%***********************]  1 of 1 completed\n",
      "[*********************100%***********************]  1 of 1 completed\n",
      "[*********************100%***********************]  1 of 1 completed\n"
     ]
    },
    {
     "name": "stderr",
     "output_type": "stream",
     "text": [
      "<ipython-input-77-601c2acaebd7>:19: FutureWarning: Dropping of nuisance columns in DataFrame reductions (with 'numeric_only=None') is deprecated; in a future version this will raise TypeError.  Select only valid columns before calling the reduction.\n",
      "  data['sum'] = data.sum(axis=1).to_list()\n"
     ]
    },
    {
     "name": "stdout",
     "output_type": "stream",
     "text": [
      "[*********************100%***********************]  1 of 1 completed\n",
      "Growth of Portfolio: -0.019844366363997046\n",
      "Growth of Market Index: -0.13769519766433444\n"
     ]
    }
   ],
   "source": [
    "# 10 акций\n",
    "tickers_list = ['URW.AS', \n",
    "                'KER.PA',\n",
    "                'GFC.PA',\n",
    "                'MC.PA',\n",
    "                'SOLB.BR',\n",
    "                'ABI.BR',\n",
    "                'OR.PA',\n",
    "                'RNO.PA',\n",
    "                'ADP.PA',\n",
    "                'SAN.PA']\n",
    "\n",
    "data = pd.DataFrame(columns=tickers_list)\n",
    "\n",
    "for ticker in tickers_list:\n",
    "    data[ticker] = yf.download(ticker,'2018-01-01','2019-01-01', interval='1mo')['Adj Close']\n",
    "\n",
    "data = data.reset_index()\n",
    "data['sum'] = data.sum(axis=1).to_list()\n",
    "\n",
    "df = pd.DataFrame(columns=tickers_list)\n",
    "for ticker in tickers_list:\n",
    "    div = sum(yf.Ticker(ticker).history(start='2018-01-01',end='2019-01-01').Dividends.to_list())\n",
    "    split = sum(yf.Ticker(ticker).history(start='2018-01-01',end='2019-01-01')['Stock Splits'].to_list())\n",
    "    df[ticker] = [div, split]\n",
    "df['sum'] = df.sum(axis=1).to_list()\n",
    "\n",
    "tickers_list = ['^N100']\n",
    "dt = pd.DataFrame(columns=tickers_list)\n",
    "for ticker in tickers_list:\n",
    "    dt[ticker] = yf.download(ticker,'2018-01-01','2019-01-01', interval='1mo')['Adj Close']\n",
    "    \n",
    "data['N-100'] = dt['^N100'].to_list()\n",
    "\n",
    "portfolio_g = (data['sum'][11] + df['sum'][0] - data['sum'][0]) / data['sum'][0]\n",
    "market_g = (data['N-100'][11] - data['N-100'][0]) / data['N-100'][0]\n",
    "\n",
    "lst_10.append(portfolio_g)\n",
    "market.append(market_g)\n",
    "\n",
    "if df['sum'][1] == 0:\n",
    "    print('Growth of Portfolio:', portfolio_g)\n",
    "    print('Growth of Market Index:', market_g)\n",
    "else:\n",
    "    print('Есть дробление акций')"
   ]
  },
  {
   "cell_type": "code",
   "execution_count": 78,
   "metadata": {
    "collapsed": true
   },
   "outputs": [
    {
     "name": "stdout",
     "output_type": "stream",
     "text": [
      "[*********************100%***********************]  1 of 1 completed\n",
      "[*********************100%***********************]  1 of 1 completed\n",
      "[*********************100%***********************]  1 of 1 completed\n",
      "[*********************100%***********************]  1 of 1 completed\n",
      "[*********************100%***********************]  1 of 1 completed\n",
      "[*********************100%***********************]  1 of 1 completed\n",
      "[*********************100%***********************]  1 of 1 completed\n"
     ]
    },
    {
     "name": "stderr",
     "output_type": "stream",
     "text": [
      "<ipython-input-78-4bc52730c17d>:16: FutureWarning: Dropping of nuisance columns in DataFrame reductions (with 'numeric_only=None') is deprecated; in a future version this will raise TypeError.  Select only valid columns before calling the reduction.\n",
      "  data['sum'] = data.sum(axis=1).to_list()\n"
     ]
    },
    {
     "name": "stdout",
     "output_type": "stream",
     "text": [
      "[*********************100%***********************]  1 of 1 completed\n",
      "Growth of Portfolio: -0.016810057462914807\n",
      "Growth of Market Index: -0.13769519766433444\n"
     ]
    }
   ],
   "source": [
    "# 7 акций\n",
    "tickers_list = ['URW.AS', \n",
    "                'KER.PA',\n",
    "                'GFC.PA',\n",
    "                'MC.PA',\n",
    "                'SOLB.BR',\n",
    "                'ABI.BR',\n",
    "                'OR.PA']\n",
    "\n",
    "data = pd.DataFrame(columns=tickers_list)\n",
    "\n",
    "for ticker in tickers_list:\n",
    "    data[ticker] = yf.download(ticker,'2018-01-01','2019-01-01', interval='1mo')['Adj Close']\n",
    "\n",
    "data = data.reset_index()\n",
    "data['sum'] = data.sum(axis=1).to_list()\n",
    "\n",
    "df = pd.DataFrame(columns=tickers_list)\n",
    "for ticker in tickers_list:\n",
    "    div = sum(yf.Ticker(ticker).history(start='2018-01-01',end='2019-01-01').Dividends.to_list())\n",
    "    split = sum(yf.Ticker(ticker).history(start='2018-01-01',end='2019-01-01')['Stock Splits'].to_list())\n",
    "    df[ticker] = [div, split]\n",
    "df['sum'] = df.sum(axis=1).to_list()\n",
    "\n",
    "tickers_list = ['^N100']\n",
    "dt = pd.DataFrame(columns=tickers_list)\n",
    "for ticker in tickers_list:\n",
    "    dt[ticker] = yf.download(ticker,'2018-01-01','2019-01-01', interval='1mo')['Adj Close']\n",
    "    \n",
    "data['N-100'] = dt['^N100'].to_list()\n",
    "\n",
    "portfolio_g = (data['sum'][11] + df['sum'][0] - data['sum'][0]) / data['sum'][0]\n",
    "market_g = (data['N-100'][11] - data['N-100'][0]) / data['N-100'][0]\n",
    "\n",
    "lst_7.append(portfolio_g)\n",
    "\n",
    "if df['sum'][1] == 0:\n",
    "    print('Growth of Portfolio:', portfolio_g)\n",
    "    print('Growth of Market Index:', market_g)\n",
    "else:\n",
    "    print('Есть дробление акций')"
   ]
  },
  {
   "cell_type": "code",
   "execution_count": 79,
   "metadata": {
    "collapsed": true
   },
   "outputs": [
    {
     "name": "stdout",
     "output_type": "stream",
     "text": [
      "[*********************100%***********************]  1 of 1 completed\n",
      "[*********************100%***********************]  1 of 1 completed\n",
      "[*********************100%***********************]  1 of 1 completed\n",
      "[*********************100%***********************]  1 of 1 completed\n",
      "[*********************100%***********************]  1 of 1 completed\n"
     ]
    },
    {
     "name": "stderr",
     "output_type": "stream",
     "text": [
      "<ipython-input-79-dec5bd93aef7>:14: FutureWarning: Dropping of nuisance columns in DataFrame reductions (with 'numeric_only=None') is deprecated; in a future version this will raise TypeError.  Select only valid columns before calling the reduction.\n",
      "  data['sum'] = data.sum(axis=1).to_list()\n"
     ]
    },
    {
     "name": "stdout",
     "output_type": "stream",
     "text": [
      "[*********************100%***********************]  1 of 1 completed\n",
      "Growth of Portfolio: -0.020274703501445637\n",
      "Growth of Market Index: -0.13769519766433444\n"
     ]
    }
   ],
   "source": [
    "# 5 акций\n",
    "tickers_list = ['URW.AS', \n",
    "                'KER.PA',\n",
    "                'GFC.PA',\n",
    "                'MC.PA',\n",
    "                'SOLB.BR']\n",
    "\n",
    "data = pd.DataFrame(columns=tickers_list)\n",
    "\n",
    "for ticker in tickers_list:\n",
    "    data[ticker] = yf.download(ticker,'2018-01-01','2019-01-01', interval='1mo')['Adj Close']\n",
    "\n",
    "data = data.reset_index()\n",
    "data['sum'] = data.sum(axis=1).to_list()\n",
    "\n",
    "df = pd.DataFrame(columns=tickers_list)\n",
    "for ticker in tickers_list:\n",
    "    div = sum(yf.Ticker(ticker).history(start='2018-01-01',end='2019-01-01').Dividends.to_list())\n",
    "    split = sum(yf.Ticker(ticker).history(start='2018-01-01',end='2019-01-01')['Stock Splits'].to_list())\n",
    "    df[ticker] = [div, split]\n",
    "df['sum'] = df.sum(axis=1).to_list()\n",
    "\n",
    "tickers_list = ['^N100']\n",
    "dt = pd.DataFrame(columns=tickers_list)\n",
    "for ticker in tickers_list:\n",
    "    dt[ticker] = yf.download(ticker,'2018-01-01','2019-01-01', interval='1mo')['Adj Close']\n",
    "    \n",
    "data['N-100'] = dt['^N100'].to_list()\n",
    "\n",
    "portfolio_g = (data['sum'][11] + df['sum'][0] - data['sum'][0]) / data['sum'][0]\n",
    "market_g = (data['N-100'][11] - data['N-100'][0]) / data['N-100'][0]\n",
    "\n",
    "lst_5.append(portfolio_g)\n",
    "\n",
    "if df['sum'][1] == 0:\n",
    "    print('Growth of Portfolio:', portfolio_g)\n",
    "    print('Growth of Market Index:', market_g)\n",
    "else:\n",
    "    print('Есть дробление акций')"
   ]
  },
  {
   "cell_type": "code",
   "execution_count": 80,
   "metadata": {
    "collapsed": true
   },
   "outputs": [
    {
     "name": "stdout",
     "output_type": "stream",
     "text": [
      "[*********************100%***********************]  1 of 1 completed\n",
      "[*********************100%***********************]  1 of 1 completed\n",
      "[*********************100%***********************]  1 of 1 completed\n"
     ]
    },
    {
     "name": "stderr",
     "output_type": "stream",
     "text": [
      "<ipython-input-80-ddf758275f07>:12: FutureWarning: Dropping of nuisance columns in DataFrame reductions (with 'numeric_only=None') is deprecated; in a future version this will raise TypeError.  Select only valid columns before calling the reduction.\n",
      "  data['sum'] = data.sum(axis=1).to_list()\n"
     ]
    },
    {
     "name": "stdout",
     "output_type": "stream",
     "text": [
      "[*********************100%***********************]  1 of 1 completed\n",
      "Growth of Portfolio: -0.025935052169068898\n",
      "Growth of Market Index: -0.13769519766433444\n"
     ]
    }
   ],
   "source": [
    "# 3 акции\n",
    "tickers_list = ['URW.AS', \n",
    "                'KER.PA',\n",
    "                'GFC.PA']\n",
    "\n",
    "data = pd.DataFrame(columns=tickers_list)\n",
    "\n",
    "for ticker in tickers_list:\n",
    "    data[ticker] = yf.download(ticker,'2018-01-01','2019-01-01', interval='1mo')['Adj Close']\n",
    "\n",
    "data = data.reset_index()\n",
    "data['sum'] = data.sum(axis=1).to_list()\n",
    "\n",
    "df = pd.DataFrame(columns=tickers_list)\n",
    "for ticker in tickers_list:\n",
    "    div = sum(yf.Ticker(ticker).history(start='2018-01-01',end='2019-01-01').Dividends.to_list())\n",
    "    split = sum(yf.Ticker(ticker).history(start='2018-01-01',end='2019-01-01')['Stock Splits'].to_list())\n",
    "    df[ticker] = [div, split]\n",
    "df['sum'] = df.sum(axis=1).to_list()\n",
    "\n",
    "tickers_list = ['^N100']\n",
    "dt = pd.DataFrame(columns=tickers_list)\n",
    "for ticker in tickers_list:\n",
    "    dt[ticker] = yf.download(ticker,'2018-01-01','2019-01-01', interval='1mo')['Adj Close']\n",
    "    \n",
    "data['N-100'] = dt['^N100'].to_list()\n",
    "\n",
    "portfolio_g = (data['sum'][11] + df['sum'][0] - data['sum'][0]) / data['sum'][0]\n",
    "market_g = (data['N-100'][11] - data['N-100'][0]) / data['N-100'][0]\n",
    "\n",
    "lst_3.append(portfolio_g)\n",
    "\n",
    "if df['sum'][1] == 0:\n",
    "    print('Growth of Portfolio:', portfolio_g)\n",
    "    print('Growth of Market Index:', market_g)\n",
    "else:\n",
    "    print('Есть дробление акций')"
   ]
  },
  {
   "cell_type": "code",
   "execution_count": 81,
   "metadata": {
    "collapsed": true
   },
   "outputs": [
    {
     "name": "stdout",
     "output_type": "stream",
     "text": [
      "[*********************100%***********************]  1 of 1 completed\n"
     ]
    },
    {
     "name": "stderr",
     "output_type": "stream",
     "text": [
      "<ipython-input-81-800ce897d478>:10: FutureWarning: Dropping of nuisance columns in DataFrame reductions (with 'numeric_only=None') is deprecated; in a future version this will raise TypeError.  Select only valid columns before calling the reduction.\n",
      "  data['sum'] = data.sum(axis=1).to_list()\n"
     ]
    },
    {
     "name": "stdout",
     "output_type": "stream",
     "text": [
      "[*********************100%***********************]  1 of 1 completed\n",
      "Growth of Portfolio: -0.2321521468103579\n",
      "Growth of Market Index: -0.13769519766433444\n"
     ]
    }
   ],
   "source": [
    "# 1 акция\n",
    "tickers_list = ['URW.AS']\n",
    "\n",
    "data = pd.DataFrame(columns=tickers_list)\n",
    "\n",
    "for ticker in tickers_list:\n",
    "    data[ticker] = yf.download(ticker,'2018-01-01','2019-01-01', interval='1mo')['Adj Close']\n",
    "\n",
    "data = data.reset_index()\n",
    "data['sum'] = data.sum(axis=1).to_list()\n",
    "\n",
    "df = pd.DataFrame(columns=tickers_list)\n",
    "for ticker in tickers_list:\n",
    "    div = sum(yf.Ticker(ticker).history(start='2018-01-01',end='2019-01-01').Dividends.to_list())\n",
    "    split = sum(yf.Ticker(ticker).history(start='2018-01-01',end='2019-01-01')['Stock Splits'].to_list())\n",
    "    df[ticker] = [div, split]\n",
    "df['sum'] = df.sum(axis=1).to_list()\n",
    "\n",
    "tickers_list = ['^N100']\n",
    "dt = pd.DataFrame(columns=tickers_list)\n",
    "for ticker in tickers_list:\n",
    "    dt[ticker] = yf.download(ticker,'2018-01-01','2019-01-01', interval='1mo')['Adj Close']\n",
    "    \n",
    "data['N-100'] = dt['^N100'].to_list()\n",
    "\n",
    "portfolio_g = (data['sum'][11] + df['sum'][0] - data['sum'][0]) / data['sum'][0]\n",
    "market_g = (data['N-100'][11] - data['N-100'][0]) / data['N-100'][0]\n",
    "\n",
    "lst_1.append(portfolio_g)\n",
    "\n",
    "if df['sum'][1] == 0:\n",
    "    print('Growth of Portfolio:', portfolio_g)\n",
    "    print('Growth of Market Index:', market_g)\n",
    "else:\n",
    "    print('Есть дробление акций')"
   ]
  },
  {
   "cell_type": "markdown",
   "metadata": {},
   "source": [
    "### Портфель на 2019 год\n",
    "_По данным за 2018_\n",
    "\n",
    "- UNIBAIL-RODAMCO-WE\n",
    "- KERING\n",
    "- LVMH\n",
    "- GECINA\n",
    "- L'OREAL\n",
    "- SOLVAY\n",
    "- ADP\n",
    "- RENAULT\n",
    "- KBC\n",
    "- RANDSTAD NV"
   ]
  },
  {
   "cell_type": "code",
   "execution_count": 82,
   "metadata": {
    "collapsed": true
   },
   "outputs": [
    {
     "name": "stdout",
     "output_type": "stream",
     "text": [
      "[*********************100%***********************]  1 of 1 completed\n",
      "[*********************100%***********************]  1 of 1 completed\n",
      "[*********************100%***********************]  1 of 1 completed\n",
      "[*********************100%***********************]  1 of 1 completed\n",
      "[*********************100%***********************]  1 of 1 completed\n",
      "[*********************100%***********************]  1 of 1 completed\n",
      "[*********************100%***********************]  1 of 1 completed\n",
      "[*********************100%***********************]  1 of 1 completed\n",
      "[*********************100%***********************]  1 of 1 completed\n",
      "[*********************100%***********************]  1 of 1 completed\n"
     ]
    },
    {
     "name": "stderr",
     "output_type": "stream",
     "text": [
      "<ipython-input-82-ba0c1f985099>:19: FutureWarning: Dropping of nuisance columns in DataFrame reductions (with 'numeric_only=None') is deprecated; in a future version this will raise TypeError.  Select only valid columns before calling the reduction.\n",
      "  data['sum'] = data.sum(axis=1).to_list()\n"
     ]
    },
    {
     "name": "stdout",
     "output_type": "stream",
     "text": [
      "[*********************100%***********************]  1 of 1 completed\n",
      "Growth of Portfolio: 0.305018944903865\n",
      "Growth of Market Index: 0.17602511906277696\n"
     ]
    }
   ],
   "source": [
    "# 10 акций\n",
    "tickers_list = ['URW.AS', \n",
    "                'KER.PA',\n",
    "                'MC.PA',\n",
    "                'GFC.PA',\n",
    "                'OR.PA',\n",
    "                'SOLB.BR',\n",
    "                'ADP.PA',\n",
    "                'RNO.PA',\n",
    "                'KBC.BR',\n",
    "                'RAND.AS']\n",
    "\n",
    "data = pd.DataFrame(columns=tickers_list)\n",
    "\n",
    "for ticker in tickers_list:\n",
    "    data[ticker] = yf.download(ticker,'2019-01-01','2020-01-01', interval='1mo')['Adj Close']\n",
    "\n",
    "data = data.reset_index()\n",
    "data['sum'] = data.sum(axis=1).to_list()\n",
    "\n",
    "df = pd.DataFrame(columns=tickers_list)\n",
    "for ticker in tickers_list:\n",
    "    div = sum(yf.Ticker(ticker).history(start='2019-01-01',end='2020-01-01').Dividends.to_list())\n",
    "    split = sum(yf.Ticker(ticker).history(start='2019-01-01',end='2020-01-01')['Stock Splits'].to_list())\n",
    "    df[ticker] = [div, split]\n",
    "df['sum'] = df.sum(axis=1).to_list()\n",
    "\n",
    "tickers_list = ['^N100']\n",
    "dt = pd.DataFrame(columns=tickers_list)\n",
    "for ticker in tickers_list:\n",
    "    dt[ticker] = yf.download(ticker,'2019-01-01','2020-01-01', interval='1mo')['Adj Close']\n",
    "    \n",
    "data['N-100'] = dt['^N100'].to_list()\n",
    "\n",
    "portfolio_g = (data['sum'][11] + df['sum'][0] - data['sum'][0]) / data['sum'][0]\n",
    "market_g = (data['N-100'][11] - data['N-100'][0]) / data['N-100'][0]\n",
    "\n",
    "lst_10.append(portfolio_g)\n",
    "market.append(market_g)\n",
    "\n",
    "if df['sum'][1] == 0:\n",
    "    print('Growth of Portfolio:', portfolio_g)\n",
    "    print('Growth of Market Index:', market_g)\n",
    "else:\n",
    "    print('Есть дробление акций')"
   ]
  },
  {
   "cell_type": "code",
   "execution_count": 83,
   "metadata": {
    "collapsed": true
   },
   "outputs": [
    {
     "name": "stdout",
     "output_type": "stream",
     "text": [
      "[*********************100%***********************]  1 of 1 completed\n",
      "[*********************100%***********************]  1 of 1 completed\n",
      "[*********************100%***********************]  1 of 1 completed\n",
      "[*********************100%***********************]  1 of 1 completed\n",
      "[*********************100%***********************]  1 of 1 completed\n",
      "[*********************100%***********************]  1 of 1 completed\n",
      "[*********************100%***********************]  1 of 1 completed\n"
     ]
    },
    {
     "name": "stderr",
     "output_type": "stream",
     "text": [
      "<ipython-input-83-5047271a53f4>:16: FutureWarning: Dropping of nuisance columns in DataFrame reductions (with 'numeric_only=None') is deprecated; in a future version this will raise TypeError.  Select only valid columns before calling the reduction.\n",
      "  data['sum'] = data.sum(axis=1).to_list()\n"
     ]
    },
    {
     "name": "stdout",
     "output_type": "stream",
     "text": [
      "[*********************100%***********************]  1 of 1 completed\n",
      "Growth of Portfolio: 0.32279475268214497\n",
      "Growth of Market Index: 0.17602511906277696\n"
     ]
    }
   ],
   "source": [
    "# 7 акций\n",
    "tickers_list = ['URW.AS', \n",
    "                'KER.PA',\n",
    "                'MC.PA',\n",
    "                'GFC.PA',\n",
    "                'OR.PA',\n",
    "                'SOLB.BR',\n",
    "                'ADP.PA']\n",
    "\n",
    "data = pd.DataFrame(columns=tickers_list)\n",
    "\n",
    "for ticker in tickers_list:\n",
    "    data[ticker] = yf.download(ticker,'2019-01-01','2020-01-01', interval='1mo')['Adj Close']\n",
    "\n",
    "data = data.reset_index()\n",
    "data['sum'] = data.sum(axis=1).to_list()\n",
    "\n",
    "df = pd.DataFrame(columns=tickers_list)\n",
    "for ticker in tickers_list:\n",
    "    div = sum(yf.Ticker(ticker).history(start='2019-01-01',end='2020-01-01').Dividends.to_list())\n",
    "    split = sum(yf.Ticker(ticker).history(start='2019-01-01',end='2020-01-01')['Stock Splits'].to_list())\n",
    "    df[ticker] = [div, split]\n",
    "df['sum'] = df.sum(axis=1).to_list()\n",
    "\n",
    "tickers_list = ['^N100']\n",
    "dt = pd.DataFrame(columns=tickers_list)\n",
    "for ticker in tickers_list:\n",
    "    dt[ticker] = yf.download(ticker,'2019-01-01','2020-01-01', interval='1mo')['Adj Close']\n",
    "    \n",
    "data['N-100'] = dt['^N100'].to_list()\n",
    "\n",
    "portfolio_g = (data['sum'][11] + df['sum'][0] - data['sum'][0]) / data['sum'][0]\n",
    "market_g = (data['N-100'][11] - data['N-100'][0]) / data['N-100'][0]\n",
    "\n",
    "lst_7.append(portfolio_g)\n",
    "\n",
    "if df['sum'][1] == 0:\n",
    "    print('Growth of Portfolio:', portfolio_g)\n",
    "    print('Growth of Market Index:', market_g)\n",
    "else:\n",
    "    print('Есть дробление акций')"
   ]
  },
  {
   "cell_type": "code",
   "execution_count": 84,
   "metadata": {
    "collapsed": true
   },
   "outputs": [
    {
     "name": "stdout",
     "output_type": "stream",
     "text": [
      "[*********************100%***********************]  1 of 1 completed\n",
      "[*********************100%***********************]  1 of 1 completed\n",
      "[*********************100%***********************]  1 of 1 completed\n",
      "[*********************100%***********************]  1 of 1 completed\n",
      "[*********************100%***********************]  1 of 1 completed\n"
     ]
    },
    {
     "name": "stderr",
     "output_type": "stream",
     "text": [
      "<ipython-input-84-d105aa6dc1f6>:14: FutureWarning: Dropping of nuisance columns in DataFrame reductions (with 'numeric_only=None') is deprecated; in a future version this will raise TypeError.  Select only valid columns before calling the reduction.\n",
      "  data['sum'] = data.sum(axis=1).to_list()\n"
     ]
    },
    {
     "name": "stdout",
     "output_type": "stream",
     "text": [
      "[*********************100%***********************]  1 of 1 completed\n",
      "Growth of Portfolio: 0.36610122947385587\n",
      "Growth of Market Index: 0.17602511906277696\n"
     ]
    }
   ],
   "source": [
    "# 5 акций\n",
    "tickers_list = ['URW.AS', \n",
    "                'KER.PA',\n",
    "                'MC.PA',\n",
    "                'GFC.PA',\n",
    "                'OR.PA']\n",
    "\n",
    "data = pd.DataFrame(columns=tickers_list)\n",
    "\n",
    "for ticker in tickers_list:\n",
    "    data[ticker] = yf.download(ticker,'2019-01-01','2020-01-01', interval='1mo')['Adj Close']\n",
    "\n",
    "data = data.reset_index()\n",
    "data['sum'] = data.sum(axis=1).to_list()\n",
    "\n",
    "df = pd.DataFrame(columns=tickers_list)\n",
    "for ticker in tickers_list:\n",
    "    div = sum(yf.Ticker(ticker).history(start='2019-01-01',end='2020-01-01').Dividends.to_list())\n",
    "    split = sum(yf.Ticker(ticker).history(start='2019-01-01',end='2020-01-01')['Stock Splits'].to_list())\n",
    "    df[ticker] = [div, split]\n",
    "df['sum'] = df.sum(axis=1).to_list()\n",
    "\n",
    "tickers_list = ['^N100']\n",
    "dt = pd.DataFrame(columns=tickers_list)\n",
    "for ticker in tickers_list:\n",
    "    dt[ticker] = yf.download(ticker,'2019-01-01','2020-01-01', interval='1mo')['Adj Close']\n",
    "    \n",
    "data['N-100'] = dt['^N100'].to_list()\n",
    "\n",
    "portfolio_g = (data['sum'][11] + df['sum'][0] - data['sum'][0]) / data['sum'][0]\n",
    "market_g = (data['N-100'][11] - data['N-100'][0]) / data['N-100'][0]\n",
    "\n",
    "lst_5.append(portfolio_g)\n",
    "\n",
    "if df['sum'][1] == 0:\n",
    "    print('Growth of Portfolio:', portfolio_g)\n",
    "    print('Growth of Market Index:', market_g)\n",
    "else:\n",
    "    print('Есть дробление акций')"
   ]
  },
  {
   "cell_type": "code",
   "execution_count": 85,
   "metadata": {
    "collapsed": true
   },
   "outputs": [
    {
     "name": "stdout",
     "output_type": "stream",
     "text": [
      "[*********************100%***********************]  1 of 1 completed\n",
      "[*********************100%***********************]  1 of 1 completed\n",
      "[*********************100%***********************]  1 of 1 completed\n"
     ]
    },
    {
     "name": "stderr",
     "output_type": "stream",
     "text": [
      "<ipython-input-85-1adc0940af72>:12: FutureWarning: Dropping of nuisance columns in DataFrame reductions (with 'numeric_only=None') is deprecated; in a future version this will raise TypeError.  Select only valid columns before calling the reduction.\n",
      "  data['sum'] = data.sum(axis=1).to_list()\n"
     ]
    },
    {
     "name": "stdout",
     "output_type": "stream",
     "text": [
      "[*********************100%***********************]  1 of 1 completed\n",
      "Growth of Portfolio: 0.38521049758714826\n",
      "Growth of Market Index: 0.17602511906277696\n"
     ]
    }
   ],
   "source": [
    "# 3 акции\n",
    "tickers_list = ['URW.AS', \n",
    "                'KER.PA',\n",
    "                'MC.PA']\n",
    "\n",
    "data = pd.DataFrame(columns=tickers_list)\n",
    "\n",
    "for ticker in tickers_list:\n",
    "    data[ticker] = yf.download(ticker,'2019-01-01','2020-01-01', interval='1mo')['Adj Close']\n",
    "\n",
    "data = data.reset_index()\n",
    "data['sum'] = data.sum(axis=1).to_list()\n",
    "\n",
    "df = pd.DataFrame(columns=tickers_list)\n",
    "for ticker in tickers_list:\n",
    "    div = sum(yf.Ticker(ticker).history(start='2019-01-01',end='2020-01-01').Dividends.to_list())\n",
    "    split = sum(yf.Ticker(ticker).history(start='2019-01-01',end='2020-01-01')['Stock Splits'].to_list())\n",
    "    df[ticker] = [div, split]\n",
    "df['sum'] = df.sum(axis=1).to_list()\n",
    "\n",
    "tickers_list = ['^N100']\n",
    "dt = pd.DataFrame(columns=tickers_list)\n",
    "for ticker in tickers_list:\n",
    "    dt[ticker] = yf.download(ticker,'2019-01-01','2020-01-01', interval='1mo')['Adj Close']\n",
    "    \n",
    "data['N-100'] = dt['^N100'].to_list()\n",
    "\n",
    "portfolio_g = (data['sum'][11] + df['sum'][0] - data['sum'][0]) / data['sum'][0]\n",
    "market_g = (data['N-100'][11] - data['N-100'][0]) / data['N-100'][0]\n",
    "\n",
    "lst_3.append(portfolio_g)\n",
    "\n",
    "if df['sum'][1] == 0:\n",
    "    print('Growth of Portfolio:', portfolio_g)\n",
    "    print('Growth of Market Index:', market_g)\n",
    "else:\n",
    "    print('Есть дробление акций')"
   ]
  },
  {
   "cell_type": "code",
   "execution_count": 86,
   "metadata": {
    "collapsed": true
   },
   "outputs": [
    {
     "name": "stdout",
     "output_type": "stream",
     "text": [
      "[*********************100%***********************]  1 of 1 completed\n"
     ]
    },
    {
     "name": "stderr",
     "output_type": "stream",
     "text": [
      "<ipython-input-86-de5e33667837>:10: FutureWarning: Dropping of nuisance columns in DataFrame reductions (with 'numeric_only=None') is deprecated; in a future version this will raise TypeError.  Select only valid columns before calling the reduction.\n",
      "  data['sum'] = data.sum(axis=1).to_list()\n"
     ]
    },
    {
     "name": "stdout",
     "output_type": "stream",
     "text": [
      "[*********************100%***********************]  1 of 1 completed\n",
      "Growth of Portfolio: 0.05765848619213832\n",
      "Growth of Market Index: 0.17602511906277696\n"
     ]
    }
   ],
   "source": [
    "# 1 акция\n",
    "tickers_list = ['URW.AS']\n",
    "\n",
    "data = pd.DataFrame(columns=tickers_list)\n",
    "\n",
    "for ticker in tickers_list:\n",
    "    data[ticker] = yf.download(ticker,'2019-01-01','2020-01-01', interval='1mo')['Adj Close']\n",
    "\n",
    "data = data.reset_index()\n",
    "data['sum'] = data.sum(axis=1).to_list()\n",
    "\n",
    "df = pd.DataFrame(columns=tickers_list)\n",
    "for ticker in tickers_list:\n",
    "    div = sum(yf.Ticker(ticker).history(start='2019-01-01',end='2020-01-01').Dividends.to_list())\n",
    "    split = sum(yf.Ticker(ticker).history(start='2019-01-01',end='2020-01-01')['Stock Splits'].to_list())\n",
    "    df[ticker] = [div, split]\n",
    "df['sum'] = df.sum(axis=1).to_list()\n",
    "\n",
    "tickers_list = ['^N100']\n",
    "dt = pd.DataFrame(columns=tickers_list)\n",
    "for ticker in tickers_list:\n",
    "    dt[ticker] = yf.download(ticker,'2019-01-01','2020-01-01', interval='1mo')['Adj Close']\n",
    "    \n",
    "data['N-100'] = dt['^N100'].to_list()\n",
    "\n",
    "portfolio_g = (data['sum'][11] + df['sum'][0] - data['sum'][0]) / data['sum'][0]\n",
    "market_g = (data['N-100'][11] - data['N-100'][0]) / data['N-100'][0]\n",
    "\n",
    "lst_1.append(portfolio_g)\n",
    "\n",
    "if df['sum'][1] == 0:\n",
    "    print('Growth of Portfolio:', portfolio_g)\n",
    "    print('Growth of Market Index:', market_g)\n",
    "else:\n",
    "    print('Есть дробление акций')"
   ]
  },
  {
   "cell_type": "markdown",
   "metadata": {},
   "source": [
    "### Портфель на 2020 год\n",
    "_По данным за 2019_\n",
    "\n",
    "- KERING\n",
    "- UNIBAIL-RODAMCO-WE\n",
    "- GECINA\n",
    "- LVMH\n",
    "- L'OREAL\n",
    "- SOLVAY\n",
    "- GBL\n",
    "- SANOFI\n",
    "- PERNOD RICARD\n",
    "- SODEXO"
   ]
  },
  {
   "cell_type": "code",
   "execution_count": 87,
   "metadata": {
    "collapsed": true
   },
   "outputs": [
    {
     "name": "stdout",
     "output_type": "stream",
     "text": [
      "[*********************100%***********************]  1 of 1 completed\n",
      "[*********************100%***********************]  1 of 1 completed\n",
      "[*********************100%***********************]  1 of 1 completed\n",
      "[*********************100%***********************]  1 of 1 completed\n",
      "[*********************100%***********************]  1 of 1 completed\n",
      "[*********************100%***********************]  1 of 1 completed\n",
      "[*********************100%***********************]  1 of 1 completed\n",
      "[*********************100%***********************]  1 of 1 completed\n",
      "[*********************100%***********************]  1 of 1 completed\n",
      "[*********************100%***********************]  1 of 1 completed\n"
     ]
    },
    {
     "name": "stderr",
     "output_type": "stream",
     "text": [
      "<ipython-input-87-6ce2a1c39a54>:19: FutureWarning: Dropping of nuisance columns in DataFrame reductions (with 'numeric_only=None') is deprecated; in a future version this will raise TypeError.  Select only valid columns before calling the reduction.\n",
      "  data['sum'] = data.sum(axis=1).to_list()\n"
     ]
    },
    {
     "name": "stdout",
     "output_type": "stream",
     "text": [
      "[*********************100%***********************]  1 of 1 completed\n",
      "Growth of Portfolio: 0.11521542602390572\n",
      "Growth of Market Index: -0.014898674109102353\n"
     ]
    }
   ],
   "source": [
    "# 10 акций\n",
    "tickers_list = ['KER.PA', \n",
    "                'URW.AS', \n",
    "                'GFC.PA',\n",
    "                'MC.PA',\n",
    "                'OR.PA',\n",
    "                'SOLB.BR',\n",
    "                'GBLB.BR',\n",
    "                'SAN.PA', \n",
    "                'RI.PA', \n",
    "                'SW.PA']\n",
    "\n",
    "data = pd.DataFrame(columns=tickers_list)\n",
    "\n",
    "for ticker in tickers_list:\n",
    "    data[ticker] = yf.download(ticker,'2020-01-01','2021-01-01', interval='1mo')['Adj Close']\n",
    "\n",
    "data = data.reset_index()\n",
    "data['sum'] = data.sum(axis=1).to_list()\n",
    "\n",
    "df = pd.DataFrame(columns=tickers_list)\n",
    "for ticker in tickers_list:\n",
    "    div = sum(yf.Ticker(ticker).history(start='2020-01-01',end='2021-01-01').Dividends.to_list())\n",
    "    split = sum(yf.Ticker(ticker).history(start='2020-01-01',end='2021-01-01')['Stock Splits'].to_list())\n",
    "    df[ticker] = [div, split]\n",
    "df['sum'] = df.sum(axis=1).to_list()\n",
    "\n",
    "tickers_list = ['^N100']\n",
    "dt = pd.DataFrame(columns=tickers_list)\n",
    "for ticker in tickers_list:\n",
    "    dt[ticker] = yf.download(ticker,'2020-01-01','2021-01-01', interval='1mo')['Adj Close']\n",
    "    \n",
    "data['N-100'] = dt['^N100'].to_list()\n",
    "\n",
    "portfolio_g = (data['sum'][11] + df['sum'][0] - data['sum'][0]) / data['sum'][0]\n",
    "market_g = (data['N-100'][11] - data['N-100'][0]) / data['N-100'][0]\n",
    "\n",
    "lst_10.append(portfolio_g)\n",
    "market.append(market_g)\n",
    "\n",
    "if df['sum'][1] == 0:\n",
    "    print('Growth of Portfolio:', portfolio_g)\n",
    "    print('Growth of Market Index:', market_g)\n",
    "else:\n",
    "    print('Есть дробление акций')"
   ]
  },
  {
   "cell_type": "code",
   "execution_count": 88,
   "metadata": {
    "collapsed": true
   },
   "outputs": [
    {
     "name": "stdout",
     "output_type": "stream",
     "text": [
      "[*********************100%***********************]  1 of 1 completed\n",
      "[*********************100%***********************]  1 of 1 completed\n",
      "[*********************100%***********************]  1 of 1 completed\n",
      "[*********************100%***********************]  1 of 1 completed\n",
      "[*********************100%***********************]  1 of 1 completed\n",
      "[*********************100%***********************]  1 of 1 completed\n",
      "[*********************100%***********************]  1 of 1 completed\n"
     ]
    },
    {
     "name": "stderr",
     "output_type": "stream",
     "text": [
      "<ipython-input-88-01e80ee763be>:16: FutureWarning: Dropping of nuisance columns in DataFrame reductions (with 'numeric_only=None') is deprecated; in a future version this will raise TypeError.  Select only valid columns before calling the reduction.\n",
      "  data['sum'] = data.sum(axis=1).to_list()\n"
     ]
    },
    {
     "name": "stdout",
     "output_type": "stream",
     "text": [
      "[*********************100%***********************]  1 of 1 completed\n",
      "Growth of Portfolio: 0.14936664507011635\n",
      "Growth of Market Index: -0.014898674109102353\n"
     ]
    }
   ],
   "source": [
    "# 7 акций\n",
    "tickers_list = ['KER.PA', \n",
    "                'URW.AS', \n",
    "                'GFC.PA',\n",
    "                'MC.PA',\n",
    "                'OR.PA',\n",
    "                'SOLB.BR',\n",
    "                'GBLB.BR']\n",
    "\n",
    "data = pd.DataFrame(columns=tickers_list)\n",
    "\n",
    "for ticker in tickers_list:\n",
    "    data[ticker] = yf.download(ticker,'2020-01-01','2021-01-01', interval='1mo')['Adj Close']\n",
    "\n",
    "data = data.reset_index()\n",
    "data['sum'] = data.sum(axis=1).to_list()\n",
    "\n",
    "df = pd.DataFrame(columns=tickers_list)\n",
    "for ticker in tickers_list:\n",
    "    div = sum(yf.Ticker(ticker).history(start='2020-01-01',end='2021-01-01').Dividends.to_list())\n",
    "    split = sum(yf.Ticker(ticker).history(start='2020-01-01',end='2021-01-01')['Stock Splits'].to_list())\n",
    "    df[ticker] = [div, split]\n",
    "df['sum'] = df.sum(axis=1).to_list()\n",
    "\n",
    "tickers_list = ['^N100']\n",
    "dt = pd.DataFrame(columns=tickers_list)\n",
    "for ticker in tickers_list:\n",
    "    dt[ticker] = yf.download(ticker,'2020-01-01','2021-01-01', interval='1mo')['Adj Close']\n",
    "    \n",
    "data['N-100'] = dt['^N100'].to_list()\n",
    "\n",
    "portfolio_g = (data['sum'][11] + df['sum'][0] - data['sum'][0]) / data['sum'][0]\n",
    "market_g = (data['N-100'][11] - data['N-100'][0]) / data['N-100'][0]\n",
    "\n",
    "lst_7.append(portfolio_g)\n",
    "\n",
    "if df['sum'][1] == 0:\n",
    "    print('Growth of Portfolio:', portfolio_g)\n",
    "    print('Growth of Market Index:', market_g)\n",
    "else:\n",
    "    print('Есть дробление акций')"
   ]
  },
  {
   "cell_type": "code",
   "execution_count": 89,
   "metadata": {
    "collapsed": true
   },
   "outputs": [
    {
     "name": "stdout",
     "output_type": "stream",
     "text": [
      "[*********************100%***********************]  1 of 1 completed\n",
      "[*********************100%***********************]  1 of 1 completed\n",
      "[*********************100%***********************]  1 of 1 completed\n",
      "[*********************100%***********************]  1 of 1 completed\n",
      "[*********************100%***********************]  1 of 1 completed\n"
     ]
    },
    {
     "name": "stderr",
     "output_type": "stream",
     "text": [
      "<ipython-input-89-9d4972f67bb7>:14: FutureWarning: Dropping of nuisance columns in DataFrame reductions (with 'numeric_only=None') is deprecated; in a future version this will raise TypeError.  Select only valid columns before calling the reduction.\n",
      "  data['sum'] = data.sum(axis=1).to_list()\n"
     ]
    },
    {
     "name": "stdout",
     "output_type": "stream",
     "text": [
      "[*********************100%***********************]  1 of 1 completed\n",
      "Growth of Portfolio: 0.1591846211148724\n",
      "Growth of Market Index: -0.014898674109102353\n"
     ]
    }
   ],
   "source": [
    "# 5 акций\n",
    "tickers_list = ['KER.PA', \n",
    "                'URW.AS', \n",
    "                'GFC.PA',\n",
    "                'MC.PA',\n",
    "                'OR.PA']\n",
    "\n",
    "data = pd.DataFrame(columns=tickers_list)\n",
    "\n",
    "for ticker in tickers_list:\n",
    "    data[ticker] = yf.download(ticker,'2020-01-01','2021-01-01', interval='1mo')['Adj Close']\n",
    "\n",
    "data = data.reset_index()\n",
    "data['sum'] = data.sum(axis=1).to_list()\n",
    "\n",
    "df = pd.DataFrame(columns=tickers_list)\n",
    "for ticker in tickers_list:\n",
    "    div = sum(yf.Ticker(ticker).history(start='2020-01-01',end='2021-01-01').Dividends.to_list())\n",
    "    split = sum(yf.Ticker(ticker).history(start='2020-01-01',end='2021-01-01')['Stock Splits'].to_list())\n",
    "    df[ticker] = [div, split]\n",
    "df['sum'] = df.sum(axis=1).to_list()\n",
    "\n",
    "tickers_list = ['^N100']\n",
    "dt = pd.DataFrame(columns=tickers_list)\n",
    "for ticker in tickers_list:\n",
    "    dt[ticker] = yf.download(ticker,'2020-01-01','2021-01-01', interval='1mo')['Adj Close']\n",
    "    \n",
    "data['N-100'] = dt['^N100'].to_list()\n",
    "\n",
    "portfolio_g = (data['sum'][11] + df['sum'][0] - data['sum'][0]) / data['sum'][0]\n",
    "market_g = (data['N-100'][11] - data['N-100'][0]) / data['N-100'][0]\n",
    "\n",
    "lst_5.append(portfolio_g)\n",
    "\n",
    "if df['sum'][1] == 0:\n",
    "    print('Growth of Portfolio:', portfolio_g)\n",
    "    print('Growth of Market Index:', market_g)\n",
    "else:\n",
    "    print('Есть дробление акций')"
   ]
  },
  {
   "cell_type": "code",
   "execution_count": 90,
   "metadata": {
    "collapsed": true
   },
   "outputs": [
    {
     "name": "stdout",
     "output_type": "stream",
     "text": [
      "[*********************100%***********************]  1 of 1 completed\n",
      "[*********************100%***********************]  1 of 1 completed\n",
      "[*********************100%***********************]  1 of 1 completed\n"
     ]
    },
    {
     "name": "stderr",
     "output_type": "stream",
     "text": [
      "<ipython-input-90-36f04b16b7c2>:12: FutureWarning: Dropping of nuisance columns in DataFrame reductions (with 'numeric_only=None') is deprecated; in a future version this will raise TypeError.  Select only valid columns before calling the reduction.\n",
      "  data['sum'] = data.sum(axis=1).to_list()\n"
     ]
    },
    {
     "name": "stdout",
     "output_type": "stream",
     "text": [
      "[*********************100%***********************]  1 of 1 completed\n",
      "Growth of Portfolio: 0.022960428981975867\n",
      "Growth of Market Index: -0.014898674109102353\n"
     ]
    }
   ],
   "source": [
    "# 3 акции\n",
    "tickers_list = ['KER.PA', \n",
    "                'URW.AS', \n",
    "                'GFC.PA']\n",
    "\n",
    "data = pd.DataFrame(columns=tickers_list)\n",
    "\n",
    "for ticker in tickers_list:\n",
    "    data[ticker] = yf.download(ticker,'2020-01-01','2021-01-01', interval='1mo')['Adj Close']\n",
    "\n",
    "data = data.reset_index()\n",
    "data['sum'] = data.sum(axis=1).to_list()\n",
    "\n",
    "df = pd.DataFrame(columns=tickers_list)\n",
    "for ticker in tickers_list:\n",
    "    div = sum(yf.Ticker(ticker).history(start='2020-01-01',end='2021-01-01').Dividends.to_list())\n",
    "    split = sum(yf.Ticker(ticker).history(start='2020-01-01',end='2021-01-01')['Stock Splits'].to_list())\n",
    "    df[ticker] = [div, split]\n",
    "df['sum'] = df.sum(axis=1).to_list()\n",
    "\n",
    "tickers_list = ['^N100']\n",
    "dt = pd.DataFrame(columns=tickers_list)\n",
    "for ticker in tickers_list:\n",
    "    dt[ticker] = yf.download(ticker,'2020-01-01','2021-01-01', interval='1mo')['Adj Close']\n",
    "    \n",
    "data['N-100'] = dt['^N100'].to_list()\n",
    "\n",
    "portfolio_g = (data['sum'][11] + df['sum'][0] - data['sum'][0]) / data['sum'][0]\n",
    "market_g = (data['N-100'][11] - data['N-100'][0]) / data['N-100'][0]\n",
    "\n",
    "lst_3.append(portfolio_g)\n",
    "\n",
    "if df['sum'][1] == 0:\n",
    "    print('Growth of Portfolio:', portfolio_g)\n",
    "    print('Growth of Market Index:', market_g)\n",
    "else:\n",
    "    print('Есть дробление акций')"
   ]
  },
  {
   "cell_type": "code",
   "execution_count": 91,
   "metadata": {
    "collapsed": true
   },
   "outputs": [
    {
     "name": "stdout",
     "output_type": "stream",
     "text": [
      "[*********************100%***********************]  1 of 1 completed\n"
     ]
    },
    {
     "name": "stderr",
     "output_type": "stream",
     "text": [
      "<ipython-input-91-562f4f71a19e>:10: FutureWarning: Dropping of nuisance columns in DataFrame reductions (with 'numeric_only=None') is deprecated; in a future version this will raise TypeError.  Select only valid columns before calling the reduction.\n",
      "  data['sum'] = data.sum(axis=1).to_list()\n"
     ]
    },
    {
     "name": "stdout",
     "output_type": "stream",
     "text": [
      "[*********************100%***********************]  1 of 1 completed\n",
      "Growth of Portfolio: 0.13828139979423124\n",
      "Growth of Market Index: -0.014898674109102353\n"
     ]
    }
   ],
   "source": [
    "# 1 акция\n",
    "tickers_list = ['KER.PA']\n",
    "\n",
    "data = pd.DataFrame(columns=tickers_list)\n",
    "\n",
    "for ticker in tickers_list:\n",
    "    data[ticker] = yf.download(ticker,'2020-01-01','2021-01-01', interval='1mo')['Adj Close']\n",
    "\n",
    "data = data.reset_index()\n",
    "data['sum'] = data.sum(axis=1).to_list()\n",
    "\n",
    "df = pd.DataFrame(columns=tickers_list)\n",
    "for ticker in tickers_list:\n",
    "    div = sum(yf.Ticker(ticker).history(start='2020-01-01',end='2021-01-01').Dividends.to_list())\n",
    "    split = sum(yf.Ticker(ticker).history(start='2020-01-01',end='2021-01-01')['Stock Splits'].to_list())\n",
    "    df[ticker] = [div, split]\n",
    "df['sum'] = df.sum(axis=1).to_list()\n",
    "\n",
    "tickers_list = ['^N100']\n",
    "dt = pd.DataFrame(columns=tickers_list)\n",
    "for ticker in tickers_list:\n",
    "    dt[ticker] = yf.download(ticker,'2020-01-01','2021-01-01', interval='1mo')['Adj Close']\n",
    "    \n",
    "data['N-100'] = dt['^N100'].to_list()\n",
    "\n",
    "portfolio_g = (data['sum'][11] + df['sum'][0] - data['sum'][0]) / data['sum'][0]\n",
    "market_g = (data['N-100'][11] - data['N-100'][0]) / data['N-100'][0]\n",
    "\n",
    "lst_1.append(portfolio_g)\n",
    "\n",
    "if df['sum'][1] == 0:\n",
    "    print('Growth of Portfolio:', portfolio_g)\n",
    "    print('Growth of Market Index:', market_g)\n",
    "else:\n",
    "    print('Есть дробление акций')"
   ]
  },
  {
   "cell_type": "markdown",
   "metadata": {},
   "source": [
    "## Портфель на 2021 год\n",
    "_По данным за 2020_\n",
    "\n",
    "- KERING\n",
    "- LVMH\n",
    "- GECINA\n",
    "- L'OREAL\n",
    "- SOLVAY\n",
    "- YARA INTERNATIONAL\n",
    "- RANDSTAD NV\n",
    "- SANOFI\n",
    "- EIFFAGE\n",
    "- AMUNDI"
   ]
  },
  {
   "cell_type": "code",
   "execution_count": 92,
   "metadata": {
    "collapsed": true
   },
   "outputs": [
    {
     "name": "stdout",
     "output_type": "stream",
     "text": [
      "[*********************100%***********************]  1 of 1 completed\n",
      "[*********************100%***********************]  1 of 1 completed\n",
      "[*********************100%***********************]  1 of 1 completed\n",
      "[*********************100%***********************]  1 of 1 completed\n",
      "[*********************100%***********************]  1 of 1 completed\n",
      "[*********************100%***********************]  1 of 1 completed\n",
      "[*********************100%***********************]  1 of 1 completed\n",
      "[*********************100%***********************]  1 of 1 completed\n",
      "[*********************100%***********************]  1 of 1 completed\n",
      "[*********************100%***********************]  1 of 1 completed\n"
     ]
    },
    {
     "name": "stderr",
     "output_type": "stream",
     "text": [
      "<ipython-input-92-221fd003fa52>:22: FutureWarning: Dropping of nuisance columns in DataFrame reductions (with 'numeric_only=None') is deprecated; in a future version this will raise TypeError.  Select only valid columns before calling the reduction.\n",
      "  data['sum'] = data.sum(axis=1).to_list()\n"
     ]
    },
    {
     "name": "stdout",
     "output_type": "stream",
     "text": [
      "[*********************100%***********************]  1 of 1 completed\n",
      "Growth of Portfolio: 0.3736328441087051\n",
      "Growth of Market Index: 0.25457437513165765\n"
     ]
    }
   ],
   "source": [
    "# 10 акций\n",
    "tickers_list = ['KER.PA', \n",
    "                'MC.PA',\n",
    "                'GFC.PA',\n",
    "                'OR.PA',\n",
    "                'SOLB.BR',\n",
    "                'YAR.OL', # кроны\n",
    "                'RAND.AS',\n",
    "                'SAN.PA', \n",
    "                'FGR.PA',\n",
    "                'AMUN.PA']\n",
    "\n",
    "data = pd.DataFrame(columns=tickers_list)\n",
    "\n",
    "for ticker in tickers_list:\n",
    "    data[ticker] = yf.download(ticker,'2021-01-01','2022-01-01', interval='1mo')['Adj Close']\n",
    "\n",
    "data = data.reset_index()\n",
    "\n",
    "data['YAR.OL'] = data['YAR.OL'] * 0.09825\n",
    "\n",
    "data['sum'] = data.sum(axis=1).to_list()\n",
    "\n",
    "df = pd.DataFrame(columns=tickers_list)\n",
    "for ticker in tickers_list:\n",
    "    div = sum(yf.Ticker(ticker).history(start='2021-01-01',end='2022-01-01').Dividends.to_list())\n",
    "    split = sum(yf.Ticker(ticker).history(start='2021-01-01',end='2022-01-01')['Stock Splits'].to_list())\n",
    "    df[ticker] = [div, split]\n",
    "\n",
    "df['YAR.OL'] = df['YAR.OL'] * 0.09825\n",
    "\n",
    "df['sum'] = df.sum(axis=1).to_list()\n",
    "\n",
    "tickers_list = ['^N100']\n",
    "dt = pd.DataFrame(columns=tickers_list)\n",
    "for ticker in tickers_list:\n",
    "    dt[ticker] = yf.download(ticker,'2021-01-01','2022-01-01', interval='1mo')['Adj Close']\n",
    "    \n",
    "data['N-100'] = dt['^N100'].to_list()\n",
    "\n",
    "portfolio_g = (data['sum'][11] + df['sum'][0] - data['sum'][0]) / data['sum'][0]\n",
    "market_g = (data['N-100'][11] - data['N-100'][0]) / data['N-100'][0]\n",
    "\n",
    "lst_10.append(portfolio_g)\n",
    "market.append(market_g)\n",
    "\n",
    "if df['sum'][1] == 0:\n",
    "    print('Growth of Portfolio:', portfolio_g)\n",
    "    print('Growth of Market Index:', market_g)\n",
    "else:\n",
    "    print('Есть дробление акций')"
   ]
  },
  {
   "cell_type": "code",
   "execution_count": 93,
   "metadata": {
    "collapsed": true
   },
   "outputs": [
    {
     "name": "stdout",
     "output_type": "stream",
     "text": [
      "[*********************100%***********************]  1 of 1 completed\n",
      "[*********************100%***********************]  1 of 1 completed\n",
      "[*********************100%***********************]  1 of 1 completed\n",
      "[*********************100%***********************]  1 of 1 completed\n",
      "[*********************100%***********************]  1 of 1 completed\n",
      "[*********************100%***********************]  1 of 1 completed\n",
      "[*********************100%***********************]  1 of 1 completed\n"
     ]
    },
    {
     "name": "stderr",
     "output_type": "stream",
     "text": [
      "<ipython-input-93-fac325ed9f16>:19: FutureWarning: Dropping of nuisance columns in DataFrame reductions (with 'numeric_only=None') is deprecated; in a future version this will raise TypeError.  Select only valid columns before calling the reduction.\n",
      "  data['sum'] = data.sum(axis=1).to_list()\n"
     ]
    },
    {
     "name": "stdout",
     "output_type": "stream",
     "text": [
      "[*********************100%***********************]  1 of 1 completed\n",
      "Growth of Portfolio: 0.386382911765282\n",
      "Growth of Market Index: 0.25457437513165765\n"
     ]
    }
   ],
   "source": [
    "# 7 акций\n",
    "tickers_list = ['KER.PA', \n",
    "                'MC.PA',\n",
    "                'GFC.PA',\n",
    "                'OR.PA',\n",
    "                'SOLB.BR',\n",
    "                'YAR.OL', # кроны\n",
    "                'RAND.AS']\n",
    "\n",
    "data = pd.DataFrame(columns=tickers_list)\n",
    "\n",
    "for ticker in tickers_list:\n",
    "    data[ticker] = yf.download(ticker,'2021-01-01','2022-01-01', interval='1mo')['Adj Close']\n",
    "\n",
    "data = data.reset_index()\n",
    "\n",
    "data['YAR.OL'] = data['YAR.OL'] * 0.09825\n",
    "\n",
    "data['sum'] = data.sum(axis=1).to_list()\n",
    "\n",
    "df = pd.DataFrame(columns=tickers_list)\n",
    "for ticker in tickers_list:\n",
    "    div = sum(yf.Ticker(ticker).history(start='2021-01-01',end='2022-01-01').Dividends.to_list())\n",
    "    split = sum(yf.Ticker(ticker).history(start='2021-01-01',end='2022-01-01')['Stock Splits'].to_list())\n",
    "    df[ticker] = [div, split]\n",
    "\n",
    "df['YAR.OL'] = df['YAR.OL'] * 0.09825\n",
    "\n",
    "df['sum'] = df.sum(axis=1).to_list()\n",
    "\n",
    "tickers_list = ['^N100']\n",
    "dt = pd.DataFrame(columns=tickers_list)\n",
    "for ticker in tickers_list:\n",
    "    dt[ticker] = yf.download(ticker,'2021-01-01','2022-01-01', interval='1mo')['Adj Close']\n",
    "    \n",
    "data['N-100'] = dt['^N100'].to_list()\n",
    "\n",
    "portfolio_g = (data['sum'][11] + df['sum'][0] - data['sum'][0]) / data['sum'][0]\n",
    "market_g = (data['N-100'][11] - data['N-100'][0]) / data['N-100'][0]\n",
    "\n",
    "lst_7.append(portfolio_g)\n",
    "\n",
    "if df['sum'][1] == 0:\n",
    "    print('Growth of Portfolio:', portfolio_g)\n",
    "    print('Growth of Market Index:', market_g)\n",
    "else:\n",
    "    print('Есть дробление акций')"
   ]
  },
  {
   "cell_type": "code",
   "execution_count": 94,
   "metadata": {
    "collapsed": true
   },
   "outputs": [
    {
     "name": "stdout",
     "output_type": "stream",
     "text": [
      "[*********************100%***********************]  1 of 1 completed\n",
      "[*********************100%***********************]  1 of 1 completed\n",
      "[*********************100%***********************]  1 of 1 completed\n",
      "[*********************100%***********************]  1 of 1 completed\n",
      "[*********************100%***********************]  1 of 1 completed\n"
     ]
    },
    {
     "name": "stderr",
     "output_type": "stream",
     "text": [
      "<ipython-input-94-e8458a238867>:17: FutureWarning: Dropping of nuisance columns in DataFrame reductions (with 'numeric_only=None') is deprecated; in a future version this will raise TypeError.  Select only valid columns before calling the reduction.\n",
      "  data['sum'] = data.sum(axis=1).to_list()\n"
     ]
    },
    {
     "name": "stdout",
     "output_type": "stream",
     "text": [
      "[*********************100%***********************]  1 of 1 completed\n",
      "Growth of Portfolio: 0.3895331234374156\n",
      "Growth of Market Index: 0.25457437513165765\n"
     ]
    }
   ],
   "source": [
    "# 5 акций\n",
    "tickers_list = ['KER.PA', \n",
    "                'MC.PA',\n",
    "                'GFC.PA',\n",
    "                'OR.PA',\n",
    "                'SOLB.BR']\n",
    "\n",
    "data = pd.DataFrame(columns=tickers_list)\n",
    "\n",
    "for ticker in tickers_list:\n",
    "    data[ticker] = yf.download(ticker,'2021-01-01','2022-01-01', interval='1mo')['Adj Close']\n",
    "\n",
    "data = data.reset_index()\n",
    "\n",
    "#data['YAR.OL'] = data['YAR.OL'] * 0.09825\n",
    "\n",
    "data['sum'] = data.sum(axis=1).to_list()\n",
    "\n",
    "df = pd.DataFrame(columns=tickers_list)\n",
    "for ticker in tickers_list:\n",
    "    div = sum(yf.Ticker(ticker).history(start='2021-01-01',end='2022-01-01').Dividends.to_list())\n",
    "    split = sum(yf.Ticker(ticker).history(start='2021-01-01',end='2022-01-01')['Stock Splits'].to_list())\n",
    "    df[ticker] = [div, split]\n",
    "\n",
    "#df['YAR.OL'] = df['YAR.OL'] * 0.09825\n",
    "\n",
    "df['sum'] = df.sum(axis=1).to_list()\n",
    "\n",
    "tickers_list = ['^N100']\n",
    "dt = pd.DataFrame(columns=tickers_list)\n",
    "for ticker in tickers_list:\n",
    "    dt[ticker] = yf.download(ticker,'2021-01-01','2022-01-01', interval='1mo')['Adj Close']\n",
    "    \n",
    "data['N-100'] = dt['^N100'].to_list()\n",
    "\n",
    "portfolio_g = (data['sum'][11] + df['sum'][0] - data['sum'][0]) / data['sum'][0]\n",
    "market_g = (data['N-100'][11] - data['N-100'][0]) / data['N-100'][0]\n",
    "\n",
    "lst_5.append(portfolio_g)\n",
    "\n",
    "if df['sum'][1] == 0:\n",
    "    print('Growth of Portfolio:', portfolio_g)\n",
    "    print('Growth of Market Index:', market_g)\n",
    "else:\n",
    "    print('Есть дробление акций')"
   ]
  },
  {
   "cell_type": "code",
   "execution_count": 95,
   "metadata": {
    "collapsed": true
   },
   "outputs": [
    {
     "name": "stdout",
     "output_type": "stream",
     "text": [
      "[*********************100%***********************]  1 of 1 completed\n",
      "[*********************100%***********************]  1 of 1 completed\n",
      "[*********************100%***********************]  1 of 1 completed\n"
     ]
    },
    {
     "name": "stderr",
     "output_type": "stream",
     "text": [
      "<ipython-input-95-a24441f72ed1>:15: FutureWarning: Dropping of nuisance columns in DataFrame reductions (with 'numeric_only=None') is deprecated; in a future version this will raise TypeError.  Select only valid columns before calling the reduction.\n",
      "  data['sum'] = data.sum(axis=1).to_list()\n"
     ]
    },
    {
     "name": "stdout",
     "output_type": "stream",
     "text": [
      "[*********************100%***********************]  1 of 1 completed\n",
      "Growth of Portfolio: 0.3854961702869477\n",
      "Growth of Market Index: 0.25457437513165765\n"
     ]
    }
   ],
   "source": [
    "# 3 акции\n",
    "tickers_list = ['KER.PA', \n",
    "                'MC.PA',\n",
    "                'GFC.PA']\n",
    "\n",
    "data = pd.DataFrame(columns=tickers_list)\n",
    "\n",
    "for ticker in tickers_list:\n",
    "    data[ticker] = yf.download(ticker,'2021-01-01','2022-01-01', interval='1mo')['Adj Close']\n",
    "\n",
    "data = data.reset_index()\n",
    "\n",
    "#data['YAR.OL'] = data['YAR.OL'] * 0.09825\n",
    "\n",
    "data['sum'] = data.sum(axis=1).to_list()\n",
    "\n",
    "df = pd.DataFrame(columns=tickers_list)\n",
    "for ticker in tickers_list:\n",
    "    div = sum(yf.Ticker(ticker).history(start='2021-01-01',end='2022-01-01').Dividends.to_list())\n",
    "    split = sum(yf.Ticker(ticker).history(start='2021-01-01',end='2022-01-01')['Stock Splits'].to_list())\n",
    "    df[ticker] = [div, split]\n",
    "\n",
    "#df['YAR.OL'] = df['YAR.OL'] * 0.09825\n",
    "\n",
    "df['sum'] = df.sum(axis=1).to_list()\n",
    "\n",
    "tickers_list = ['^N100']\n",
    "dt = pd.DataFrame(columns=tickers_list)\n",
    "for ticker in tickers_list:\n",
    "    dt[ticker] = yf.download(ticker,'2021-01-01','2022-01-01', interval='1mo')['Adj Close']\n",
    "    \n",
    "data['N-100'] = dt['^N100'].to_list()\n",
    "\n",
    "portfolio_g = (data['sum'][11] + df['sum'][0] - data['sum'][0]) / data['sum'][0]\n",
    "market_g = (data['N-100'][11] - data['N-100'][0]) / data['N-100'][0]\n",
    "\n",
    "lst_3.append(portfolio_g)\n",
    "\n",
    "if df['sum'][1] == 0:\n",
    "    print('Growth of Portfolio:', portfolio_g)\n",
    "    print('Growth of Market Index:', market_g)\n",
    "else:\n",
    "    print('Есть дробление акций')"
   ]
  },
  {
   "cell_type": "code",
   "execution_count": 96,
   "metadata": {
    "collapsed": true
   },
   "outputs": [
    {
     "name": "stdout",
     "output_type": "stream",
     "text": [
      "[*********************100%***********************]  1 of 1 completed\n"
     ]
    },
    {
     "name": "stderr",
     "output_type": "stream",
     "text": [
      "<ipython-input-96-c8d6c9ef04a0>:13: FutureWarning: Dropping of nuisance columns in DataFrame reductions (with 'numeric_only=None') is deprecated; in a future version this will raise TypeError.  Select only valid columns before calling the reduction.\n",
      "  data['sum'] = data.sum(axis=1).to_list()\n"
     ]
    },
    {
     "name": "stdout",
     "output_type": "stream",
     "text": [
      "[*********************100%***********************]  1 of 1 completed\n",
      "Growth of Portfolio: 0.33743744471933634\n",
      "Growth of Market Index: 0.25457437513165765\n"
     ]
    }
   ],
   "source": [
    "# 1 акция\n",
    "tickers_list = ['KER.PA']\n",
    "\n",
    "data = pd.DataFrame(columns=tickers_list)\n",
    "\n",
    "for ticker in tickers_list:\n",
    "    data[ticker] = yf.download(ticker,'2021-01-01','2022-01-01', interval='1mo')['Adj Close']\n",
    "\n",
    "data = data.reset_index()\n",
    "\n",
    "#data['YAR.OL'] = data['YAR.OL'] * 0.09825\n",
    "\n",
    "data['sum'] = data.sum(axis=1).to_list()\n",
    "\n",
    "df = pd.DataFrame(columns=tickers_list)\n",
    "for ticker in tickers_list:\n",
    "    div = sum(yf.Ticker(ticker).history(start='2021-01-01',end='2022-01-01').Dividends.to_list())\n",
    "    split = sum(yf.Ticker(ticker).history(start='2021-01-01',end='2022-01-01')['Stock Splits'].to_list())\n",
    "    df[ticker] = [div, split]\n",
    "\n",
    "#df['YAR.OL'] = df['YAR.OL'] * 0.09825\n",
    "\n",
    "df['sum'] = df.sum(axis=1).to_list()\n",
    "\n",
    "tickers_list = ['^N100']\n",
    "dt = pd.DataFrame(columns=tickers_list)\n",
    "for ticker in tickers_list:\n",
    "    dt[ticker] = yf.download(ticker,'2021-01-01','2022-01-01', interval='1mo')['Adj Close']\n",
    "    \n",
    "data['N-100'] = dt['^N100'].to_list()\n",
    "\n",
    "portfolio_g = (data['sum'][11] + df['sum'][0] - data['sum'][0]) / data['sum'][0]\n",
    "market_g = (data['N-100'][11] - data['N-100'][0]) / data['N-100'][0]\n",
    "\n",
    "lst_1.append(portfolio_g)\n",
    "\n",
    "if df['sum'][1] == 0:\n",
    "    print('Growth of Portfolio:', portfolio_g)\n",
    "    print('Growth of Market Index:', market_g)\n",
    "else:\n",
    "    print('Есть дробление акций')"
   ]
  },
  {
   "cell_type": "markdown",
   "metadata": {},
   "source": [
    "## Портфель на 2022 год\n",
    "_По данным за 2021_\n",
    "\n",
    "- KERING\n",
    "- LVMH\n",
    "- KBC\n",
    "- ASML HOLDING\n",
    "- GECINA\n",
    "- RANDSTAD NV\n",
    "- L'OREAL\n",
    "- AMUNDI\n",
    "- SOLVAY\n",
    "- BNP PARIBAS"
   ]
  },
  {
   "cell_type": "code",
   "execution_count": 97,
   "metadata": {
    "collapsed": true
   },
   "outputs": [
    {
     "name": "stdout",
     "output_type": "stream",
     "text": [
      "[*********************100%***********************]  1 of 1 completed\n",
      "[*********************100%***********************]  1 of 1 completed\n",
      "[*********************100%***********************]  1 of 1 completed\n",
      "[*********************100%***********************]  1 of 1 completed\n",
      "[*********************100%***********************]  1 of 1 completed\n",
      "[*********************100%***********************]  1 of 1 completed\n",
      "[*********************100%***********************]  1 of 1 completed\n",
      "[*********************100%***********************]  1 of 1 completed\n",
      "[*********************100%***********************]  1 of 1 completed\n",
      "[*********************100%***********************]  1 of 1 completed\n"
     ]
    },
    {
     "name": "stderr",
     "output_type": "stream",
     "text": [
      "<ipython-input-97-80f1d153a1fc>:19: FutureWarning: Dropping of nuisance columns in DataFrame reductions (with 'numeric_only=None') is deprecated; in a future version this will raise TypeError.  Select only valid columns before calling the reduction.\n",
      "  data['sum'] = data.sum(axis=1).to_list()\n"
     ]
    },
    {
     "name": "stdout",
     "output_type": "stream",
     "text": [
      "[*********************100%***********************]  1 of 1 completed\n",
      "Growth of Portfolio: -0.10835924729369521\n",
      "Growth of Market Index: -0.06591533893257011\n"
     ]
    }
   ],
   "source": [
    "# 10 акций\n",
    "tickers_list = ['KER.PA', \n",
    "                'MC.PA',\n",
    "                'KBC.BR',\n",
    "                'ASML.AS', \n",
    "                'GFC.PA',\n",
    "                'RAND.AS',\n",
    "                'OR.PA',\n",
    "                'AMUN.PA',\n",
    "                'SOLB.BR',\n",
    "                'BNP.PA']\n",
    "                \n",
    "data = pd.DataFrame(columns=tickers_list)\n",
    "\n",
    "for ticker in tickers_list:\n",
    "    data[ticker] = yf.download(ticker,'2022-01-01','2023-01-01', interval='1mo')['Adj Close']\n",
    "\n",
    "data = data.reset_index()\n",
    "data['sum'] = data.sum(axis=1).to_list()\n",
    "\n",
    "df = pd.DataFrame(columns=tickers_list)\n",
    "for ticker in tickers_list:\n",
    "    div = sum(yf.Ticker(ticker).history(start='2022-01-01',end='2023-01-01').Dividends.to_list())\n",
    "    split = sum(yf.Ticker(ticker).history(start='2022-01-01',end='2023-01-01')['Stock Splits'].to_list())\n",
    "    df[ticker] = [div, split]\n",
    "df['sum'] = df.sum(axis=1).to_list()\n",
    "\n",
    "tickers_list = ['^N100']\n",
    "dt = pd.DataFrame(columns=tickers_list)\n",
    "for ticker in tickers_list:\n",
    "    dt[ticker] = yf.download(ticker,'2022-01-01','2023-01-01', interval='1mo')['Adj Close']\n",
    "    \n",
    "data['N-100'] = dt['^N100'].to_list()\n",
    "\n",
    "portfolio_g = (data['sum'][11] + df['sum'][0] - data['sum'][0]) / data['sum'][0]\n",
    "market_g = (data['N-100'][11] - data['N-100'][0]) / data['N-100'][0]\n",
    "\n",
    "lst_10.append(portfolio_g)\n",
    "market.append(market_g)\n",
    "\n",
    "if df['sum'][1] == 0:\n",
    "    print('Growth of Portfolio:', portfolio_g)\n",
    "    print('Growth of Market Index:', market_g)\n",
    "else:\n",
    "    print('Есть дробление акций')"
   ]
  },
  {
   "cell_type": "code",
   "execution_count": 98,
   "metadata": {
    "collapsed": true
   },
   "outputs": [
    {
     "name": "stdout",
     "output_type": "stream",
     "text": [
      "[*********************100%***********************]  1 of 1 completed\n",
      "[*********************100%***********************]  1 of 1 completed\n",
      "[*********************100%***********************]  1 of 1 completed\n",
      "[*********************100%***********************]  1 of 1 completed\n",
      "[*********************100%***********************]  1 of 1 completed\n",
      "[*********************100%***********************]  1 of 1 completed\n",
      "[*********************100%***********************]  1 of 1 completed\n"
     ]
    },
    {
     "name": "stderr",
     "output_type": "stream",
     "text": [
      "<ipython-input-98-99ea63d812ca>:16: FutureWarning: Dropping of nuisance columns in DataFrame reductions (with 'numeric_only=None') is deprecated; in a future version this will raise TypeError.  Select only valid columns before calling the reduction.\n",
      "  data['sum'] = data.sum(axis=1).to_list()\n"
     ]
    },
    {
     "name": "stdout",
     "output_type": "stream",
     "text": [
      "[*********************100%***********************]  1 of 1 completed\n",
      "Growth of Portfolio: -0.11501964014609323\n",
      "Growth of Market Index: -0.06591533893257011\n"
     ]
    }
   ],
   "source": [
    "# 7 акций\n",
    "tickers_list = ['KER.PA', \n",
    "                'MC.PA',\n",
    "                'KBC.BR',\n",
    "                'ASML.AS', \n",
    "                'GFC.PA',\n",
    "                'RAND.AS',\n",
    "                'OR.PA']\n",
    "                \n",
    "data = pd.DataFrame(columns=tickers_list)\n",
    "\n",
    "for ticker in tickers_list:\n",
    "    data[ticker] = yf.download(ticker,'2022-01-01','2023-01-01', interval='1mo')['Adj Close']\n",
    "\n",
    "data = data.reset_index()\n",
    "data['sum'] = data.sum(axis=1).to_list()\n",
    "\n",
    "df = pd.DataFrame(columns=tickers_list)\n",
    "for ticker in tickers_list:\n",
    "    div = sum(yf.Ticker(ticker).history(start='2022-01-01',end='2023-01-01').Dividends.to_list())\n",
    "    split = sum(yf.Ticker(ticker).history(start='2022-01-01',end='2023-01-01')['Stock Splits'].to_list())\n",
    "    df[ticker] = [div, split]\n",
    "df['sum'] = df.sum(axis=1).to_list()\n",
    "\n",
    "tickers_list = ['^N100']\n",
    "dt = pd.DataFrame(columns=tickers_list)\n",
    "for ticker in tickers_list:\n",
    "    dt[ticker] = yf.download(ticker,'2022-01-01','2023-01-01', interval='1mo')['Adj Close']\n",
    "    \n",
    "data['N-100'] = dt['^N100'].to_list()\n",
    "\n",
    "portfolio_g = (data['sum'][11] + df['sum'][0] - data['sum'][0]) / data['sum'][0]\n",
    "market_g = (data['N-100'][11] - data['N-100'][0]) / data['N-100'][0]\n",
    "\n",
    "lst_7.append(portfolio_g)\n",
    "\n",
    "if df['sum'][1] == 0:\n",
    "    print('Growth of Portfolio:', portfolio_g)\n",
    "    print('Growth of Market Index:', market_g)\n",
    "else:\n",
    "    print('Есть дробление акций')"
   ]
  },
  {
   "cell_type": "code",
   "execution_count": 99,
   "metadata": {
    "collapsed": true
   },
   "outputs": [
    {
     "name": "stdout",
     "output_type": "stream",
     "text": [
      "[*********************100%***********************]  1 of 1 completed\n",
      "[*********************100%***********************]  1 of 1 completed\n",
      "[*********************100%***********************]  1 of 1 completed\n",
      "[*********************100%***********************]  1 of 1 completed\n",
      "[*********************100%***********************]  1 of 1 completed\n"
     ]
    },
    {
     "name": "stderr",
     "output_type": "stream",
     "text": [
      "<ipython-input-99-4aef1c3a4752>:14: FutureWarning: Dropping of nuisance columns in DataFrame reductions (with 'numeric_only=None') is deprecated; in a future version this will raise TypeError.  Select only valid columns before calling the reduction.\n",
      "  data['sum'] = data.sum(axis=1).to_list()\n"
     ]
    },
    {
     "name": "stdout",
     "output_type": "stream",
     "text": [
      "[*********************100%***********************]  1 of 1 completed\n",
      "Growth of Portfolio: -0.12689302460148633\n",
      "Growth of Market Index: -0.06591533893257011\n"
     ]
    }
   ],
   "source": [
    "# 5 акций\n",
    "tickers_list = ['KER.PA', \n",
    "                'MC.PA',\n",
    "                'KBC.BR',\n",
    "                'ASML.AS', \n",
    "                'GFC.PA']\n",
    "                \n",
    "data = pd.DataFrame(columns=tickers_list)\n",
    "\n",
    "for ticker in tickers_list:\n",
    "    data[ticker] = yf.download(ticker,'2022-01-01','2023-01-01', interval='1mo')['Adj Close']\n",
    "\n",
    "data = data.reset_index()\n",
    "data['sum'] = data.sum(axis=1).to_list()\n",
    "\n",
    "df = pd.DataFrame(columns=tickers_list)\n",
    "for ticker in tickers_list:\n",
    "    div = sum(yf.Ticker(ticker).history(start='2022-01-01',end='2023-01-01').Dividends.to_list())\n",
    "    split = sum(yf.Ticker(ticker).history(start='2022-01-01',end='2023-01-01')['Stock Splits'].to_list())\n",
    "    df[ticker] = [div, split]\n",
    "df['sum'] = df.sum(axis=1).to_list()\n",
    "\n",
    "tickers_list = ['^N100']\n",
    "dt = pd.DataFrame(columns=tickers_list)\n",
    "for ticker in tickers_list:\n",
    "    dt[ticker] = yf.download(ticker,'2022-01-01','2023-01-01', interval='1mo')['Adj Close']\n",
    "    \n",
    "data['N-100'] = dt['^N100'].to_list()\n",
    "\n",
    "portfolio_g = (data['sum'][11] + df['sum'][0] - data['sum'][0]) / data['sum'][0]\n",
    "market_g = (data['N-100'][11] - data['N-100'][0]) / data['N-100'][0]\n",
    "\n",
    "lst_5.append(portfolio_g)\n",
    "\n",
    "if df['sum'][1] == 0:\n",
    "    print('Growth of Portfolio:', portfolio_g)\n",
    "    print('Growth of Market Index:', market_g)\n",
    "else:\n",
    "    print('Есть дробление акций')"
   ]
  },
  {
   "cell_type": "code",
   "execution_count": 100,
   "metadata": {
    "collapsed": true
   },
   "outputs": [
    {
     "name": "stdout",
     "output_type": "stream",
     "text": [
      "[*********************100%***********************]  1 of 1 completed\n",
      "[*********************100%***********************]  1 of 1 completed\n",
      "[*********************100%***********************]  1 of 1 completed\n"
     ]
    },
    {
     "name": "stderr",
     "output_type": "stream",
     "text": [
      "<ipython-input-100-bd7976531985>:12: FutureWarning: Dropping of nuisance columns in DataFrame reductions (with 'numeric_only=None') is deprecated; in a future version this will raise TypeError.  Select only valid columns before calling the reduction.\n",
      "  data['sum'] = data.sum(axis=1).to_list()\n"
     ]
    },
    {
     "name": "stdout",
     "output_type": "stream",
     "text": [
      "[*********************100%***********************]  1 of 1 completed\n",
      "Growth of Portfolio: -0.12613560686783995\n",
      "Growth of Market Index: -0.06591533893257011\n"
     ]
    }
   ],
   "source": [
    "# 3 акции\n",
    "tickers_list = ['KER.PA', \n",
    "                'MC.PA',\n",
    "                'KBC.BR']\n",
    "                \n",
    "data = pd.DataFrame(columns=tickers_list)\n",
    "\n",
    "for ticker in tickers_list:\n",
    "    data[ticker] = yf.download(ticker,'2022-01-01','2023-01-01', interval='1mo')['Adj Close']\n",
    "\n",
    "data = data.reset_index()\n",
    "data['sum'] = data.sum(axis=1).to_list()\n",
    "\n",
    "df = pd.DataFrame(columns=tickers_list)\n",
    "for ticker in tickers_list:\n",
    "    div = sum(yf.Ticker(ticker).history(start='2022-01-01',end='2023-01-01').Dividends.to_list())\n",
    "    split = sum(yf.Ticker(ticker).history(start='2022-01-01',end='2023-01-01')['Stock Splits'].to_list())\n",
    "    df[ticker] = [div, split]\n",
    "df['sum'] = df.sum(axis=1).to_list()\n",
    "\n",
    "tickers_list = ['^N100']\n",
    "dt = pd.DataFrame(columns=tickers_list)\n",
    "for ticker in tickers_list:\n",
    "    dt[ticker] = yf.download(ticker,'2022-01-01','2023-01-01', interval='1mo')['Adj Close']\n",
    "    \n",
    "data['N-100'] = dt['^N100'].to_list()\n",
    "\n",
    "portfolio_g = (data['sum'][11] + df['sum'][0] - data['sum'][0]) / data['sum'][0]\n",
    "market_g = (data['N-100'][11] - data['N-100'][0]) / data['N-100'][0]\n",
    "\n",
    "lst_3.append(portfolio_g)\n",
    "\n",
    "if df['sum'][1] == 0:\n",
    "    print('Growth of Portfolio:', portfolio_g)\n",
    "    print('Growth of Market Index:', market_g)\n",
    "else:\n",
    "    print('Есть дробление акций')"
   ]
  },
  {
   "cell_type": "code",
   "execution_count": 101,
   "metadata": {
    "collapsed": true
   },
   "outputs": [
    {
     "name": "stdout",
     "output_type": "stream",
     "text": [
      "[*********************100%***********************]  1 of 1 completed\n"
     ]
    },
    {
     "name": "stderr",
     "output_type": "stream",
     "text": [
      "<ipython-input-101-0787889062ff>:10: FutureWarning: Dropping of nuisance columns in DataFrame reductions (with 'numeric_only=None') is deprecated; in a future version this will raise TypeError.  Select only valid columns before calling the reduction.\n",
      "  data['sum'] = data.sum(axis=1).to_list()\n"
     ]
    },
    {
     "name": "stdout",
     "output_type": "stream",
     "text": [
      "[*********************100%***********************]  1 of 1 completed\n",
      "Growth of Portfolio: -0.2402818255963981\n",
      "Growth of Market Index: -0.06591533893257011\n"
     ]
    }
   ],
   "source": [
    "# 1 акция\n",
    "tickers_list = ['KER.PA']\n",
    "                \n",
    "data = pd.DataFrame(columns=tickers_list)\n",
    "\n",
    "for ticker in tickers_list:\n",
    "    data[ticker] = yf.download(ticker,'2022-01-01','2023-01-01', interval='1mo')['Adj Close']\n",
    "\n",
    "data = data.reset_index()\n",
    "data['sum'] = data.sum(axis=1).to_list()\n",
    "\n",
    "df = pd.DataFrame(columns=tickers_list)\n",
    "for ticker in tickers_list:\n",
    "    div = sum(yf.Ticker(ticker).history(start='2022-01-01',end='2023-01-01').Dividends.to_list())\n",
    "    split = sum(yf.Ticker(ticker).history(start='2022-01-01',end='2023-01-01')['Stock Splits'].to_list())\n",
    "    df[ticker] = [div, split]\n",
    "df['sum'] = df.sum(axis=1).to_list()\n",
    "\n",
    "tickers_list = ['^N100']\n",
    "dt = pd.DataFrame(columns=tickers_list)\n",
    "for ticker in tickers_list:\n",
    "    dt[ticker] = yf.download(ticker,'2022-01-01','2023-01-01', interval='1mo')['Adj Close']\n",
    "    \n",
    "data['N-100'] = dt['^N100'].to_list()\n",
    "\n",
    "portfolio_g = (data['sum'][11] + df['sum'][0] - data['sum'][0]) / data['sum'][0]\n",
    "market_g = (data['N-100'][11] - data['N-100'][0]) / data['N-100'][0]\n",
    "\n",
    "lst_1.append(portfolio_g)\n",
    "\n",
    "if df['sum'][1] == 0:\n",
    "    print('Growth of Portfolio:', portfolio_g)\n",
    "    print('Growth of Market Index:', market_g)\n",
    "else:\n",
    "    print('Есть дробление акций')"
   ]
  },
  {
   "cell_type": "markdown",
   "metadata": {},
   "source": [
    "### Итоговая таблица:"
   ]
  },
  {
   "cell_type": "code",
   "execution_count": 122,
   "metadata": {},
   "outputs": [
    {
     "data": {
      "text/html": [
       "<div>\n",
       "<style scoped>\n",
       "    .dataframe tbody tr th:only-of-type {\n",
       "        vertical-align: middle;\n",
       "    }\n",
       "\n",
       "    .dataframe tbody tr th {\n",
       "        vertical-align: top;\n",
       "    }\n",
       "\n",
       "    .dataframe thead th {\n",
       "        text-align: right;\n",
       "    }\n",
       "</style>\n",
       "<table border=\"1\" class=\"dataframe\">\n",
       "  <thead>\n",
       "    <tr style=\"text-align: right;\">\n",
       "      <th></th>\n",
       "      <th>1 share</th>\n",
       "      <th>3 shares</th>\n",
       "      <th>5 shares</th>\n",
       "      <th>7 shares</th>\n",
       "      <th>10 shares</th>\n",
       "      <th>N-100</th>\n",
       "    </tr>\n",
       "    <tr>\n",
       "      <th>Year</th>\n",
       "      <th></th>\n",
       "      <th></th>\n",
       "      <th></th>\n",
       "      <th></th>\n",
       "      <th></th>\n",
       "      <th></th>\n",
       "    </tr>\n",
       "  </thead>\n",
       "  <tbody>\n",
       "    <tr>\n",
       "      <th>2005</th>\n",
       "      <td>0.587527</td>\n",
       "      <td>0.617547</td>\n",
       "      <td>0.532605</td>\n",
       "      <td>0.486257</td>\n",
       "      <td>0.438779</td>\n",
       "      <td>0.199470</td>\n",
       "    </tr>\n",
       "    <tr>\n",
       "      <th>2006</th>\n",
       "      <td>0.280217</td>\n",
       "      <td>0.385084</td>\n",
       "      <td>0.404045</td>\n",
       "      <td>0.377838</td>\n",
       "      <td>0.331257</td>\n",
       "      <td>0.136631</td>\n",
       "    </tr>\n",
       "    <tr>\n",
       "      <th>2007</th>\n",
       "      <td>-0.189220</td>\n",
       "      <td>-0.162293</td>\n",
       "      <td>-0.106972</td>\n",
       "      <td>-0.067656</td>\n",
       "      <td>-0.049635</td>\n",
       "      <td>0.021472</td>\n",
       "    </tr>\n",
       "    <tr>\n",
       "      <th>2008</th>\n",
       "      <td>-0.849531</td>\n",
       "      <td>-0.438376</td>\n",
       "      <td>-0.499517</td>\n",
       "      <td>-0.471408</td>\n",
       "      <td>-0.442698</td>\n",
       "      <td>-0.369648</td>\n",
       "    </tr>\n",
       "    <tr>\n",
       "      <th>2009</th>\n",
       "      <td>0.659884</td>\n",
       "      <td>0.926334</td>\n",
       "      <td>0.848774</td>\n",
       "      <td>0.709225</td>\n",
       "      <td>0.698278</td>\n",
       "      <td>0.317990</td>\n",
       "    </tr>\n",
       "    <tr>\n",
       "      <th>2010</th>\n",
       "      <td>0.541195</td>\n",
       "      <td>0.462871</td>\n",
       "      <td>0.354794</td>\n",
       "      <td>0.302757</td>\n",
       "      <td>0.320653</td>\n",
       "      <td>0.048446</td>\n",
       "    </tr>\n",
       "    <tr>\n",
       "      <th>2011</th>\n",
       "      <td>0.050221</td>\n",
       "      <td>-0.004279</td>\n",
       "      <td>-0.032654</td>\n",
       "      <td>0.001898</td>\n",
       "      <td>-0.018028</td>\n",
       "      <td>-0.172587</td>\n",
       "    </tr>\n",
       "    <tr>\n",
       "      <th>2012</th>\n",
       "      <td>0.414043</td>\n",
       "      <td>0.330341</td>\n",
       "      <td>0.376530</td>\n",
       "      <td>0.316403</td>\n",
       "      <td>0.311327</td>\n",
       "      <td>0.109360</td>\n",
       "    </tr>\n",
       "    <tr>\n",
       "      <th>2013</th>\n",
       "      <td>0.201058</td>\n",
       "      <td>0.142622</td>\n",
       "      <td>0.094878</td>\n",
       "      <td>0.109165</td>\n",
       "      <td>0.079101</td>\n",
       "      <td>0.159158</td>\n",
       "    </tr>\n",
       "    <tr>\n",
       "      <th>2014</th>\n",
       "      <td>0.328731</td>\n",
       "      <td>0.241285</td>\n",
       "      <td>0.180614</td>\n",
       "      <td>0.173487</td>\n",
       "      <td>0.191631</td>\n",
       "      <td>0.067304</td>\n",
       "    </tr>\n",
       "    <tr>\n",
       "      <th>2015</th>\n",
       "      <td>0.036221</td>\n",
       "      <td>0.002304</td>\n",
       "      <td>0.001839</td>\n",
       "      <td>0.020354</td>\n",
       "      <td>0.027871</td>\n",
       "      <td>0.000055</td>\n",
       "    </tr>\n",
       "    <tr>\n",
       "      <th>2016</th>\n",
       "      <td>0.081714</td>\n",
       "      <td>0.239638</td>\n",
       "      <td>0.200187</td>\n",
       "      <td>0.217684</td>\n",
       "      <td>0.209553</td>\n",
       "      <td>0.068157</td>\n",
       "    </tr>\n",
       "    <tr>\n",
       "      <th>2017</th>\n",
       "      <td>0.103658</td>\n",
       "      <td>0.496924</td>\n",
       "      <td>0.406938</td>\n",
       "      <td>0.337340</td>\n",
       "      <td>0.299598</td>\n",
       "      <td>0.126584</td>\n",
       "    </tr>\n",
       "    <tr>\n",
       "      <th>2018</th>\n",
       "      <td>-0.232152</td>\n",
       "      <td>-0.024772</td>\n",
       "      <td>-0.020389</td>\n",
       "      <td>-0.016678</td>\n",
       "      <td>-0.019641</td>\n",
       "      <td>-0.137695</td>\n",
       "    </tr>\n",
       "    <tr>\n",
       "      <th>2019</th>\n",
       "      <td>0.057658</td>\n",
       "      <td>0.385357</td>\n",
       "      <td>0.365908</td>\n",
       "      <td>0.322582</td>\n",
       "      <td>0.304708</td>\n",
       "      <td>0.176025</td>\n",
       "    </tr>\n",
       "    <tr>\n",
       "      <th>2020</th>\n",
       "      <td>0.137764</td>\n",
       "      <td>0.023889</td>\n",
       "      <td>0.159740</td>\n",
       "      <td>0.149466</td>\n",
       "      <td>0.115481</td>\n",
       "      <td>-0.014899</td>\n",
       "    </tr>\n",
       "    <tr>\n",
       "      <th>2021</th>\n",
       "      <td>0.337181</td>\n",
       "      <td>0.385309</td>\n",
       "      <td>0.389010</td>\n",
       "      <td>0.385933</td>\n",
       "      <td>0.372667</td>\n",
       "      <td>0.254574</td>\n",
       "    </tr>\n",
       "    <tr>\n",
       "      <th>2022</th>\n",
       "      <td>-0.240596</td>\n",
       "      <td>-0.126847</td>\n",
       "      <td>-0.127375</td>\n",
       "      <td>-0.115467</td>\n",
       "      <td>-0.108820</td>\n",
       "      <td>-0.065915</td>\n",
       "    </tr>\n",
       "  </tbody>\n",
       "</table>\n",
       "</div>"
      ],
      "text/plain": [
       "       1 share  3 shares  5 shares  7 shares  10 shares     N-100\n",
       "Year                                                             \n",
       "2005  0.587527  0.617547  0.532605  0.486257   0.438779  0.199470\n",
       "2006  0.280217  0.385084  0.404045  0.377838   0.331257  0.136631\n",
       "2007 -0.189220 -0.162293 -0.106972 -0.067656  -0.049635  0.021472\n",
       "2008 -0.849531 -0.438376 -0.499517 -0.471408  -0.442698 -0.369648\n",
       "2009  0.659884  0.926334  0.848774  0.709225   0.698278  0.317990\n",
       "2010  0.541195  0.462871  0.354794  0.302757   0.320653  0.048446\n",
       "2011  0.050221 -0.004279 -0.032654  0.001898  -0.018028 -0.172587\n",
       "2012  0.414043  0.330341  0.376530  0.316403   0.311327  0.109360\n",
       "2013  0.201058  0.142622  0.094878  0.109165   0.079101  0.159158\n",
       "2014  0.328731  0.241285  0.180614  0.173487   0.191631  0.067304\n",
       "2015  0.036221  0.002304  0.001839  0.020354   0.027871  0.000055\n",
       "2016  0.081714  0.239638  0.200187  0.217684   0.209553  0.068157\n",
       "2017  0.103658  0.496924  0.406938  0.337340   0.299598  0.126584\n",
       "2018 -0.232152 -0.024772 -0.020389 -0.016678  -0.019641 -0.137695\n",
       "2019  0.057658  0.385357  0.365908  0.322582   0.304708  0.176025\n",
       "2020  0.137764  0.023889  0.159740  0.149466   0.115481 -0.014899\n",
       "2021  0.337181  0.385309  0.389010  0.385933   0.372667  0.254574\n",
       "2022 -0.240596 -0.126847 -0.127375 -0.115467  -0.108820 -0.065915"
      ]
     },
     "execution_count": 122,
     "metadata": {},
     "output_type": "execute_result"
    }
   ],
   "source": [
    "df = pd.read_excel('growth.xlsx', sheet_name='Sheet2')\n",
    "df_end = df.set_index('Year')\n",
    "df_end"
   ]
  },
  {
   "cell_type": "markdown",
   "metadata": {},
   "source": [
    "## 3. Графический анализ"
   ]
  },
  {
   "cell_type": "code",
   "execution_count": 123,
   "metadata": {},
   "outputs": [
    {
     "data": {
      "image/png": "[encoded data removed]",
      "text/plain": [
       "<Figure size 1080x504 with 1 Axes>"
      ]
     },
     "metadata": {
      "needs_background": "light"
     },
     "output_type": "display_data"
    }
   ],
   "source": [
    "years = df_end.index.to_list()\n",
    "p_10 = df_end['1 share'].to_list()\n",
    "market = df_end['N-100'].to_list()\n",
    "\n",
    "X_axis = np.arange(len(years))\n",
    "\n",
    "plt.figure(figsize=(15, 7))\n",
    "\n",
    "p_return = plt.bar(X_axis - 0.2, p_10, 0.4, label='Portfolio of 1 share', color='aquamarine')\n",
    "m_return = plt.bar(X_axis + 0.2, market, 0.4, label='Euronext 100', color='turquoise')\n",
    "\n",
    "plt.ylim([-1, 1])\n",
    "plt.gca().yaxis.set_major_formatter(mtick.PercentFormatter(1.0))\n",
    "plt.gca().tick_params(axis='y', labelsize=12)\n",
    "plt.xticks(X_axis, years, fontsize=12, rotation=30)\n",
    "plt.xlabel(\"Years\", fontsize=20)\n",
    "plt.ylabel(\"Return\", fontsize=20)\n",
    "plt.title(\"Dogs of the Dow: 1 Share Portfolio\", fontsize=25)\n",
    "\n",
    "plt.legend(fontsize=15)\n",
    "\n",
    "plt.show()"
   ]
  },
  {
   "cell_type": "code",
   "execution_count": 124,
   "metadata": {},
   "outputs": [
    {
     "data": {
      "image/png": "[encoded data removed]",
      "text/plain": [
       "<Figure size 1080x504 with 1 Axes>"
      ]
     },
     "metadata": {
      "needs_background": "light"
     },
     "output_type": "display_data"
    }
   ],
   "source": [
    "years = df_end.index.to_list()\n",
    "p_10 = df_end['3 shares'].to_list()\n",
    "market = df_end['N-100'].to_list()\n",
    "\n",
    "X_axis = np.arange(len(years))\n",
    "\n",
    "plt.figure(figsize=(15, 7))\n",
    "\n",
    "p_return = plt.bar(X_axis - 0.2, p_10, 0.4, label='Portfolio of 3 shares', color='aquamarine')\n",
    "m_return = plt.bar(X_axis + 0.2, market, 0.4, label='Euronext 100', color='turquoise')\n",
    "\n",
    "plt.ylim([-1, 1])\n",
    "plt.gca().yaxis.set_major_formatter(mtick.PercentFormatter(1.0))\n",
    "plt.gca().tick_params(axis='y', labelsize=12)\n",
    "plt.xticks(X_axis, years, fontsize=12, rotation=30)\n",
    "plt.xlabel(\"Years\", fontsize=20)\n",
    "plt.ylabel(\"Return\", fontsize=20)\n",
    "plt.title(\"Dogs of the Dow: 3 Shares Portfolio\", fontsize=25)\n",
    "\n",
    "plt.legend(fontsize=15)\n",
    "\n",
    "plt.show()"
   ]
  },
  {
   "cell_type": "code",
   "execution_count": 125,
   "metadata": {},
   "outputs": [
    {
     "data": {
      "image/png": "[encoded data removed]",
      "text/plain": [
       "<Figure size 1080x504 with 1 Axes>"
      ]
     },
     "metadata": {
      "needs_background": "light"
     },
     "output_type": "display_data"
    }
   ],
   "source": [
    "years = df_end.index.to_list()\n",
    "p_10 = df_end['5 shares'].to_list()\n",
    "market = df_end['N-100'].to_list()\n",
    "\n",
    "X_axis = np.arange(len(years))\n",
    "\n",
    "plt.figure(figsize=(15, 7))\n",
    "\n",
    "p_return = plt.bar(X_axis - 0.2, p_10, 0.4, label='Portfolio of 5 shares', color='aquamarine')\n",
    "m_return = plt.bar(X_axis + 0.2, market, 0.4, label='Euronext 100', color='turquoise')\n",
    "\n",
    "plt.ylim([-1, 1])\n",
    "plt.gca().yaxis.set_major_formatter(mtick.PercentFormatter(1.0))\n",
    "plt.gca().tick_params(axis='y', labelsize=12)\n",
    "plt.xticks(X_axis, years, fontsize=12, rotation=30)\n",
    "plt.xlabel(\"Years\", fontsize=20)\n",
    "plt.ylabel(\"Return\", fontsize=20)\n",
    "plt.title(\"Dogs of the Dow: 5 Shares Portfolio\", fontsize=25)\n",
    "\n",
    "plt.legend(fontsize=15)\n",
    "\n",
    "plt.show()"
   ]
  },
  {
   "cell_type": "code",
   "execution_count": 126,
   "metadata": {},
   "outputs": [
    {
     "data": {
      "image/png": "[encoded data removed]",
      "text/plain": [
       "<Figure size 1080x504 with 1 Axes>"
      ]
     },
     "metadata": {
      "needs_background": "light"
     },
     "output_type": "display_data"
    }
   ],
   "source": [
    "years = df_end.index.to_list()\n",
    "p_10 = df_end['7 shares'].to_list()\n",
    "market = df_end['N-100'].to_list()\n",
    "\n",
    "X_axis = np.arange(len(years))\n",
    "\n",
    "plt.figure(figsize=(15, 7))\n",
    "\n",
    "p_return = plt.bar(X_axis - 0.2, p_10, 0.4, label='Portfolio of 7 shares', color='aquamarine')\n",
    "m_return = plt.bar(X_axis + 0.2, market, 0.4, label='Euronext 100', color='turquoise')\n",
    "\n",
    "plt.ylim([-1, 1])\n",
    "plt.gca().yaxis.set_major_formatter(mtick.PercentFormatter(1.0))\n",
    "plt.gca().tick_params(axis='y', labelsize=12)\n",
    "plt.xticks(X_axis, years, fontsize=12, rotation=30)\n",
    "plt.xlabel(\"Years\", fontsize=20)\n",
    "plt.ylabel(\"Return\", fontsize=20)\n",
    "plt.title(\"Dogs of the Dow: 7 Shares Portfolio\", fontsize=25)\n",
    "\n",
    "plt.legend(fontsize=15)\n",
    "\n",
    "plt.show()"
   ]
  },
  {
   "cell_type": "code",
   "execution_count": 127,
   "metadata": {},
   "outputs": [
    {
     "data": {
      "image/png": "[encoded data removed]",
      "text/plain": [
       "<Figure size 1080x504 with 1 Axes>"
      ]
     },
     "metadata": {
      "needs_background": "light"
     },
     "output_type": "display_data"
    }
   ],
   "source": [
    "years = df_end.index.to_list()\n",
    "p_10 = df_end['10 shares'].to_list()\n",
    "market = df_end['N-100'].to_list()\n",
    "\n",
    "X_axis = np.arange(len(years))\n",
    "\n",
    "plt.figure(figsize=(15, 7))\n",
    "\n",
    "p_return = plt.bar(X_axis - 0.2, p_10, 0.4, label='Portfolio of 10 shares', color='aquamarine')\n",
    "m_return = plt.bar(X_axis + 0.2, market, 0.4, label='Euronext 100', color='turquoise')\n",
    "\n",
    "plt.ylim([-1, 1])\n",
    "plt.gca().yaxis.set_major_formatter(mtick.PercentFormatter(1.0))\n",
    "plt.gca().tick_params(axis='y', labelsize=12)\n",
    "plt.xticks(X_axis, years, fontsize=12, rotation=30)\n",
    "plt.xlabel(\"Years\", fontsize=20)\n",
    "plt.ylabel(\"Return\", fontsize=20)\n",
    "plt.title(\"Dogs of the Dow: 10 Shares Portfolio\", fontsize=25)\n",
    "\n",
    "plt.legend(fontsize=15)\n",
    "\n",
    "plt.show()"
   ]
  },
  {
   "cell_type": "code",
   "execution_count": 128,
   "metadata": {
    "scrolled": false
   },
   "outputs": [
    {
     "data": {
      "image/png": "[encoded data removed]",
      "text/plain": [
       "<Figure size 1440x504 with 1 Axes>"
      ]
     },
     "metadata": {
      "needs_background": "light"
     },
     "output_type": "display_data"
    }
   ],
   "source": [
    "df = pd.read_excel('growth.xlsx', sheet_name='Sheet2')\n",
    "df_end = df.set_index('Year')\n",
    "\n",
    "years = df_end.index.to_list()\n",
    "p_10 = df_end['10 shares'].to_list()\n",
    "p_7 = df_end['7 shares'].to_list()\n",
    "p_5 = df_end['5 shares'].to_list()\n",
    "p_3 = df_end['3 shares'].to_list()\n",
    "p_1 = df_end['1 share'].to_list()\n",
    "market = df_end['N-100'].to_list()\n",
    "\n",
    "X_axis = np.arange(len(years))\n",
    "\n",
    "plt.figure(figsize=(20, 7))\n",
    "\n",
    "p__10_return = plt.bar(X_axis - 0.24, p_10, 0.12, label='Portfolio of 10 shares', color='aquamarine')\n",
    "p__7_return = plt.bar(X_axis - 0.12, p_7, 0.12, label='Portfolio of 7 shares', color='turquoise')\n",
    "p__5_return = plt.bar(X_axis, p_5, 0.12, label='Portfolio of 5 shares', color='aqua')\n",
    "p__3_return = plt.bar(X_axis + 0.12, p_3, 0.12, label='Portfolio of 3 shares', color='lawngreen')\n",
    "p__1_return = plt.bar(X_axis + 0.24, p_1, 0.12, label='Portfolio of 1 shares', color='lightseagreen')\n",
    "#m_return = plt.bar(X_axis + 0.36, market, 0.12, label='Euronext 100', color='SlateGrey')\n",
    "\n",
    "\n",
    "plt.ylim([-1, 1])\n",
    "plt.gca().yaxis.set_major_formatter(mtick.PercentFormatter(1.0))\n",
    "plt.gca().tick_params(axis='y', labelsize=12)\n",
    "plt.xticks(X_axis, years, fontsize=12, rotation=30)\n",
    "plt.xlabel(\"Years\", fontsize=20)\n",
    "plt.ylabel(\"Return\", fontsize=20)\n",
    "plt.title(\"Dogs of the Dow: All Portfolios\", fontsize=25)\n",
    "\n",
    "plt.legend(fontsize=15)\n",
    "\n",
    "plt.show()"
   ]
  },
  {
   "cell_type": "code",
   "execution_count": 129,
   "metadata": {},
   "outputs": [
    {
     "data": {
      "image/png": "[encoded data removed]",
      "text/plain": [
       "<Figure size 1440x864 with 1 Axes>"
      ]
     },
     "metadata": {
      "needs_background": "light"
     },
     "output_type": "display_data"
    }
   ],
   "source": [
    "\n",
    "line = []\n",
    "for i in years:\n",
    "    line.append(0)\n",
    "\n",
    "plt.figure(figsize=(20, 12))\n",
    "\n",
    "plt.plot(years, line, linestyle='dotted', color='black')\n",
    "plt.plot(years, p_1, label='Portfolio of 1 share', linewidth = 4, color='YellowGreen')\n",
    "plt.plot(years, p_3, label='Portfolio of 3 shares', linewidth = 4, color='lawngreen')\n",
    "plt.plot(years, p_5, label='Portfolio of 5 shares', linewidth = 4, color='aqua')\n",
    "plt.plot(years, p_7, label='Portfolio of 7 shares', linewidth = 4, color='turquoise')\n",
    "plt.plot(years, p_10, label='Portfolio of 10 shares', linewidth = 4, color='lightseagreen')\n",
    "plt.plot(years, market, label='Euronext-100', linewidth = 2, linestyle='--', color='SlateGrey')\n",
    "\n",
    "\n",
    "plt.ylim([-1, 1])\n",
    "plt.gca().yaxis.set_major_formatter(mtick.PercentFormatter(1.0))\n",
    "plt.gca().tick_params(axis='y', labelsize=12)\n",
    "plt.xticks(years, fontsize=12, rotation=50)\n",
    "plt.xlabel(\"Years\", fontsize=25)\n",
    "plt.ylabel(\"Return\", fontsize=25)\n",
    "plt.title(\"Portfolio Return\", fontsize=40)\n",
    "plt.legend(fontsize=15, shadow=True)\n",
    "\n",
    "plt.show()"
   ]
  },
  {
   "cell_type": "code",
   "execution_count": 130,
   "metadata": {},
   "outputs": [
    {
     "data": {
      "image/png": "[encoded data removed]",
      "text/plain": [
       "<Figure size 1440x720 with 1 Axes>"
      ]
     },
     "metadata": {
      "needs_background": "light"
     },
     "output_type": "display_data"
    }
   ],
   "source": [
    "df = pd.read_excel('growth.xlsx', sheet_name='Sheet3')\n",
    "df_end = df.set_index('Year')\n",
    "\n",
    "years = df_end.index.to_list()\n",
    "p_10 = df_end['10 shares'].to_list()\n",
    "p_7 = df_end['7 shares'].to_list()\n",
    "p_5 = df_end['5 shares'].to_list()\n",
    "p_3 = df_end['3 shares'].to_list()\n",
    "p_1 = df_end['1 share'].to_list()\n",
    "market = df_end['N-100'].to_list()\n",
    "perc = ['-100%', '0%', '100%', '200%', '300%', '400%', '500%']\n",
    "\n",
    "plt.figure(figsize=(20, 10))\n",
    "\n",
    "plt.plot(years, p_1, label='Portfolio of 1 share', linewidth = 4, color='YellowGreen')\n",
    "plt.plot(years, p_3, label='Portfolio of 3 shares', linewidth = 4, color='lawngreen')\n",
    "plt.plot(years, p_5, label='Portfolio of 5 shares', linewidth = 4, color='aqua')\n",
    "plt.plot(years, p_7, label='Portfolio of 7 shares', linewidth = 4, color='turquoise')\n",
    "plt.plot(years, p_10, label='Portfolio of 10 shares', linewidth = 4, color='lightseagreen')\n",
    "plt.plot(years, market, label='Euronext-100', linewidth = 2, linestyle='--', color='SlateGrey')\n",
    "\n",
    "\n",
    "plt.ylim([-1, 5])\n",
    "plt.gca().yaxis.set_major_formatter(mtick.PercentFormatter(1.0))\n",
    "plt.gca().tick_params(axis='y', labelsize=12)\n",
    "plt.xticks(years, fontsize=12, rotation=50)\n",
    "plt.xlabel(\"Years\", fontsize=25)\n",
    "plt.ylabel(\"Return\", fontsize=25)\n",
    "plt.title(\"Cumulative Portfolio Return\", fontsize=40)\n",
    "plt.legend(fontsize=15, shadow=True)\n",
    "\n",
    "plt.show()"
   ]
  }
 ],
 "metadata": {
  "kernelspec": {
   "display_name": "Python 3",
   "language": "python",
   "name": "python3"
  },
  "language_info": {
   "codemirror_mode": {
    "name": "ipython",
    "version": 3
   },
   "file_extension": ".py",
   "mimetype": "text/x-python",
   "name": "python",
   "nbconvert_exporter": "python",
   "pygments_lexer": "ipython3",
   "version": "3.8.5"
  }
 },
 "nbformat": 4,
 "nbformat_minor": 4
}
